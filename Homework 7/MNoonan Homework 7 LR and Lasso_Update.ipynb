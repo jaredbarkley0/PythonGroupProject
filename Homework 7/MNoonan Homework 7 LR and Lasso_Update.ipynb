{
 "cells": [
  {
   "cell_type": "markdown",
   "metadata": {},
   "source": [
    "# BAIS 6040 Data Programming in Python\n",
    "\n",
    "## Spring 2021\n",
    "\n",
    "## Week 9 Homework\n",
    "\n",
    "## Group 3: Jared Barkley, Tyler Zaruba, Netaji Boggarapu, Michael Noonan"
   ]
  },
  {
   "cell_type": "code",
   "execution_count": 1,
   "metadata": {},
   "outputs": [],
   "source": [
    "import pandas as pd\n",
    "import numpy as np\n",
    "import matplotlib.pyplot as plt\n",
    "import seaborn as sns\n",
    "from sklearn.model_selection import train_test_split\n",
    "from sklearn.metrics import explained_variance_score, mean_absolute_error, r2_score, mean_squared_error\n",
    "from sklearn.linear_model import Ridge\n",
    "from sklearn.linear_model import LinearRegression\n",
    "from sklearn.linear_model import Lasso"
   ]
  },
  {
   "cell_type": "code",
   "execution_count": 2,
   "metadata": {},
   "outputs": [
    {
     "data": {
      "text/html": [
       "<div>\n",
       "<style scoped>\n",
       "    .dataframe tbody tr th:only-of-type {\n",
       "        vertical-align: middle;\n",
       "    }\n",
       "\n",
       "    .dataframe tbody tr th {\n",
       "        vertical-align: top;\n",
       "    }\n",
       "\n",
       "    .dataframe thead th {\n",
       "        text-align: right;\n",
       "    }\n",
       "</style>\n",
       "<table border=\"1\" class=\"dataframe\">\n",
       "  <thead>\n",
       "    <tr style=\"text-align: right;\">\n",
       "      <th></th>\n",
       "      <th>Unnamed: 0</th>\n",
       "      <th>County</th>\n",
       "      <th>Total Positive Cases</th>\n",
       "      <th>Total Deaths</th>\n",
       "      <th>Population</th>\n",
       "      <th>Rate of Infection</th>\n",
       "      <th>Death Rate</th>\n",
       "      <th>Pop Density</th>\n",
       "      <th>Mean Household Size</th>\n",
       "      <th>Congregate Living Population</th>\n",
       "      <th>No. of Cases in Nursing Homes</th>\n",
       "      <th>No. of Nursing Homes in County</th>\n",
       "      <th>Nursing Home Cases, % of Total</th>\n",
       "      <th>Cases per number of Nursing Homes</th>\n",
       "    </tr>\n",
       "  </thead>\n",
       "  <tbody>\n",
       "    <tr>\n",
       "      <th>0</th>\n",
       "      <td>0</td>\n",
       "      <td>Aitkin</td>\n",
       "      <td>1191</td>\n",
       "      <td>33</td>\n",
       "      <td>15870.0</td>\n",
       "      <td>0.075047</td>\n",
       "      <td>36.090909</td>\n",
       "      <td>8.0</td>\n",
       "      <td>2.097233</td>\n",
       "      <td>254.0</td>\n",
       "      <td>118.0</td>\n",
       "      <td>4.0</td>\n",
       "      <td>0.099076</td>\n",
       "      <td>29.500000</td>\n",
       "    </tr>\n",
       "    <tr>\n",
       "      <th>1</th>\n",
       "      <td>1</td>\n",
       "      <td>Anoka</td>\n",
       "      <td>33391</td>\n",
       "      <td>390</td>\n",
       "      <td>362648.0</td>\n",
       "      <td>0.092076</td>\n",
       "      <td>85.617949</td>\n",
       "      <td>753.9</td>\n",
       "      <td>2.712716</td>\n",
       "      <td>3753.0</td>\n",
       "      <td>1675.0</td>\n",
       "      <td>35.0</td>\n",
       "      <td>0.050163</td>\n",
       "      <td>47.857143</td>\n",
       "    </tr>\n",
       "    <tr>\n",
       "      <th>2</th>\n",
       "      <td>2</td>\n",
       "      <td>Becker</td>\n",
       "      <td>3131</td>\n",
       "      <td>42</td>\n",
       "      <td>34545.0</td>\n",
       "      <td>0.090635</td>\n",
       "      <td>74.547619</td>\n",
       "      <td>22.8</td>\n",
       "      <td>2.393929</td>\n",
       "      <td>477.0</td>\n",
       "      <td>294.0</td>\n",
       "      <td>8.0</td>\n",
       "      <td>0.093900</td>\n",
       "      <td>36.750000</td>\n",
       "    </tr>\n",
       "    <tr>\n",
       "      <th>3</th>\n",
       "      <td>3</td>\n",
       "      <td>Beltrami</td>\n",
       "      <td>3386</td>\n",
       "      <td>51</td>\n",
       "      <td>47184.0</td>\n",
       "      <td>0.071762</td>\n",
       "      <td>66.392157</td>\n",
       "      <td>14.8</td>\n",
       "      <td>2.487013</td>\n",
       "      <td>1990.0</td>\n",
       "      <td>264.0</td>\n",
       "      <td>11.0</td>\n",
       "      <td>0.077968</td>\n",
       "      <td>24.000000</td>\n",
       "    </tr>\n",
       "    <tr>\n",
       "      <th>4</th>\n",
       "      <td>4</td>\n",
       "      <td>Benton</td>\n",
       "      <td>4482</td>\n",
       "      <td>90</td>\n",
       "      <td>40895.0</td>\n",
       "      <td>0.109598</td>\n",
       "      <td>49.800000</td>\n",
       "      <td>94.4</td>\n",
       "      <td>2.426614</td>\n",
       "      <td>1050.0</td>\n",
       "      <td>557.0</td>\n",
       "      <td>11.0</td>\n",
       "      <td>0.124275</td>\n",
       "      <td>50.636364</td>\n",
       "    </tr>\n",
       "    <tr>\n",
       "      <th>...</th>\n",
       "      <td>...</td>\n",
       "      <td>...</td>\n",
       "      <td>...</td>\n",
       "      <td>...</td>\n",
       "      <td>...</td>\n",
       "      <td>...</td>\n",
       "      <td>...</td>\n",
       "      <td>...</td>\n",
       "      <td>...</td>\n",
       "      <td>...</td>\n",
       "      <td>...</td>\n",
       "      <td>...</td>\n",
       "      <td>...</td>\n",
       "      <td>...</td>\n",
       "    </tr>\n",
       "    <tr>\n",
       "      <th>82</th>\n",
       "      <td>82</td>\n",
       "      <td>Watonwan</td>\n",
       "      <td>1176</td>\n",
       "      <td>8</td>\n",
       "      <td>10923.0</td>\n",
       "      <td>0.107663</td>\n",
       "      <td>147.000000</td>\n",
       "      <td>25.4</td>\n",
       "      <td>2.397507</td>\n",
       "      <td>151.0</td>\n",
       "      <td>36.0</td>\n",
       "      <td>3.0</td>\n",
       "      <td>0.030612</td>\n",
       "      <td>12.000000</td>\n",
       "    </tr>\n",
       "    <tr>\n",
       "      <th>83</th>\n",
       "      <td>83</td>\n",
       "      <td>Wilkin</td>\n",
       "      <td>677</td>\n",
       "      <td>11</td>\n",
       "      <td>6226.0</td>\n",
       "      <td>0.108738</td>\n",
       "      <td>61.545455</td>\n",
       "      <td>8.7</td>\n",
       "      <td>2.238850</td>\n",
       "      <td>152.0</td>\n",
       "      <td>36.0</td>\n",
       "      <td>2.0</td>\n",
       "      <td>0.053176</td>\n",
       "      <td>18.000000</td>\n",
       "    </tr>\n",
       "    <tr>\n",
       "      <th>84</th>\n",
       "      <td>84</td>\n",
       "      <td>Winona</td>\n",
       "      <td>4193</td>\n",
       "      <td>49</td>\n",
       "      <td>50830.0</td>\n",
       "      <td>0.082491</td>\n",
       "      <td>85.571429</td>\n",
       "      <td>79.9</td>\n",
       "      <td>2.352632</td>\n",
       "      <td>3855.0</td>\n",
       "      <td>277.0</td>\n",
       "      <td>9.0</td>\n",
       "      <td>0.066062</td>\n",
       "      <td>30.777778</td>\n",
       "    </tr>\n",
       "    <tr>\n",
       "      <th>85</th>\n",
       "      <td>85</td>\n",
       "      <td>Wright</td>\n",
       "      <td>12554</td>\n",
       "      <td>116</td>\n",
       "      <td>138531.0</td>\n",
       "      <td>0.090622</td>\n",
       "      <td>108.224138</td>\n",
       "      <td>178.3</td>\n",
       "      <td>2.796739</td>\n",
       "      <td>1158.0</td>\n",
       "      <td>687.0</td>\n",
       "      <td>20.0</td>\n",
       "      <td>0.054724</td>\n",
       "      <td>34.350000</td>\n",
       "    </tr>\n",
       "    <tr>\n",
       "      <th>86</th>\n",
       "      <td>86</td>\n",
       "      <td>Yellow Medicine</td>\n",
       "      <td>977</td>\n",
       "      <td>17</td>\n",
       "      <td>9729.0</td>\n",
       "      <td>0.100421</td>\n",
       "      <td>57.470588</td>\n",
       "      <td>13.4</td>\n",
       "      <td>2.282535</td>\n",
       "      <td>293.0</td>\n",
       "      <td>79.0</td>\n",
       "      <td>3.0</td>\n",
       "      <td>0.080860</td>\n",
       "      <td>26.333333</td>\n",
       "    </tr>\n",
       "  </tbody>\n",
       "</table>\n",
       "<p>87 rows × 14 columns</p>\n",
       "</div>"
      ],
      "text/plain": [
       "    Unnamed: 0           County  Total Positive Cases  Total Deaths  \\\n",
       "0            0           Aitkin                  1191            33   \n",
       "1            1            Anoka                 33391           390   \n",
       "2            2           Becker                  3131            42   \n",
       "3            3         Beltrami                  3386            51   \n",
       "4            4           Benton                  4482            90   \n",
       "..         ...              ...                   ...           ...   \n",
       "82          82         Watonwan                  1176             8   \n",
       "83          83           Wilkin                   677            11   \n",
       "84          84           Winona                  4193            49   \n",
       "85          85           Wright                 12554           116   \n",
       "86          86  Yellow Medicine                   977            17   \n",
       "\n",
       "    Population  Rate of Infection  Death Rate  Pop Density  \\\n",
       "0      15870.0           0.075047   36.090909          8.0   \n",
       "1     362648.0           0.092076   85.617949        753.9   \n",
       "2      34545.0           0.090635   74.547619         22.8   \n",
       "3      47184.0           0.071762   66.392157         14.8   \n",
       "4      40895.0           0.109598   49.800000         94.4   \n",
       "..         ...                ...         ...          ...   \n",
       "82     10923.0           0.107663  147.000000         25.4   \n",
       "83      6226.0           0.108738   61.545455          8.7   \n",
       "84     50830.0           0.082491   85.571429         79.9   \n",
       "85    138531.0           0.090622  108.224138        178.3   \n",
       "86      9729.0           0.100421   57.470588         13.4   \n",
       "\n",
       "    Mean Household Size  Congregate Living Population  \\\n",
       "0              2.097233                         254.0   \n",
       "1              2.712716                        3753.0   \n",
       "2              2.393929                         477.0   \n",
       "3              2.487013                        1990.0   \n",
       "4              2.426614                        1050.0   \n",
       "..                  ...                           ...   \n",
       "82             2.397507                         151.0   \n",
       "83             2.238850                         152.0   \n",
       "84             2.352632                        3855.0   \n",
       "85             2.796739                        1158.0   \n",
       "86             2.282535                         293.0   \n",
       "\n",
       "    No. of Cases in Nursing Homes  No. of Nursing Homes in County  \\\n",
       "0                           118.0                             4.0   \n",
       "1                          1675.0                            35.0   \n",
       "2                           294.0                             8.0   \n",
       "3                           264.0                            11.0   \n",
       "4                           557.0                            11.0   \n",
       "..                            ...                             ...   \n",
       "82                           36.0                             3.0   \n",
       "83                           36.0                             2.0   \n",
       "84                          277.0                             9.0   \n",
       "85                          687.0                            20.0   \n",
       "86                           79.0                             3.0   \n",
       "\n",
       "    Nursing Home Cases, % of Total  Cases per number of Nursing Homes  \n",
       "0                         0.099076                          29.500000  \n",
       "1                         0.050163                          47.857143  \n",
       "2                         0.093900                          36.750000  \n",
       "3                         0.077968                          24.000000  \n",
       "4                         0.124275                          50.636364  \n",
       "..                             ...                                ...  \n",
       "82                        0.030612                          12.000000  \n",
       "83                        0.053176                          18.000000  \n",
       "84                        0.066062                          30.777778  \n",
       "85                        0.054724                          34.350000  \n",
       "86                        0.080860                          26.333333  \n",
       "\n",
       "[87 rows x 14 columns]"
      ]
     },
     "execution_count": 2,
     "metadata": {},
     "output_type": "execute_result"
    }
   ],
   "source": [
    "compiledcountydata_dir = \"https://raw.githubusercontent.com/jaredbarkley0/PythonGroupProject/master/MN%20County%20Data_032721.csv\"\n",
    "compiledcountydata = pd.read_csv(compiledcountydata_dir)\n",
    "compiledcountydata"
   ]
  },
  {
   "cell_type": "code",
   "execution_count": 3,
   "metadata": {},
   "outputs": [],
   "source": [
    "# Adding column for 'Death Rate' to create a new target for analysis\n",
    "\n",
    "# compiledcountydata['Death Rate'] = compiledcountydata['Total Deaths']/compiledcountydata['Total Positive Cases']"
   ]
  },
  {
   "cell_type": "code",
   "execution_count": 4,
   "metadata": {},
   "outputs": [
    {
     "name": "stdout",
     "output_type": "stream",
     "text": [
      "<class 'pandas.core.frame.DataFrame'>\n",
      "RangeIndex: 87 entries, 0 to 86\n",
      "Data columns (total 14 columns):\n",
      " #   Column                             Non-Null Count  Dtype  \n",
      "---  ------                             --------------  -----  \n",
      " 0   Unnamed: 0                         87 non-null     int64  \n",
      " 1   County                             87 non-null     object \n",
      " 2   Total Positive Cases               87 non-null     int64  \n",
      " 3   Total Deaths                       87 non-null     int64  \n",
      " 4   Population                         87 non-null     float64\n",
      " 5   Rate of Infection                  87 non-null     float64\n",
      " 6   Death Rate                         87 non-null     float64\n",
      " 7   Pop Density                        87 non-null     float64\n",
      " 8   Mean Household Size                87 non-null     float64\n",
      " 9   Congregate Living Population       87 non-null     float64\n",
      " 10  No. of Cases in Nursing Homes      87 non-null     float64\n",
      " 11  No. of Nursing Homes in County     87 non-null     float64\n",
      " 12  Nursing Home Cases, % of Total     87 non-null     float64\n",
      " 13  Cases per number of Nursing Homes  87 non-null     float64\n",
      "dtypes: float64(10), int64(3), object(1)\n",
      "memory usage: 9.6+ KB\n"
     ]
    }
   ],
   "source": [
    "# Check info on dataframe\n",
    "compiledcountydata.info()"
   ]
  },
  {
   "cell_type": "code",
   "execution_count": 5,
   "metadata": {},
   "outputs": [
    {
     "data": {
      "text/html": [
       "<div>\n",
       "<style scoped>\n",
       "    .dataframe tbody tr th:only-of-type {\n",
       "        vertical-align: middle;\n",
       "    }\n",
       "\n",
       "    .dataframe tbody tr th {\n",
       "        vertical-align: top;\n",
       "    }\n",
       "\n",
       "    .dataframe thead th {\n",
       "        text-align: right;\n",
       "    }\n",
       "</style>\n",
       "<table border=\"1\" class=\"dataframe\">\n",
       "  <thead>\n",
       "    <tr style=\"text-align: right;\">\n",
       "      <th></th>\n",
       "      <th>Unnamed: 0</th>\n",
       "      <th>Total Positive Cases</th>\n",
       "      <th>Total Deaths</th>\n",
       "      <th>Population</th>\n",
       "      <th>Rate of Infection</th>\n",
       "      <th>Death Rate</th>\n",
       "      <th>Pop Density</th>\n",
       "      <th>Mean Household Size</th>\n",
       "      <th>Congregate Living Population</th>\n",
       "      <th>No. of Cases in Nursing Homes</th>\n",
       "      <th>No. of Nursing Homes in County</th>\n",
       "      <th>Nursing Home Cases, % of Total</th>\n",
       "      <th>Cases per number of Nursing Homes</th>\n",
       "    </tr>\n",
       "  </thead>\n",
       "  <tbody>\n",
       "    <tr>\n",
       "      <th>count</th>\n",
       "      <td>87.000000</td>\n",
       "      <td>87.000000</td>\n",
       "      <td>87.000000</td>\n",
       "      <td>8.700000e+01</td>\n",
       "      <td>87.000000</td>\n",
       "      <td>87.000000</td>\n",
       "      <td>87.000000</td>\n",
       "      <td>87.000000</td>\n",
       "      <td>87.000000</td>\n",
       "      <td>87.000000</td>\n",
       "      <td>87.000000</td>\n",
       "      <td>87.000000</td>\n",
       "      <td>87.000000</td>\n",
       "    </tr>\n",
       "    <tr>\n",
       "      <th>mean</th>\n",
       "      <td>43.000000</td>\n",
       "      <td>5596.896552</td>\n",
       "      <td>74.954023</td>\n",
       "      <td>6.529123e+04</td>\n",
       "      <td>0.090689</td>\n",
       "      <td>96.694394</td>\n",
       "      <td>123.595402</td>\n",
       "      <td>2.377683</td>\n",
       "      <td>1516.241379</td>\n",
       "      <td>387.057471</td>\n",
       "      <td>12.275862</td>\n",
       "      <td>0.078468</td>\n",
       "      <td>25.305158</td>\n",
       "    </tr>\n",
       "    <tr>\n",
       "      <th>std</th>\n",
       "      <td>25.258662</td>\n",
       "      <td>12776.366482</td>\n",
       "      <td>196.143926</td>\n",
       "      <td>1.593879e+05</td>\n",
       "      <td>0.019710</td>\n",
       "      <td>81.242003</td>\n",
       "      <td>399.364804</td>\n",
       "      <td>0.178347</td>\n",
       "      <td>3632.215103</td>\n",
       "      <td>901.265807</td>\n",
       "      <td>20.907710</td>\n",
       "      <td>0.038908</td>\n",
       "      <td>12.360818</td>\n",
       "    </tr>\n",
       "    <tr>\n",
       "      <th>min</th>\n",
       "      <td>0.000000</td>\n",
       "      <td>118.000000</td>\n",
       "      <td>0.000000</td>\n",
       "      <td>3.263000e+03</td>\n",
       "      <td>0.021604</td>\n",
       "      <td>0.000000</td>\n",
       "      <td>1.600000</td>\n",
       "      <td>1.999631</td>\n",
       "      <td>12.000000</td>\n",
       "      <td>0.000000</td>\n",
       "      <td>0.000000</td>\n",
       "      <td>0.000000</td>\n",
       "      <td>0.000000</td>\n",
       "    </tr>\n",
       "    <tr>\n",
       "      <th>25%</th>\n",
       "      <td>21.500000</td>\n",
       "      <td>997.000000</td>\n",
       "      <td>14.000000</td>\n",
       "      <td>1.077750e+04</td>\n",
       "      <td>0.078862</td>\n",
       "      <td>57.103715</td>\n",
       "      <td>13.850000</td>\n",
       "      <td>2.256933</td>\n",
       "      <td>199.000000</td>\n",
       "      <td>85.500000</td>\n",
       "      <td>4.000000</td>\n",
       "      <td>0.052831</td>\n",
       "      <td>18.000000</td>\n",
       "    </tr>\n",
       "    <tr>\n",
       "      <th>50%</th>\n",
       "      <td>43.000000</td>\n",
       "      <td>2097.000000</td>\n",
       "      <td>28.000000</td>\n",
       "      <td>2.197600e+04</td>\n",
       "      <td>0.089838</td>\n",
       "      <td>71.272727</td>\n",
       "      <td>25.400000</td>\n",
       "      <td>2.363005</td>\n",
       "      <td>374.000000</td>\n",
       "      <td>165.000000</td>\n",
       "      <td>7.000000</td>\n",
       "      <td>0.073751</td>\n",
       "      <td>24.761905</td>\n",
       "    </tr>\n",
       "    <tr>\n",
       "      <th>75%</th>\n",
       "      <td>64.500000</td>\n",
       "      <td>4008.500000</td>\n",
       "      <td>50.500000</td>\n",
       "      <td>4.419800e+04</td>\n",
       "      <td>0.100678</td>\n",
       "      <td>112.017460</td>\n",
       "      <td>57.850000</td>\n",
       "      <td>2.454706</td>\n",
       "      <td>1111.500000</td>\n",
       "      <td>320.500000</td>\n",
       "      <td>11.500000</td>\n",
       "      <td>0.100284</td>\n",
       "      <td>33.038462</td>\n",
       "    </tr>\n",
       "    <tr>\n",
       "      <th>max</th>\n",
       "      <td>86.000000</td>\n",
       "      <td>101110.000000</td>\n",
       "      <td>1588.000000</td>\n",
       "      <td>1.279981e+06</td>\n",
       "      <td>0.176147</td>\n",
       "      <td>622.333333</td>\n",
       "      <td>3064.900000</td>\n",
       "      <td>2.900663</td>\n",
       "      <td>26867.000000</td>\n",
       "      <td>7457.000000</td>\n",
       "      <td>168.000000</td>\n",
       "      <td>0.242054</td>\n",
       "      <td>65.857143</td>\n",
       "    </tr>\n",
       "  </tbody>\n",
       "</table>\n",
       "</div>"
      ],
      "text/plain": [
       "       Unnamed: 0  Total Positive Cases  Total Deaths    Population  \\\n",
       "count   87.000000             87.000000     87.000000  8.700000e+01   \n",
       "mean    43.000000           5596.896552     74.954023  6.529123e+04   \n",
       "std     25.258662          12776.366482    196.143926  1.593879e+05   \n",
       "min      0.000000            118.000000      0.000000  3.263000e+03   \n",
       "25%     21.500000            997.000000     14.000000  1.077750e+04   \n",
       "50%     43.000000           2097.000000     28.000000  2.197600e+04   \n",
       "75%     64.500000           4008.500000     50.500000  4.419800e+04   \n",
       "max     86.000000         101110.000000   1588.000000  1.279981e+06   \n",
       "\n",
       "       Rate of Infection  Death Rate  Pop Density  Mean Household Size  \\\n",
       "count          87.000000   87.000000    87.000000            87.000000   \n",
       "mean            0.090689   96.694394   123.595402             2.377683   \n",
       "std             0.019710   81.242003   399.364804             0.178347   \n",
       "min             0.021604    0.000000     1.600000             1.999631   \n",
       "25%             0.078862   57.103715    13.850000             2.256933   \n",
       "50%             0.089838   71.272727    25.400000             2.363005   \n",
       "75%             0.100678  112.017460    57.850000             2.454706   \n",
       "max             0.176147  622.333333  3064.900000             2.900663   \n",
       "\n",
       "       Congregate Living Population  No. of Cases in Nursing Homes  \\\n",
       "count                     87.000000                      87.000000   \n",
       "mean                    1516.241379                     387.057471   \n",
       "std                     3632.215103                     901.265807   \n",
       "min                       12.000000                       0.000000   \n",
       "25%                      199.000000                      85.500000   \n",
       "50%                      374.000000                     165.000000   \n",
       "75%                     1111.500000                     320.500000   \n",
       "max                    26867.000000                    7457.000000   \n",
       "\n",
       "       No. of Nursing Homes in County  Nursing Home Cases, % of Total  \\\n",
       "count                       87.000000                       87.000000   \n",
       "mean                        12.275862                        0.078468   \n",
       "std                         20.907710                        0.038908   \n",
       "min                          0.000000                        0.000000   \n",
       "25%                          4.000000                        0.052831   \n",
       "50%                          7.000000                        0.073751   \n",
       "75%                         11.500000                        0.100284   \n",
       "max                        168.000000                        0.242054   \n",
       "\n",
       "       Cases per number of Nursing Homes  \n",
       "count                          87.000000  \n",
       "mean                           25.305158  \n",
       "std                            12.360818  \n",
       "min                             0.000000  \n",
       "25%                            18.000000  \n",
       "50%                            24.761905  \n",
       "75%                            33.038462  \n",
       "max                            65.857143  "
      ]
     },
     "execution_count": 5,
     "metadata": {},
     "output_type": "execute_result"
    }
   ],
   "source": [
    "compiledcountydata.describe()"
   ]
  },
  {
   "cell_type": "code",
   "execution_count": 6,
   "metadata": {},
   "outputs": [
    {
     "data": {
      "text/plain": [
       "<AxesSubplot:>"
      ]
     },
     "execution_count": 6,
     "metadata": {},
     "output_type": "execute_result"
    },
    {
     "data": {
      "image/png": "[encoded data removed]",
      "text/plain": [
       "<Figure size 792x648 with 2 Axes>"
      ]
     },
     "metadata": {
      "needs_background": "light"
     },
     "output_type": "display_data"
    }
   ],
   "source": [
    "# Create a correlation matrix as a heat map\n",
    "\n",
    "corr = compiledcountydata.corr()\n",
    "f, ax = plt.subplots(figsize=(11, 9))\n",
    "mask = np.triu(np.ones_like(corr, dtype=bool))\n",
    "cmap = sns.diverging_palette(220, 20, as_cmap=True)\n",
    "sns.heatmap(corr, mask=mask, annot=True, cmap=cmap, vmax=1, center=0,\n",
    "            square=True, linewidths=.5, cbar_kws={\"shrink\": .5})"
   ]
  },
  {
   "cell_type": "markdown",
   "metadata": {},
   "source": [
    "### Analysis of the correlation matrix indicates we may have high multicollinearity between our variables.  Population, Total Positive Cases, Total Deaths and No. of Cases in Nursing Homes have an almost perfect relationship, suggesting that they are essentially measuring the same thing.  Categories which may be interesting to analyze are the Infection Rate, Death Rate, and total number of deaths.  Since Population, Total Deaths, Total Positive Cases and No. of Cases in Nursing Homes all have correlations greater than 98%, I will only include Total Deaths in my analysis as a target, and will not use the others as explaining variables."
   ]
  },
  {
   "cell_type": "code",
   "execution_count": 7,
   "metadata": {},
   "outputs": [],
   "source": [
    "# Commenting this out because the seaborn version is much more powerful\n",
    "\n",
    "# #Define a function for examining relationships between two variables\n",
    "\n",
    "# def twovariablelinreg(dataframe,xvar,yvar):\n",
    "#     columns = xvar\n",
    "#     target = yvar\n",
    "    \n",
    "#     X = dataframe[[columns]]\n",
    "#     y = dataframe[[target]]\n",
    "#     X_train, X_test, y_train, y_test = train_test_split(X, y, test_size=0.25, random_state=1)\n",
    "#     lr = LinearRegression()\n",
    "#     lr.fit(X_train, y_train)\n",
    "#     print(f\"The score of my two-variable linear regression is {lr.score(X_test, y_test)}\")\n",
    "#     print(f'My R-squared value is {lr.score(X_test, y_test)}')\n",
    "#     print(f'My slope coefficients are {lr.coef_}')\n",
    "#     print(f'My intercept is {lr.intercept_}')\n",
    "#     ypred = lr.predict(X)\n",
    "#     fig, ax = plt.subplots(figsize = (4,4))\n",
    "#     #Keeping the figure size small since I plan to do many of these\n",
    "#     plt.scatter(X, ypred, color='purple')\n",
    "#     plt.scatter(X,y, color='green')\n",
    "#     ax.set(title = f'{yvar} by {xvar}', xlabel = xvar, ylabel=yvar)\n",
    "#     plt.show"
   ]
  },
  {
   "cell_type": "markdown",
   "metadata": {},
   "source": [
    "# Section 1\n",
    "\n",
    "## Investigation of individual variables to try to identify base correlations\n",
    "## I'm Interested in Total Positive Cases, Rate of Infection, and Total Deaths as possible targets, will create plots\n",
    "## of possible targets versus relevant possible features for initial analysis"
   ]
  },
  {
   "cell_type": "code",
   "execution_count": 8,
   "metadata": {},
   "outputs": [],
   "source": [
    "# Helper function that allows me to select a target variable and multiple feature variables\n",
    "# then plot out scatterplots for visual analysis\n",
    "\n",
    "def plotpairgrid(dataframe, columns, target):\n",
    "    pairgrid = dataframe[target + columns]\n",
    "    pairgridplot = sns.PairGrid(pairgrid, y_vars=target, x_vars=columns, height = 3)\n",
    "    pairgridplot.map(sns.regplot, color=\"green\")\n",
    "    pairgridplot.map(sns.scatterplot)"
   ]
  },
  {
   "cell_type": "code",
   "execution_count": 9,
   "metadata": {},
   "outputs": [
    {
     "data": {
      "image/png": "[encoded data removed]",
      "text/plain": [
       "<Figure size 648x216 with 3 Axes>"
      ]
     },
     "metadata": {
      "needs_background": "light"
     },
     "output_type": "display_data"
    }
   ],
   "source": [
    "# Examine relationships between rate of infection and other aggregate variables\n",
    "\n",
    "columns = ['Pop Density','Mean Household Size','Nursing Home Cases, % of Total']\n",
    "rateofinfectiontarget = ['Rate of Infection']\n",
    "\n",
    "plotpairgrid(compiledcountydata, columns, rateofinfectiontarget)"
   ]
  },
  {
   "cell_type": "markdown",
   "metadata": {},
   "source": [
    "### Rate of infection appears to be negatively impacted by pop density, and moderately positively impacted by the mean household size and nursing home case rate."
   ]
  },
  {
   "cell_type": "code",
   "execution_count": 10,
   "metadata": {},
   "outputs": [
    {
     "data": {
      "image/png": "[encoded data removed]",
      "text/plain": [
       "<Figure size 648x216 with 3 Axes>"
      ]
     },
     "metadata": {
      "needs_background": "light"
     },
     "output_type": "display_data"
    }
   ],
   "source": [
    "# Examine relationships between Total Deaths and population factors\n",
    "\n",
    "totaldeathtarget = ['Total Deaths']\n",
    "\n",
    "plotpairgrid(compiledcountydata, columns, totaldeathtarget)"
   ]
  },
  {
   "cell_type": "markdown",
   "metadata": {},
   "source": [
    "### Total Deaths appears to have the strongest relationship with Population Density.  Mean Household size appears to have a slightly positive impact, while nursing home case rate does not appear to have a significant relationship."
   ]
  },
  {
   "cell_type": "code",
   "execution_count": 11,
   "metadata": {},
   "outputs": [
    {
     "data": {
      "image/png": "[encoded data removed]",
      "text/plain": [
       "<Figure size 648x216 with 3 Axes>"
      ]
     },
     "metadata": {
      "needs_background": "light"
     },
     "output_type": "display_data"
    }
   ],
   "source": [
    "# Examine relationship between Death Rate and population factors\n",
    "\n",
    "deathratetarget = ['Death Rate']\n",
    "\n",
    "plotpairgrid(compiledcountydata, columns, deathratetarget)"
   ]
  },
  {
   "cell_type": "markdown",
   "metadata": {},
   "source": [
    "### The death rate appears to be most strongly correlated with the concentration of cases that are in nursing homes, which makes sense.  Population density seems to have zero impact on the rate of death, while mean household size actually seems to have a slightly negative relationship"
   ]
  },
  {
   "cell_type": "markdown",
   "metadata": {},
   "source": [
    "# Section 2, multiple linear regression"
   ]
  },
  {
   "cell_type": "code",
   "execution_count": 12,
   "metadata": {},
   "outputs": [],
   "source": [
    "# Create function for linear regression that uses columns variable and different target variables defined above\n",
    "\n",
    "def linreg(dataframe,columns,target):\n",
    "    X = dataframe[columns]\n",
    "    y = dataframe[target]\n",
    "    X_train, X_test, y_train, y_test = train_test_split(X, y, test_size=0.25, random_state=1)\n",
    "    lr = LinearRegression()\n",
    "    lr.fit(X_train, y_train)\n",
    "    print(f'My R-squared value is {lr.score(X_test, y_test)}')\n",
    "    print(f'My slope coefficients are {lr.coef_}')\n",
    "    print(f'My intercept is {lr.intercept_}')"
   ]
  },
  {
   "cell_type": "markdown",
   "metadata": {},
   "source": [
    "## 2A - Rate of infection, Linear Regression"
   ]
  },
  {
   "cell_type": "code",
   "execution_count": 13,
   "metadata": {},
   "outputs": [
    {
     "name": "stdout",
     "output_type": "stream",
     "text": [
      "My R-squared value is 0.21440303006192718\n",
      "My slope coefficients are [[-6.78897936e-06  3.46622321e-02  1.27466396e-01]]\n",
      "My intercept is [-0.0014577]\n"
     ]
    }
   ],
   "source": [
    "linreg(compiledcountydata, columns, rateofinfectiontarget)"
   ]
  },
  {
   "cell_type": "code",
   "execution_count": 14,
   "metadata": {},
   "outputs": [],
   "source": [
    "# Overall model is not effective at predicting rate of infection"
   ]
  },
  {
   "cell_type": "markdown",
   "metadata": {},
   "source": [
    "## 2B - Total Deaths"
   ]
  },
  {
   "cell_type": "code",
   "execution_count": 15,
   "metadata": {},
   "outputs": [
    {
     "name": "stdout",
     "output_type": "stream",
     "text": [
      "My R-squared value is 0.770719263426767\n",
      "My slope coefficients are [[  0.41746765 -26.75269407   5.93014824]]\n",
      "My intercept is [91.93297608]\n"
     ]
    }
   ],
   "source": [
    "linreg(compiledcountydata,columns,totaldeathtarget)"
   ]
  },
  {
   "cell_type": "code",
   "execution_count": 16,
   "metadata": {},
   "outputs": [],
   "source": [
    "# Overall model is better at predicting total number of deaths.  Pop Density correlates strongly with total population and total death"
   ]
  },
  {
   "cell_type": "markdown",
   "metadata": {},
   "source": [
    "## 2C - Death Rate"
   ]
  },
  {
   "cell_type": "code",
   "execution_count": 17,
   "metadata": {},
   "outputs": [
    {
     "name": "stdout",
     "output_type": "stream",
     "text": [
      "My R-squared value is 0.27066635243606196\n",
      "My slope coefficients are [[-1.67500206e-02  2.01178472e+01 -7.97488182e+02]]\n",
      "My intercept is [112.3255502]\n"
     ]
    }
   ],
   "source": [
    "linreg(compiledcountydata,columns,deathratetarget)"
   ]
  },
  {
   "cell_type": "code",
   "execution_count": 18,
   "metadata": {},
   "outputs": [],
   "source": [
    "# This model is slightly better at predicting death rate than the infection rate, however it is still \n",
    "# not a very good predictor overall."
   ]
  },
  {
   "cell_type": "markdown",
   "metadata": {},
   "source": [
    "# Section 3 - Regression with Lasso"
   ]
  },
  {
   "cell_type": "code",
   "execution_count": 19,
   "metadata": {},
   "outputs": [],
   "source": [
    "# Define a function for lasso analysis\n",
    "\n",
    "def lassoreg(dataframe,columns,target):\n",
    "    X = dataframe[columns]\n",
    "    y = dataframe[target]\n",
    "    clf= Lasso(alpha=0.1)\n",
    "    X_train, X_test, y_train, y_test = train_test_split(X, y, test_size=0.25, random_state=1)\n",
    "    clf.fit(X_train, y_train)\n",
    "    print(f'My R-squared value is {clf.score(X_test, y_test)}')\n",
    "    print(f'My slope coefficients are {clf.coef_}')\n",
    "    print(f'My intercept is {clf.intercept_}')"
   ]
  },
  {
   "cell_type": "markdown",
   "metadata": {},
   "source": [
    "## 3A - Lasso on Rate of Infection"
   ]
  },
  {
   "cell_type": "code",
   "execution_count": 20,
   "metadata": {},
   "outputs": [
    {
     "name": "stdout",
     "output_type": "stream",
     "text": [
      "My R-squared value is 0.0032785238790582483\n",
      "My slope coefficients are [-4.53848984e-06  0.00000000e+00  0.00000000e+00]\n",
      "My intercept is [0.09115782]\n"
     ]
    }
   ],
   "source": [
    "lassoreg(compiledcountydata,columns,rateofinfectiontarget)"
   ]
  },
  {
   "cell_type": "code",
   "execution_count": 21,
   "metadata": {},
   "outputs": [],
   "source": [
    "# Lasso analysis appears to be much worse than linear regression for this variable"
   ]
  },
  {
   "cell_type": "markdown",
   "metadata": {},
   "source": [
    "## 3B - Lasso on Total Deaths"
   ]
  },
  {
   "cell_type": "code",
   "execution_count": 22,
   "metadata": {},
   "outputs": [
    {
     "name": "stdout",
     "output_type": "stream",
     "text": [
      "My R-squared value is 0.7672173926655772\n",
      "My slope coefficients are [  0.41716404 -23.46232107   0.        ]\n",
      "My intercept is [84.63419765]\n"
     ]
    }
   ],
   "source": [
    "lassoreg(compiledcountydata,columns,totaldeathtarget)"
   ]
  },
  {
   "cell_type": "code",
   "execution_count": 23,
   "metadata": {},
   "outputs": [],
   "source": [
    "# Again, regression appears better at predicting Total Deaths rather than rate of death or rate of infection.\n",
    "# This is a pretty good value but not as good as the linear regression"
   ]
  },
  {
   "cell_type": "markdown",
   "metadata": {},
   "source": [
    "## 3C - Lasso on Death Rate"
   ]
  },
  {
   "cell_type": "code",
   "execution_count": 24,
   "metadata": {},
   "outputs": [
    {
     "name": "stdout",
     "output_type": "stream",
     "text": [
      "My R-squared value is 0.2574371909372213\n",
      "My slope coefficients are [-1.64380344e-02  2.24936959e+01 -7.31478656e+02]\n",
      "My intercept is [101.20964407]\n"
     ]
    }
   ],
   "source": [
    "lassoreg(compiledcountydata,columns,deathratetarget)"
   ]
  },
  {
   "cell_type": "code",
   "execution_count": 25,
   "metadata": {},
   "outputs": [],
   "source": [
    "# Lasso analysis appears to be even less effective at predicting death rate than linear regression\n",
    "# I am not sure how to even interpret a negative r-squared value."
   ]
  },
  {
   "cell_type": "markdown",
   "metadata": {},
   "source": [
    "## Summary\n",
    "\n",
    "### Comparing and contrasting linear regression versus lasso on this dataset, linear regression appears to be slightly more effective at predicting the variables of interest.  However, both methods of regression struggle to explain either the death rate or rate of infection with our available data.  The visual analysis helps us understand that a little better, since we can see that the data for those two features are tightly clustered around the population density variable, but scattered fairly randomly for the other two variables."
   ]
  },
  {
   "cell_type": "code",
   "execution_count": null,
   "metadata": {},
   "outputs": [],
   "source": []
  }
 ],
 "metadata": {
  "kernelspec": {
   "display_name": "Python 3",
   "language": "python",
   "name": "python3"
  },
  "language_info": {
   "codemirror_mode": {
    "name": "ipython",
    "version": 3
   },
   "file_extension": ".py",
   "mimetype": "text/x-python",
   "name": "python",
   "nbconvert_exporter": "python",
   "pygments_lexer": "ipython3",
   "version": "3.8.5"
  }
 },
 "nbformat": 4,
 "nbformat_minor": 4
}