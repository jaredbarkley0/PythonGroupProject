{
 "cells": [
  {
   "cell_type": "markdown",
   "metadata": {},
   "source": [
    "# BAIS 6040 Data Programming in Python\n",
    "\n",
    "## Spring 2021\n",
    "\n",
    "## Week 9 Homework\n",
    "\n",
    "## Group 3: Jared Barkley, Tyler Zaruba, Netaji Boggarapu, Michael Noonan"
   ]
  },
  {
   "cell_type": "code",
   "execution_count": null,
   "metadata": {},
   "outputs": [],
   "source": [
    "import pandas as pd\n",
    "import numpy as np\n",
    "import matplotlib.pyplot as plt\n",
    "import seaborn as sns\n",
    "from sklearn.model_selection import train_test_split\n",
    "from sklearn.metrics import explained_variance_score, mean_absolute_error, r2_score, mean_squared_error\n",
    "from sklearn.linear_model import Ridge\n",
    "from sklearn.linear_model import LinearRegression\n",
    "from sklearn.linear_model import Lasso"
   ]
  },
  {
   "cell_type": "code",
   "execution_count": null,
   "metadata": {},
   "outputs": [],
   "source": [
    "compiledcountydata_dir = \"https://raw.githubusercontent.com/jaredbarkley0/PythonGroupProject/master/MN%20County%20Data_032721.csv\"\n",
    "compiledcountydata = pd.read_csv(compiledcountydata_dir)\n",
    "compiledcountydata"
   ]
  },
  {
   "cell_type": "code",
   "execution_count": null,
   "metadata": {},
   "outputs": [],
   "source": [
    "# Adding column for 'Death Rate' to create a new target for analysis\n",
    "\n",
    "# compiledcountydata['Death Rate'] = compiledcountydata['Total Deaths']/compiledcountydata['Total Positive Cases']"
   ]
  },
  {
   "cell_type": "code",
   "execution_count": null,
   "metadata": {},
   "outputs": [],
   "source": [
    "# Check info on dataframe\n",
    "compiledcountydata.info()"
   ]
  },
  {
   "cell_type": "code",
   "execution_count": null,
   "metadata": {},
   "outputs": [],
   "source": [
    "compiledcountydata.describe()"
   ]
  },
  {
   "cell_type": "code",
   "execution_count": null,
   "metadata": {},
   "outputs": [],
   "source": [
    "# Create a correlation matrix as a heat map\n",
    "\n",
    "corr = compiledcountydata.corr()\n",
    "f, ax = plt.subplots(figsize=(11, 9))\n",
    "mask = np.triu(np.ones_like(corr, dtype=bool))\n",
    "cmap = sns.diverging_palette(220, 20, as_cmap=True)\n",
    "sns.heatmap(corr, mask=mask, annot=True, cmap=cmap, vmax=1, center=0,\n",
    "            square=True, linewidths=.5, cbar_kws={\"shrink\": .5})"
   ]
  },
  {
   "cell_type": "markdown",
   "metadata": {},
   "source": [
    "### Analysis of the correlation matrix indicates we may have high multicollinearity between our variables.  Population, Total Positive Cases, Total Deaths and No. of Cases in Nursing Homes have an almost perfect relationship, suggesting that they are essentially measuring the same thing.  Categories which may be interesting to analyze are the Infection Rate, Death Rate, and total number of deaths.  Since Population, Total Deaths, Total Positive Cases and No. of Cases in Nursing Homes all have correlations greater than 98%, I will only include Total Deaths in my analysis as a target, and will not use the others as explaining variables."
   ]
  },
  {
   "cell_type": "code",
   "execution_count": null,
   "metadata": {},
   "outputs": [],
   "source": [
    "# Commenting this out because the seaborn version is much more powerful\n",
    "\n",
    "# #Define a function for examining relationships between two variables\n",
    "\n",
    "# def twovariablelinreg(dataframe,xvar,yvar):\n",
    "#     columns = xvar\n",
    "#     target = yvar\n",
    "    \n",
    "#     X = dataframe[[columns]]\n",
    "#     y = dataframe[[target]]\n",
    "#     X_train, X_test, y_train, y_test = train_test_split(X, y, test_size=0.25, random_state=1)\n",
    "#     lr = LinearRegression()\n",
    "#     lr.fit(X_train, y_train)\n",
    "#     print(f\"The score of my two-variable linear regression is {lr.score(X_test, y_test)}\")\n",
    "#     print(f'My R-squared value is {lr.score(X_test, y_test)}')\n",
    "#     print(f'My slope coefficients are {lr.coef_}')\n",
    "#     print(f'My intercept is {lr.intercept_}')\n",
    "#     ypred = lr.predict(X)\n",
    "#     fig, ax = plt.subplots(figsize = (4,4))\n",
    "#     #Keeping the figure size small since I plan to do many of these\n",
    "#     plt.scatter(X, ypred, color='purple')\n",
    "#     plt.scatter(X,y, color='green')\n",
    "#     ax.set(title = f'{yvar} by {xvar}', xlabel = xvar, ylabel=yvar)\n",
    "#     plt.show"
   ]
  },
  {
   "cell_type": "markdown",
   "metadata": {},
   "source": [
    "# Section 1\n",
    "\n",
    "## Investigation of individual variables to try to identify base correlations\n",
    "## I'm Interested in Total Positive Cases, Rate of Infection, and Total Deaths as possible targets, will create plots\n",
    "## of possible targets versus relevant possible features for initial analysis"
   ]
  },
  {
   "cell_type": "code",
   "execution_count": null,
   "metadata": {},
   "outputs": [],
   "source": [
    "# Helper function that allows me to select a target variable and multiple feature variables\n",
    "# then plot out scatterplots for visual analysis\n",
    "\n",
    "def plotpairgrid(dataframe, columns, target):\n",
    "    pairgrid = dataframe[target + columns]\n",
    "    pairgridplot = sns.PairGrid(pairgrid, y_vars=target, x_vars=columns, height = 5)\n",
    "    pairgridplot.map(sns.regplot, color=\"green\")\n",
    "    pairgridplot.map(sns.scatterplot)"
   ]
  },
  {
   "cell_type": "code",
   "execution_count": null,
   "metadata": {},
   "outputs": [],
   "source": [
    "# Examine relationships between rate of infection and other aggregate variables\n",
    "\n",
    "columns = ['Pop Density','Mean Household Size','Nursing Home Cases, % of Total']\n",
    "rateofinfectiontarget = ['Rate of Infection']\n",
    "\n",
    "plotpairgrid(compiledcountydata, columns, rateofinfectiontarget)"
   ]
  },
  {
   "cell_type": "markdown",
   "metadata": {},
   "source": [
    "### Rate of infection appears to be negatively impacted by pop density, and moderately positively impacted by the mean household size and nursing home case rate."
   ]
  },
  {
   "cell_type": "code",
   "execution_count": null,
   "metadata": {},
   "outputs": [],
   "source": [
    "# Examine relationships between Total Deaths and population factors\n",
    "\n",
    "totaldeathtarget = ['Total Deaths']\n",
    "\n",
    "plotpairgrid(compiledcountydata, columns, totaldeathtarget)"
   ]
  },
  {
   "cell_type": "markdown",
   "metadata": {},
   "source": [
    "### Total Deaths appears to have the strongest relationship with Population Density.  Mean Household size appears to have a slightly positive impact, while nursing home case rate does not appear to have a significant relationship."
   ]
  },
  {
   "cell_type": "code",
   "execution_count": null,
   "metadata": {},
   "outputs": [],
   "source": [
    "# Examine relationship between Death Rate and population factors\n",
    "\n",
    "deathratetarget = ['Death Rate']\n",
    "\n",
    "plotpairgrid(compiledcountydata, columns, deathratetarget)"
   ]
  },
  {
   "cell_type": "markdown",
   "metadata": {},
   "source": [
    "### The death rate appears to be most strongly correlated with the concentration of cases that are in nursing homes, which makes sense.  Population density seems to have zero impact on the rate of death, while mean household size actually seems to have a slightly negative relationship"
   ]
  },
  {
   "cell_type": "markdown",
   "metadata": {},
   "source": [
    "# Section 2, multiple linear regression"
   ]
  },
  {
   "cell_type": "code",
   "execution_count": null,
   "metadata": {},
   "outputs": [],
   "source": [
    "# Create function for linear regression that uses columns variable and different target variables defined above\n",
    "\n",
    "def linreg(dataframe,columns,target):\n",
    "    X = dataframe[columns]\n",
    "    y = dataframe[target]\n",
    "    X_train, X_test, y_train, y_test = train_test_split(X, y, test_size=0.25, random_state=1)\n",
    "    lr = LinearRegression()\n",
    "    lr.fit(X_train, y_train)\n",
    "    print(f'My R-squared value is {lr.score(X_test, y_test)}')\n",
    "    print(f'My slope coefficients are {lr.coef_}')\n",
    "    print(f'My intercept is {lr.intercept_}')"
   ]
  },
  {
   "cell_type": "markdown",
   "metadata": {},
   "source": [
    "## 2A - Rate of infection, Linear Regression"
   ]
  },
  {
   "cell_type": "code",
   "execution_count": null,
   "metadata": {},
   "outputs": [],
   "source": [
    "linreg(compiledcountydata, columns, rateofinfectiontarget)"
   ]
  },
  {
   "cell_type": "code",
   "execution_count": null,
   "metadata": {},
   "outputs": [],
   "source": [
    "# Overall model is not effective at predicting rate of infection"
   ]
  },
  {
   "cell_type": "markdown",
   "metadata": {},
   "source": [
    "## 2B - Total Deaths"
   ]
  },
  {
   "cell_type": "code",
   "execution_count": null,
   "metadata": {},
   "outputs": [],
   "source": [
    "linreg(compiledcountydata,columns,totaldeathtarget)"
   ]
  },
  {
   "cell_type": "code",
   "execution_count": null,
   "metadata": {},
   "outputs": [],
   "source": [
    "# Overall model is better at predicting total number of deaths.  Pop Density correlates strongly with total population and total death"
   ]
  },
  {
   "cell_type": "markdown",
   "metadata": {},
   "source": [
    "## 2C - Death Rate"
   ]
  },
  {
   "cell_type": "code",
   "execution_count": null,
   "metadata": {},
   "outputs": [],
   "source": [
    "linreg(compiledcountydata,columns,deathratetarget)"
   ]
  },
  {
   "cell_type": "code",
   "execution_count": null,
   "metadata": {},
   "outputs": [],
   "source": [
    "# This model is slightly better at predicting death rate than the infection rate, however it is still \n",
    "# not a very good predictor overall."
   ]
  },
  {
   "cell_type": "markdown",
   "metadata": {},
   "source": [
    "# Section 3 - Regression with Lasso"
   ]
  },
  {
   "cell_type": "code",
   "execution_count": null,
   "metadata": {},
   "outputs": [],
   "source": [
    "# Define a function for lasso analysis\n",
    "\n",
    "def lassoreg(dataframe,columns,target):\n",
    "    X = dataframe[columns]\n",
    "    y = dataframe[target]\n",
    "    clf= Lasso(alpha=0.1)\n",
    "    X_train, X_test, y_train, y_test = train_test_split(X, y, test_size=0.25, random_state=1)\n",
    "    clf.fit(X_train, y_train)\n",
    "    print(f'My R-squared value is {clf.score(X_test, y_test)}')\n",
    "    print(f'My slope coefficients are {clf.coef_}')\n",
    "    print(f'My intercept is {clf.intercept_}')"
   ]
  },
  {
   "cell_type": "markdown",
   "metadata": {},
   "source": [
    "## 3A - Lasso on Rate of Infection"
   ]
  },
  {
   "cell_type": "code",
   "execution_count": null,
   "metadata": {},
   "outputs": [],
   "source": [
    "lassoreg(compiledcountydata,columns,rateofinfectiontarget)"
   ]
  },
  {
   "cell_type": "code",
   "execution_count": null,
   "metadata": {},
   "outputs": [],
   "source": [
    "# Lasso analysis appears to be much worse than linear regression for this variable"
   ]
  },
  {
   "cell_type": "markdown",
   "metadata": {},
   "source": [
    "## 3B - Lasso on Total Deaths"
   ]
  },
  {
   "cell_type": "code",
   "execution_count": null,
   "metadata": {},
   "outputs": [],
   "source": [
    "lassoreg(compiledcountydata,columns,totaldeathtarget)"
   ]
  },
  {
   "cell_type": "code",
   "execution_count": null,
   "metadata": {},
   "outputs": [],
   "source": [
    "# Again, regression appears better at predicting Total Deaths rather than rate of death or rate of infection.\n",
    "# This is a pretty good value but not as good as the linear regression"
   ]
  },
  {
   "cell_type": "markdown",
   "metadata": {},
   "source": [
    "## 3C - Lasso on Death Rate"
   ]
  },
  {
   "cell_type": "code",
   "execution_count": null,
   "metadata": {},
   "outputs": [],
   "source": [
    "lassoreg(compiledcountydata,columns,deathratetarget)"
   ]
  },
  {
   "cell_type": "code",
   "execution_count": null,
   "metadata": {},
   "outputs": [],
   "source": [
    "# Lasso analysis appears to be even less effective at predicting death rate than linear regression\n",
    "# I am not sure how to even interpret a negative r-squared value."
   ]
  },
  {
   "cell_type": "markdown",
   "metadata": {},
   "source": [
    "## Summary\n",
    "\n",
    "### Comparing and contrasting linear regression versus lasso on this dataset, linear regression appears to be slightly more effective at predicting the variables of interest.  However, both methods of regression struggle to explain either the death rate or rate of infection with our available data.  The visual analysis helps us understand that a little better, since we can see that the data for those two features are tightly clustered around the population density variable, but scattered fairly randomly for the other two variables."
   ]
  },
  {
   "cell_type": "code",
   "execution_count": null,
   "metadata": {},
   "outputs": [],
   "source": []
  }
 ],
 "metadata": {
  "kernelspec": {
   "display_name": "Python 3",
   "language": "python",
   "name": "python3"
  },
  "language_info": {
   "codemirror_mode": {
    "name": "ipython",
    "version": 3
   },
   "file_extension": ".py",
   "mimetype": "text/x-python",
   "name": "python",
   "nbconvert_exporter": "python",
   "pygments_lexer": "ipython3",
   "version": "3.8.5"
  }
 },
 "nbformat": 4,
 "nbformat_minor": 4
}
