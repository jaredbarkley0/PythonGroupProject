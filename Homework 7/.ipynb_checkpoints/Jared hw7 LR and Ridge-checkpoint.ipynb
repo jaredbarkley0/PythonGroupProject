{
 "cells": [
  {
   "cell_type": "code",
   "execution_count": null,
   "metadata": {},
   "outputs": [],
   "source": []
  },
  {
   "cell_type": "code",
   "execution_count": 1,
   "metadata": {},
   "outputs": [],
   "source": [
    "import pandas as pd\n",
    "import numpy as np\n",
    "import matplotlib.pyplot as plt\n",
    "from sklearn.model_selection import train_test_split\n",
    "from sklearn.linear_model import Ridge\n",
    "from sklearn.linear_model import LinearRegression\n",
    "from sklearn.linear_model import Lasso"
   ]
  },
  {
   "cell_type": "code",
   "execution_count": 3,
   "metadata": {},
   "outputs": [
    {
     "data": {
      "text/html": [
       "<div>\n",
       "<style scoped>\n",
       "    .dataframe tbody tr th:only-of-type {\n",
       "        vertical-align: middle;\n",
       "    }\n",
       "\n",
       "    .dataframe tbody tr th {\n",
       "        vertical-align: top;\n",
       "    }\n",
       "\n",
       "    .dataframe thead th {\n",
       "        text-align: right;\n",
       "    }\n",
       "</style>\n",
       "<table border=\"1\" class=\"dataframe\">\n",
       "  <thead>\n",
       "    <tr style=\"text-align: right;\">\n",
       "      <th></th>\n",
       "      <th>Unnamed: 0</th>\n",
       "      <th>County</th>\n",
       "      <th>Total Positive Cases</th>\n",
       "      <th>Total Deaths</th>\n",
       "      <th>Population</th>\n",
       "      <th>Rate of Infection</th>\n",
       "      <th>Pop Density</th>\n",
       "      <th>Mean Household Size</th>\n",
       "      <th>Congregate Living Population</th>\n",
       "      <th>No. of Cases in Nursing Homes</th>\n",
       "      <th>No. of Nursing Homes in County</th>\n",
       "      <th>Nursing Home Cases, % of Total</th>\n",
       "      <th>Cases per number of Nursing Home</th>\n",
       "    </tr>\n",
       "  </thead>\n",
       "  <tbody>\n",
       "    <tr>\n",
       "      <th>0</th>\n",
       "      <td>0</td>\n",
       "      <td>Aitkin</td>\n",
       "      <td>1191</td>\n",
       "      <td>33</td>\n",
       "      <td>15870.0</td>\n",
       "      <td>0.075047</td>\n",
       "      <td>8.0</td>\n",
       "      <td>2.097233</td>\n",
       "      <td>254.0</td>\n",
       "      <td>118.0</td>\n",
       "      <td>4.0</td>\n",
       "      <td>0.099076</td>\n",
       "      <td>29.500000</td>\n",
       "    </tr>\n",
       "    <tr>\n",
       "      <th>1</th>\n",
       "      <td>1</td>\n",
       "      <td>Anoka</td>\n",
       "      <td>33391</td>\n",
       "      <td>390</td>\n",
       "      <td>362648.0</td>\n",
       "      <td>0.092076</td>\n",
       "      <td>753.9</td>\n",
       "      <td>2.712716</td>\n",
       "      <td>3753.0</td>\n",
       "      <td>1675.0</td>\n",
       "      <td>35.0</td>\n",
       "      <td>0.050163</td>\n",
       "      <td>47.857143</td>\n",
       "    </tr>\n",
       "    <tr>\n",
       "      <th>2</th>\n",
       "      <td>2</td>\n",
       "      <td>Becker</td>\n",
       "      <td>3131</td>\n",
       "      <td>42</td>\n",
       "      <td>34545.0</td>\n",
       "      <td>0.090635</td>\n",
       "      <td>22.8</td>\n",
       "      <td>2.393929</td>\n",
       "      <td>477.0</td>\n",
       "      <td>294.0</td>\n",
       "      <td>8.0</td>\n",
       "      <td>0.093900</td>\n",
       "      <td>36.750000</td>\n",
       "    </tr>\n",
       "    <tr>\n",
       "      <th>3</th>\n",
       "      <td>3</td>\n",
       "      <td>Beltrami</td>\n",
       "      <td>3386</td>\n",
       "      <td>51</td>\n",
       "      <td>47184.0</td>\n",
       "      <td>0.071762</td>\n",
       "      <td>14.8</td>\n",
       "      <td>2.487013</td>\n",
       "      <td>1990.0</td>\n",
       "      <td>264.0</td>\n",
       "      <td>11.0</td>\n",
       "      <td>0.077968</td>\n",
       "      <td>24.000000</td>\n",
       "    </tr>\n",
       "    <tr>\n",
       "      <th>4</th>\n",
       "      <td>4</td>\n",
       "      <td>Benton</td>\n",
       "      <td>4482</td>\n",
       "      <td>90</td>\n",
       "      <td>40895.0</td>\n",
       "      <td>0.109598</td>\n",
       "      <td>94.4</td>\n",
       "      <td>2.426614</td>\n",
       "      <td>1050.0</td>\n",
       "      <td>557.0</td>\n",
       "      <td>11.0</td>\n",
       "      <td>0.124275</td>\n",
       "      <td>50.636364</td>\n",
       "    </tr>\n",
       "    <tr>\n",
       "      <th>...</th>\n",
       "      <td>...</td>\n",
       "      <td>...</td>\n",
       "      <td>...</td>\n",
       "      <td>...</td>\n",
       "      <td>...</td>\n",
       "      <td>...</td>\n",
       "      <td>...</td>\n",
       "      <td>...</td>\n",
       "      <td>...</td>\n",
       "      <td>...</td>\n",
       "      <td>...</td>\n",
       "      <td>...</td>\n",
       "      <td>...</td>\n",
       "    </tr>\n",
       "    <tr>\n",
       "      <th>82</th>\n",
       "      <td>82</td>\n",
       "      <td>Watonwan</td>\n",
       "      <td>1176</td>\n",
       "      <td>8</td>\n",
       "      <td>10923.0</td>\n",
       "      <td>0.107663</td>\n",
       "      <td>25.4</td>\n",
       "      <td>2.397507</td>\n",
       "      <td>151.0</td>\n",
       "      <td>36.0</td>\n",
       "      <td>3.0</td>\n",
       "      <td>0.030612</td>\n",
       "      <td>12.000000</td>\n",
       "    </tr>\n",
       "    <tr>\n",
       "      <th>83</th>\n",
       "      <td>83</td>\n",
       "      <td>Wilkin</td>\n",
       "      <td>677</td>\n",
       "      <td>11</td>\n",
       "      <td>6226.0</td>\n",
       "      <td>0.108738</td>\n",
       "      <td>8.7</td>\n",
       "      <td>2.238850</td>\n",
       "      <td>152.0</td>\n",
       "      <td>36.0</td>\n",
       "      <td>2.0</td>\n",
       "      <td>0.053176</td>\n",
       "      <td>18.000000</td>\n",
       "    </tr>\n",
       "    <tr>\n",
       "      <th>84</th>\n",
       "      <td>84</td>\n",
       "      <td>Winona</td>\n",
       "      <td>4193</td>\n",
       "      <td>49</td>\n",
       "      <td>50830.0</td>\n",
       "      <td>0.082491</td>\n",
       "      <td>79.9</td>\n",
       "      <td>2.352632</td>\n",
       "      <td>3855.0</td>\n",
       "      <td>277.0</td>\n",
       "      <td>9.0</td>\n",
       "      <td>0.066062</td>\n",
       "      <td>30.777778</td>\n",
       "    </tr>\n",
       "    <tr>\n",
       "      <th>85</th>\n",
       "      <td>85</td>\n",
       "      <td>Wright</td>\n",
       "      <td>12554</td>\n",
       "      <td>116</td>\n",
       "      <td>138531.0</td>\n",
       "      <td>0.090622</td>\n",
       "      <td>178.3</td>\n",
       "      <td>2.796739</td>\n",
       "      <td>1158.0</td>\n",
       "      <td>687.0</td>\n",
       "      <td>20.0</td>\n",
       "      <td>0.054724</td>\n",
       "      <td>34.350000</td>\n",
       "    </tr>\n",
       "    <tr>\n",
       "      <th>86</th>\n",
       "      <td>86</td>\n",
       "      <td>Yellow Medicine</td>\n",
       "      <td>977</td>\n",
       "      <td>17</td>\n",
       "      <td>9729.0</td>\n",
       "      <td>0.100421</td>\n",
       "      <td>13.4</td>\n",
       "      <td>2.282535</td>\n",
       "      <td>293.0</td>\n",
       "      <td>79.0</td>\n",
       "      <td>3.0</td>\n",
       "      <td>0.080860</td>\n",
       "      <td>26.333333</td>\n",
       "    </tr>\n",
       "  </tbody>\n",
       "</table>\n",
       "<p>87 rows × 13 columns</p>\n",
       "</div>"
      ],
      "text/plain": [
       "    Unnamed: 0           County  Total Positive Cases  Total Deaths  \\\n",
       "0            0           Aitkin                  1191            33   \n",
       "1            1            Anoka                 33391           390   \n",
       "2            2           Becker                  3131            42   \n",
       "3            3         Beltrami                  3386            51   \n",
       "4            4           Benton                  4482            90   \n",
       "..         ...              ...                   ...           ...   \n",
       "82          82         Watonwan                  1176             8   \n",
       "83          83           Wilkin                   677            11   \n",
       "84          84           Winona                  4193            49   \n",
       "85          85           Wright                 12554           116   \n",
       "86          86  Yellow Medicine                   977            17   \n",
       "\n",
       "    Population  Rate of Infection  Pop Density  Mean Household Size  \\\n",
       "0      15870.0           0.075047          8.0             2.097233   \n",
       "1     362648.0           0.092076        753.9             2.712716   \n",
       "2      34545.0           0.090635         22.8             2.393929   \n",
       "3      47184.0           0.071762         14.8             2.487013   \n",
       "4      40895.0           0.109598         94.4             2.426614   \n",
       "..         ...                ...          ...                  ...   \n",
       "82     10923.0           0.107663         25.4             2.397507   \n",
       "83      6226.0           0.108738          8.7             2.238850   \n",
       "84     50830.0           0.082491         79.9             2.352632   \n",
       "85    138531.0           0.090622        178.3             2.796739   \n",
       "86      9729.0           0.100421         13.4             2.282535   \n",
       "\n",
       "    Congregate Living Population  No. of Cases in Nursing Homes  \\\n",
       "0                          254.0                          118.0   \n",
       "1                         3753.0                         1675.0   \n",
       "2                          477.0                          294.0   \n",
       "3                         1990.0                          264.0   \n",
       "4                         1050.0                          557.0   \n",
       "..                           ...                            ...   \n",
       "82                         151.0                           36.0   \n",
       "83                         152.0                           36.0   \n",
       "84                        3855.0                          277.0   \n",
       "85                        1158.0                          687.0   \n",
       "86                         293.0                           79.0   \n",
       "\n",
       "    No. of Nursing Homes in County  Nursing Home Cases, % of Total  \\\n",
       "0                              4.0                        0.099076   \n",
       "1                             35.0                        0.050163   \n",
       "2                              8.0                        0.093900   \n",
       "3                             11.0                        0.077968   \n",
       "4                             11.0                        0.124275   \n",
       "..                             ...                             ...   \n",
       "82                             3.0                        0.030612   \n",
       "83                             2.0                        0.053176   \n",
       "84                             9.0                        0.066062   \n",
       "85                            20.0                        0.054724   \n",
       "86                             3.0                        0.080860   \n",
       "\n",
       "    Cases per number of Nursing Home  \n",
       "0                          29.500000  \n",
       "1                          47.857143  \n",
       "2                          36.750000  \n",
       "3                          24.000000  \n",
       "4                          50.636364  \n",
       "..                               ...  \n",
       "82                         12.000000  \n",
       "83                         18.000000  \n",
       "84                         30.777778  \n",
       "85                         34.350000  \n",
       "86                         26.333333  \n",
       "\n",
       "[87 rows x 13 columns]"
      ]
     },
     "execution_count": 3,
     "metadata": {},
     "output_type": "execute_result"
    }
   ],
   "source": [
    "compiledcountydata_dir = \"https://raw.githubusercontent.com/jaredbarkley0/PythonGroupProject/master/MN%20County%20Data_032721.csv\"\n",
    "compiledcountydata = pd.read_csv(compiledcountydata_dir)\n",
    "compiledcountydata"
   ]
  },
  {
   "cell_type": "code",
   "execution_count": 4,
   "metadata": {},
   "outputs": [],
   "source": [
    "#Cook County has 0 longterm care facilities, but we want to keep in our regression model\n",
    "#Fill NaN values for all facility-related data points with 0, which is an equivalent value in this case\n",
    "\n",
    "fillfacilitiesdata = {'Casesinfacility':0,'FacilitiesinCounty':0,'Percent Cases in Facilities':0,'Cases per number of Facilities':0}\n",
    "\n",
    "compiledcountydata.fillna(fillfacilitiesdata, inplace=True)"
   ]
  },
  {
   "cell_type": "code",
   "execution_count": 6,
   "metadata": {},
   "outputs": [
    {
     "name": "stdout",
     "output_type": "stream",
     "text": [
      "<class 'pandas.core.frame.DataFrame'>\n",
      "RangeIndex: 87 entries, 0 to 86\n",
      "Data columns (total 13 columns):\n",
      " #   Column                            Non-Null Count  Dtype  \n",
      "---  ------                            --------------  -----  \n",
      " 0   Unnamed: 0                        87 non-null     int64  \n",
      " 1   County                            87 non-null     object \n",
      " 2   Total Positive Cases              87 non-null     int64  \n",
      " 3   Total Deaths                      87 non-null     int64  \n",
      " 4   Population                        87 non-null     float64\n",
      " 5   Rate of Infection                 87 non-null     float64\n",
      " 6   Pop Density                       87 non-null     float64\n",
      " 7   Mean Household Size               87 non-null     float64\n",
      " 8   Congregate Living Population      87 non-null     float64\n",
      " 9   No. of Cases in Nursing Homes     87 non-null     float64\n",
      " 10  No. of Nursing Homes in County    87 non-null     float64\n",
      " 11  Nursing Home Cases, % of Total    87 non-null     float64\n",
      " 12  Cases per number of Nursing Home  87 non-null     float64\n",
      "dtypes: float64(9), int64(3), object(1)\n",
      "memory usage: 9.0+ KB\n"
     ]
    }
   ],
   "source": [
    "compiledcountydata.dropna()\n",
    "compiledcountydata.info()"
   ]
  },
  {
   "cell_type": "code",
   "execution_count": 7,
   "metadata": {},
   "outputs": [],
   "source": [
    "columns = [\"Pop Density\",\"Congregate Living Population\",\"No. of Nursing Homes in County\"]\n",
    "target = \"Rate of Infection\"\n",
    "\n",
    "X = compiledcountydata[columns]\n",
    "y = compiledcountydata[target]"
   ]
  },
  {
   "cell_type": "code",
   "execution_count": 8,
   "metadata": {},
   "outputs": [
    {
     "name": "stdout",
     "output_type": "stream",
     "text": [
      "Length of X_train (feature training set): 65\n",
      "Length of X_test (feature test set): 22\n",
      "Length of y_train (target training set): 65\n",
      "Length of y_test (target training set): 22\n"
     ]
    }
   ],
   "source": [
    "X_train, X_test, y_train, y_test = train_test_split(X, y, test_size=0.25)\n",
    "\n",
    "print(f\"Length of X_train (feature training set): {len(X_train)}\")\n",
    "print(f\"Length of X_test (feature test set): {len(X_test)}\")\n",
    "print(f\"Length of y_train (target training set): {len(y_train)}\")\n",
    "print(f\"Length of y_test (target training set): {len(y_test)}\")"
   ]
  },
  {
   "cell_type": "code",
   "execution_count": 9,
   "metadata": {},
   "outputs": [
    {
     "data": {
      "text/plain": [
       "LinearRegression()"
      ]
     },
     "execution_count": 9,
     "metadata": {},
     "output_type": "execute_result"
    }
   ],
   "source": [
    "lr = LinearRegression()\n",
    "lr"
   ]
  },
  {
   "cell_type": "code",
   "execution_count": 10,
   "metadata": {},
   "outputs": [
    {
     "data": {
      "text/plain": [
       "LinearRegression()"
      ]
     },
     "execution_count": 10,
     "metadata": {},
     "output_type": "execute_result"
    }
   ],
   "source": [
    "lr.fit(X_train, y_train)"
   ]
  },
  {
   "cell_type": "code",
   "execution_count": 11,
   "metadata": {},
   "outputs": [
    {
     "data": {
      "text/plain": [
       "0.016889189458166753"
      ]
     },
     "execution_count": 11,
     "metadata": {},
     "output_type": "execute_result"
    }
   ],
   "source": [
    "lr.score(X_train, y_train)"
   ]
  },
  {
   "cell_type": "code",
   "execution_count": 13,
   "metadata": {},
   "outputs": [
    {
     "data": {
      "text/plain": [
       "-0.03266003517711358"
      ]
     },
     "execution_count": 13,
     "metadata": {},
     "output_type": "execute_result"
    }
   ],
   "source": [
    "lr.score(X_test, y_test)"
   ]
  },
  {
   "cell_type": "code",
   "execution_count": 14,
   "metadata": {},
   "outputs": [
    {
     "data": {
      "text/plain": [
       "array([0.09169349, 0.0917393 , 0.09234343, 0.09250395, 0.09250544,\n",
       "       0.08742699, 0.09191258, 0.09147833, 0.09002255, 0.09152899,\n",
       "       0.09220235, 0.09230899, 0.09356038, 0.092146  , 0.09143375,\n",
       "       0.089264  , 0.09236466, 0.09232128, 0.09449776, 0.09159754,\n",
       "       0.09268243, 0.09134253])"
      ]
     },
     "execution_count": 14,
     "metadata": {},
     "output_type": "execute_result"
    }
   ],
   "source": [
    "lr.predict(X_test)"
   ]
  },
  {
   "cell_type": "code",
   "execution_count": 15,
   "metadata": {},
   "outputs": [],
   "source": [
    "import math\n",
    "from sklearn.metrics import explained_variance_score, mean_absolute_error, r2_score, mean_squared_error\n",
    "\n",
    "def printMetrics(test, predictions):\n",
    "    print(f\"Score: {explained_variance_score(test, predictions):.2f}\")\n",
    "    print(f\"MAE: {mean_absolute_error(test, predictions):.2f}\")\n",
    "    print(f\"RMSE: {math.sqrt(mean_squared_error(test, predictions)):.2f}\")\n",
    "    print(f\"r2: {r2_score(test, predictions):.2f}\")"
   ]
  },
  {
   "cell_type": "code",
   "execution_count": 16,
   "metadata": {},
   "outputs": [
    {
     "name": "stdout",
     "output_type": "stream",
     "text": [
      "Score: -0.01\n",
      "MAE: 0.01\n",
      "RMSE: 0.02\n",
      "r2: -0.03\n"
     ]
    }
   ],
   "source": [
    "predictions = lr.predict(X_test)\n",
    "printMetrics(y_test, predictions)"
   ]
  },
  {
   "cell_type": "markdown",
   "metadata": {},
   "source": [
    "## Ridge"
   ]
  },
  {
   "cell_type": "code",
   "execution_count": 17,
   "metadata": {},
   "outputs": [
    {
     "data": {
      "text/plain": [
       "Ridge(solver='svd')"
      ]
     },
     "execution_count": 17,
     "metadata": {},
     "output_type": "execute_result"
    }
   ],
   "source": [
    "rr = Ridge(solver=\"svd\")\n",
    "rr"
   ]
  },
  {
   "cell_type": "code",
   "execution_count": 18,
   "metadata": {},
   "outputs": [
    {
     "data": {
      "text/plain": [
       "Ridge(solver='svd')"
      ]
     },
     "execution_count": 18,
     "metadata": {},
     "output_type": "execute_result"
    }
   ],
   "source": [
    "rr.fit(X_train, y_train)"
   ]
  },
  {
   "cell_type": "code",
   "execution_count": 19,
   "metadata": {},
   "outputs": [
    {
     "data": {
      "text/plain": [
       "0.016889189142414884"
      ]
     },
     "execution_count": 19,
     "metadata": {},
     "output_type": "execute_result"
    }
   ],
   "source": [
    "rr.score(X_train, y_train)"
   ]
  },
  {
   "cell_type": "code",
   "execution_count": 20,
   "metadata": {},
   "outputs": [
    {
     "data": {
      "text/plain": [
       "-0.03265416803311272"
      ]
     },
     "execution_count": 20,
     "metadata": {},
     "output_type": "execute_result"
    }
   ],
   "source": [
    "rr.score(X_test, y_test)"
   ]
  },
  {
   "cell_type": "code",
   "execution_count": 21,
   "metadata": {},
   "outputs": [
    {
     "name": "stdout",
     "output_type": "stream",
     "text": [
      "Score: -0.01\n",
      "MAE: 0.01\n",
      "RMSE: 0.02\n",
      "r2: -0.03\n"
     ]
    }
   ],
   "source": [
    "predictions = rr.predict(X_test)\n",
    "printMetrics(y_test, predictions)"
   ]
  }
 ],
 "metadata": {
  "kernelspec": {
   "display_name": "Python 3",
   "language": "python",
   "name": "python3"
  },
  "language_info": {
   "codemirror_mode": {
    "name": "ipython",
    "version": 3
   },
   "file_extension": ".py",
   "mimetype": "text/x-python",
   "name": "python",
   "nbconvert_exporter": "python",
   "pygments_lexer": "ipython3",
   "version": "3.8.5"
  }
 },
 "nbformat": 4,
 "nbformat_minor": 4
}
