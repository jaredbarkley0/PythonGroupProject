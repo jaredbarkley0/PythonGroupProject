{
 "cells": [
  {
   "cell_type": "markdown",
   "metadata": {
    "collapsed": true,
    "pycharm": {
     "name": "#%% md\n"
    }
   },
   "source": [
    "# HW7 NewData Linear, Ridge, and ElasticNet\n",
    "Uses Michael's prework to get everything loaded the same. Keeps the Linear (LR),\n",
    "as a base. Gets predictive values for Ridge and ElasticNet. No graphs or plots\n",
    "are produced."
   ]
  },
  {
   "cell_type": "code",
   "execution_count": 1,
   "outputs": [],
   "source": [
    "import pandas as pd\n",
    "import numpy as np\n",
    "import matplotlib.pyplot as plt\n",
    "import math\n",
    "from sklearn.metrics import explained_variance_score, mean_absolute_error, r2_score, mean_squared_error\n",
    "from sklearn.model_selection import train_test_split\n",
    "from sklearn.linear_model import LinearRegression\n",
    "from sklearn.linear_model import Ridge\n",
    "from sklearn.linear_model import ElasticNet"
   ],
   "metadata": {
    "collapsed": false,
    "pycharm": {
     "name": "#%%\n"
    }
   }
  },
  {
   "cell_type": "code",
   "execution_count": 2,
   "outputs": [
    {
     "data": {
      "text/plain": "    Unnamed: 0           County  Total Positive Cases  Total Deaths  \\\n0            0           Aitkin                  1191            33   \n1            1            Anoka                 33391           390   \n2            2           Becker                  3131            42   \n3            3         Beltrami                  3386            51   \n4            4           Benton                  4482            90   \n..         ...              ...                   ...           ...   \n82          82         Watonwan                  1176             8   \n83          83           Wilkin                   677            11   \n84          84           Winona                  4193            49   \n85          85           Wright                 12554           116   \n86          86  Yellow Medicine                   977            17   \n\n    Population  Rate of Infection  Pop Density  Mean Household Size  \\\n0      15870.0           0.075047          8.0             2.097233   \n1     362648.0           0.092076        753.9             2.712716   \n2      34545.0           0.090635         22.8             2.393929   \n3      47184.0           0.071762         14.8             2.487013   \n4      40895.0           0.109598         94.4             2.426614   \n..         ...                ...          ...                  ...   \n82     10923.0           0.107663         25.4             2.397507   \n83      6226.0           0.108738          8.7             2.238850   \n84     50830.0           0.082491         79.9             2.352632   \n85    138531.0           0.090622        178.3             2.796739   \n86      9729.0           0.100421         13.4             2.282535   \n\n    Congregate Living Population  No. of Cases in Nursing Homes  \\\n0                          254.0                          118.0   \n1                         3753.0                         1675.0   \n2                          477.0                          294.0   \n3                         1990.0                          264.0   \n4                         1050.0                          557.0   \n..                           ...                            ...   \n82                         151.0                           36.0   \n83                         152.0                           36.0   \n84                        3855.0                          277.0   \n85                        1158.0                          687.0   \n86                         293.0                           79.0   \n\n    No. of Nursing Homes in County  Nursing Home Cases, % of Total  \\\n0                              4.0                        0.099076   \n1                             35.0                        0.050163   \n2                              8.0                        0.093900   \n3                             11.0                        0.077968   \n4                             11.0                        0.124275   \n..                             ...                             ...   \n82                             3.0                        0.030612   \n83                             2.0                        0.053176   \n84                             9.0                        0.066062   \n85                            20.0                        0.054724   \n86                             3.0                        0.080860   \n\n    Cases per number of Nursing Home  \n0                          29.500000  \n1                          47.857143  \n2                          36.750000  \n3                          24.000000  \n4                          50.636364  \n..                               ...  \n82                         12.000000  \n83                         18.000000  \n84                         30.777778  \n85                         34.350000  \n86                         26.333333  \n\n[87 rows x 13 columns]",
      "text/html": "<div>\n<style scoped>\n    .dataframe tbody tr th:only-of-type {\n        vertical-align: middle;\n    }\n\n    .dataframe tbody tr th {\n        vertical-align: top;\n    }\n\n    .dataframe thead th {\n        text-align: right;\n    }\n</style>\n<table border=\"1\" class=\"dataframe\">\n  <thead>\n    <tr style=\"text-align: right;\">\n      <th></th>\n      <th>Unnamed: 0</th>\n      <th>County</th>\n      <th>Total Positive Cases</th>\n      <th>Total Deaths</th>\n      <th>Population</th>\n      <th>Rate of Infection</th>\n      <th>Pop Density</th>\n      <th>Mean Household Size</th>\n      <th>Congregate Living Population</th>\n      <th>No. of Cases in Nursing Homes</th>\n      <th>No. of Nursing Homes in County</th>\n      <th>Nursing Home Cases, % of Total</th>\n      <th>Cases per number of Nursing Home</th>\n    </tr>\n  </thead>\n  <tbody>\n    <tr>\n      <th>0</th>\n      <td>0</td>\n      <td>Aitkin</td>\n      <td>1191</td>\n      <td>33</td>\n      <td>15870.0</td>\n      <td>0.075047</td>\n      <td>8.0</td>\n      <td>2.097233</td>\n      <td>254.0</td>\n      <td>118.0</td>\n      <td>4.0</td>\n      <td>0.099076</td>\n      <td>29.500000</td>\n    </tr>\n    <tr>\n      <th>1</th>\n      <td>1</td>\n      <td>Anoka</td>\n      <td>33391</td>\n      <td>390</td>\n      <td>362648.0</td>\n      <td>0.092076</td>\n      <td>753.9</td>\n      <td>2.712716</td>\n      <td>3753.0</td>\n      <td>1675.0</td>\n      <td>35.0</td>\n      <td>0.050163</td>\n      <td>47.857143</td>\n    </tr>\n    <tr>\n      <th>2</th>\n      <td>2</td>\n      <td>Becker</td>\n      <td>3131</td>\n      <td>42</td>\n      <td>34545.0</td>\n      <td>0.090635</td>\n      <td>22.8</td>\n      <td>2.393929</td>\n      <td>477.0</td>\n      <td>294.0</td>\n      <td>8.0</td>\n      <td>0.093900</td>\n      <td>36.750000</td>\n    </tr>\n    <tr>\n      <th>3</th>\n      <td>3</td>\n      <td>Beltrami</td>\n      <td>3386</td>\n      <td>51</td>\n      <td>47184.0</td>\n      <td>0.071762</td>\n      <td>14.8</td>\n      <td>2.487013</td>\n      <td>1990.0</td>\n      <td>264.0</td>\n      <td>11.0</td>\n      <td>0.077968</td>\n      <td>24.000000</td>\n    </tr>\n    <tr>\n      <th>4</th>\n      <td>4</td>\n      <td>Benton</td>\n      <td>4482</td>\n      <td>90</td>\n      <td>40895.0</td>\n      <td>0.109598</td>\n      <td>94.4</td>\n      <td>2.426614</td>\n      <td>1050.0</td>\n      <td>557.0</td>\n      <td>11.0</td>\n      <td>0.124275</td>\n      <td>50.636364</td>\n    </tr>\n    <tr>\n      <th>...</th>\n      <td>...</td>\n      <td>...</td>\n      <td>...</td>\n      <td>...</td>\n      <td>...</td>\n      <td>...</td>\n      <td>...</td>\n      <td>...</td>\n      <td>...</td>\n      <td>...</td>\n      <td>...</td>\n      <td>...</td>\n      <td>...</td>\n    </tr>\n    <tr>\n      <th>82</th>\n      <td>82</td>\n      <td>Watonwan</td>\n      <td>1176</td>\n      <td>8</td>\n      <td>10923.0</td>\n      <td>0.107663</td>\n      <td>25.4</td>\n      <td>2.397507</td>\n      <td>151.0</td>\n      <td>36.0</td>\n      <td>3.0</td>\n      <td>0.030612</td>\n      <td>12.000000</td>\n    </tr>\n    <tr>\n      <th>83</th>\n      <td>83</td>\n      <td>Wilkin</td>\n      <td>677</td>\n      <td>11</td>\n      <td>6226.0</td>\n      <td>0.108738</td>\n      <td>8.7</td>\n      <td>2.238850</td>\n      <td>152.0</td>\n      <td>36.0</td>\n      <td>2.0</td>\n      <td>0.053176</td>\n      <td>18.000000</td>\n    </tr>\n    <tr>\n      <th>84</th>\n      <td>84</td>\n      <td>Winona</td>\n      <td>4193</td>\n      <td>49</td>\n      <td>50830.0</td>\n      <td>0.082491</td>\n      <td>79.9</td>\n      <td>2.352632</td>\n      <td>3855.0</td>\n      <td>277.0</td>\n      <td>9.0</td>\n      <td>0.066062</td>\n      <td>30.777778</td>\n    </tr>\n    <tr>\n      <th>85</th>\n      <td>85</td>\n      <td>Wright</td>\n      <td>12554</td>\n      <td>116</td>\n      <td>138531.0</td>\n      <td>0.090622</td>\n      <td>178.3</td>\n      <td>2.796739</td>\n      <td>1158.0</td>\n      <td>687.0</td>\n      <td>20.0</td>\n      <td>0.054724</td>\n      <td>34.350000</td>\n    </tr>\n    <tr>\n      <th>86</th>\n      <td>86</td>\n      <td>Yellow Medicine</td>\n      <td>977</td>\n      <td>17</td>\n      <td>9729.0</td>\n      <td>0.100421</td>\n      <td>13.4</td>\n      <td>2.282535</td>\n      <td>293.0</td>\n      <td>79.0</td>\n      <td>3.0</td>\n      <td>0.080860</td>\n      <td>26.333333</td>\n    </tr>\n  </tbody>\n</table>\n<p>87 rows × 13 columns</p>\n</div>"
     },
     "execution_count": 2,
     "metadata": {},
     "output_type": "execute_result"
    }
   ],
   "source": [
    "# Loads project data\n",
    "compiledcountydata_dir = \"https://raw.githubusercontent.com/jaredbarkley0/PythonGroupProject/master/MN%20County%20Data_032721.csv\"\n",
    "compiledcountydata = pd.read_csv(compiledcountydata_dir)\n",
    "compiledcountydata"
   ],
   "metadata": {
    "collapsed": false,
    "pycharm": {
     "name": "#%%\n"
    }
   }
  },
  {
   "cell_type": "code",
   "execution_count": 3,
   "outputs": [],
   "source": [
    "# Fill NaN values for all facility-related data points with 0, which is an equivalent value in this case\n",
    "fillfacilitiesdata = {'Casesinfacility':0,'FacilitiesinCounty':0,'Percent Cases in Facilities':0,'Cases per number of Facilities':0}\n",
    "compiledcountydata.fillna(fillfacilitiesdata, inplace=True)"
   ],
   "metadata": {
    "collapsed": false,
    "pycharm": {
     "name": "#%%\n"
    }
   }
  },
  {
   "cell_type": "code",
   "execution_count": 4,
   "outputs": [],
   "source": [
    "# Drops all na's in dataset\n",
    "compiledcountydata.dropna(inplace=True)"
   ],
   "metadata": {
    "collapsed": false,
    "pycharm": {
     "name": "#%%\n"
    }
   }
  },
  {
   "cell_type": "code",
   "execution_count": 5,
   "outputs": [
    {
     "name": "stdout",
     "output_type": "stream",
     "text": [
      "<class 'pandas.core.frame.DataFrame'>\n",
      "Int64Index: 87 entries, 0 to 86\n",
      "Data columns (total 13 columns):\n",
      " #   Column                            Non-Null Count  Dtype  \n",
      "---  ------                            --------------  -----  \n",
      " 0   Unnamed: 0                        87 non-null     int64  \n",
      " 1   County                            87 non-null     object \n",
      " 2   Total Positive Cases              87 non-null     int64  \n",
      " 3   Total Deaths                      87 non-null     int64  \n",
      " 4   Population                        87 non-null     float64\n",
      " 5   Rate of Infection                 87 non-null     float64\n",
      " 6   Pop Density                       87 non-null     float64\n",
      " 7   Mean Household Size               87 non-null     float64\n",
      " 8   Congregate Living Population      87 non-null     float64\n",
      " 9   No. of Cases in Nursing Homes     87 non-null     float64\n",
      " 10  No. of Nursing Homes in County    87 non-null     float64\n",
      " 11  Nursing Home Cases, % of Total    87 non-null     float64\n",
      " 12  Cases per number of Nursing Home  87 non-null     float64\n",
      "dtypes: float64(9), int64(3), object(1)\n",
      "memory usage: 9.5+ KB\n"
     ]
    }
   ],
   "source": [
    "# Shows data info\n",
    "compiledcountydata.info()"
   ],
   "metadata": {
    "collapsed": false,
    "pycharm": {
     "name": "#%%\n"
    }
   }
  },
  {
   "cell_type": "code",
   "execution_count": 6,
   "outputs": [],
   "source": [
    "# Assign columns of interest and target value\n",
    "# Columns were chosen based on a Mixed Stepwise Regression and removing multicollinearity utilizing JMP program\n",
    "# Realized after could have used many other columns with ElasticNet to remove multicollinearity\n",
    "columns = [\"Total Positive Cases\",\"Pop Density\",\"Mean Household Size\", \"Cases per number of Nursing Home\"]\n",
    "target = \"Total Deaths\"\n",
    "\n",
    "X = compiledcountydata[columns]\n",
    "y = compiledcountydata[target]"
   ],
   "metadata": {
    "collapsed": false,
    "pycharm": {
     "name": "#%%\n"
    }
   }
  },
  {
   "cell_type": "code",
   "execution_count": 7,
   "outputs": [],
   "source": [
    "# Sets the training data size\n",
    "X_train, X_test, y_train, y_test = train_test_split(X, y, test_size=0.25, random_state=1)"
   ],
   "metadata": {
    "collapsed": false,
    "pycharm": {
     "name": "#%%\n"
    }
   }
  },
  {
   "cell_type": "markdown",
   "source": [
    "## Linear Regression:"
   ],
   "metadata": {
    "collapsed": false,
    "pycharm": {
     "name": "#%% md\n"
    }
   }
  },
  {
   "cell_type": "code",
   "execution_count": 8,
   "outputs": [
    {
     "data": {
      "text/plain": "LinearRegression()"
     },
     "execution_count": 8,
     "metadata": {},
     "output_type": "execute_result"
    }
   ],
   "source": [
    "# Assign a variable to call linear regression function\n",
    "lr = LinearRegression()\n",
    "lr"
   ],
   "metadata": {
    "collapsed": false,
    "pycharm": {
     "name": "#%%\n"
    }
   }
  },
  {
   "cell_type": "code",
   "execution_count": 9,
   "outputs": [
    {
     "data": {
      "text/plain": "LinearRegression()"
     },
     "execution_count": 9,
     "metadata": {},
     "output_type": "execute_result"
    }
   ],
   "source": [
    "lr.fit(X_train, y_train)"
   ],
   "metadata": {
    "collapsed": false,
    "pycharm": {
     "name": "#%%\n"
    }
   }
  },
  {
   "cell_type": "code",
   "execution_count": 10,
   "outputs": [
    {
     "data": {
      "text/plain": "0.9829908601133843"
     },
     "execution_count": 10,
     "metadata": {},
     "output_type": "execute_result"
    }
   ],
   "source": [
    "# Our score/accuracy with the training data set\n",
    "lr.score(X_train, y_train)"
   ],
   "metadata": {
    "collapsed": false,
    "pycharm": {
     "name": "#%%\n"
    }
   }
  },
  {
   "cell_type": "code",
   "execution_count": 11,
   "outputs": [
    {
     "data": {
      "text/plain": "0.9070233496038029"
     },
     "execution_count": 11,
     "metadata": {},
     "output_type": "execute_result"
    }
   ],
   "source": [
    "# Our score/accuracy with the test data set\n",
    "lr.score(X_test, y_test)"
   ],
   "metadata": {
    "collapsed": false,
    "pycharm": {
     "name": "#%%\n"
    }
   }
  },
  {
   "cell_type": "code",
   "execution_count": 12,
   "outputs": [
    {
     "data": {
      "text/plain": "array([ 11.76418742,  37.85043807,  21.49377056,  13.64277374,\n        34.54330919,   1.23549743,  21.59816118,  75.62594962,\n        16.22900013,  21.73843013,  13.15036427,   1.00734225,\n        28.57268812,  18.22305586,  17.94151402,  22.53898578,\n        37.48436266,  22.05944122, 144.2603184 ,  39.77497003,\n       -18.68274227, 309.47434389])"
     },
     "execution_count": 12,
     "metadata": {},
     "output_type": "execute_result"
    }
   ],
   "source": [
    "# Predictions\n",
    "lr.predict(X_test)"
   ],
   "metadata": {
    "collapsed": false,
    "pycharm": {
     "name": "#%%\n"
    }
   }
  },
  {
   "cell_type": "code",
   "execution_count": 13,
   "outputs": [
    {
     "name": "stdout",
     "output_type": "stream",
     "text": [
      "My R-squared value is 0.9070233496038029\n",
      "My slope coefficients are [ 1.35597074e-02  7.48037149e-02 -1.13697593e+02  3.84939866e-01]\n",
      "My intercept is 251.36078958681998\n"
     ]
    }
   ],
   "source": [
    "# Prints the R2 and equation\n",
    "print(f'My R-squared value is {lr.score(X_test, y_test)}')\n",
    "print(f'My slope coefficients are {lr.coef_}')\n",
    "print(f'My intercept is {lr.intercept_}')"
   ],
   "metadata": {
    "collapsed": false,
    "pycharm": {
     "name": "#%%\n"
    }
   }
  },
  {
   "cell_type": "code",
   "execution_count": 14,
   "outputs": [
    {
     "data": {
      "text/plain": "array([ 11.76418742,  37.85043807,  21.49377056,  13.64277374,\n        34.54330919,   1.23549743,  21.59816118,  75.62594962,\n        16.22900013,  21.73843013,  13.15036427,   1.00734225,\n        28.57268812,  18.22305586,  17.94151402,  22.53898578,\n        37.48436266,  22.05944122, 144.2603184 ,  39.77497003,\n       -18.68274227, 309.47434389])"
     },
     "execution_count": 14,
     "metadata": {},
     "output_type": "execute_result"
    }
   ],
   "source": [
    "# Plotting predictions of test values for reference\n",
    "lr.predict(X_test)"
   ],
   "metadata": {
    "collapsed": false,
    "pycharm": {
     "name": "#%%\n"
    }
   }
  },
  {
   "cell_type": "code",
   "execution_count": 15,
   "outputs": [],
   "source": [
    "# Creates function to print prediction metrics\n",
    "def printMetrics(test, predictions):\n",
    "    print(f\"Score: {explained_variance_score(test, predictions):.2f}\")\n",
    "    print(f\"MAE: {mean_absolute_error(test, predictions):.2f}\")\n",
    "    print(f\"RMSE: {math.sqrt(mean_squared_error(test, predictions)):.2f}\")\n",
    "    print(f\"r2: {r2_score(test, predictions):.2f}\")"
   ],
   "metadata": {
    "collapsed": false,
    "pycharm": {
     "name": "#%%\n"
    }
   }
  },
  {
   "cell_type": "code",
   "execution_count": 16,
   "outputs": [
    {
     "name": "stdout",
     "output_type": "stream",
     "text": [
      "Score: 0.91\n",
      "MAE: 11.67\n",
      "RMSE: 16.57\n",
      "r2: 0.91\n"
     ]
    }
   ],
   "source": [
    "# Call function to print predictions from lr\n",
    "predictions = lr.predict(X_test)\n",
    "printMetrics(y_test, predictions)"
   ],
   "metadata": {
    "collapsed": false,
    "pycharm": {
     "name": "#%%\n"
    }
   }
  },
  {
   "cell_type": "markdown",
   "source": [
    "## Ridge:"
   ],
   "metadata": {
    "collapsed": false,
    "pycharm": {
     "name": "#%% md\n"
    }
   }
  },
  {
   "cell_type": "code",
   "execution_count": 17,
   "outputs": [
    {
     "data": {
      "text/plain": "Ridge(solver='svd')"
     },
     "execution_count": 17,
     "metadata": {},
     "output_type": "execute_result"
    }
   ],
   "source": [
    "rr = Ridge(solver=\"svd\")\n",
    "rr"
   ],
   "metadata": {
    "collapsed": false,
    "pycharm": {
     "name": "#%%\n"
    }
   }
  },
  {
   "cell_type": "code",
   "execution_count": 18,
   "outputs": [
    {
     "data": {
      "text/plain": "Ridge(solver='svd')"
     },
     "execution_count": 18,
     "metadata": {},
     "output_type": "execute_result"
    }
   ],
   "source": [
    "rr.fit(X_train, y_train)"
   ],
   "metadata": {
    "collapsed": false,
    "pycharm": {
     "name": "#%%\n"
    }
   }
  },
  {
   "cell_type": "code",
   "execution_count": 19,
   "outputs": [
    {
     "data": {
      "text/plain": "0.9820390971946129"
     },
     "execution_count": 19,
     "metadata": {},
     "output_type": "execute_result"
    }
   ],
   "source": [
    "rr.score(X_train, y_train)"
   ],
   "metadata": {
    "collapsed": false,
    "pycharm": {
     "name": "#%%\n"
    }
   }
  },
  {
   "cell_type": "code",
   "execution_count": 20,
   "outputs": [
    {
     "data": {
      "text/plain": "0.8732241650265123"
     },
     "execution_count": 20,
     "metadata": {},
     "output_type": "execute_result"
    }
   ],
   "source": [
    "rr.score(X_test, y_test)"
   ],
   "metadata": {
    "collapsed": false,
    "pycharm": {
     "name": "#%%\n"
    }
   }
  },
  {
   "cell_type": "code",
   "execution_count": 21,
   "outputs": [
    {
     "name": "stdout",
     "output_type": "stream",
     "text": [
      "Score: 0.88\n",
      "MAE: 11.27\n",
      "RMSE: 19.35\n",
      "r2: 0.87\n"
     ]
    }
   ],
   "source": [
    "# Call pre-defined function to print predictions from rr\n",
    "\n",
    "predictions = rr.predict(X_test)\n",
    "printMetrics(y_test, predictions)"
   ],
   "metadata": {
    "collapsed": false,
    "pycharm": {
     "name": "#%%\n"
    }
   }
  },
  {
   "cell_type": "markdown",
   "source": [
    "## ElasticNet:"
   ],
   "metadata": {
    "collapsed": false,
    "pycharm": {
     "name": "#%% md\n"
    }
   }
  },
  {
   "cell_type": "code",
   "execution_count": 22,
   "outputs": [
    {
     "name": "stdout",
     "output_type": "stream",
     "text": [
      "Alpha:0.0001, R2:0.98, MAE:17.49, RMSE:4.18\n",
      "Alpha:0.0010, R2:0.98, MAE:17.42, RMSE:4.17\n",
      "Alpha:0.0100, R2:0.98, MAE:16.98, RMSE:4.12\n",
      "Alpha:0.1000, R2:0.98, MAE:17.43, RMSE:4.17\n",
      "Alpha:0.3000, R2:0.97, MAE:18.83, RMSE:4.34\n",
      "Alpha:0.5000, R2:0.97, MAE:19.34, RMSE:4.40\n",
      "Alpha:0.7000, R2:0.97, MAE:19.59, RMSE:4.43\n",
      "Alpha:1.0000, R2:0.97, MAE:19.78, RMSE:4.45\n"
     ]
    }
   ],
   "source": [
    "# Define common Alpha values\n",
    "alphas = [0.0001, 0.001, 0.01, 0.1, 0.3, 0.5, 0.7, 1]\n",
    "\n",
    "# Get values for each Alpha\n",
    "for a in alphas:\n",
    "    model = ElasticNet(alpha=a).fit(X,y)\n",
    "    score = model.score(X, y)\n",
    "    pred_y = model.predict(X)\n",
    "    mae = mean_absolute_error(y, pred_y)\n",
    "    print(\"Alpha:{0:.4f}, R2:{1:.2f}, MAE:{2:.2f}, RMSE:{3:.2f}\"\n",
    "       .format(a, score, mae, np.sqrt(mae)))\n",
    "# Choose Alpha value based on best output: (0.01)\n",
    "# Highest R2, lowest MSE and"
   ],
   "metadata": {
    "collapsed": false,
    "pycharm": {
     "name": "#%%\n"
    }
   }
  },
  {
   "cell_type": "code",
   "execution_count": 23,
   "outputs": [],
   "source": [
    "# Defines our ElasticNet variable\n",
    "en = ElasticNet(alpha=0.01).fit(X_train, y_train)"
   ],
   "metadata": {
    "collapsed": false,
    "pycharm": {
     "name": "#%%\n"
    }
   }
  },
  {
   "cell_type": "code",
   "execution_count": 24,
   "outputs": [
    {
     "name": "stdout",
     "output_type": "stream",
     "text": [
      "Score: 0.90\n",
      "MAE: 11.49\n",
      "RMSE: 17.38\n",
      "r2: 0.90\n"
     ]
    }
   ],
   "source": [
    "# Call pre-defined function to print predictions from en\n",
    "predictions = en.predict(X_test)\n",
    "printMetrics(y_test, predictions)"
   ],
   "metadata": {
    "collapsed": false,
    "pycharm": {
     "name": "#%%\n"
    }
   }
  },
  {
   "cell_type": "markdown",
   "source": [
    "# Summary of Models:"
   ],
   "metadata": {
    "collapsed": false,
    "pycharm": {
     "name": "#%% md\n"
    }
   }
  },
  {
   "cell_type": "markdown",
   "source": [
    "## LR Equation:"
   ],
   "metadata": {
    "collapsed": false,
    "pycharm": {
     "name": "#%% md\n"
    }
   }
  },
  {
   "cell_type": "code",
   "execution_count": 25,
   "outputs": [
    {
     "name": "stdout",
     "output_type": "stream",
     "text": [
      "My R-squared value is 0.9070233496038029\n",
      "My slope coefficients are [ 1.35597074e-02  7.48037149e-02 -1.13697593e+02  3.84939866e-01]\n",
      "My intercept is 251.36078958681998\n"
     ]
    }
   ],
   "source": [
    "print(f'My R-squared value is {lr.score(X_test, y_test)}')\n",
    "print(f'My slope coefficients are {lr.coef_}')\n",
    "print(f'My intercept is {lr.intercept_}')"
   ],
   "metadata": {
    "collapsed": false,
    "pycharm": {
     "name": "#%%\n"
    }
   }
  },
  {
   "cell_type": "markdown",
   "source": [
    "## LR Prediction:"
   ],
   "metadata": {
    "collapsed": false,
    "pycharm": {
     "name": "#%% md\n"
    }
   }
  },
  {
   "cell_type": "code",
   "execution_count": 26,
   "outputs": [
    {
     "name": "stdout",
     "output_type": "stream",
     "text": [
      "Score: 0.91\n",
      "MAE: 11.67\n",
      "RMSE: 16.57\n",
      "r2: 0.91\n"
     ]
    }
   ],
   "source": [
    "predictions = lr.predict(X_test)\n",
    "printMetrics(y_test, predictions)"
   ],
   "metadata": {
    "collapsed": false,
    "pycharm": {
     "name": "#%%\n"
    }
   }
  },
  {
   "cell_type": "markdown",
   "source": [
    "## Ridge Prediction:"
   ],
   "metadata": {
    "collapsed": false,
    "pycharm": {
     "name": "#%% md\n"
    }
   }
  },
  {
   "cell_type": "code",
   "execution_count": 27,
   "outputs": [
    {
     "name": "stdout",
     "output_type": "stream",
     "text": [
      "Score: 0.88\n",
      "MAE: 11.27\n",
      "RMSE: 19.35\n",
      "r2: 0.87\n"
     ]
    }
   ],
   "source": [
    "predictions = rr.predict(X_test)\n",
    "printMetrics(y_test, predictions)"
   ],
   "metadata": {
    "collapsed": false,
    "pycharm": {
     "name": "#%%\n"
    }
   }
  },
  {
   "cell_type": "markdown",
   "source": [
    "## ElasticNet Prediction:"
   ],
   "metadata": {
    "collapsed": false,
    "pycharm": {
     "name": "#%% md\n"
    }
   }
  },
  {
   "cell_type": "code",
   "execution_count": 28,
   "outputs": [
    {
     "name": "stdout",
     "output_type": "stream",
     "text": [
      "Score: 0.90\n",
      "MAE: 11.49\n",
      "RMSE: 17.38\n",
      "r2: 0.90\n"
     ]
    }
   ],
   "source": [
    "predictions = en.predict(X_test)\n",
    "printMetrics(y_test, predictions)"
   ],
   "metadata": {
    "collapsed": false,
    "pycharm": {
     "name": "#%%\n"
    }
   }
  },
  {
   "cell_type": "markdown",
   "source": [
    "## Analysis:\n",
    "Based on the above predictive values, our Linear Regression model produces the best results\n",
    "based on the Score, R2, RMSE, and MAE. The second best model would be ElasticNet,\n",
    "followed by Ridge."
   ],
   "metadata": {
    "collapsed": false,
    "pycharm": {
     "name": "#%% md\n"
    }
   }
  }
 ],
 "metadata": {
  "kernelspec": {
   "display_name": "Python 3",
   "language": "python",
   "name": "python3"
  },
  "language_info": {
   "codemirror_mode": {
    "name": "ipython",
    "version": 2
   },
   "file_extension": ".py",
   "mimetype": "text/x-python",
   "name": "python",
   "nbconvert_exporter": "python",
   "pygments_lexer": "ipython2",
   "version": "2.7.6"
  }
 },
 "nbformat": 4,
 "nbformat_minor": 0
}