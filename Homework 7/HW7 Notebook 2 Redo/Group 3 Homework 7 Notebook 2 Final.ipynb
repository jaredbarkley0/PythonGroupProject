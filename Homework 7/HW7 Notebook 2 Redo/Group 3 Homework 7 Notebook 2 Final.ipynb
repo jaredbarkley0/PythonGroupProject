{
 "cells": [
  {
   "cell_type": "markdown",
   "metadata": {},
   "source": [
    "# BAIS 6040 Data Programming in Python\n",
    "\n",
    "## Spring 2021\n",
    "\n",
    "## Week 9, Homework 7\n",
    "\n",
    "## Notebook 2 - Results of Machine Learning Analysis\n",
    "\n",
    "## Group 3: Jared Barkley, Tyler Zaruba, Netaji Boggarapu, Michael Noonan"
   ]
  },
  {
   "cell_type": "code",
   "execution_count": 1,
   "metadata": {},
   "outputs": [],
   "source": [
    "# Import libraries\n",
    "\n",
    "import pandas as pd\n",
    "import numpy as np\n",
    "import matplotlib.pyplot as plt\n",
    "import seaborn as sns\n",
    "import math\n",
    "from sklearn.model_selection import train_test_split\n",
    "from sklearn.metrics import explained_variance_score, mean_absolute_error, r2_score, mean_squared_error\n",
    "from sklearn.linear_model import Ridge\n",
    "from sklearn.linear_model import LinearRegression\n",
    "from sklearn.linear_model import Lasso\n",
    "from sklearn.linear_model import ElasticNet"
   ]
  },
  {
   "cell_type": "code",
   "execution_count": 2,
   "metadata": {},
   "outputs": [
    {
     "data": {
      "text/plain": "    Unnamed: 0           County  Total Positive Cases  Total Deaths  \\\n0            0           Aitkin                  1191            33   \n1            1            Anoka                 33391           390   \n2            2           Becker                  3131            42   \n3            3         Beltrami                  3386            51   \n4            4           Benton                  4482            90   \n..         ...              ...                   ...           ...   \n82          82         Watonwan                  1176             8   \n83          83           Wilkin                   677            11   \n84          84           Winona                  4193            49   \n85          85           Wright                 12554           116   \n86          86  Yellow Medicine                   977            17   \n\n    Population  Rate of Infection  Death Rate  Pop Density  \\\n0      15870.0           0.075047   36.090909          8.0   \n1     362648.0           0.092076   85.617949        753.9   \n2      34545.0           0.090635   74.547619         22.8   \n3      47184.0           0.071762   66.392157         14.8   \n4      40895.0           0.109598   49.800000         94.4   \n..         ...                ...         ...          ...   \n82     10923.0           0.107663  147.000000         25.4   \n83      6226.0           0.108738   61.545455          8.7   \n84     50830.0           0.082491   85.571429         79.9   \n85    138531.0           0.090622  108.224138        178.3   \n86      9729.0           0.100421   57.470588         13.4   \n\n    Mean Household Size  Congregate Living Population  \\\n0              2.097233                         254.0   \n1              2.712716                        3753.0   \n2              2.393929                         477.0   \n3              2.487013                        1990.0   \n4              2.426614                        1050.0   \n..                  ...                           ...   \n82             2.397507                         151.0   \n83             2.238850                         152.0   \n84             2.352632                        3855.0   \n85             2.796739                        1158.0   \n86             2.282535                         293.0   \n\n    No. of Cases in Nursing Homes  No. of Nursing Homes in County  \\\n0                           118.0                             4.0   \n1                          1675.0                            35.0   \n2                           294.0                             8.0   \n3                           264.0                            11.0   \n4                           557.0                            11.0   \n..                            ...                             ...   \n82                           36.0                             3.0   \n83                           36.0                             2.0   \n84                          277.0                             9.0   \n85                          687.0                            20.0   \n86                           79.0                             3.0   \n\n    Nursing Home Cases, % of Total  Cases per number of Nursing Homes  \n0                         0.099076                          29.500000  \n1                         0.050163                          47.857143  \n2                         0.093900                          36.750000  \n3                         0.077968                          24.000000  \n4                         0.124275                          50.636364  \n..                             ...                                ...  \n82                        0.030612                          12.000000  \n83                        0.053176                          18.000000  \n84                        0.066062                          30.777778  \n85                        0.054724                          34.350000  \n86                        0.080860                          26.333333  \n\n[87 rows x 14 columns]",
      "text/html": "<div>\n<style scoped>\n    .dataframe tbody tr th:only-of-type {\n        vertical-align: middle;\n    }\n\n    .dataframe tbody tr th {\n        vertical-align: top;\n    }\n\n    .dataframe thead th {\n        text-align: right;\n    }\n</style>\n<table border=\"1\" class=\"dataframe\">\n  <thead>\n    <tr style=\"text-align: right;\">\n      <th></th>\n      <th>Unnamed: 0</th>\n      <th>County</th>\n      <th>Total Positive Cases</th>\n      <th>Total Deaths</th>\n      <th>Population</th>\n      <th>Rate of Infection</th>\n      <th>Death Rate</th>\n      <th>Pop Density</th>\n      <th>Mean Household Size</th>\n      <th>Congregate Living Population</th>\n      <th>No. of Cases in Nursing Homes</th>\n      <th>No. of Nursing Homes in County</th>\n      <th>Nursing Home Cases, % of Total</th>\n      <th>Cases per number of Nursing Homes</th>\n    </tr>\n  </thead>\n  <tbody>\n    <tr>\n      <th>0</th>\n      <td>0</td>\n      <td>Aitkin</td>\n      <td>1191</td>\n      <td>33</td>\n      <td>15870.0</td>\n      <td>0.075047</td>\n      <td>36.090909</td>\n      <td>8.0</td>\n      <td>2.097233</td>\n      <td>254.0</td>\n      <td>118.0</td>\n      <td>4.0</td>\n      <td>0.099076</td>\n      <td>29.500000</td>\n    </tr>\n    <tr>\n      <th>1</th>\n      <td>1</td>\n      <td>Anoka</td>\n      <td>33391</td>\n      <td>390</td>\n      <td>362648.0</td>\n      <td>0.092076</td>\n      <td>85.617949</td>\n      <td>753.9</td>\n      <td>2.712716</td>\n      <td>3753.0</td>\n      <td>1675.0</td>\n      <td>35.0</td>\n      <td>0.050163</td>\n      <td>47.857143</td>\n    </tr>\n    <tr>\n      <th>2</th>\n      <td>2</td>\n      <td>Becker</td>\n      <td>3131</td>\n      <td>42</td>\n      <td>34545.0</td>\n      <td>0.090635</td>\n      <td>74.547619</td>\n      <td>22.8</td>\n      <td>2.393929</td>\n      <td>477.0</td>\n      <td>294.0</td>\n      <td>8.0</td>\n      <td>0.093900</td>\n      <td>36.750000</td>\n    </tr>\n    <tr>\n      <th>3</th>\n      <td>3</td>\n      <td>Beltrami</td>\n      <td>3386</td>\n      <td>51</td>\n      <td>47184.0</td>\n      <td>0.071762</td>\n      <td>66.392157</td>\n      <td>14.8</td>\n      <td>2.487013</td>\n      <td>1990.0</td>\n      <td>264.0</td>\n      <td>11.0</td>\n      <td>0.077968</td>\n      <td>24.000000</td>\n    </tr>\n    <tr>\n      <th>4</th>\n      <td>4</td>\n      <td>Benton</td>\n      <td>4482</td>\n      <td>90</td>\n      <td>40895.0</td>\n      <td>0.109598</td>\n      <td>49.800000</td>\n      <td>94.4</td>\n      <td>2.426614</td>\n      <td>1050.0</td>\n      <td>557.0</td>\n      <td>11.0</td>\n      <td>0.124275</td>\n      <td>50.636364</td>\n    </tr>\n    <tr>\n      <th>...</th>\n      <td>...</td>\n      <td>...</td>\n      <td>...</td>\n      <td>...</td>\n      <td>...</td>\n      <td>...</td>\n      <td>...</td>\n      <td>...</td>\n      <td>...</td>\n      <td>...</td>\n      <td>...</td>\n      <td>...</td>\n      <td>...</td>\n      <td>...</td>\n    </tr>\n    <tr>\n      <th>82</th>\n      <td>82</td>\n      <td>Watonwan</td>\n      <td>1176</td>\n      <td>8</td>\n      <td>10923.0</td>\n      <td>0.107663</td>\n      <td>147.000000</td>\n      <td>25.4</td>\n      <td>2.397507</td>\n      <td>151.0</td>\n      <td>36.0</td>\n      <td>3.0</td>\n      <td>0.030612</td>\n      <td>12.000000</td>\n    </tr>\n    <tr>\n      <th>83</th>\n      <td>83</td>\n      <td>Wilkin</td>\n      <td>677</td>\n      <td>11</td>\n      <td>6226.0</td>\n      <td>0.108738</td>\n      <td>61.545455</td>\n      <td>8.7</td>\n      <td>2.238850</td>\n      <td>152.0</td>\n      <td>36.0</td>\n      <td>2.0</td>\n      <td>0.053176</td>\n      <td>18.000000</td>\n    </tr>\n    <tr>\n      <th>84</th>\n      <td>84</td>\n      <td>Winona</td>\n      <td>4193</td>\n      <td>49</td>\n      <td>50830.0</td>\n      <td>0.082491</td>\n      <td>85.571429</td>\n      <td>79.9</td>\n      <td>2.352632</td>\n      <td>3855.0</td>\n      <td>277.0</td>\n      <td>9.0</td>\n      <td>0.066062</td>\n      <td>30.777778</td>\n    </tr>\n    <tr>\n      <th>85</th>\n      <td>85</td>\n      <td>Wright</td>\n      <td>12554</td>\n      <td>116</td>\n      <td>138531.0</td>\n      <td>0.090622</td>\n      <td>108.224138</td>\n      <td>178.3</td>\n      <td>2.796739</td>\n      <td>1158.0</td>\n      <td>687.0</td>\n      <td>20.0</td>\n      <td>0.054724</td>\n      <td>34.350000</td>\n    </tr>\n    <tr>\n      <th>86</th>\n      <td>86</td>\n      <td>Yellow Medicine</td>\n      <td>977</td>\n      <td>17</td>\n      <td>9729.0</td>\n      <td>0.100421</td>\n      <td>57.470588</td>\n      <td>13.4</td>\n      <td>2.282535</td>\n      <td>293.0</td>\n      <td>79.0</td>\n      <td>3.0</td>\n      <td>0.080860</td>\n      <td>26.333333</td>\n    </tr>\n  </tbody>\n</table>\n<p>87 rows × 14 columns</p>\n</div>"
     },
     "execution_count": 2,
     "metadata": {},
     "output_type": "execute_result"
    }
   ],
   "source": [
    "# Import project data\n",
    "\n",
    "compiledcountydata_dir = \"https://raw.githubusercontent.com/jaredbarkley0/PythonGroupProject/master/MN%20County%20Data_032721.csv\"\n",
    "compiledcountydata = pd.read_csv(compiledcountydata_dir)\n",
    "compiledcountydata"
   ]
  },
  {
   "cell_type": "code",
   "execution_count": 3,
   "metadata": {},
   "outputs": [
    {
     "name": "stdout",
     "output_type": "stream",
     "text": [
      "<class 'pandas.core.frame.DataFrame'>\n",
      "RangeIndex: 87 entries, 0 to 86\n",
      "Data columns (total 14 columns):\n",
      " #   Column                             Non-Null Count  Dtype  \n",
      "---  ------                             --------------  -----  \n",
      " 0   Unnamed: 0                         87 non-null     int64  \n",
      " 1   County                             87 non-null     object \n",
      " 2   Total Positive Cases               87 non-null     int64  \n",
      " 3   Total Deaths                       87 non-null     int64  \n",
      " 4   Population                         87 non-null     float64\n",
      " 5   Rate of Infection                  87 non-null     float64\n",
      " 6   Death Rate                         87 non-null     float64\n",
      " 7   Pop Density                        87 non-null     float64\n",
      " 8   Mean Household Size                87 non-null     float64\n",
      " 9   Congregate Living Population       87 non-null     float64\n",
      " 10  No. of Cases in Nursing Homes      87 non-null     float64\n",
      " 11  No. of Nursing Homes in County     87 non-null     float64\n",
      " 12  Nursing Home Cases, % of Total     87 non-null     float64\n",
      " 13  Cases per number of Nursing Homes  87 non-null     float64\n",
      "dtypes: float64(10), int64(3), object(1)\n",
      "memory usage: 9.6+ KB\n"
     ]
    }
   ],
   "source": [
    "# Check dataframe summary info\n",
    "\n",
    "compiledcountydata.info()"
   ]
  },
  {
   "cell_type": "markdown",
   "metadata": {},
   "source": [
    "## Question 1 - What algorithm, of the ones attempted, appear to provide the best results, and why?"
   ]
  },
  {
   "cell_type": "markdown",
   "source": [
    "To find which algorithm performs best for our data set we first need to create a standard basis on which to compare models. We cover our process of this more in the second question below. For now, we chose one Target variable \"Total Deaths\" and three explaining variables: \"Pop Density\",\"Mean Household Size\", \"Nursing Home Cases, % of Total\". This will serve as our basis for analyzing our Linear Regression, Ridge, ElasticNet, and Lasso models."
   ],
   "metadata": {
    "collapsed": false,
    "pycharm": {
     "name": "#%% md\n"
    }
   }
  },
  {
   "cell_type": "code",
   "execution_count": 4,
   "outputs": [],
   "source": [
    "# This should showcase the summary of all models\n",
    "\n",
    "# Assign columns of interest and target value\n",
    "columns = [\"Pop Density\",\"Mean Household Size\", \"Nursing Home Cases, % of Total\"]\n",
    "target = \"Total Deaths\"\n",
    "\n",
    "X = compiledcountydata[columns]\n",
    "y = compiledcountydata[target]"
   ],
   "metadata": {
    "collapsed": false,
    "pycharm": {
     "name": "#%%\n"
    }
   }
  },
  {
   "cell_type": "code",
   "execution_count": 5,
   "outputs": [],
   "source": [
    "# Sets the training data size\n",
    "X_train, X_test, y_train, y_test = train_test_split(X, y, test_size=0.25, random_state=1)"
   ],
   "metadata": {
    "collapsed": false,
    "pycharm": {
     "name": "#%%\n"
    }
   }
  },
  {
   "cell_type": "code",
   "execution_count": 6,
   "outputs": [],
   "source": [
    "# Creates function to print prediction metrics\n",
    "def printMetrics(test, predictions):\n",
    "    print(f\"Score: {explained_variance_score(test, predictions):.2f}\")\n",
    "    print(f\"MAE: {mean_absolute_error(test, predictions):.2f}\")\n",
    "    print(f\"RMSE: {math.sqrt(mean_squared_error(test, predictions)):.2f}\")\n",
    "    print(f\"r2: {r2_score(test, predictions):.2f}\")"
   ],
   "metadata": {
    "collapsed": false,
    "pycharm": {
     "name": "#%%\n"
    }
   }
  },
  {
   "cell_type": "markdown",
   "source": [
    "## Linear Regression:"
   ],
   "metadata": {
    "collapsed": false
   }
  },
  {
   "cell_type": "code",
   "execution_count": 7,
   "outputs": [
    {
     "data": {
      "text/plain": "LinearRegression()"
     },
     "execution_count": 7,
     "metadata": {},
     "output_type": "execute_result"
    }
   ],
   "source": [
    "# Assign a variable to call linear regression function\n",
    "lr = LinearRegression()\n",
    "lr"
   ],
   "metadata": {
    "collapsed": false,
    "pycharm": {
     "name": "#%%\n"
    }
   }
  },
  {
   "cell_type": "code",
   "execution_count": 8,
   "outputs": [
    {
     "data": {
      "text/plain": "LinearRegression()"
     },
     "execution_count": 8,
     "metadata": {},
     "output_type": "execute_result"
    }
   ],
   "source": [
    "lr.fit(X_train, y_train)"
   ],
   "metadata": {
    "collapsed": false,
    "pycharm": {
     "name": "#%%\n"
    }
   }
  },
  {
   "cell_type": "markdown",
   "source": [
    "## Ridge:"
   ],
   "metadata": {
    "collapsed": false
   }
  },
  {
   "cell_type": "code",
   "execution_count": 9,
   "outputs": [
    {
     "data": {
      "text/plain": "Ridge(solver='svd')"
     },
     "execution_count": 9,
     "metadata": {},
     "output_type": "execute_result"
    }
   ],
   "source": [
    "rr = Ridge(solver=\"svd\")\n",
    "rr"
   ],
   "metadata": {
    "collapsed": false,
    "pycharm": {
     "name": "#%%\n"
    }
   }
  },
  {
   "cell_type": "code",
   "execution_count": 10,
   "outputs": [
    {
     "data": {
      "text/plain": "Ridge(solver='svd')"
     },
     "execution_count": 10,
     "metadata": {},
     "output_type": "execute_result"
    }
   ],
   "source": [
    "rr.fit(X_train, y_train)"
   ],
   "metadata": {
    "collapsed": false,
    "pycharm": {
     "name": "#%%\n"
    }
   }
  },
  {
   "cell_type": "markdown",
   "source": [
    "## ElasticNet:"
   ],
   "metadata": {
    "collapsed": false
   }
  },
  {
   "cell_type": "code",
   "execution_count": 11,
   "outputs": [],
   "source": [
    "# Defines our ElasticNet variable\n",
    "en = ElasticNet(alpha=0.1).fit(X_train, y_train)"
   ],
   "metadata": {
    "collapsed": false,
    "pycharm": {
     "name": "#%%\n"
    }
   }
  },
  {
   "cell_type": "markdown",
   "source": [
    "## Lasso"
   ],
   "metadata": {
    "collapsed": false,
    "pycharm": {
     "name": "#%% md\n"
    }
   }
  },
  {
   "cell_type": "code",
   "execution_count": 12,
   "outputs": [],
   "source": [
    "# Assign a variable to call linear regression function\n",
    "ls = Lasso(alpha=0.1).fit(X_train, y_train)"
   ],
   "metadata": {
    "collapsed": false,
    "pycharm": {
     "name": "#%%\n"
    }
   }
  },
  {
   "cell_type": "markdown",
   "source": [
    "# Model Summary\n",
    "Below is a concise summary of all the models statistics:"
   ],
   "metadata": {
    "collapsed": false,
    "pycharm": {
     "name": "#%% md\n"
    }
   }
  },
  {
   "cell_type": "markdown",
   "source": [
    "## Linear Regression"
   ],
   "metadata": {
    "collapsed": false,
    "pycharm": {
     "name": "#%% md\n"
    }
   }
  },
  {
   "cell_type": "code",
   "execution_count": 13,
   "outputs": [
    {
     "name": "stdout",
     "output_type": "stream",
     "text": [
      "Score: 0.93\n",
      "MAE: 22.60\n",
      "RMSE: 26.03\n",
      "r2: 0.77\n"
     ]
    }
   ],
   "source": [
    "# Call function to print predictions from lr\n",
    "\n",
    "predictions = lr.predict(X_test)\n",
    "printMetrics(y_test, predictions)"
   ],
   "metadata": {
    "collapsed": false,
    "pycharm": {
     "name": "#%%\n"
    }
   }
  },
  {
   "cell_type": "markdown",
   "source": [
    "## Ridge"
   ],
   "metadata": {
    "collapsed": false,
    "pycharm": {
     "name": "#%% md\n"
    }
   }
  },
  {
   "cell_type": "code",
   "execution_count": 14,
   "outputs": [
    {
     "name": "stdout",
     "output_type": "stream",
     "text": [
      "Score: 0.92\n",
      "MAE: 22.56\n",
      "RMSE: 26.38\n",
      "r2: 0.76\n"
     ]
    }
   ],
   "source": [
    "# Call pre-defined function to print predictions from rr\n",
    "\n",
    "predictions = rr.predict(X_test)\n",
    "printMetrics(y_test, predictions)"
   ],
   "metadata": {
    "collapsed": false,
    "pycharm": {
     "name": "#%%\n"
    }
   }
  },
  {
   "cell_type": "markdown",
   "source": [
    "## ElasticNet"
   ],
   "metadata": {
    "collapsed": false,
    "pycharm": {
     "name": "#%% md\n"
    }
   }
  },
  {
   "cell_type": "code",
   "execution_count": 15,
   "outputs": [
    {
     "name": "stdout",
     "output_type": "stream",
     "text": [
      "Score: 0.91\n",
      "MAE: 22.50\n",
      "RMSE: 26.77\n",
      "r2: 0.76\n"
     ]
    }
   ],
   "source": [
    "# Call pre-defined function to print predictions from en\n",
    "\n",
    "predictions = en.predict(X_test)\n",
    "printMetrics(y_test, predictions)"
   ],
   "metadata": {
    "collapsed": false,
    "pycharm": {
     "name": "#%%\n"
    }
   }
  },
  {
   "cell_type": "markdown",
   "source": [
    "## Lasso"
   ],
   "metadata": {
    "collapsed": false,
    "pycharm": {
     "name": "#%% md\n"
    }
   }
  },
  {
   "cell_type": "code",
   "execution_count": 16,
   "outputs": [
    {
     "name": "stdout",
     "output_type": "stream",
     "text": [
      "Score: 0.92\n",
      "MAE: 22.65\n",
      "RMSE: 26.23\n",
      "r2: 0.77\n"
     ]
    }
   ],
   "source": [
    "# Call function to print predictions from ls\n",
    "predictions = ls.predict(X_test)\n",
    "printMetrics(y_test, predictions)"
   ],
   "metadata": {
    "collapsed": false,
    "pycharm": {
     "name": "#%%\n"
    }
   }
  },
  {
   "cell_type": "markdown",
   "source": [
    "## Q1 Analysis:\n",
    "When looking at our model statistics, we will be focusing on the \"Score\", \"MAE\", \"RSME\", and \"r2\". These statistics represent \"The explained varience score\", \"Mean Absolute Error\", \"Mean Squared Error\", and the \"r2\". To find the best model, we are looking for the Highest Score and r2, as well as the lowest MAE and RMSE. Both Lasso and Linear Regression have the highest r2 at '.77'. We then look at Score and find Linear Regression is the highest at '.93'. Lastly we will look at the MAE and RSME to see if there are any striking differences. They are close in value. When looking at all of the statistics, there does not to appear to be a substantial difference in models. If we were to select one model we thought was best (for the data we are using in this example) we would recommend Linear Regression, as it has just a slight edge over the others."
   ],
   "metadata": {
    "collapsed": false,
    "pycharm": {
     "name": "#%% md\n"
    }
   }
  },
  {
   "cell_type": "markdown",
   "metadata": {},
   "source": [
    "## Question 2 - What features ended up being the most interesting/meaningful for your test?"
   ]
  },
  {
   "cell_type": "markdown",
   "metadata": {},
   "source": [
    "To begin analysis of the features of our data, we first created a correlation matrix in pandas an plotted it to a Seaborn heat map to give a quick visual of correlations within our data"
   ]
  },
  {
   "cell_type": "code",
   "execution_count": 17,
   "metadata": {},
   "outputs": [
    {
     "data": {
      "text/plain": "<AxesSubplot:>"
     },
     "execution_count": 17,
     "metadata": {},
     "output_type": "execute_result"
    },
    {
     "data": {
      "text/plain": "<Figure size 792x648 with 2 Axes>",
      "image/png": "[encoded data removed]"
     },
     "metadata": {
      "needs_background": "light"
     },
     "output_type": "display_data"
    }
   ],
   "source": [
    "# Create a correlation matrix as a heat map\n",
    "\n",
    "corr = compiledcountydata.corr()\n",
    "f, ax = plt.subplots(figsize=(11, 9))\n",
    "mask = np.triu(np.ones_like(corr, dtype=bool))\n",
    "cmap = sns.diverging_palette(220, 20, as_cmap=True)\n",
    "sns.heatmap(corr, mask=mask, annot=True, cmap=cmap, vmax=1, center=0,\n",
    "            square=True, linewidths=.5, cbar_kws={\"shrink\": .5})"
   ]
  },
  {
   "cell_type": "markdown",
   "metadata": {},
   "source": [
    "Analysis of the correlation matrix indicates we may have high multicollinearity between our variables.  Population, Total Positive Cases, Total Deaths and No. of Cases in Nursing Homes have an almost perfect relationship, suggesting that they are essentially measuring the same thing.  Categories which may be interesting to analyze are the Infection Rate, Death Rate, and total number of deaths.  Since Population, Total Deaths, Total Positive Cases and No. of Cases in Nursing Homes all have correlations greater than 98%. Feature analysis will include Total Deaths as a target of interest, but will not use the other highly correlated variables as explaining variables."
   ]
  },
  {
   "cell_type": "markdown",
   "metadata": {},
   "source": [
    "The initial question for our project was to see if we could identify any geospatial or community level characteristics that would correlate highly with increased spread of Covid or increased risk of death from covid.  To begin our analysis, we decided to investigate Rate of Infection, Total Deaths, and Death Rate as potential target variables.  Again, we wanted to avoid highly correlated variables that appeared to have extreme multicollinearity.  For consistency, we will evaluate each of our target variables of interest against the same explainer variables - 'Population density', 'Mean Household Size', and 'Nursing Home Cases, % of Total'."
   ]
  },
  {
   "cell_type": "code",
   "execution_count": 17,
   "outputs": [],
   "source": [],
   "metadata": {
    "collapsed": false,
    "pycharm": {
     "name": "#%%\n"
    }
   }
  }
 ],
 "metadata": {
  "kernelspec": {
   "display_name": "Python 3",
   "language": "python",
   "name": "python3"
  },
  "language_info": {
   "codemirror_mode": {
    "name": "ipython",
    "version": 3
   },
   "file_extension": ".py",
   "mimetype": "text/x-python",
   "name": "python",
   "nbconvert_exporter": "python",
   "pygments_lexer": "ipython3",
   "version": "3.8.5"
  }
 },
 "nbformat": 4,
 "nbformat_minor": 4
}