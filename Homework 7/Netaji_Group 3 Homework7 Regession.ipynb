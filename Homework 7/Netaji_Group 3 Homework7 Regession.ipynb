{
 "cells": [
  {
   "cell_type": "markdown",
   "metadata": {
    "pycharm": {
     "name": "#%% md\n"
    }
   },
   "source": [
    "# BAIS 6040 Data Programming in Python\n",
    "\n",
    "## Spring 2021\n",
    "\n",
    "## Week 9 Homework\n",
    "## Group 3: Jared Barkley, Tyler Zaruba, Netaji Boggarapu, Michael Noonan\n",
    "\n",
    "##Uses Michael's prework to get everything loaded the same. Keeps the Linear Regression (LR),\n",
    "##as a base. Gets predictive values for Ridge and Lasso. Graphs are available"
   ]
  },
  {
   "cell_type": "code",
   "execution_count": 670,
   "metadata": {
    "collapsed": false,
    "jupyter": {
     "outputs_hidden": false
    },
    "pycharm": {
     "name": "#%%\n"
    }
   },
   "outputs": [],
   "source": [
    "import pandas as pd\n",
    "import numpy as np\n",
    "import matplotlib.pyplot as plt\n",
    "from sklearn.model_selection import train_test_split\n",
    "from sklearn.linear_model import Ridge\n",
    "from sklearn.linear_model import LinearRegression\n",
    "from sklearn.linear_model import Lasso"
   ]
  },
  {
   "cell_type": "code",
   "execution_count": 671,
   "metadata": {
    "collapsed": false,
    "jupyter": {
     "outputs_hidden": false
    },
    "pycharm": {
     "name": "#%%\n"
    }
   },
   "outputs": [
    {
     "data": {
      "text/html": [
       "<div>\n",
       "<style scoped>\n",
       "    .dataframe tbody tr th:only-of-type {\n",
       "        vertical-align: middle;\n",
       "    }\n",
       "\n",
       "    .dataframe tbody tr th {\n",
       "        vertical-align: top;\n",
       "    }\n",
       "\n",
       "    .dataframe thead th {\n",
       "        text-align: right;\n",
       "    }\n",
       "</style>\n",
       "<table border=\"1\" class=\"dataframe\">\n",
       "  <thead>\n",
       "    <tr style=\"text-align: right;\">\n",
       "      <th></th>\n",
       "      <th>Unnamed: 0</th>\n",
       "      <th>County</th>\n",
       "      <th>Total Positive Cases</th>\n",
       "      <th>Total Deaths</th>\n",
       "      <th>Population</th>\n",
       "      <th>Rate of Infection</th>\n",
       "      <th>Pop Density</th>\n",
       "      <th>Mean Household Size</th>\n",
       "      <th>Congregate Living Population</th>\n",
       "      <th>No. of Cases in Nursing Homes</th>\n",
       "      <th>No. of Nursing Homes in County</th>\n",
       "      <th>Nursing Home Cases, % of Total</th>\n",
       "      <th>Cases per number of Nursing Home</th>\n",
       "    </tr>\n",
       "  </thead>\n",
       "  <tbody>\n",
       "    <tr>\n",
       "      <th>0</th>\n",
       "      <td>0</td>\n",
       "      <td>Aitkin</td>\n",
       "      <td>1191</td>\n",
       "      <td>33</td>\n",
       "      <td>15870.0</td>\n",
       "      <td>0.075047</td>\n",
       "      <td>8.0</td>\n",
       "      <td>2.097233</td>\n",
       "      <td>254.0</td>\n",
       "      <td>118.0</td>\n",
       "      <td>4.0</td>\n",
       "      <td>0.099076</td>\n",
       "      <td>29.500000</td>\n",
       "    </tr>\n",
       "    <tr>\n",
       "      <th>1</th>\n",
       "      <td>1</td>\n",
       "      <td>Anoka</td>\n",
       "      <td>33391</td>\n",
       "      <td>390</td>\n",
       "      <td>362648.0</td>\n",
       "      <td>0.092076</td>\n",
       "      <td>753.9</td>\n",
       "      <td>2.712716</td>\n",
       "      <td>3753.0</td>\n",
       "      <td>1675.0</td>\n",
       "      <td>35.0</td>\n",
       "      <td>0.050163</td>\n",
       "      <td>47.857143</td>\n",
       "    </tr>\n",
       "    <tr>\n",
       "      <th>2</th>\n",
       "      <td>2</td>\n",
       "      <td>Becker</td>\n",
       "      <td>3131</td>\n",
       "      <td>42</td>\n",
       "      <td>34545.0</td>\n",
       "      <td>0.090635</td>\n",
       "      <td>22.8</td>\n",
       "      <td>2.393929</td>\n",
       "      <td>477.0</td>\n",
       "      <td>294.0</td>\n",
       "      <td>8.0</td>\n",
       "      <td>0.093900</td>\n",
       "      <td>36.750000</td>\n",
       "    </tr>\n",
       "    <tr>\n",
       "      <th>3</th>\n",
       "      <td>3</td>\n",
       "      <td>Beltrami</td>\n",
       "      <td>3386</td>\n",
       "      <td>51</td>\n",
       "      <td>47184.0</td>\n",
       "      <td>0.071762</td>\n",
       "      <td>14.8</td>\n",
       "      <td>2.487013</td>\n",
       "      <td>1990.0</td>\n",
       "      <td>264.0</td>\n",
       "      <td>11.0</td>\n",
       "      <td>0.077968</td>\n",
       "      <td>24.000000</td>\n",
       "    </tr>\n",
       "    <tr>\n",
       "      <th>4</th>\n",
       "      <td>4</td>\n",
       "      <td>Benton</td>\n",
       "      <td>4482</td>\n",
       "      <td>90</td>\n",
       "      <td>40895.0</td>\n",
       "      <td>0.109598</td>\n",
       "      <td>94.4</td>\n",
       "      <td>2.426614</td>\n",
       "      <td>1050.0</td>\n",
       "      <td>557.0</td>\n",
       "      <td>11.0</td>\n",
       "      <td>0.124275</td>\n",
       "      <td>50.636364</td>\n",
       "    </tr>\n",
       "    <tr>\n",
       "      <th>5</th>\n",
       "      <td>5</td>\n",
       "      <td>Big Stone</td>\n",
       "      <td>516</td>\n",
       "      <td>3</td>\n",
       "      <td>4993.0</td>\n",
       "      <td>0.103345</td>\n",
       "      <td>9.8</td>\n",
       "      <td>2.170764</td>\n",
       "      <td>137.0</td>\n",
       "      <td>41.0</td>\n",
       "      <td>4.0</td>\n",
       "      <td>0.079457</td>\n",
       "      <td>10.250000</td>\n",
       "    </tr>\n",
       "    <tr>\n",
       "      <th>6</th>\n",
       "      <td>6</td>\n",
       "      <td>Blue Earth</td>\n",
       "      <td>5983</td>\n",
       "      <td>35</td>\n",
       "      <td>68583.0</td>\n",
       "      <td>0.087237</td>\n",
       "      <td>84.5</td>\n",
       "      <td>2.380168</td>\n",
       "      <td>4159.0</td>\n",
       "      <td>438.0</td>\n",
       "      <td>19.0</td>\n",
       "      <td>0.073207</td>\n",
       "      <td>23.052632</td>\n",
       "    </tr>\n",
       "    <tr>\n",
       "      <th>7</th>\n",
       "      <td>7</td>\n",
       "      <td>Brown</td>\n",
       "      <td>2461</td>\n",
       "      <td>37</td>\n",
       "      <td>25119.0</td>\n",
       "      <td>0.097974</td>\n",
       "      <td>41.3</td>\n",
       "      <td>2.196598</td>\n",
       "      <td>1097.0</td>\n",
       "      <td>302.0</td>\n",
       "      <td>11.0</td>\n",
       "      <td>0.122714</td>\n",
       "      <td>27.454545</td>\n",
       "    </tr>\n",
       "    <tr>\n",
       "      <th>8</th>\n",
       "      <td>8</td>\n",
       "      <td>Carlton</td>\n",
       "      <td>3001</td>\n",
       "      <td>49</td>\n",
       "      <td>35935.0</td>\n",
       "      <td>0.083512</td>\n",
       "      <td>40.5</td>\n",
       "      <td>2.452634</td>\n",
       "      <td>1993.0</td>\n",
       "      <td>198.0</td>\n",
       "      <td>10.0</td>\n",
       "      <td>0.065978</td>\n",
       "      <td>19.800000</td>\n",
       "    </tr>\n",
       "    <tr>\n",
       "      <th>9</th>\n",
       "      <td>9</td>\n",
       "      <td>Carver</td>\n",
       "      <td>7798</td>\n",
       "      <td>40</td>\n",
       "      <td>107179.0</td>\n",
       "      <td>0.072757</td>\n",
       "      <td>250.5</td>\n",
       "      <td>2.765845</td>\n",
       "      <td>918.0</td>\n",
       "      <td>339.0</td>\n",
       "      <td>17.0</td>\n",
       "      <td>0.043473</td>\n",
       "      <td>19.941176</td>\n",
       "    </tr>\n",
       "  </tbody>\n",
       "</table>\n",
       "</div>"
      ],
      "text/plain": [
       "   Unnamed: 0      County  Total Positive Cases  Total Deaths  Population  \\\n",
       "0           0      Aitkin                  1191            33     15870.0   \n",
       "1           1       Anoka                 33391           390    362648.0   \n",
       "2           2      Becker                  3131            42     34545.0   \n",
       "3           3    Beltrami                  3386            51     47184.0   \n",
       "4           4      Benton                  4482            90     40895.0   \n",
       "5           5   Big Stone                   516             3      4993.0   \n",
       "6           6  Blue Earth                  5983            35     68583.0   \n",
       "7           7       Brown                  2461            37     25119.0   \n",
       "8           8     Carlton                  3001            49     35935.0   \n",
       "9           9      Carver                  7798            40    107179.0   \n",
       "\n",
       "   Rate of Infection  Pop Density  Mean Household Size  \\\n",
       "0           0.075047          8.0             2.097233   \n",
       "1           0.092076        753.9             2.712716   \n",
       "2           0.090635         22.8             2.393929   \n",
       "3           0.071762         14.8             2.487013   \n",
       "4           0.109598         94.4             2.426614   \n",
       "5           0.103345          9.8             2.170764   \n",
       "6           0.087237         84.5             2.380168   \n",
       "7           0.097974         41.3             2.196598   \n",
       "8           0.083512         40.5             2.452634   \n",
       "9           0.072757        250.5             2.765845   \n",
       "\n",
       "   Congregate Living Population  No. of Cases in Nursing Homes  \\\n",
       "0                         254.0                          118.0   \n",
       "1                        3753.0                         1675.0   \n",
       "2                         477.0                          294.0   \n",
       "3                        1990.0                          264.0   \n",
       "4                        1050.0                          557.0   \n",
       "5                         137.0                           41.0   \n",
       "6                        4159.0                          438.0   \n",
       "7                        1097.0                          302.0   \n",
       "8                        1993.0                          198.0   \n",
       "9                         918.0                          339.0   \n",
       "\n",
       "   No. of Nursing Homes in County  Nursing Home Cases, % of Total  \\\n",
       "0                             4.0                        0.099076   \n",
       "1                            35.0                        0.050163   \n",
       "2                             8.0                        0.093900   \n",
       "3                            11.0                        0.077968   \n",
       "4                            11.0                        0.124275   \n",
       "5                             4.0                        0.079457   \n",
       "6                            19.0                        0.073207   \n",
       "7                            11.0                        0.122714   \n",
       "8                            10.0                        0.065978   \n",
       "9                            17.0                        0.043473   \n",
       "\n",
       "   Cases per number of Nursing Home  \n",
       "0                         29.500000  \n",
       "1                         47.857143  \n",
       "2                         36.750000  \n",
       "3                         24.000000  \n",
       "4                         50.636364  \n",
       "5                         10.250000  \n",
       "6                         23.052632  \n",
       "7                         27.454545  \n",
       "8                         19.800000  \n",
       "9                         19.941176  "
      ]
     },
     "execution_count": 671,
     "metadata": {},
     "output_type": "execute_result"
    }
   ],
   "source": [
    "# compiledcountydata_dir = \"https://raw.githubusercontent.com/jaredbarkley0/PythonGroupProject/master/MN%20County%20Data_032021.csv\"\n",
    "compiledcountydata_dir = \"https://raw.githubusercontent.com/jaredbarkley0/PythonGroupProject/master/MN%20County%20Data_032721.csv\"\n",
    "compiledcountydata = pd.read_csv(compiledcountydata_dir)\n",
    "compiledcountydata.head(10)"
   ]
  },
  {
   "cell_type": "code",
   "execution_count": 672,
   "metadata": {
    "collapsed": false,
    "jupyter": {
     "outputs_hidden": false
    },
    "pycharm": {
     "name": "#%%\n"
    }
   },
   "outputs": [],
   "source": [
    "#Cook County has 0 longterm care facilities, but we want to keep in our regression model\n",
    "#Fill NaN values for all facility-related data points with 0, which is an equivalent value in this case\n",
    "\n",
    "fillfacilitiesdata = {'Casesinfacility':0,'FacilitiesinCounty':0,'Percent Cases in Facilities':0,'Cases per number of Facilities':0}\n",
    "\n",
    "compiledcountydata.fillna(fillfacilitiesdata, inplace=True)"
   ]
  },
  {
   "cell_type": "code",
   "execution_count": 673,
   "metadata": {
    "collapsed": false,
    "jupyter": {
     "outputs_hidden": false
    },
    "pycharm": {
     "name": "#%%\n"
    }
   },
   "outputs": [
    {
     "data": {
      "text/html": [
       "<div>\n",
       "<style scoped>\n",
       "    .dataframe tbody tr th:only-of-type {\n",
       "        vertical-align: middle;\n",
       "    }\n",
       "\n",
       "    .dataframe tbody tr th {\n",
       "        vertical-align: top;\n",
       "    }\n",
       "\n",
       "    .dataframe thead th {\n",
       "        text-align: right;\n",
       "    }\n",
       "</style>\n",
       "<table border=\"1\" class=\"dataframe\">\n",
       "  <thead>\n",
       "    <tr style=\"text-align: right;\">\n",
       "      <th></th>\n",
       "      <th>Unnamed: 0</th>\n",
       "      <th>County</th>\n",
       "      <th>Total Positive Cases</th>\n",
       "      <th>Total Deaths</th>\n",
       "      <th>Population</th>\n",
       "      <th>Rate of Infection</th>\n",
       "      <th>Pop Density</th>\n",
       "      <th>Mean Household Size</th>\n",
       "      <th>Congregate Living Population</th>\n",
       "      <th>No. of Cases in Nursing Homes</th>\n",
       "      <th>No. of Nursing Homes in County</th>\n",
       "      <th>Nursing Home Cases, % of Total</th>\n",
       "      <th>Cases per number of Nursing Home</th>\n",
       "    </tr>\n",
       "  </thead>\n",
       "  <tbody>\n",
       "    <tr>\n",
       "      <th>0</th>\n",
       "      <td>0</td>\n",
       "      <td>Aitkin</td>\n",
       "      <td>1191</td>\n",
       "      <td>33</td>\n",
       "      <td>15870.0</td>\n",
       "      <td>0.075047</td>\n",
       "      <td>8.0</td>\n",
       "      <td>2.097233</td>\n",
       "      <td>254.0</td>\n",
       "      <td>118.0</td>\n",
       "      <td>4.0</td>\n",
       "      <td>0.099076</td>\n",
       "      <td>29.500000</td>\n",
       "    </tr>\n",
       "    <tr>\n",
       "      <th>1</th>\n",
       "      <td>1</td>\n",
       "      <td>Anoka</td>\n",
       "      <td>33391</td>\n",
       "      <td>390</td>\n",
       "      <td>362648.0</td>\n",
       "      <td>0.092076</td>\n",
       "      <td>753.9</td>\n",
       "      <td>2.712716</td>\n",
       "      <td>3753.0</td>\n",
       "      <td>1675.0</td>\n",
       "      <td>35.0</td>\n",
       "      <td>0.050163</td>\n",
       "      <td>47.857143</td>\n",
       "    </tr>\n",
       "    <tr>\n",
       "      <th>2</th>\n",
       "      <td>2</td>\n",
       "      <td>Becker</td>\n",
       "      <td>3131</td>\n",
       "      <td>42</td>\n",
       "      <td>34545.0</td>\n",
       "      <td>0.090635</td>\n",
       "      <td>22.8</td>\n",
       "      <td>2.393929</td>\n",
       "      <td>477.0</td>\n",
       "      <td>294.0</td>\n",
       "      <td>8.0</td>\n",
       "      <td>0.093900</td>\n",
       "      <td>36.750000</td>\n",
       "    </tr>\n",
       "    <tr>\n",
       "      <th>3</th>\n",
       "      <td>3</td>\n",
       "      <td>Beltrami</td>\n",
       "      <td>3386</td>\n",
       "      <td>51</td>\n",
       "      <td>47184.0</td>\n",
       "      <td>0.071762</td>\n",
       "      <td>14.8</td>\n",
       "      <td>2.487013</td>\n",
       "      <td>1990.0</td>\n",
       "      <td>264.0</td>\n",
       "      <td>11.0</td>\n",
       "      <td>0.077968</td>\n",
       "      <td>24.000000</td>\n",
       "    </tr>\n",
       "    <tr>\n",
       "      <th>4</th>\n",
       "      <td>4</td>\n",
       "      <td>Benton</td>\n",
       "      <td>4482</td>\n",
       "      <td>90</td>\n",
       "      <td>40895.0</td>\n",
       "      <td>0.109598</td>\n",
       "      <td>94.4</td>\n",
       "      <td>2.426614</td>\n",
       "      <td>1050.0</td>\n",
       "      <td>557.0</td>\n",
       "      <td>11.0</td>\n",
       "      <td>0.124275</td>\n",
       "      <td>50.636364</td>\n",
       "    </tr>\n",
       "    <tr>\n",
       "      <th>...</th>\n",
       "      <td>...</td>\n",
       "      <td>...</td>\n",
       "      <td>...</td>\n",
       "      <td>...</td>\n",
       "      <td>...</td>\n",
       "      <td>...</td>\n",
       "      <td>...</td>\n",
       "      <td>...</td>\n",
       "      <td>...</td>\n",
       "      <td>...</td>\n",
       "      <td>...</td>\n",
       "      <td>...</td>\n",
       "      <td>...</td>\n",
       "    </tr>\n",
       "    <tr>\n",
       "      <th>82</th>\n",
       "      <td>82</td>\n",
       "      <td>Watonwan</td>\n",
       "      <td>1176</td>\n",
       "      <td>8</td>\n",
       "      <td>10923.0</td>\n",
       "      <td>0.107663</td>\n",
       "      <td>25.4</td>\n",
       "      <td>2.397507</td>\n",
       "      <td>151.0</td>\n",
       "      <td>36.0</td>\n",
       "      <td>3.0</td>\n",
       "      <td>0.030612</td>\n",
       "      <td>12.000000</td>\n",
       "    </tr>\n",
       "    <tr>\n",
       "      <th>83</th>\n",
       "      <td>83</td>\n",
       "      <td>Wilkin</td>\n",
       "      <td>677</td>\n",
       "      <td>11</td>\n",
       "      <td>6226.0</td>\n",
       "      <td>0.108738</td>\n",
       "      <td>8.7</td>\n",
       "      <td>2.238850</td>\n",
       "      <td>152.0</td>\n",
       "      <td>36.0</td>\n",
       "      <td>2.0</td>\n",
       "      <td>0.053176</td>\n",
       "      <td>18.000000</td>\n",
       "    </tr>\n",
       "    <tr>\n",
       "      <th>84</th>\n",
       "      <td>84</td>\n",
       "      <td>Winona</td>\n",
       "      <td>4193</td>\n",
       "      <td>49</td>\n",
       "      <td>50830.0</td>\n",
       "      <td>0.082491</td>\n",
       "      <td>79.9</td>\n",
       "      <td>2.352632</td>\n",
       "      <td>3855.0</td>\n",
       "      <td>277.0</td>\n",
       "      <td>9.0</td>\n",
       "      <td>0.066062</td>\n",
       "      <td>30.777778</td>\n",
       "    </tr>\n",
       "    <tr>\n",
       "      <th>85</th>\n",
       "      <td>85</td>\n",
       "      <td>Wright</td>\n",
       "      <td>12554</td>\n",
       "      <td>116</td>\n",
       "      <td>138531.0</td>\n",
       "      <td>0.090622</td>\n",
       "      <td>178.3</td>\n",
       "      <td>2.796739</td>\n",
       "      <td>1158.0</td>\n",
       "      <td>687.0</td>\n",
       "      <td>20.0</td>\n",
       "      <td>0.054724</td>\n",
       "      <td>34.350000</td>\n",
       "    </tr>\n",
       "    <tr>\n",
       "      <th>86</th>\n",
       "      <td>86</td>\n",
       "      <td>Yellow Medicine</td>\n",
       "      <td>977</td>\n",
       "      <td>17</td>\n",
       "      <td>9729.0</td>\n",
       "      <td>0.100421</td>\n",
       "      <td>13.4</td>\n",
       "      <td>2.282535</td>\n",
       "      <td>293.0</td>\n",
       "      <td>79.0</td>\n",
       "      <td>3.0</td>\n",
       "      <td>0.080860</td>\n",
       "      <td>26.333333</td>\n",
       "    </tr>\n",
       "  </tbody>\n",
       "</table>\n",
       "<p>87 rows × 13 columns</p>\n",
       "</div>"
      ],
      "text/plain": [
       "    Unnamed: 0           County  Total Positive Cases  Total Deaths  \\\n",
       "0            0           Aitkin                  1191            33   \n",
       "1            1            Anoka                 33391           390   \n",
       "2            2           Becker                  3131            42   \n",
       "3            3         Beltrami                  3386            51   \n",
       "4            4           Benton                  4482            90   \n",
       "..         ...              ...                   ...           ...   \n",
       "82          82         Watonwan                  1176             8   \n",
       "83          83           Wilkin                   677            11   \n",
       "84          84           Winona                  4193            49   \n",
       "85          85           Wright                 12554           116   \n",
       "86          86  Yellow Medicine                   977            17   \n",
       "\n",
       "    Population  Rate of Infection  Pop Density  Mean Household Size  \\\n",
       "0      15870.0           0.075047          8.0             2.097233   \n",
       "1     362648.0           0.092076        753.9             2.712716   \n",
       "2      34545.0           0.090635         22.8             2.393929   \n",
       "3      47184.0           0.071762         14.8             2.487013   \n",
       "4      40895.0           0.109598         94.4             2.426614   \n",
       "..         ...                ...          ...                  ...   \n",
       "82     10923.0           0.107663         25.4             2.397507   \n",
       "83      6226.0           0.108738          8.7             2.238850   \n",
       "84     50830.0           0.082491         79.9             2.352632   \n",
       "85    138531.0           0.090622        178.3             2.796739   \n",
       "86      9729.0           0.100421         13.4             2.282535   \n",
       "\n",
       "    Congregate Living Population  No. of Cases in Nursing Homes  \\\n",
       "0                          254.0                          118.0   \n",
       "1                         3753.0                         1675.0   \n",
       "2                          477.0                          294.0   \n",
       "3                         1990.0                          264.0   \n",
       "4                         1050.0                          557.0   \n",
       "..                           ...                            ...   \n",
       "82                         151.0                           36.0   \n",
       "83                         152.0                           36.0   \n",
       "84                        3855.0                          277.0   \n",
       "85                        1158.0                          687.0   \n",
       "86                         293.0                           79.0   \n",
       "\n",
       "    No. of Nursing Homes in County  Nursing Home Cases, % of Total  \\\n",
       "0                              4.0                        0.099076   \n",
       "1                             35.0                        0.050163   \n",
       "2                              8.0                        0.093900   \n",
       "3                             11.0                        0.077968   \n",
       "4                             11.0                        0.124275   \n",
       "..                             ...                             ...   \n",
       "82                             3.0                        0.030612   \n",
       "83                             2.0                        0.053176   \n",
       "84                             9.0                        0.066062   \n",
       "85                            20.0                        0.054724   \n",
       "86                             3.0                        0.080860   \n",
       "\n",
       "    Cases per number of Nursing Home  \n",
       "0                          29.500000  \n",
       "1                          47.857143  \n",
       "2                          36.750000  \n",
       "3                          24.000000  \n",
       "4                          50.636364  \n",
       "..                               ...  \n",
       "82                         12.000000  \n",
       "83                         18.000000  \n",
       "84                         30.777778  \n",
       "85                         34.350000  \n",
       "86                         26.333333  \n",
       "\n",
       "[87 rows x 13 columns]"
      ]
     },
     "execution_count": 673,
     "metadata": {},
     "output_type": "execute_result"
    }
   ],
   "source": [
    "compiledcountydata"
   ]
  },
  {
   "cell_type": "code",
   "execution_count": 674,
   "metadata": {
    "collapsed": false,
    "jupyter": {
     "outputs_hidden": false
    },
    "pycharm": {
     "name": "#%%\n"
    }
   },
   "outputs": [
    {
     "data": {
      "text/plain": [
       "Unnamed: 0                                       86\n",
       "County                              Yellow Medicine\n",
       "Total Positive Cases                            977\n",
       "Total Deaths                                     17\n",
       "Population                                     9729\n",
       "Rate of Infection                          0.100421\n",
       "Pop Density                                    13.4\n",
       "Mean Household Size                         2.28254\n",
       "Congregate Living Population                    293\n",
       "No. of Cases in Nursing Homes                    79\n",
       "No. of Nursing Homes in County                    3\n",
       "Nursing Home Cases, % of Total            0.0808598\n",
       "Cases per number of Nursing Home            26.3333\n",
       "Name: 86, dtype: object"
      ]
     },
     "execution_count": 674,
     "metadata": {},
     "output_type": "execute_result"
    }
   ],
   "source": [
    "compiledcountydata.iloc[86]"
   ]
  },
  {
   "cell_type": "code",
   "execution_count": 675,
   "metadata": {
    "collapsed": false,
    "jupyter": {
     "outputs_hidden": false
    },
    "pycharm": {
     "name": "#%%\n"
    }
   },
   "outputs": [],
   "source": [
    "#Cases of unknown or missing county information do not need to be included, drop this column\n",
    "#Could DropNA since this is the only row with NA values, but dropping by index for practice\n",
    "\n",
    "compiledcountydata.drop([86],inplace=True)"
   ]
  },
  {
   "cell_type": "code",
   "execution_count": 676,
   "metadata": {
    "collapsed": false,
    "jupyter": {
     "outputs_hidden": false
    },
    "pycharm": {
     "name": "#%%\n"
    }
   },
   "outputs": [
    {
     "name": "stdout",
     "output_type": "stream",
     "text": [
      "<class 'pandas.core.frame.DataFrame'>\n",
      "Int64Index: 86 entries, 0 to 85\n",
      "Data columns (total 13 columns):\n",
      " #   Column                            Non-Null Count  Dtype  \n",
      "---  ------                            --------------  -----  \n",
      " 0   Unnamed: 0                        86 non-null     int64  \n",
      " 1   County                            86 non-null     object \n",
      " 2   Total Positive Cases              86 non-null     int64  \n",
      " 3   Total Deaths                      86 non-null     int64  \n",
      " 4   Population                        86 non-null     float64\n",
      " 5   Rate of Infection                 86 non-null     float64\n",
      " 6   Pop Density                       86 non-null     float64\n",
      " 7   Mean Household Size               86 non-null     float64\n",
      " 8   Congregate Living Population      86 non-null     float64\n",
      " 9   No. of Cases in Nursing Homes     86 non-null     float64\n",
      " 10  No. of Nursing Homes in County    86 non-null     float64\n",
      " 11  Nursing Home Cases, % of Total    86 non-null     float64\n",
      " 12  Cases per number of Nursing Home  86 non-null     float64\n",
      "dtypes: float64(9), int64(3), object(1)\n",
      "memory usage: 9.4+ KB\n"
     ]
    }
   ],
   "source": [
    "# confirming no null data remains\n",
    "\n",
    "compiledcountydata.info()"
   ]
  },
  {
   "cell_type": "code",
   "execution_count": 677,
   "metadata": {
    "collapsed": false,
    "jupyter": {
     "outputs_hidden": false
    },
    "pycharm": {
     "name": "#%%\n"
    }
   },
   "outputs": [],
   "source": [
    "# Assign columns of interest and target value\n",
    "\n",
    "columns = [\"Total Positive Cases\",\"Population\", \"Rate of Infection\", \"Congregate Living Population\",\"No. of Cases in Nursing Homes\",\"No. of Nursing Homes in County\",\"Cases per number of Nursing Home\"]\n",
    "# fillfacilitiesdata = {'Casesinfacility':0,'FacilitiesinCounty':0,'Percent Cases in Facilities':0,'Cases per number of Facilities':0}\n",
    "target = \"Total Deaths\"\n",
    "\n",
    "X = compiledcountydata[columns]\n",
    "y = compiledcountydata[target]"
   ]
  },
  {
   "cell_type": "code",
   "execution_count": 678,
   "metadata": {
    "collapsed": false,
    "jupyter": {
     "outputs_hidden": false
    },
    "pycharm": {
     "name": "#%%\n"
    }
   },
   "outputs": [],
   "source": [
    "X_train, X_test, y_train, y_test = train_test_split(X, y, test_size=0.2, random_state=0)"
   ]
  },
  {
   "cell_type": "code",
   "execution_count": 679,
   "metadata": {
    "collapsed": false,
    "jupyter": {
     "outputs_hidden": false
    },
    "pycharm": {
     "name": "#%%\n"
    }
   },
   "outputs": [
    {
     "data": {
      "text/plain": [
       "0      15870.0\n",
       "1     362648.0\n",
       "2      34545.0\n",
       "3      47184.0\n",
       "4      40895.0\n",
       "        ...   \n",
       "81    262748.0\n",
       "82     10923.0\n",
       "83      6226.0\n",
       "84     50830.0\n",
       "85    138531.0\n",
       "Name: Population, Length: 86, dtype: float64"
      ]
     },
     "execution_count": 679,
     "metadata": {},
     "output_type": "execute_result"
    }
   ],
   "source": [
    "X_Plot = X[\"Population\"]\n",
    "X_Plot"
   ]
  },
  {
   "cell_type": "code",
   "execution_count": 680,
   "metadata": {
    "collapsed": false,
    "jupyter": {
     "outputs_hidden": false
    },
    "pycharm": {
     "name": "#%%\n"
    }
   },
   "outputs": [
    {
     "data": {
      "text/plain": [
       "LinearRegression(fit_intercept=False)"
      ]
     },
     "execution_count": 680,
     "metadata": {},
     "output_type": "execute_result"
    }
   ],
   "source": [
    "#assign a variable to call linear regression function\n",
    "lr = LinearRegression(fit_intercept=False)\n",
    "lr"
   ]
  },
  {
   "cell_type": "code",
   "execution_count": 681,
   "metadata": {
    "collapsed": false,
    "jupyter": {
     "outputs_hidden": false
    },
    "pycharm": {
     "name": "#%%\n"
    }
   },
   "outputs": [
    {
     "data": {
      "text/plain": [
       "LinearRegression(fit_intercept=False)"
      ]
     },
     "execution_count": 681,
     "metadata": {},
     "output_type": "execute_result"
    }
   ],
   "source": [
    "lr.fit(X_train, y_train)"
   ]
  },
  {
   "cell_type": "code",
   "execution_count": 682,
   "metadata": {
    "collapsed": false,
    "jupyter": {
     "outputs_hidden": false
    },
    "pycharm": {
     "name": "#%%\n"
    }
   },
   "outputs": [
    {
     "data": {
      "text/plain": [
       "0.9855621779594815"
      ]
     },
     "execution_count": 682,
     "metadata": {},
     "output_type": "execute_result"
    }
   ],
   "source": [
    "lr.score(X_train, y_train)  # What's our score with the training data set?"
   ]
  },
  {
   "cell_type": "code",
   "execution_count": 683,
   "metadata": {
    "collapsed": false,
    "jupyter": {
     "outputs_hidden": false
    },
    "pycharm": {
     "name": "#%%\n"
    }
   },
   "outputs": [
    {
     "data": {
      "text/plain": [
       "0.986827012063956"
      ]
     },
     "execution_count": 683,
     "metadata": {},
     "output_type": "execute_result"
    }
   ],
   "source": [
    "lr.score(X_test, y_test)"
   ]
  },
  {
   "cell_type": "code",
   "execution_count": 684,
   "metadata": {
    "collapsed": false,
    "jupyter": {
     "outputs_hidden": false
    },
    "pycharm": {
     "name": "#%%# What's our score with the test data set?\n"
    }
   },
   "outputs": [],
   "source": [
    "# lr.score(X_test, y_test)    # What's our score with the test data set?"
   ]
  },
  {
   "cell_type": "markdown",
   "metadata": {
    "pycharm": {
     "name": "#%% md\n"
    }
   },
   "source": [
    "## LR Metrics"
   ]
  },
  {
   "cell_type": "code",
   "execution_count": 685,
   "metadata": {
    "collapsed": false,
    "jupyter": {
     "outputs_hidden": false
    },
    "pycharm": {
     "name": "#%%\n"
    }
   },
   "outputs": [],
   "source": [
    "import math\n",
    "from sklearn.metrics import explained_variance_score, mean_absolute_error, r2_score, mean_squared_error\n",
    "\n",
    "def printMetrics(test, predictions):\n",
    "    print(f\"Score: {explained_variance_score(test, predictions):.2f}\")\n",
    "    print(f\"Mean Absolute Error: {mean_absolute_error(test, predictions):.2f}\")\n",
    "    print(f\"Mean Squared Error: {math.sqrt(mean_squared_error(test, predictions)):.2f}\")\n",
    "    print(f\"r2: {r2_score(test, predictions):.2f}\")\n",
    "    print(f\"Reg Fit: {lr.score(X_test, y_test):.2f}\")"
   ]
  },
  {
   "cell_type": "code",
   "execution_count": 686,
   "metadata": {
    "collapsed": false,
    "jupyter": {
     "outputs_hidden": false
    },
    "pycharm": {
     "name": "#%%\n"
    }
   },
   "outputs": [
    {
     "name": "stdout",
     "output_type": "stream",
     "text": [
      "Score: 0.99\n",
      "Mean Absolute Error: 17.48\n",
      "Mean Squared Error: 40.80\n",
      "r2: 0.99\n",
      "Reg Fit: 0.99\n"
     ]
    }
   ],
   "source": [
    "predictions = lr.predict(X_test)\n",
    "printMetrics(y_test, predictions)"
   ]
  },
  {
   "cell_type": "code",
   "execution_count": 687,
   "metadata": {
    "collapsed": false,
    "jupyter": {
     "outputs_hidden": false
    },
    "pycharm": {
     "name": "#%%\n"
    }
   },
   "outputs": [],
   "source": [
    "# X_test[\"Total Positive Cases\"]"
   ]
  },
  {
   "cell_type": "code",
   "execution_count": 688,
   "metadata": {
    "collapsed": false,
    "jupyter": {
     "outputs_hidden": false
    },
    "pycharm": {
     "name": "#%%\n"
    }
   },
   "outputs": [
    {
     "data": {
      "image/png": "[encoded data removed]",
      "text/plain": [
       "<Figure size 432x288 with 1 Axes>"
      ]
     },
     "metadata": {
      "needs_background": "light"
     },
     "output_type": "display_data"
    }
   ],
   "source": [
    "y_pred = lr.predict(X_test)\n",
    "plt.scatter(X_test[\"Population\"], y_test, color ='b')\n",
    "plt.plot(X_test[\"Population\"], y_test, color ='blue')\n",
    "plt.show()"
   ]
  },
  {
   "cell_type": "code",
   "execution_count": 689,
   "metadata": {
    "collapsed": false,
    "jupyter": {
     "outputs_hidden": false
    },
    "pycharm": {
     "name": "#%%\n"
    }
   },
   "outputs": [
    {
     "data": {
      "image/png": "[encoded data removed]",
      "text/plain": [
       "<Figure size 432x288 with 1 Axes>"
      ]
     },
     "metadata": {
      "needs_background": "light"
     },
     "output_type": "display_data"
    }
   ],
   "source": [
    "# To verify Predicted VS Actual\n",
    "df = pd.DataFrame({'Actual':y_test, 'Predicted': y_pred})\n",
    "df.plot(x='Actual', y='Predicted', kind = 'line')\n",
    "plt.show()"
   ]
  },
  {
   "cell_type": "markdown",
   "metadata": {
    "pycharm": {
     "name": "#%% md\n"
    }
   },
   "source": [
    "## Regression Modeling with Ridge"
   ]
  },
  {
   "cell_type": "code",
   "execution_count": 690,
   "metadata": {
    "collapsed": false,
    "jupyter": {
     "outputs_hidden": false
    },
    "pycharm": {
     "name": "#%%\n"
    }
   },
   "outputs": [
    {
     "data": {
      "text/plain": [
       "Ridge(fit_intercept=False, normalize=True, solver='svd')"
      ]
     },
     "execution_count": 690,
     "metadata": {},
     "output_type": "execute_result"
    }
   ],
   "source": [
    "rr = Ridge(alpha=1.0, fit_intercept=False, normalize=True,\n",
    "                 copy_X=True, max_iter=None, tol=1e-3, solver=\"svd\",\n",
    "                 random_state=None)\n",
    "rr"
   ]
  },
  {
   "cell_type": "code",
   "execution_count": 691,
   "metadata": {
    "collapsed": false,
    "jupyter": {
     "outputs_hidden": false
    },
    "pycharm": {
     "name": "#%%\n"
    }
   },
   "outputs": [
    {
     "data": {
      "text/plain": [
       "Ridge(fit_intercept=False, normalize=True, solver='svd')"
      ]
     },
     "execution_count": 691,
     "metadata": {},
     "output_type": "execute_result"
    }
   ],
   "source": [
    "rr.fit(X_train, y_train)"
   ]
  },
  {
   "cell_type": "code",
   "execution_count": 692,
   "metadata": {
    "collapsed": false,
    "jupyter": {
     "outputs_hidden": false
    },
    "pycharm": {
     "name": "#%%\n"
    }
   },
   "outputs": [
    {
     "data": {
      "text/plain": [
       "0.9842303665359347"
      ]
     },
     "execution_count": 692,
     "metadata": {},
     "output_type": "execute_result"
    }
   ],
   "source": [
    "rr.score(X_train, y_train)"
   ]
  },
  {
   "cell_type": "code",
   "execution_count": 693,
   "metadata": {
    "collapsed": false,
    "jupyter": {
     "outputs_hidden": false
    },
    "pycharm": {
     "name": "#%%\n"
    }
   },
   "outputs": [
    {
     "data": {
      "text/plain": [
       "0.9911142542832525"
      ]
     },
     "execution_count": 693,
     "metadata": {},
     "output_type": "execute_result"
    }
   ],
   "source": [
    "rr.score(X_test, y_test)"
   ]
  },
  {
   "cell_type": "code",
   "execution_count": 694,
   "metadata": {
    "collapsed": false,
    "jupyter": {
     "outputs_hidden": false
    },
    "pycharm": {
     "name": "#%%\n"
    }
   },
   "outputs": [
    {
     "name": "stdout",
     "output_type": "stream",
     "text": [
      "Score: 0.99\n",
      "Mean Absolute Error: 17.07\n",
      "Mean Squared Error: 33.51\n",
      "r2: 0.99\n",
      "Reg Fit: 0.99\n"
     ]
    }
   ],
   "source": [
    "predictions = rr.predict(X_test)\n",
    "printMetrics(y_test, predictions)"
   ]
  },
  {
   "cell_type": "markdown",
   "metadata": {},
   "source": [
    "### Lasso Regression"
   ]
  },
  {
   "cell_type": "code",
   "execution_count": 695,
   "metadata": {
    "collapsed": false,
    "jupyter": {
     "outputs_hidden": false
    },
    "pycharm": {
     "name": "#%%\n"
    }
   },
   "outputs": [],
   "source": [
    "lassoModel = Lasso(alpha=1.0, fit_intercept=False, normalize=True,\n",
    "                 precompute=False, copy_X=True, max_iter=1000,\n",
    "                 tol=1e-4, warm_start=False, positive=False,\n",
    "                 random_state=None, selection='cyclic')"
   ]
  },
  {
   "cell_type": "code",
   "execution_count": 696,
   "metadata": {
    "collapsed": false,
    "jupyter": {
     "outputs_hidden": false
    },
    "pycharm": {
     "name": "#%%\n"
    }
   },
   "outputs": [
    {
     "data": {
      "text/plain": [
       "Lasso(fit_intercept=False, normalize=True)"
      ]
     },
     "execution_count": 696,
     "metadata": {},
     "output_type": "execute_result"
    }
   ],
   "source": [
    "# fit Model\n",
    "lassoModel.fit(X_train, y_train)"
   ]
  },
  {
   "cell_type": "code",
   "execution_count": 697,
   "metadata": {
    "collapsed": false,
    "jupyter": {
     "outputs_hidden": false
    },
    "pycharm": {
     "name": "#%%\n"
    }
   },
   "outputs": [
    {
     "data": {
      "text/plain": [
       "0.9840656146841549"
      ]
     },
     "execution_count": 697,
     "metadata": {},
     "output_type": "execute_result"
    }
   ],
   "source": [
    "# Lasso Score\n",
    "lassoModel.score(X_train, y_train) # same scores as linear regression"
   ]
  },
  {
   "cell_type": "code",
   "execution_count": 698,
   "metadata": {
    "collapsed": false,
    "jupyter": {
     "outputs_hidden": false
    },
    "pycharm": {
     "name": "#%%\n"
    }
   },
   "outputs": [
    {
     "data": {
      "text/plain": [
       "0.9915559304089419"
      ]
     },
     "execution_count": 698,
     "metadata": {},
     "output_type": "execute_result"
    }
   ],
   "source": [
    "#Lasso Score on X_test , y_test\n",
    "lassoModel.score(X_test, y_test)"
   ]
  },
  {
   "cell_type": "code",
   "execution_count": 699,
   "metadata": {
    "collapsed": false,
    "jupyter": {
     "outputs_hidden": false
    },
    "pycharm": {
     "name": "#%%\n"
    }
   },
   "outputs": [
    {
     "data": {
      "text/plain": [
       "array([  50.7195796 ,   76.55860287,   -2.6544876 ,   47.3572586 ,\n",
       "          3.73297102,   31.62083347,   34.63900855,    2.42344932,\n",
       "         11.43096513,  133.56761345,   50.62976041, 1718.56315136,\n",
       "         90.49034609,   -2.30377855,   34.24465201,   21.12801813,\n",
       "         80.53466371,    9.49156684])"
      ]
     },
     "execution_count": 699,
     "metadata": {},
     "output_type": "execute_result"
    }
   ],
   "source": [
    "lassoModel.predict(X_test)"
   ]
  },
  {
   "cell_type": "code",
   "execution_count": 700,
   "metadata": {
    "collapsed": false,
    "jupyter": {
     "outputs_hidden": false
    },
    "pycharm": {
     "name": "#%%\n"
    }
   },
   "outputs": [
    {
     "data": {
      "text/plain": [
       "array([-3.59030887e-04,  1.03144097e-04,  0.00000000e+00,  5.21202606e-03,\n",
       "        2.53898309e-01, -2.37253709e+00, -2.68608167e-01])"
      ]
     },
     "execution_count": 700,
     "metadata": {},
     "output_type": "execute_result"
    }
   ],
   "source": [
    "lassoModel.coef_"
   ]
  },
  {
   "cell_type": "code",
   "execution_count": 701,
   "metadata": {
    "collapsed": false,
    "jupyter": {
     "outputs_hidden": false
    },
    "pycharm": {
     "name": "#%%\n"
    }
   },
   "outputs": [
    {
     "data": {
      "text/plain": [
       "0.0"
      ]
     },
     "execution_count": 701,
     "metadata": {},
     "output_type": "execute_result"
    }
   ],
   "source": [
    "lassoModel.intercept_"
   ]
  },
  {
   "cell_type": "code",
   "execution_count": 702,
   "metadata": {
    "collapsed": false,
    "jupyter": {
     "outputs_hidden": false
    },
    "pycharm": {
     "name": "#%%\n"
    }
   },
   "outputs": [
    {
     "data": {
      "image/png": "[encoded data removed]",
      "text/plain": [
       "<Figure size 864x864 with 1 Axes>"
      ]
     },
     "metadata": {
      "needs_background": "light"
     },
     "output_type": "display_data"
    }
   ],
   "source": [
    "fig, ax = plt.subplots(figsize=(12,12))\n",
    "y_pred = lr.predict(X)\n",
    "plt.scatter(X_Plot, y_pred, color='purple')\n",
    "plt.plot(compiledcountydata[\"Population\"],compiledcountydata[\"Total Deaths\"], color='green')\n",
    "plt.show()"
   ]
  },
  {
   "cell_type": "markdown",
   "metadata": {
    "pycharm": {
     "name": "#%% md\n"
    }
   },
   "source": [
    "## Summary of Models\n",
    "### LR Prediction"
   ]
  },
  {
   "cell_type": "code",
   "execution_count": 703,
   "metadata": {
    "collapsed": false,
    "jupyter": {
     "outputs_hidden": false
    },
    "pycharm": {
     "name": "#%%\n"
    }
   },
   "outputs": [
    {
     "name": "stdout",
     "output_type": "stream",
     "text": [
      "My R-squared value is 0.986827012063956\n",
      "My slope coefficients are [-1.66075282e-03  2.33790377e-04  1.57271751e+02  5.67372304e-03\n",
      "  2.77376277e-01 -3.44067851e+00 -6.87841295e-01]\n",
      "My intercept is 0.0\n"
     ]
    }
   ],
   "source": [
    "print(f'My R-squared value is {lr.score(X_test, y_test)}')\n",
    "print(f'My slope coefficients are {lr.coef_}')\n",
    "print(f'My intercept is {lr.intercept_}')"
   ]
  },
  {
   "cell_type": "markdown",
   "metadata": {
    "pycharm": {
     "name": "#%% md\n"
    }
   },
   "source": [
    "### LR Prediction:"
   ]
  },
  {
   "cell_type": "code",
   "execution_count": 704,
   "metadata": {
    "collapsed": false,
    "jupyter": {
     "outputs_hidden": false
    },
    "pycharm": {
     "name": "#%%\n"
    }
   },
   "outputs": [
    {
     "name": "stdout",
     "output_type": "stream",
     "text": [
      "Score: 0.99\n",
      "Mean Absolute Error: 17.48\n",
      "Mean Squared Error: 40.80\n",
      "r2: 0.99\n",
      "Reg Fit: 0.99\n"
     ]
    }
   ],
   "source": [
    "predictions = lr.predict(X_test)\n",
    "printMetrics(y_test, predictions)"
   ]
  },
  {
   "cell_type": "markdown",
   "metadata": {
    "pycharm": {
     "name": "#%% md\n"
    }
   },
   "source": [
    "### Ridge Prediction:"
   ]
  },
  {
   "cell_type": "code",
   "execution_count": 705,
   "metadata": {
    "collapsed": false,
    "jupyter": {
     "outputs_hidden": false
    },
    "pycharm": {
     "name": "#%%\n"
    }
   },
   "outputs": [
    {
     "name": "stdout",
     "output_type": "stream",
     "text": [
      "Score: 0.99\n",
      "Mean Absolute Error: 17.07\n",
      "Mean Squared Error: 33.51\n",
      "r2: 0.99\n",
      "Reg Fit: 0.99\n"
     ]
    }
   ],
   "source": [
    "predictions = rr.predict(X_test)\n",
    "printMetrics(y_test, predictions)"
   ]
  },
  {
   "cell_type": "markdown",
   "metadata": {
    "pycharm": {
     "name": "#%% md\n"
    }
   },
   "source": [
    "### Lasso Prediction:"
   ]
  },
  {
   "cell_type": "code",
   "execution_count": 706,
   "metadata": {
    "collapsed": false,
    "jupyter": {
     "outputs_hidden": false
    },
    "pycharm": {
     "name": "#%%\n"
    }
   },
   "outputs": [
    {
     "name": "stdout",
     "output_type": "stream",
     "text": [
      "Score: 0.99\n",
      "Mean Absolute Error: 16.88\n",
      "Mean Squared Error: 32.67\n",
      "r2: 0.99\n",
      "Reg Fit: 0.99\n"
     ]
    }
   ],
   "source": [
    "predictions = lassoModel.predict(X_test)\n",
    "printMetrics(y_test, predictions)"
   ]
  },
  {
   "cell_type": "markdown",
   "metadata": {
    "pycharm": {
     "name": "#%% md\n"
    }
   },
   "source": [
    "## Analysis:\n",
    "Based on the above predictive values, all regression models produces the same score and R2, and Regression Fit.\n",
    "However, the Mean Absolute Error and Mean Squared Errors are different."
   ]
  }
 ],
 "metadata": {
  "kernelspec": {
   "display_name": "Python 3",
   "language": "python",
   "name": "python3"
  },
  "language_info": {
   "codemirror_mode": {
    "name": "ipython",
    "version": 3
   },
   "file_extension": ".py",
   "mimetype": "text/x-python",
   "name": "python",
   "nbconvert_exporter": "python",
   "pygments_lexer": "ipython3",
   "version": "3.8.5"
  }
 },
 "nbformat": 4,
 "nbformat_minor": 4
}
