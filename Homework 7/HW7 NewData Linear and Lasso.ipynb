{
 "cells": [
  {
   "cell_type": "code",
   "execution_count": 28,
   "metadata": {
    "collapsed": true
   },
   "outputs": [],
   "source": [
    "import pandas as pd\n",
    "import numpy as np\n",
    "import matplotlib.pyplot as plt\n",
    "from sklearn.model_selection import train_test_split\n",
    "from sklearn.linear_model import LinearRegression\n",
    "from sklearn.linear_model import Lasso\n",
    "\n"
   ]
  },
  {
   "cell_type": "code",
   "execution_count": 29,
   "outputs": [
    {
     "data": {
      "text/plain": "    Unnamed: 0           County  Total Positive Cases  Total Deaths  \\\n0            0           Aitkin                  1191            33   \n1            1            Anoka                 33391           390   \n2            2           Becker                  3131            42   \n3            3         Beltrami                  3386            51   \n4            4           Benton                  4482            90   \n..         ...              ...                   ...           ...   \n82          82         Watonwan                  1176             8   \n83          83           Wilkin                   677            11   \n84          84           Winona                  4193            49   \n85          85           Wright                 12554           116   \n86          86  Yellow Medicine                   977            17   \n\n    Population  Rate of Infection  Pop Density  Mean Household Size  \\\n0      15870.0           0.075047          8.0             2.097233   \n1     362648.0           0.092076        753.9             2.712716   \n2      34545.0           0.090635         22.8             2.393929   \n3      47184.0           0.071762         14.8             2.487013   \n4      40895.0           0.109598         94.4             2.426614   \n..         ...                ...          ...                  ...   \n82     10923.0           0.107663         25.4             2.397507   \n83      6226.0           0.108738          8.7             2.238850   \n84     50830.0           0.082491         79.9             2.352632   \n85    138531.0           0.090622        178.3             2.796739   \n86      9729.0           0.100421         13.4             2.282535   \n\n    Congregate Living Population  No. of Cases in Nursing Homes  \\\n0                          254.0                          118.0   \n1                         3753.0                         1675.0   \n2                          477.0                          294.0   \n3                         1990.0                          264.0   \n4                         1050.0                          557.0   \n..                           ...                            ...   \n82                         151.0                           36.0   \n83                         152.0                           36.0   \n84                        3855.0                          277.0   \n85                        1158.0                          687.0   \n86                         293.0                           79.0   \n\n    No. of Nursing Homes in County  Nursing Home Cases, % of Total  \\\n0                              4.0                        0.099076   \n1                             35.0                        0.050163   \n2                              8.0                        0.093900   \n3                             11.0                        0.077968   \n4                             11.0                        0.124275   \n..                             ...                             ...   \n82                             3.0                        0.030612   \n83                             2.0                        0.053176   \n84                             9.0                        0.066062   \n85                            20.0                        0.054724   \n86                             3.0                        0.080860   \n\n    Cases per number of Nursing Home  \n0                          29.500000  \n1                          47.857143  \n2                          36.750000  \n3                          24.000000  \n4                          50.636364  \n..                               ...  \n82                         12.000000  \n83                         18.000000  \n84                         30.777778  \n85                         34.350000  \n86                         26.333333  \n\n[87 rows x 13 columns]",
      "text/html": "<div>\n<style scoped>\n    .dataframe tbody tr th:only-of-type {\n        vertical-align: middle;\n    }\n\n    .dataframe tbody tr th {\n        vertical-align: top;\n    }\n\n    .dataframe thead th {\n        text-align: right;\n    }\n</style>\n<table border=\"1\" class=\"dataframe\">\n  <thead>\n    <tr style=\"text-align: right;\">\n      <th></th>\n      <th>Unnamed: 0</th>\n      <th>County</th>\n      <th>Total Positive Cases</th>\n      <th>Total Deaths</th>\n      <th>Population</th>\n      <th>Rate of Infection</th>\n      <th>Pop Density</th>\n      <th>Mean Household Size</th>\n      <th>Congregate Living Population</th>\n      <th>No. of Cases in Nursing Homes</th>\n      <th>No. of Nursing Homes in County</th>\n      <th>Nursing Home Cases, % of Total</th>\n      <th>Cases per number of Nursing Home</th>\n    </tr>\n  </thead>\n  <tbody>\n    <tr>\n      <th>0</th>\n      <td>0</td>\n      <td>Aitkin</td>\n      <td>1191</td>\n      <td>33</td>\n      <td>15870.0</td>\n      <td>0.075047</td>\n      <td>8.0</td>\n      <td>2.097233</td>\n      <td>254.0</td>\n      <td>118.0</td>\n      <td>4.0</td>\n      <td>0.099076</td>\n      <td>29.500000</td>\n    </tr>\n    <tr>\n      <th>1</th>\n      <td>1</td>\n      <td>Anoka</td>\n      <td>33391</td>\n      <td>390</td>\n      <td>362648.0</td>\n      <td>0.092076</td>\n      <td>753.9</td>\n      <td>2.712716</td>\n      <td>3753.0</td>\n      <td>1675.0</td>\n      <td>35.0</td>\n      <td>0.050163</td>\n      <td>47.857143</td>\n    </tr>\n    <tr>\n      <th>2</th>\n      <td>2</td>\n      <td>Becker</td>\n      <td>3131</td>\n      <td>42</td>\n      <td>34545.0</td>\n      <td>0.090635</td>\n      <td>22.8</td>\n      <td>2.393929</td>\n      <td>477.0</td>\n      <td>294.0</td>\n      <td>8.0</td>\n      <td>0.093900</td>\n      <td>36.750000</td>\n    </tr>\n    <tr>\n      <th>3</th>\n      <td>3</td>\n      <td>Beltrami</td>\n      <td>3386</td>\n      <td>51</td>\n      <td>47184.0</td>\n      <td>0.071762</td>\n      <td>14.8</td>\n      <td>2.487013</td>\n      <td>1990.0</td>\n      <td>264.0</td>\n      <td>11.0</td>\n      <td>0.077968</td>\n      <td>24.000000</td>\n    </tr>\n    <tr>\n      <th>4</th>\n      <td>4</td>\n      <td>Benton</td>\n      <td>4482</td>\n      <td>90</td>\n      <td>40895.0</td>\n      <td>0.109598</td>\n      <td>94.4</td>\n      <td>2.426614</td>\n      <td>1050.0</td>\n      <td>557.0</td>\n      <td>11.0</td>\n      <td>0.124275</td>\n      <td>50.636364</td>\n    </tr>\n    <tr>\n      <th>...</th>\n      <td>...</td>\n      <td>...</td>\n      <td>...</td>\n      <td>...</td>\n      <td>...</td>\n      <td>...</td>\n      <td>...</td>\n      <td>...</td>\n      <td>...</td>\n      <td>...</td>\n      <td>...</td>\n      <td>...</td>\n      <td>...</td>\n    </tr>\n    <tr>\n      <th>82</th>\n      <td>82</td>\n      <td>Watonwan</td>\n      <td>1176</td>\n      <td>8</td>\n      <td>10923.0</td>\n      <td>0.107663</td>\n      <td>25.4</td>\n      <td>2.397507</td>\n      <td>151.0</td>\n      <td>36.0</td>\n      <td>3.0</td>\n      <td>0.030612</td>\n      <td>12.000000</td>\n    </tr>\n    <tr>\n      <th>83</th>\n      <td>83</td>\n      <td>Wilkin</td>\n      <td>677</td>\n      <td>11</td>\n      <td>6226.0</td>\n      <td>0.108738</td>\n      <td>8.7</td>\n      <td>2.238850</td>\n      <td>152.0</td>\n      <td>36.0</td>\n      <td>2.0</td>\n      <td>0.053176</td>\n      <td>18.000000</td>\n    </tr>\n    <tr>\n      <th>84</th>\n      <td>84</td>\n      <td>Winona</td>\n      <td>4193</td>\n      <td>49</td>\n      <td>50830.0</td>\n      <td>0.082491</td>\n      <td>79.9</td>\n      <td>2.352632</td>\n      <td>3855.0</td>\n      <td>277.0</td>\n      <td>9.0</td>\n      <td>0.066062</td>\n      <td>30.777778</td>\n    </tr>\n    <tr>\n      <th>85</th>\n      <td>85</td>\n      <td>Wright</td>\n      <td>12554</td>\n      <td>116</td>\n      <td>138531.0</td>\n      <td>0.090622</td>\n      <td>178.3</td>\n      <td>2.796739</td>\n      <td>1158.0</td>\n      <td>687.0</td>\n      <td>20.0</td>\n      <td>0.054724</td>\n      <td>34.350000</td>\n    </tr>\n    <tr>\n      <th>86</th>\n      <td>86</td>\n      <td>Yellow Medicine</td>\n      <td>977</td>\n      <td>17</td>\n      <td>9729.0</td>\n      <td>0.100421</td>\n      <td>13.4</td>\n      <td>2.282535</td>\n      <td>293.0</td>\n      <td>79.0</td>\n      <td>3.0</td>\n      <td>0.080860</td>\n      <td>26.333333</td>\n    </tr>\n  </tbody>\n</table>\n<p>87 rows × 13 columns</p>\n</div>"
     },
     "execution_count": 29,
     "metadata": {},
     "output_type": "execute_result"
    }
   ],
   "source": [
    "compiledcountydata_dir = \"https://raw.githubusercontent.com/jaredbarkley0/PythonGroupProject/master/MN%20County%20Data_032721.csv\"\n",
    "compiledcountydata = pd.read_csv(compiledcountydata_dir)\n",
    "compiledcountydata"
   ],
   "metadata": {
    "collapsed": false,
    "pycharm": {
     "name": "#%%\n"
    }
   }
  },
  {
   "cell_type": "code",
   "execution_count": 30,
   "outputs": [],
   "source": [
    "#Fill NaN values for all facility-related data points with 0, which is an equivalent value in this case\n",
    "fillfacilitiesdata = {'Casesinfacility':0,'FacilitiesinCounty':0,'Percent Cases in Facilities':0,'Cases per number of Facilities':0}\n",
    "compiledcountydata.fillna(fillfacilitiesdata, inplace=True)"
   ],
   "metadata": {
    "collapsed": false,
    "pycharm": {
     "name": "#%%\n"
    }
   }
  },
  {
   "cell_type": "code",
   "execution_count": 31,
   "outputs": [],
   "source": [
    "#drops all na's in dataset\n",
    "compiledcountydata.dropna(inplace=True)"
   ],
   "metadata": {
    "collapsed": false,
    "pycharm": {
     "name": "#%%\n"
    }
   }
  },
  {
   "cell_type": "code",
   "execution_count": 32,
   "outputs": [
    {
     "name": "stdout",
     "output_type": "stream",
     "text": [
      "<class 'pandas.core.frame.DataFrame'>\n",
      "Int64Index: 87 entries, 0 to 86\n",
      "Data columns (total 13 columns):\n",
      " #   Column                            Non-Null Count  Dtype  \n",
      "---  ------                            --------------  -----  \n",
      " 0   Unnamed: 0                        87 non-null     int64  \n",
      " 1   County                            87 non-null     object \n",
      " 2   Total Positive Cases              87 non-null     int64  \n",
      " 3   Total Deaths                      87 non-null     int64  \n",
      " 4   Population                        87 non-null     float64\n",
      " 5   Rate of Infection                 87 non-null     float64\n",
      " 6   Pop Density                       87 non-null     float64\n",
      " 7   Mean Household Size               87 non-null     float64\n",
      " 8   Congregate Living Population      87 non-null     float64\n",
      " 9   No. of Cases in Nursing Homes     87 non-null     float64\n",
      " 10  No. of Nursing Homes in County    87 non-null     float64\n",
      " 11  Nursing Home Cases, % of Total    87 non-null     float64\n",
      " 12  Cases per number of Nursing Home  87 non-null     float64\n",
      "dtypes: float64(9), int64(3), object(1)\n",
      "memory usage: 9.5+ KB\n"
     ]
    }
   ],
   "source": [
    "#shows data info\n",
    "compiledcountydata.info()"
   ],
   "metadata": {
    "collapsed": false,
    "pycharm": {
     "name": "#%%\n"
    }
   }
  },
  {
   "cell_type": "code",
   "execution_count": 33,
   "outputs": [],
   "source": [
    "# Assign columns of interest and target value\n",
    "# Columns were chosen based on a Mixed Stepwise Regression and removing Multicollinearity utilizing JMP program\n",
    "columns = [\"Total Positive Cases\",\"Pop Density\",\"Mean Household Size\", \"Cases per number of Nursing Home\"]\n",
    "target = \"Total Deaths\"\n",
    "\n",
    "X = compiledcountydata[columns]\n",
    "y = compiledcountydata[target]"
   ],
   "metadata": {
    "collapsed": false,
    "pycharm": {
     "name": "#%%\n"
    }
   }
  },
  {
   "cell_type": "code",
   "execution_count": 34,
   "outputs": [],
   "source": [
    "X_train, X_test, y_train, y_test = train_test_split(X, y, test_size=0.30, random_state=1)"
   ],
   "metadata": {
    "collapsed": false,
    "pycharm": {
     "name": "#%%\n"
    }
   }
  },
  {
   "cell_type": "code",
   "execution_count": 35,
   "outputs": [
    {
     "data": {
      "text/plain": "0      1191\n1     33391\n2      3131\n3      3386\n4      4482\n      ...  \n82     1176\n83      677\n84     4193\n85    12554\n86      977\nName: Total Positive Cases, Length: 87, dtype: int64"
     },
     "execution_count": 35,
     "metadata": {},
     "output_type": "execute_result"
    }
   ],
   "source": [
    "X_Plot = X[\"Total Positive Cases\"]\n",
    "X_Plot"
   ],
   "metadata": {
    "collapsed": false,
    "pycharm": {
     "name": "#%%\n"
    }
   }
  },
  {
   "cell_type": "code",
   "execution_count": 36,
   "outputs": [
    {
     "data": {
      "text/plain": "LinearRegression()"
     },
     "execution_count": 36,
     "metadata": {},
     "output_type": "execute_result"
    }
   ],
   "source": [
    "#assign a variable to call linear regression function\n",
    "lr = LinearRegression()\n",
    "lr"
   ],
   "metadata": {
    "collapsed": false,
    "pycharm": {
     "name": "#%%\n"
    }
   }
  },
  {
   "cell_type": "code",
   "execution_count": 37,
   "outputs": [
    {
     "data": {
      "text/plain": "LinearRegression()"
     },
     "execution_count": 37,
     "metadata": {},
     "output_type": "execute_result"
    }
   ],
   "source": [
    "lr.fit(X_train, y_train)"
   ],
   "metadata": {
    "collapsed": false,
    "pycharm": {
     "name": "#%%\n"
    }
   }
  },
  {
   "cell_type": "code",
   "execution_count": 38,
   "outputs": [
    {
     "data": {
      "text/plain": "0.9829808717548716"
     },
     "execution_count": 11,
     "metadata": {},
     "output_type": "execute_result"
    },
    {
     "data": {
      "text/plain": "0.9829808717548716"
     },
     "execution_count": 38,
     "metadata": {},
     "output_type": "execute_result"
    }
   ],
   "source": [
    "lr.score(X_train, y_train)  # What's our score with the training data set?"
   ],
   "metadata": {
    "collapsed": false,
    "pycharm": {
     "name": "#%%\n"
    }
   }
  },
  {
   "cell_type": "code",
   "execution_count": 39,
   "outputs": [
    {
     "data": {
      "text/plain": "0.9040824270669782"
     },
     "execution_count": 12,
     "metadata": {},
     "output_type": "execute_result"
    },
    {
     "data": {
      "text/plain": "0.9040824270669782"
     },
     "execution_count": 39,
     "metadata": {},
     "output_type": "execute_result"
    }
   ],
   "source": [
    "lr.score(X_test, y_test)    # What's our score with the test data set?"
   ],
   "metadata": {
    "collapsed": false,
    "pycharm": {
     "name": "#%%\n"
    }
   }
  },
  {
   "cell_type": "code",
   "execution_count": 40,
   "outputs": [
    {
     "data": {
      "text/plain": "array([ 12.41137101,  38.25773989,  21.75078544,  14.21922198,\n        34.79363617,   1.23094602,  21.88836259,  74.07437618,\n        16.32182689,  21.92834144,  12.9103362 ,   1.34791321,\n        28.26751498,  18.00257089,  18.04831086,  22.68545898,\n        37.17069057,  22.88967571, 142.76679684,  39.65105443,\n       -19.29491224, 308.76381894,  29.60738403,   3.88056098,\n        21.05251607,   7.3631191 ,   2.62328094])"
     },
     "execution_count": 40,
     "metadata": {},
     "output_type": "execute_result"
    }
   ],
   "source": [
    "lr.predict(X_test)"
   ],
   "metadata": {
    "collapsed": false,
    "pycharm": {
     "name": "#%%\n"
    }
   }
  },
  {
   "cell_type": "code",
   "execution_count": 41,
   "outputs": [
    {
     "name": "stdout",
     "output_type": "stream",
     "text": [
      "My R-squared value is 0.9040824270669782\n",
      "My slope coefficients are [ 1.35720321e-02  7.48363617e-02 -1.16294115e+02  3.71104620e-01]\n",
      "My intercept is 257.7321183580783\n"
     ]
    }
   ],
   "source": [
    "print(f'My R-squared value is {lr.score(X_test, y_test)}')\n",
    "print(f'My slope coefficients are {lr.coef_}')\n",
    "print(f'My intercept is {lr.intercept_}')"
   ],
   "metadata": {
    "collapsed": false,
    "pycharm": {
     "name": "#%%\n"
    }
   }
  },
  {
   "cell_type": "code",
   "execution_count": 42,
   "outputs": [
    {
     "data": {
      "text/plain": "array([ 12.41137101,  38.25773989,  21.75078544,  14.21922198,\n        34.79363617,   1.23094602,  21.88836259,  74.07437618,\n        16.32182689,  21.92834144,  12.9103362 ,   1.34791321,\n        28.26751498,  18.00257089,  18.04831086,  22.68545898,\n        37.17069057,  22.88967571, 142.76679684,  39.65105443,\n       -19.29491224, 308.76381894,  29.60738403,   3.88056098,\n        21.05251607,   7.3631191 ,   2.62328094])"
     },
     "execution_count": 42,
     "metadata": {},
     "output_type": "execute_result"
    }
   ],
   "source": [
    "#Plotting predictions of test values for reference\n",
    "\n",
    "lr.predict(X_test)"
   ],
   "metadata": {
    "collapsed": false,
    "pycharm": {
     "name": "#%%\n"
    }
   }
  },
  {
   "cell_type": "code",
   "execution_count": 43,
   "outputs": [],
   "source": [
    "# Commenting this out for now as it's not working, but would be nice to be able to make a plot\n",
    "\n",
    "# import matplotlib.pyplot as plt\n",
    "\n",
    "# fig, ax = plt.subplots(figsize = (12,12))\n",
    "# y_pred = lr.predict(X_test)\n",
    "\n",
    "# plt.scatter(X_test, y_test,  color='black')\n",
    "# plt.plot(X_test, y_pred, color='blue', linewidth=3)\n",
    "# plt.show()"
   ],
   "metadata": {
    "collapsed": false,
    "pycharm": {
     "name": "#%%\n"
    }
   }
  },
  {
   "cell_type": "code",
   "execution_count": 44,
   "outputs": [],
   "source": [
    "# Example with Lasso\n",
    "# Commenting out, these were example cells taken from scikitlearn tutorials\n",
    "\n",
    "# clf = Lasso(alpha=0.1)\n",
    "# clf.fit([[0,0], [1, 1], [2, 2]], [0, 1, 2])\n",
    "# Lasso(alpha=0.1)\n",
    "# print(clf.coef_)"
   ],
   "metadata": {
    "collapsed": false,
    "pycharm": {
     "name": "#%%\n"
    }
   }
  },
  {
   "cell_type": "code",
   "execution_count": 45,
   "outputs": [],
   "source": [
    "# Commenting out, these were example cells taken from scikitlearn tutorials\n",
    "\n",
    "# print(clf.intercept_)"
   ],
   "metadata": {
    "collapsed": false,
    "pycharm": {
     "name": "#%%\n"
    }
   }
  },
  {
   "cell_type": "code",
   "execution_count": 46,
   "outputs": [],
   "source": [
    "# Same as linreg and ridge, create a variable for the regression function\n",
    "\n",
    "clf = Lasso(alpha=0.1)"
   ],
   "metadata": {
    "collapsed": false,
    "pycharm": {
     "name": "#%%\n"
    }
   }
  },
  {
   "cell_type": "code",
   "execution_count": 47,
   "outputs": [
    {
     "data": {
      "text/plain": "Lasso(alpha=0.1)"
     },
     "execution_count": 47,
     "metadata": {},
     "output_type": "execute_result"
    }
   ],
   "source": [
    "# Running same pattern of fit on train, score on train, score on test\n",
    "clf.fit(X_train, y_train)"
   ],
   "metadata": {
    "collapsed": false,
    "pycharm": {
     "name": "#%%\n"
    }
   }
  },
  {
   "cell_type": "code",
   "execution_count": 48,
   "outputs": [
    {
     "data": {
      "text/plain": "0.9829734483687378"
     },
     "execution_count": 48,
     "metadata": {},
     "output_type": "execute_result"
    }
   ],
   "source": [
    "clf.score(X_train, y_train) # same scores as linear regression"
   ],
   "metadata": {
    "collapsed": false,
    "pycharm": {
     "name": "#%%\n"
    }
   }
  },
  {
   "cell_type": "code",
   "execution_count": 49,
   "outputs": [
    {
     "data": {
      "text/plain": "0.9038101753632656"
     },
     "execution_count": 49,
     "metadata": {},
     "output_type": "execute_result"
    }
   ],
   "source": [
    "clf.score(X_test, y_test) # Same score as linear regression"
   ],
   "metadata": {
    "collapsed": false,
    "pycharm": {
     "name": "#%%\n"
    }
   }
  },
  {
   "cell_type": "code",
   "execution_count": 50,
   "outputs": [
    {
     "data": {
      "text/plain": "    Total Positive Cases  Pop Density  Mean Household Size  \\\n38                   220          3.6             2.163006   \n44                  1903         28.1             2.194419   \n27                  1580         33.2             2.282801   \n40                   512         10.6             2.188170   \n36                   686          9.1             2.136964   \n82                  1176         25.4             2.397507   \n58                  1017         20.2             2.229885   \n69                  8761        199.0             2.866729   \n86                   977         13.4             2.282535   \n56                  1370         22.7             2.271549   \n67                  1807          9.3             2.409287   \n53                   478          7.7             2.287696   \n48                  3256         28.7             2.452333   \n66                  1158         19.9             2.334873   \n63                  1470         18.0             2.309969   \n10                  2207         11.8             2.331887   \n2                   3131         22.8             2.393929   \n35                   620          4.2             2.110399   \n68                 13354        366.8             2.900663   \n45                  3402         71.6             2.393349   \n19                  1535         46.1             2.630820   \n81                 22156        577.4             2.638840   \n34                   409          4.1             2.169948   \n32                  1078         30.1             2.476403   \n31                   940         14.3             2.215780   \n43                   780          5.2             2.328643   \n62                   362          9.4             2.302579   \n\n    Cases per number of Nursing Home  \n38                          8.000000  \n44                         21.000000  \n27                         15.000000  \n40                          8.666667  \n36                         42.000000  \n82                         12.000000  \n58                         22.000000  \n69                         42.923077  \n86                         26.333333  \n56                         21.750000  \n67                         27.333333  \n53                          7.000000  \n48                         25.300000  \n66                         39.333333  \n63                         20.625000  \n10                         14.285714  \n2                          36.750000  \n35                          5.000000  \n68                         36.846154  \n45                         23.500000  \n19                         12.500000  \n81                         37.727273  \n34                         49.500000  \n32                         46.500000  \n31                         19.333333  \n43                         25.500000  \n62                         19.000000  ",
      "text/html": "<div>\n<style scoped>\n    .dataframe tbody tr th:only-of-type {\n        vertical-align: middle;\n    }\n\n    .dataframe tbody tr th {\n        vertical-align: top;\n    }\n\n    .dataframe thead th {\n        text-align: right;\n    }\n</style>\n<table border=\"1\" class=\"dataframe\">\n  <thead>\n    <tr style=\"text-align: right;\">\n      <th></th>\n      <th>Total Positive Cases</th>\n      <th>Pop Density</th>\n      <th>Mean Household Size</th>\n      <th>Cases per number of Nursing Home</th>\n    </tr>\n  </thead>\n  <tbody>\n    <tr>\n      <th>38</th>\n      <td>220</td>\n      <td>3.6</td>\n      <td>2.163006</td>\n      <td>8.000000</td>\n    </tr>\n    <tr>\n      <th>44</th>\n      <td>1903</td>\n      <td>28.1</td>\n      <td>2.194419</td>\n      <td>21.000000</td>\n    </tr>\n    <tr>\n      <th>27</th>\n      <td>1580</td>\n      <td>33.2</td>\n      <td>2.282801</td>\n      <td>15.000000</td>\n    </tr>\n    <tr>\n      <th>40</th>\n      <td>512</td>\n      <td>10.6</td>\n      <td>2.188170</td>\n      <td>8.666667</td>\n    </tr>\n    <tr>\n      <th>36</th>\n      <td>686</td>\n      <td>9.1</td>\n      <td>2.136964</td>\n      <td>42.000000</td>\n    </tr>\n    <tr>\n      <th>82</th>\n      <td>1176</td>\n      <td>25.4</td>\n      <td>2.397507</td>\n      <td>12.000000</td>\n    </tr>\n    <tr>\n      <th>58</th>\n      <td>1017</td>\n      <td>20.2</td>\n      <td>2.229885</td>\n      <td>22.000000</td>\n    </tr>\n    <tr>\n      <th>69</th>\n      <td>8761</td>\n      <td>199.0</td>\n      <td>2.866729</td>\n      <td>42.923077</td>\n    </tr>\n    <tr>\n      <th>86</th>\n      <td>977</td>\n      <td>13.4</td>\n      <td>2.282535</td>\n      <td>26.333333</td>\n    </tr>\n    <tr>\n      <th>56</th>\n      <td>1370</td>\n      <td>22.7</td>\n      <td>2.271549</td>\n      <td>21.750000</td>\n    </tr>\n    <tr>\n      <th>67</th>\n      <td>1807</td>\n      <td>9.3</td>\n      <td>2.409287</td>\n      <td>27.333333</td>\n    </tr>\n    <tr>\n      <th>53</th>\n      <td>478</td>\n      <td>7.7</td>\n      <td>2.287696</td>\n      <td>7.000000</td>\n    </tr>\n    <tr>\n      <th>48</th>\n      <td>3256</td>\n      <td>28.7</td>\n      <td>2.452333</td>\n      <td>25.300000</td>\n    </tr>\n    <tr>\n      <th>66</th>\n      <td>1158</td>\n      <td>19.9</td>\n      <td>2.334873</td>\n      <td>39.333333</td>\n    </tr>\n    <tr>\n      <th>63</th>\n      <td>1470</td>\n      <td>18.0</td>\n      <td>2.309969</td>\n      <td>20.625000</td>\n    </tr>\n    <tr>\n      <th>10</th>\n      <td>2207</td>\n      <td>11.8</td>\n      <td>2.331887</td>\n      <td>14.285714</td>\n    </tr>\n    <tr>\n      <th>2</th>\n      <td>3131</td>\n      <td>22.8</td>\n      <td>2.393929</td>\n      <td>36.750000</td>\n    </tr>\n    <tr>\n      <th>35</th>\n      <td>620</td>\n      <td>4.2</td>\n      <td>2.110399</td>\n      <td>5.000000</td>\n    </tr>\n    <tr>\n      <th>68</th>\n      <td>13354</td>\n      <td>366.8</td>\n      <td>2.900663</td>\n      <td>36.846154</td>\n    </tr>\n    <tr>\n      <th>45</th>\n      <td>3402</td>\n      <td>71.6</td>\n      <td>2.393349</td>\n      <td>23.500000</td>\n    </tr>\n    <tr>\n      <th>19</th>\n      <td>1535</td>\n      <td>46.1</td>\n      <td>2.630820</td>\n      <td>12.500000</td>\n    </tr>\n    <tr>\n      <th>81</th>\n      <td>22156</td>\n      <td>577.4</td>\n      <td>2.638840</td>\n      <td>37.727273</td>\n    </tr>\n    <tr>\n      <th>34</th>\n      <td>409</td>\n      <td>4.1</td>\n      <td>2.169948</td>\n      <td>49.500000</td>\n    </tr>\n    <tr>\n      <th>32</th>\n      <td>1078</td>\n      <td>30.1</td>\n      <td>2.476403</td>\n      <td>46.500000</td>\n    </tr>\n    <tr>\n      <th>31</th>\n      <td>940</td>\n      <td>14.3</td>\n      <td>2.215780</td>\n      <td>19.333333</td>\n    </tr>\n    <tr>\n      <th>43</th>\n      <td>780</td>\n      <td>5.2</td>\n      <td>2.328643</td>\n      <td>25.500000</td>\n    </tr>\n    <tr>\n      <th>62</th>\n      <td>362</td>\n      <td>9.4</td>\n      <td>2.302579</td>\n      <td>19.000000</td>\n    </tr>\n  </tbody>\n</table>\n</div>"
     },
     "execution_count": 50,
     "metadata": {},
     "output_type": "execute_result"
    }
   ],
   "source": [
    "#Printing for reference for a plot later on\n",
    "X_test"
   ],
   "metadata": {
    "collapsed": false,
    "pycharm": {
     "name": "#%%\n"
    }
   }
  },
  {
   "cell_type": "code",
   "execution_count": 51,
   "outputs": [
    {
     "data": {
      "text/plain": "array([ 11.77339041,  37.59165525,  21.49668188,  13.67050991,\n        33.68200756,   1.46070653,  21.354942  ,  75.75436351,\n        15.94809874,  21.55879014,  13.01814287,   1.20707297,\n        28.55745755,  17.69107435,  17.84121626,  22.6300487 ,\n        37.1089018 ,  22.07654944, 144.6101032 ,  39.72548428,\n       -18.16120407, 309.51471585,  28.54507588,   4.04447236,\n        20.49371847,   7.18043004,   2.41077386])"
     },
     "execution_count": 51,
     "metadata": {},
     "output_type": "execute_result"
    }
   ],
   "source": [
    "clf.predict(X_test)"
   ],
   "metadata": {
    "collapsed": false,
    "pycharm": {
     "name": "#%%\n"
    }
   }
  },
  {
   "cell_type": "code",
   "execution_count": 52,
   "outputs": [
    {
     "data": {
      "text/plain": "array([ 1.35674006e-02,  7.47520677e-02, -1.12381836e+02,  3.60247496e-01])"
     },
     "execution_count": 52,
     "metadata": {},
     "output_type": "execute_result"
    }
   ],
   "source": [
    "clf.coef_"
   ],
   "metadata": {
    "collapsed": false,
    "pycharm": {
     "name": "#%%\n"
    }
   }
  },
  {
   "cell_type": "code",
   "execution_count": 53,
   "outputs": [
    {
     "data": {
      "text/plain": "248.72003675476154"
     },
     "execution_count": 53,
     "metadata": {},
     "output_type": "execute_result"
    }
   ],
   "source": [
    "clf.intercept_"
   ],
   "metadata": {
    "collapsed": false,
    "pycharm": {
     "name": "#%%\n"
    }
   }
  },
  {
   "cell_type": "code",
   "execution_count": 54,
   "outputs": [
    {
     "data": {
      "text/plain": "<Figure size 864x864 with 1 Axes>",
      "image/png": "[encoded data removed]"
     },
     "metadata": {
      "needs_background": "light"
     },
     "output_type": "display_data"
    }
   ],
   "source": [
    "\n",
    "# Printing predicted values in blue and actual values in red, this regression appears to track very closely\n",
    "\n",
    "fig, ax = plt.subplots(figsize=(12,12))\n",
    "y_pred = lr.predict(X)\n",
    "plt.scatter(X_Plot, y_pred, color='blue')\n",
    "plt.scatter(compiledcountydata[\"Total Positive Cases\"],compiledcountydata[\"Total Deaths\"], color='red')\n",
    "plt.show()"
   ],
   "metadata": {
    "collapsed": false,
    "pycharm": {
     "name": "#%%\n"
    }
   }
  },
  {
   "cell_type": "code",
   "execution_count": 54,
   "outputs": [],
   "source": [],
   "metadata": {
    "collapsed": false,
    "pycharm": {
     "name": "#%%\n"
    }
   }
  }
 ],
 "metadata": {
  "kernelspec": {
   "display_name": "Python 3",
   "language": "python",
   "name": "python3"
  },
  "language_info": {
   "codemirror_mode": {
    "name": "ipython",
    "version": 2
   },
   "file_extension": ".py",
   "mimetype": "text/x-python",
   "name": "python",
   "nbconvert_exporter": "python",
   "pygments_lexer": "ipython2",
   "version": "2.7.6"
  }
 },
 "nbformat": 4,
 "nbformat_minor": 0
}