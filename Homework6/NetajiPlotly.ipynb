{
 "cells": [
  {
   "cell_type": "code",
   "execution_count": 18,
   "metadata": {},
   "outputs": [],
   "source": [
    "import pandas as pd\n",
    "import plotly\n",
    "import plotly.express as px\n"
   ]
  },
  {
   "cell_type": "code",
   "execution_count": 6,
   "metadata": {},
   "outputs": [
    {
     "data": {
      "application/vnd.plotly.v1+json": {
       "config": {
        "plotlyServerURL": "https://plot.ly"
       },
       "data": [
        {
         "alignmentgroup": "True",
         "bingroup": "x",
         "hovertemplate": "Total Deaths=%{x}<br>count=%{y}<extra></extra>",
         "legendgroup": "",
         "marker": {
          "color": "#636efa"
         },
         "name": "",
         "offsetgroup": "",
         "orientation": "v",
         "showlegend": false,
         "type": "histogram",
         "x": [
          33,
          390,
          42,
          51,
          90,
          3,
          35,
          37,
          49,
          40,
          24,
          35,
          45,
          87,
          14,
          0,
          20,
          82,
          392,
          4,
          68,
          17,
          8,
          24,
          69,
          8,
          1588,
          14,
          41,
          56,
          46,
          10,
          19,
          74,
          21,
          11,
          16,
          18,
          1,
          20,
          2,
          44,
          7,
          15,
          28,
          50,
          34,
          47,
          47,
          31,
          8,
          41,
          47,
          8,
          89,
          70,
          16,
          16,
          24,
          63,
          5,
          805,
          5,
          27,
          40,
          91,
          14,
          17,
          107,
          73,
          10,
          264,
          202,
          11,
          8,
          18,
          30,
          5,
          3,
          20,
          17,
          259,
          8,
          11,
          49,
          116,
          17,
          0
         ],
         "xaxis": "x",
         "yaxis": "y"
        }
       ],
       "layout": {
        "barmode": "relative",
        "legend": {
         "tracegroupgap": 0
        },
        "margin": {
         "t": 60
        },
        "template": {
         "data": {
          "bar": [
           {
            "error_x": {
             "color": "#2a3f5f"
            },
            "error_y": {
             "color": "#2a3f5f"
            },
            "marker": {
             "line": {
              "color": "#E5ECF6",
              "width": 0.5
             }
            },
            "type": "bar"
           }
          ],
          "barpolar": [
           {
            "marker": {
             "line": {
              "color": "#E5ECF6",
              "width": 0.5
             }
            },
            "type": "barpolar"
           }
          ],
          "carpet": [
           {
            "aaxis": {
             "endlinecolor": "#2a3f5f",
             "gridcolor": "white",
             "linecolor": "white",
             "minorgridcolor": "white",
             "startlinecolor": "#2a3f5f"
            },
            "baxis": {
             "endlinecolor": "#2a3f5f",
             "gridcolor": "white",
             "linecolor": "white",
             "minorgridcolor": "white",
             "startlinecolor": "#2a3f5f"
            },
            "type": "carpet"
           }
          ],
          "choropleth": [
           {
            "colorbar": {
             "outlinewidth": 0,
             "ticks": ""
            },
            "type": "choropleth"
           }
          ],
          "contour": [
           {
            "colorbar": {
             "outlinewidth": 0,
             "ticks": ""
            },
            "colorscale": [
             [
              0,
              "#0d0887"
             ],
             [
              0.1111111111111111,
              "#46039f"
             ],
             [
              0.2222222222222222,
              "#7201a8"
             ],
             [
              0.3333333333333333,
              "#9c179e"
             ],
             [
              0.4444444444444444,
              "#bd3786"
             ],
             [
              0.5555555555555556,
              "#d8576b"
             ],
             [
              0.6666666666666666,
              "#ed7953"
             ],
             [
              0.7777777777777778,
              "#fb9f3a"
             ],
             [
              0.8888888888888888,
              "#fdca26"
             ],
             [
              1,
              "#f0f921"
             ]
            ],
            "type": "contour"
           }
          ],
          "contourcarpet": [
           {
            "colorbar": {
             "outlinewidth": 0,
             "ticks": ""
            },
            "type": "contourcarpet"
           }
          ],
          "heatmap": [
           {
            "colorbar": {
             "outlinewidth": 0,
             "ticks": ""
            },
            "colorscale": [
             [
              0,
              "#0d0887"
             ],
             [
              0.1111111111111111,
              "#46039f"
             ],
             [
              0.2222222222222222,
              "#7201a8"
             ],
             [
              0.3333333333333333,
              "#9c179e"
             ],
             [
              0.4444444444444444,
              "#bd3786"
             ],
             [
              0.5555555555555556,
              "#d8576b"
             ],
             [
              0.6666666666666666,
              "#ed7953"
             ],
             [
              0.7777777777777778,
              "#fb9f3a"
             ],
             [
              0.8888888888888888,
              "#fdca26"
             ],
             [
              1,
              "#f0f921"
             ]
            ],
            "type": "heatmap"
           }
          ],
          "heatmapgl": [
           {
            "colorbar": {
             "outlinewidth": 0,
             "ticks": ""
            },
            "colorscale": [
             [
              0,
              "#0d0887"
             ],
             [
              0.1111111111111111,
              "#46039f"
             ],
             [
              0.2222222222222222,
              "#7201a8"
             ],
             [
              0.3333333333333333,
              "#9c179e"
             ],
             [
              0.4444444444444444,
              "#bd3786"
             ],
             [
              0.5555555555555556,
              "#d8576b"
             ],
             [
              0.6666666666666666,
              "#ed7953"
             ],
             [
              0.7777777777777778,
              "#fb9f3a"
             ],
             [
              0.8888888888888888,
              "#fdca26"
             ],
             [
              1,
              "#f0f921"
             ]
            ],
            "type": "heatmapgl"
           }
          ],
          "histogram": [
           {
            "marker": {
             "colorbar": {
              "outlinewidth": 0,
              "ticks": ""
             }
            },
            "type": "histogram"
           }
          ],
          "histogram2d": [
           {
            "colorbar": {
             "outlinewidth": 0,
             "ticks": ""
            },
            "colorscale": [
             [
              0,
              "#0d0887"
             ],
             [
              0.1111111111111111,
              "#46039f"
             ],
             [
              0.2222222222222222,
              "#7201a8"
             ],
             [
              0.3333333333333333,
              "#9c179e"
             ],
             [
              0.4444444444444444,
              "#bd3786"
             ],
             [
              0.5555555555555556,
              "#d8576b"
             ],
             [
              0.6666666666666666,
              "#ed7953"
             ],
             [
              0.7777777777777778,
              "#fb9f3a"
             ],
             [
              0.8888888888888888,
              "#fdca26"
             ],
             [
              1,
              "#f0f921"
             ]
            ],
            "type": "histogram2d"
           }
          ],
          "histogram2dcontour": [
           {
            "colorbar": {
             "outlinewidth": 0,
             "ticks": ""
            },
            "colorscale": [
             [
              0,
              "#0d0887"
             ],
             [
              0.1111111111111111,
              "#46039f"
             ],
             [
              0.2222222222222222,
              "#7201a8"
             ],
             [
              0.3333333333333333,
              "#9c179e"
             ],
             [
              0.4444444444444444,
              "#bd3786"
             ],
             [
              0.5555555555555556,
              "#d8576b"
             ],
             [
              0.6666666666666666,
              "#ed7953"
             ],
             [
              0.7777777777777778,
              "#fb9f3a"
             ],
             [
              0.8888888888888888,
              "#fdca26"
             ],
             [
              1,
              "#f0f921"
             ]
            ],
            "type": "histogram2dcontour"
           }
          ],
          "mesh3d": [
           {
            "colorbar": {
             "outlinewidth": 0,
             "ticks": ""
            },
            "type": "mesh3d"
           }
          ],
          "parcoords": [
           {
            "line": {
             "colorbar": {
              "outlinewidth": 0,
              "ticks": ""
             }
            },
            "type": "parcoords"
           }
          ],
          "pie": [
           {
            "automargin": true,
            "type": "pie"
           }
          ],
          "scatter": [
           {
            "marker": {
             "colorbar": {
              "outlinewidth": 0,
              "ticks": ""
             }
            },
            "type": "scatter"
           }
          ],
          "scatter3d": [
           {
            "line": {
             "colorbar": {
              "outlinewidth": 0,
              "ticks": ""
             }
            },
            "marker": {
             "colorbar": {
              "outlinewidth": 0,
              "ticks": ""
             }
            },
            "type": "scatter3d"
           }
          ],
          "scattercarpet": [
           {
            "marker": {
             "colorbar": {
              "outlinewidth": 0,
              "ticks": ""
             }
            },
            "type": "scattercarpet"
           }
          ],
          "scattergeo": [
           {
            "marker": {
             "colorbar": {
              "outlinewidth": 0,
              "ticks": ""
             }
            },
            "type": "scattergeo"
           }
          ],
          "scattergl": [
           {
            "marker": {
             "colorbar": {
              "outlinewidth": 0,
              "ticks": ""
             }
            },
            "type": "scattergl"
           }
          ],
          "scattermapbox": [
           {
            "marker": {
             "colorbar": {
              "outlinewidth": 0,
              "ticks": ""
             }
            },
            "type": "scattermapbox"
           }
          ],
          "scatterpolar": [
           {
            "marker": {
             "colorbar": {
              "outlinewidth": 0,
              "ticks": ""
             }
            },
            "type": "scatterpolar"
           }
          ],
          "scatterpolargl": [
           {
            "marker": {
             "colorbar": {
              "outlinewidth": 0,
              "ticks": ""
             }
            },
            "type": "scatterpolargl"
           }
          ],
          "scatterternary": [
           {
            "marker": {
             "colorbar": {
              "outlinewidth": 0,
              "ticks": ""
             }
            },
            "type": "scatterternary"
           }
          ],
          "surface": [
           {
            "colorbar": {
             "outlinewidth": 0,
             "ticks": ""
            },
            "colorscale": [
             [
              0,
              "#0d0887"
             ],
             [
              0.1111111111111111,
              "#46039f"
             ],
             [
              0.2222222222222222,
              "#7201a8"
             ],
             [
              0.3333333333333333,
              "#9c179e"
             ],
             [
              0.4444444444444444,
              "#bd3786"
             ],
             [
              0.5555555555555556,
              "#d8576b"
             ],
             [
              0.6666666666666666,
              "#ed7953"
             ],
             [
              0.7777777777777778,
              "#fb9f3a"
             ],
             [
              0.8888888888888888,
              "#fdca26"
             ],
             [
              1,
              "#f0f921"
             ]
            ],
            "type": "surface"
           }
          ],
          "table": [
           {
            "cells": {
             "fill": {
              "color": "#EBF0F8"
             },
             "line": {
              "color": "white"
             }
            },
            "header": {
             "fill": {
              "color": "#C8D4E3"
             },
             "line": {
              "color": "white"
             }
            },
            "type": "table"
           }
          ]
         },
         "layout": {
          "annotationdefaults": {
           "arrowcolor": "#2a3f5f",
           "arrowhead": 0,
           "arrowwidth": 1
          },
          "autotypenumbers": "strict",
          "coloraxis": {
           "colorbar": {
            "outlinewidth": 0,
            "ticks": ""
           }
          },
          "colorscale": {
           "diverging": [
            [
             0,
             "#8e0152"
            ],
            [
             0.1,
             "#c51b7d"
            ],
            [
             0.2,
             "#de77ae"
            ],
            [
             0.3,
             "#f1b6da"
            ],
            [
             0.4,
             "#fde0ef"
            ],
            [
             0.5,
             "#f7f7f7"
            ],
            [
             0.6,
             "#e6f5d0"
            ],
            [
             0.7,
             "#b8e186"
            ],
            [
             0.8,
             "#7fbc41"
            ],
            [
             0.9,
             "#4d9221"
            ],
            [
             1,
             "#276419"
            ]
           ],
           "sequential": [
            [
             0,
             "#0d0887"
            ],
            [
             0.1111111111111111,
             "#46039f"
            ],
            [
             0.2222222222222222,
             "#7201a8"
            ],
            [
             0.3333333333333333,
             "#9c179e"
            ],
            [
             0.4444444444444444,
             "#bd3786"
            ],
            [
             0.5555555555555556,
             "#d8576b"
            ],
            [
             0.6666666666666666,
             "#ed7953"
            ],
            [
             0.7777777777777778,
             "#fb9f3a"
            ],
            [
             0.8888888888888888,
             "#fdca26"
            ],
            [
             1,
             "#f0f921"
            ]
           ],
           "sequentialminus": [
            [
             0,
             "#0d0887"
            ],
            [
             0.1111111111111111,
             "#46039f"
            ],
            [
             0.2222222222222222,
             "#7201a8"
            ],
            [
             0.3333333333333333,
             "#9c179e"
            ],
            [
             0.4444444444444444,
             "#bd3786"
            ],
            [
             0.5555555555555556,
             "#d8576b"
            ],
            [
             0.6666666666666666,
             "#ed7953"
            ],
            [
             0.7777777777777778,
             "#fb9f3a"
            ],
            [
             0.8888888888888888,
             "#fdca26"
            ],
            [
             1,
             "#f0f921"
            ]
           ]
          },
          "colorway": [
           "#636efa",
           "#EF553B",
           "#00cc96",
           "#ab63fa",
           "#FFA15A",
           "#19d3f3",
           "#FF6692",
           "#B6E880",
           "#FF97FF",
           "#FECB52"
          ],
          "font": {
           "color": "#2a3f5f"
          },
          "geo": {
           "bgcolor": "white",
           "lakecolor": "white",
           "landcolor": "#E5ECF6",
           "showlakes": true,
           "showland": true,
           "subunitcolor": "white"
          },
          "hoverlabel": {
           "align": "left"
          },
          "hovermode": "closest",
          "mapbox": {
           "style": "light"
          },
          "paper_bgcolor": "white",
          "plot_bgcolor": "#E5ECF6",
          "polar": {
           "angularaxis": {
            "gridcolor": "white",
            "linecolor": "white",
            "ticks": ""
           },
           "bgcolor": "#E5ECF6",
           "radialaxis": {
            "gridcolor": "white",
            "linecolor": "white",
            "ticks": ""
           }
          },
          "scene": {
           "xaxis": {
            "backgroundcolor": "#E5ECF6",
            "gridcolor": "white",
            "gridwidth": 2,
            "linecolor": "white",
            "showbackground": true,
            "ticks": "",
            "zerolinecolor": "white"
           },
           "yaxis": {
            "backgroundcolor": "#E5ECF6",
            "gridcolor": "white",
            "gridwidth": 2,
            "linecolor": "white",
            "showbackground": true,
            "ticks": "",
            "zerolinecolor": "white"
           },
           "zaxis": {
            "backgroundcolor": "#E5ECF6",
            "gridcolor": "white",
            "gridwidth": 2,
            "linecolor": "white",
            "showbackground": true,
            "ticks": "",
            "zerolinecolor": "white"
           }
          },
          "shapedefaults": {
           "line": {
            "color": "#2a3f5f"
           }
          },
          "ternary": {
           "aaxis": {
            "gridcolor": "white",
            "linecolor": "white",
            "ticks": ""
           },
           "baxis": {
            "gridcolor": "white",
            "linecolor": "white",
            "ticks": ""
           },
           "bgcolor": "#E5ECF6",
           "caxis": {
            "gridcolor": "white",
            "linecolor": "white",
            "ticks": ""
           }
          },
          "title": {
           "x": 0.05
          },
          "xaxis": {
           "automargin": true,
           "gridcolor": "white",
           "linecolor": "white",
           "ticks": "",
           "title": {
            "standoff": 15
           },
           "zerolinecolor": "white",
           "zerolinewidth": 2
          },
          "yaxis": {
           "automargin": true,
           "gridcolor": "white",
           "linecolor": "white",
           "ticks": "",
           "title": {
            "standoff": 15
           },
           "zerolinecolor": "white",
           "zerolinewidth": 2
          }
         }
        },
        "xaxis": {
         "anchor": "y",
         "domain": [
          0,
          1
         ],
         "title": {
          "text": "Total Deaths"
         }
        },
        "yaxis": {
         "anchor": "x",
         "domain": [
          0,
          1
         ],
         "title": {
          "text": "count"
         }
        }
       }
      },
      "text/html": [
       "<div>                            <div id=\"a1ec3edb-b9dc-43f6-beb4-e14f55bdf131\" class=\"plotly-graph-div\" style=\"height:525px; width:100%;\"></div>            <script type=\"text/javascript\">                require([\"plotly\"], function(Plotly) {                    window.PLOTLYENV=window.PLOTLYENV || {};                                    if (document.getElementById(\"a1ec3edb-b9dc-43f6-beb4-e14f55bdf131\")) {                    Plotly.newPlot(                        \"a1ec3edb-b9dc-43f6-beb4-e14f55bdf131\",                        [{\"alignmentgroup\": \"True\", \"bingroup\": \"x\", \"hovertemplate\": \"Total Deaths=%{x}<br>count=%{y}<extra></extra>\", \"legendgroup\": \"\", \"marker\": {\"color\": \"#636efa\"}, \"name\": \"\", \"offsetgroup\": \"\", \"orientation\": \"v\", \"showlegend\": false, \"type\": \"histogram\", \"x\": [33, 390, 42, 51, 90, 3, 35, 37, 49, 40, 24, 35, 45, 87, 14, 0, 20, 82, 392, 4, 68, 17, 8, 24, 69, 8, 1588, 14, 41, 56, 46, 10, 19, 74, 21, 11, 16, 18, 1, 20, 2, 44, 7, 15, 28, 50, 34, 47, 47, 31, 8, 41, 47, 8, 89, 70, 16, 16, 24, 63, 5, 805, 5, 27, 40, 91, 14, 17, 107, 73, 10, 264, 202, 11, 8, 18, 30, 5, 3, 20, 17, 259, 8, 11, 49, 116, 17, 0], \"xaxis\": \"x\", \"yaxis\": \"y\"}],                        {\"barmode\": \"relative\", \"legend\": {\"tracegroupgap\": 0}, \"margin\": {\"t\": 60}, \"template\": {\"data\": {\"bar\": [{\"error_x\": {\"color\": \"#2a3f5f\"}, \"error_y\": {\"color\": \"#2a3f5f\"}, \"marker\": {\"line\": {\"color\": \"#E5ECF6\", \"width\": 0.5}}, \"type\": \"bar\"}], \"barpolar\": [{\"marker\": {\"line\": {\"color\": \"#E5ECF6\", \"width\": 0.5}}, \"type\": \"barpolar\"}], \"carpet\": [{\"aaxis\": {\"endlinecolor\": \"#2a3f5f\", \"gridcolor\": \"white\", \"linecolor\": \"white\", \"minorgridcolor\": \"white\", \"startlinecolor\": \"#2a3f5f\"}, \"baxis\": {\"endlinecolor\": \"#2a3f5f\", \"gridcolor\": \"white\", \"linecolor\": \"white\", \"minorgridcolor\": \"white\", \"startlinecolor\": \"#2a3f5f\"}, \"type\": \"carpet\"}], \"choropleth\": [{\"colorbar\": {\"outlinewidth\": 0, \"ticks\": \"\"}, \"type\": \"choropleth\"}], \"contour\": [{\"colorbar\": {\"outlinewidth\": 0, \"ticks\": \"\"}, \"colorscale\": [[0.0, \"#0d0887\"], [0.1111111111111111, \"#46039f\"], [0.2222222222222222, \"#7201a8\"], [0.3333333333333333, \"#9c179e\"], [0.4444444444444444, \"#bd3786\"], [0.5555555555555556, \"#d8576b\"], [0.6666666666666666, \"#ed7953\"], [0.7777777777777778, \"#fb9f3a\"], [0.8888888888888888, \"#fdca26\"], [1.0, \"#f0f921\"]], \"type\": \"contour\"}], \"contourcarpet\": [{\"colorbar\": {\"outlinewidth\": 0, \"ticks\": \"\"}, \"type\": \"contourcarpet\"}], \"heatmap\": [{\"colorbar\": {\"outlinewidth\": 0, \"ticks\": \"\"}, \"colorscale\": [[0.0, \"#0d0887\"], [0.1111111111111111, \"#46039f\"], [0.2222222222222222, \"#7201a8\"], [0.3333333333333333, \"#9c179e\"], [0.4444444444444444, \"#bd3786\"], [0.5555555555555556, \"#d8576b\"], [0.6666666666666666, \"#ed7953\"], [0.7777777777777778, \"#fb9f3a\"], [0.8888888888888888, \"#fdca26\"], [1.0, \"#f0f921\"]], \"type\": \"heatmap\"}], \"heatmapgl\": [{\"colorbar\": {\"outlinewidth\": 0, \"ticks\": \"\"}, \"colorscale\": [[0.0, \"#0d0887\"], [0.1111111111111111, \"#46039f\"], [0.2222222222222222, \"#7201a8\"], [0.3333333333333333, \"#9c179e\"], [0.4444444444444444, \"#bd3786\"], [0.5555555555555556, \"#d8576b\"], [0.6666666666666666, \"#ed7953\"], [0.7777777777777778, \"#fb9f3a\"], [0.8888888888888888, \"#fdca26\"], [1.0, \"#f0f921\"]], \"type\": \"heatmapgl\"}], \"histogram\": [{\"marker\": {\"colorbar\": {\"outlinewidth\": 0, \"ticks\": \"\"}}, \"type\": \"histogram\"}], \"histogram2d\": [{\"colorbar\": {\"outlinewidth\": 0, \"ticks\": \"\"}, \"colorscale\": [[0.0, \"#0d0887\"], [0.1111111111111111, \"#46039f\"], [0.2222222222222222, \"#7201a8\"], [0.3333333333333333, \"#9c179e\"], [0.4444444444444444, \"#bd3786\"], [0.5555555555555556, \"#d8576b\"], [0.6666666666666666, \"#ed7953\"], [0.7777777777777778, \"#fb9f3a\"], [0.8888888888888888, \"#fdca26\"], [1.0, \"#f0f921\"]], \"type\": \"histogram2d\"}], \"histogram2dcontour\": [{\"colorbar\": {\"outlinewidth\": 0, \"ticks\": \"\"}, \"colorscale\": [[0.0, \"#0d0887\"], [0.1111111111111111, \"#46039f\"], [0.2222222222222222, \"#7201a8\"], [0.3333333333333333, \"#9c179e\"], [0.4444444444444444, \"#bd3786\"], [0.5555555555555556, \"#d8576b\"], [0.6666666666666666, \"#ed7953\"], [0.7777777777777778, \"#fb9f3a\"], [0.8888888888888888, \"#fdca26\"], [1.0, \"#f0f921\"]], \"type\": \"histogram2dcontour\"}], \"mesh3d\": [{\"colorbar\": {\"outlinewidth\": 0, \"ticks\": \"\"}, \"type\": \"mesh3d\"}], \"parcoords\": [{\"line\": {\"colorbar\": {\"outlinewidth\": 0, \"ticks\": \"\"}}, \"type\": \"parcoords\"}], \"pie\": [{\"automargin\": true, \"type\": \"pie\"}], \"scatter\": [{\"marker\": {\"colorbar\": {\"outlinewidth\": 0, \"ticks\": \"\"}}, \"type\": \"scatter\"}], \"scatter3d\": [{\"line\": {\"colorbar\": {\"outlinewidth\": 0, \"ticks\": \"\"}}, \"marker\": {\"colorbar\": {\"outlinewidth\": 0, \"ticks\": \"\"}}, \"type\": \"scatter3d\"}], \"scattercarpet\": [{\"marker\": {\"colorbar\": {\"outlinewidth\": 0, \"ticks\": \"\"}}, \"type\": \"scattercarpet\"}], \"scattergeo\": [{\"marker\": {\"colorbar\": {\"outlinewidth\": 0, \"ticks\": \"\"}}, \"type\": \"scattergeo\"}], \"scattergl\": [{\"marker\": {\"colorbar\": {\"outlinewidth\": 0, \"ticks\": \"\"}}, \"type\": \"scattergl\"}], \"scattermapbox\": [{\"marker\": {\"colorbar\": {\"outlinewidth\": 0, \"ticks\": \"\"}}, \"type\": \"scattermapbox\"}], \"scatterpolar\": [{\"marker\": {\"colorbar\": {\"outlinewidth\": 0, \"ticks\": \"\"}}, \"type\": \"scatterpolar\"}], \"scatterpolargl\": [{\"marker\": {\"colorbar\": {\"outlinewidth\": 0, \"ticks\": \"\"}}, \"type\": \"scatterpolargl\"}], \"scatterternary\": [{\"marker\": {\"colorbar\": {\"outlinewidth\": 0, \"ticks\": \"\"}}, \"type\": \"scatterternary\"}], \"surface\": [{\"colorbar\": {\"outlinewidth\": 0, \"ticks\": \"\"}, \"colorscale\": [[0.0, \"#0d0887\"], [0.1111111111111111, \"#46039f\"], [0.2222222222222222, \"#7201a8\"], [0.3333333333333333, \"#9c179e\"], [0.4444444444444444, \"#bd3786\"], [0.5555555555555556, \"#d8576b\"], [0.6666666666666666, \"#ed7953\"], [0.7777777777777778, \"#fb9f3a\"], [0.8888888888888888, \"#fdca26\"], [1.0, \"#f0f921\"]], \"type\": \"surface\"}], \"table\": [{\"cells\": {\"fill\": {\"color\": \"#EBF0F8\"}, \"line\": {\"color\": \"white\"}}, \"header\": {\"fill\": {\"color\": \"#C8D4E3\"}, \"line\": {\"color\": \"white\"}}, \"type\": \"table\"}]}, \"layout\": {\"annotationdefaults\": {\"arrowcolor\": \"#2a3f5f\", \"arrowhead\": 0, \"arrowwidth\": 1}, \"autotypenumbers\": \"strict\", \"coloraxis\": {\"colorbar\": {\"outlinewidth\": 0, \"ticks\": \"\"}}, \"colorscale\": {\"diverging\": [[0, \"#8e0152\"], [0.1, \"#c51b7d\"], [0.2, \"#de77ae\"], [0.3, \"#f1b6da\"], [0.4, \"#fde0ef\"], [0.5, \"#f7f7f7\"], [0.6, \"#e6f5d0\"], [0.7, \"#b8e186\"], [0.8, \"#7fbc41\"], [0.9, \"#4d9221\"], [1, \"#276419\"]], \"sequential\": [[0.0, \"#0d0887\"], [0.1111111111111111, \"#46039f\"], [0.2222222222222222, \"#7201a8\"], [0.3333333333333333, \"#9c179e\"], [0.4444444444444444, \"#bd3786\"], [0.5555555555555556, \"#d8576b\"], [0.6666666666666666, \"#ed7953\"], [0.7777777777777778, \"#fb9f3a\"], [0.8888888888888888, \"#fdca26\"], [1.0, \"#f0f921\"]], \"sequentialminus\": [[0.0, \"#0d0887\"], [0.1111111111111111, \"#46039f\"], [0.2222222222222222, \"#7201a8\"], [0.3333333333333333, \"#9c179e\"], [0.4444444444444444, \"#bd3786\"], [0.5555555555555556, \"#d8576b\"], [0.6666666666666666, \"#ed7953\"], [0.7777777777777778, \"#fb9f3a\"], [0.8888888888888888, \"#fdca26\"], [1.0, \"#f0f921\"]]}, \"colorway\": [\"#636efa\", \"#EF553B\", \"#00cc96\", \"#ab63fa\", \"#FFA15A\", \"#19d3f3\", \"#FF6692\", \"#B6E880\", \"#FF97FF\", \"#FECB52\"], \"font\": {\"color\": \"#2a3f5f\"}, \"geo\": {\"bgcolor\": \"white\", \"lakecolor\": \"white\", \"landcolor\": \"#E5ECF6\", \"showlakes\": true, \"showland\": true, \"subunitcolor\": \"white\"}, \"hoverlabel\": {\"align\": \"left\"}, \"hovermode\": \"closest\", \"mapbox\": {\"style\": \"light\"}, \"paper_bgcolor\": \"white\", \"plot_bgcolor\": \"#E5ECF6\", \"polar\": {\"angularaxis\": {\"gridcolor\": \"white\", \"linecolor\": \"white\", \"ticks\": \"\"}, \"bgcolor\": \"#E5ECF6\", \"radialaxis\": {\"gridcolor\": \"white\", \"linecolor\": \"white\", \"ticks\": \"\"}}, \"scene\": {\"xaxis\": {\"backgroundcolor\": \"#E5ECF6\", \"gridcolor\": \"white\", \"gridwidth\": 2, \"linecolor\": \"white\", \"showbackground\": true, \"ticks\": \"\", \"zerolinecolor\": \"white\"}, \"yaxis\": {\"backgroundcolor\": \"#E5ECF6\", \"gridcolor\": \"white\", \"gridwidth\": 2, \"linecolor\": \"white\", \"showbackground\": true, \"ticks\": \"\", \"zerolinecolor\": \"white\"}, \"zaxis\": {\"backgroundcolor\": \"#E5ECF6\", \"gridcolor\": \"white\", \"gridwidth\": 2, \"linecolor\": \"white\", \"showbackground\": true, \"ticks\": \"\", \"zerolinecolor\": \"white\"}}, \"shapedefaults\": {\"line\": {\"color\": \"#2a3f5f\"}}, \"ternary\": {\"aaxis\": {\"gridcolor\": \"white\", \"linecolor\": \"white\", \"ticks\": \"\"}, \"baxis\": {\"gridcolor\": \"white\", \"linecolor\": \"white\", \"ticks\": \"\"}, \"bgcolor\": \"#E5ECF6\", \"caxis\": {\"gridcolor\": \"white\", \"linecolor\": \"white\", \"ticks\": \"\"}}, \"title\": {\"x\": 0.05}, \"xaxis\": {\"automargin\": true, \"gridcolor\": \"white\", \"linecolor\": \"white\", \"ticks\": \"\", \"title\": {\"standoff\": 15}, \"zerolinecolor\": \"white\", \"zerolinewidth\": 2}, \"yaxis\": {\"automargin\": true, \"gridcolor\": \"white\", \"linecolor\": \"white\", \"ticks\": \"\", \"title\": {\"standoff\": 15}, \"zerolinecolor\": \"white\", \"zerolinewidth\": 2}}}, \"xaxis\": {\"anchor\": \"y\", \"domain\": [0.0, 1.0], \"title\": {\"text\": \"Total Deaths\"}}, \"yaxis\": {\"anchor\": \"x\", \"domain\": [0.0, 1.0], \"title\": {\"text\": \"count\"}}},                        {\"responsive\": true}                    ).then(function(){\n",
       "                            \n",
       "var gd = document.getElementById('a1ec3edb-b9dc-43f6-beb4-e14f55bdf131');\n",
       "var x = new MutationObserver(function (mutations, observer) {{\n",
       "        var display = window.getComputedStyle(gd).display;\n",
       "        if (!display || display === 'none') {{\n",
       "            console.log([gd, 'removed!']);\n",
       "            Plotly.purge(gd);\n",
       "            observer.disconnect();\n",
       "        }}\n",
       "}});\n",
       "\n",
       "// Listen for the removal of the full notebook cells\n",
       "var notebookContainer = gd.closest('#notebook-container');\n",
       "if (notebookContainer) {{\n",
       "    x.observe(notebookContainer, {childList: true});\n",
       "}}\n",
       "\n",
       "// Listen for the clearing of the current output cell\n",
       "var outputEl = gd.closest('.output');\n",
       "if (outputEl) {{\n",
       "    x.observe(outputEl, {childList: true});\n",
       "}}\n",
       "\n",
       "                        })                };                });            </script>        </div>"
      ]
     },
     "metadata": {},
     "output_type": "display_data"
    }
   ],
   "source": [
    "compiledcountydata_dir = \"https://raw.githubusercontent.com/jaredbarkley0/PythonGroupProject/master/MN%20County%20Data_032021.csv\"\n",
    "compiledcountydata = pd.read_csv(compiledcountydata_dir)\n",
    "compiledcountydata.head()\n",
    "\n",
    "compiledcountydata[\"Total Deaths\"].describe()\n",
    "fig = px.histogram(compiledcountydata, x=\"Total Deaths\")\n",
    "fig.show()"
   ]
  },
  {
   "cell_type": "code",
   "execution_count": 8,
   "metadata": {},
   "outputs": [
    {
     "data": {
      "application/vnd.plotly.v1+json": {
       "config": {
        "plotlyServerURL": "https://plot.ly"
       },
       "data": [
        {
         "alignmentgroup": "True",
         "hovertemplate": "County=%{x}<extra></extra>",
         "legendgroup": "",
         "marker": {
          "color": "#636efa"
         },
         "name": "",
         "notched": false,
         "offsetgroup": "",
         "orientation": "h",
         "showlegend": false,
         "type": "box",
         "x": [
          "Aitkin",
          "Anoka",
          "Becker",
          "Beltrami",
          "Benton",
          "Big Stone",
          "Blue Earth",
          "Brown",
          "Carlton",
          "Carver",
          "Cass",
          "Chippewa",
          "Chisago",
          "Clay",
          "Clearwater",
          "Cook",
          "Cottonwood",
          "Crow Wing",
          "Dakota",
          "Dodge",
          "Douglas",
          "Faribault",
          "Fillmore",
          "Freeborn",
          "Goodhue",
          "Grant",
          "Hennepin",
          "Houston",
          "Hubbard",
          "Isanti",
          "Itasca",
          "Jackson",
          "Kanabec",
          "Kandiyohi",
          "Kittson",
          "Koochiching",
          "Lac qui Parle",
          "Lake",
          "Lake of the Woods",
          "Le Sueur",
          "Lincoln",
          "Lyon",
          "Mahnomen",
          "Marshall",
          "Martin",
          "McLeod",
          "Meeker",
          "Mille Lacs",
          "Morrison",
          "Mower",
          "Murray",
          "Nicollet",
          "Nobles",
          "Norman",
          "Olmsted",
          "Otter Tail",
          "Pennington",
          "Pine",
          "Pipestone",
          "Polk",
          "Pope",
          "Ramsey",
          "Red Lake",
          "Redwood",
          "Renville",
          "Rice",
          "Rock",
          "Roseau",
          "Scott",
          "Sherburne",
          "Sibley",
          "St. Louis",
          "Stearns",
          "Steele",
          "Stevens",
          "Swift",
          "Todd",
          "Traverse",
          "Wabasha",
          "Wadena",
          "Waseca",
          "Washington",
          "Watonwan",
          "Wilkin",
          "Winona",
          "Wright",
          "Yellow Medicine",
          "Unknown/Missing"
         ],
         "x0": " ",
         "xaxis": "x",
         "y0": " ",
         "yaxis": "y"
        }
       ],
       "layout": {
        "boxmode": "group",
        "legend": {
         "tracegroupgap": 0
        },
        "margin": {
         "t": 60
        },
        "template": {
         "data": {
          "bar": [
           {
            "error_x": {
             "color": "#2a3f5f"
            },
            "error_y": {
             "color": "#2a3f5f"
            },
            "marker": {
             "line": {
              "color": "#E5ECF6",
              "width": 0.5
             }
            },
            "type": "bar"
           }
          ],
          "barpolar": [
           {
            "marker": {
             "line": {
              "color": "#E5ECF6",
              "width": 0.5
             }
            },
            "type": "barpolar"
           }
          ],
          "carpet": [
           {
            "aaxis": {
             "endlinecolor": "#2a3f5f",
             "gridcolor": "white",
             "linecolor": "white",
             "minorgridcolor": "white",
             "startlinecolor": "#2a3f5f"
            },
            "baxis": {
             "endlinecolor": "#2a3f5f",
             "gridcolor": "white",
             "linecolor": "white",
             "minorgridcolor": "white",
             "startlinecolor": "#2a3f5f"
            },
            "type": "carpet"
           }
          ],
          "choropleth": [
           {
            "colorbar": {
             "outlinewidth": 0,
             "ticks": ""
            },
            "type": "choropleth"
           }
          ],
          "contour": [
           {
            "colorbar": {
             "outlinewidth": 0,
             "ticks": ""
            },
            "colorscale": [
             [
              0,
              "#0d0887"
             ],
             [
              0.1111111111111111,
              "#46039f"
             ],
             [
              0.2222222222222222,
              "#7201a8"
             ],
             [
              0.3333333333333333,
              "#9c179e"
             ],
             [
              0.4444444444444444,
              "#bd3786"
             ],
             [
              0.5555555555555556,
              "#d8576b"
             ],
             [
              0.6666666666666666,
              "#ed7953"
             ],
             [
              0.7777777777777778,
              "#fb9f3a"
             ],
             [
              0.8888888888888888,
              "#fdca26"
             ],
             [
              1,
              "#f0f921"
             ]
            ],
            "type": "contour"
           }
          ],
          "contourcarpet": [
           {
            "colorbar": {
             "outlinewidth": 0,
             "ticks": ""
            },
            "type": "contourcarpet"
           }
          ],
          "heatmap": [
           {
            "colorbar": {
             "outlinewidth": 0,
             "ticks": ""
            },
            "colorscale": [
             [
              0,
              "#0d0887"
             ],
             [
              0.1111111111111111,
              "#46039f"
             ],
             [
              0.2222222222222222,
              "#7201a8"
             ],
             [
              0.3333333333333333,
              "#9c179e"
             ],
             [
              0.4444444444444444,
              "#bd3786"
             ],
             [
              0.5555555555555556,
              "#d8576b"
             ],
             [
              0.6666666666666666,
              "#ed7953"
             ],
             [
              0.7777777777777778,
              "#fb9f3a"
             ],
             [
              0.8888888888888888,
              "#fdca26"
             ],
             [
              1,
              "#f0f921"
             ]
            ],
            "type": "heatmap"
           }
          ],
          "heatmapgl": [
           {
            "colorbar": {
             "outlinewidth": 0,
             "ticks": ""
            },
            "colorscale": [
             [
              0,
              "#0d0887"
             ],
             [
              0.1111111111111111,
              "#46039f"
             ],
             [
              0.2222222222222222,
              "#7201a8"
             ],
             [
              0.3333333333333333,
              "#9c179e"
             ],
             [
              0.4444444444444444,
              "#bd3786"
             ],
             [
              0.5555555555555556,
              "#d8576b"
             ],
             [
              0.6666666666666666,
              "#ed7953"
             ],
             [
              0.7777777777777778,
              "#fb9f3a"
             ],
             [
              0.8888888888888888,
              "#fdca26"
             ],
             [
              1,
              "#f0f921"
             ]
            ],
            "type": "heatmapgl"
           }
          ],
          "histogram": [
           {
            "marker": {
             "colorbar": {
              "outlinewidth": 0,
              "ticks": ""
             }
            },
            "type": "histogram"
           }
          ],
          "histogram2d": [
           {
            "colorbar": {
             "outlinewidth": 0,
             "ticks": ""
            },
            "colorscale": [
             [
              0,
              "#0d0887"
             ],
             [
              0.1111111111111111,
              "#46039f"
             ],
             [
              0.2222222222222222,
              "#7201a8"
             ],
             [
              0.3333333333333333,
              "#9c179e"
             ],
             [
              0.4444444444444444,
              "#bd3786"
             ],
             [
              0.5555555555555556,
              "#d8576b"
             ],
             [
              0.6666666666666666,
              "#ed7953"
             ],
             [
              0.7777777777777778,
              "#fb9f3a"
             ],
             [
              0.8888888888888888,
              "#fdca26"
             ],
             [
              1,
              "#f0f921"
             ]
            ],
            "type": "histogram2d"
           }
          ],
          "histogram2dcontour": [
           {
            "colorbar": {
             "outlinewidth": 0,
             "ticks": ""
            },
            "colorscale": [
             [
              0,
              "#0d0887"
             ],
             [
              0.1111111111111111,
              "#46039f"
             ],
             [
              0.2222222222222222,
              "#7201a8"
             ],
             [
              0.3333333333333333,
              "#9c179e"
             ],
             [
              0.4444444444444444,
              "#bd3786"
             ],
             [
              0.5555555555555556,
              "#d8576b"
             ],
             [
              0.6666666666666666,
              "#ed7953"
             ],
             [
              0.7777777777777778,
              "#fb9f3a"
             ],
             [
              0.8888888888888888,
              "#fdca26"
             ],
             [
              1,
              "#f0f921"
             ]
            ],
            "type": "histogram2dcontour"
           }
          ],
          "mesh3d": [
           {
            "colorbar": {
             "outlinewidth": 0,
             "ticks": ""
            },
            "type": "mesh3d"
           }
          ],
          "parcoords": [
           {
            "line": {
             "colorbar": {
              "outlinewidth": 0,
              "ticks": ""
             }
            },
            "type": "parcoords"
           }
          ],
          "pie": [
           {
            "automargin": true,
            "type": "pie"
           }
          ],
          "scatter": [
           {
            "marker": {
             "colorbar": {
              "outlinewidth": 0,
              "ticks": ""
             }
            },
            "type": "scatter"
           }
          ],
          "scatter3d": [
           {
            "line": {
             "colorbar": {
              "outlinewidth": 0,
              "ticks": ""
             }
            },
            "marker": {
             "colorbar": {
              "outlinewidth": 0,
              "ticks": ""
             }
            },
            "type": "scatter3d"
           }
          ],
          "scattercarpet": [
           {
            "marker": {
             "colorbar": {
              "outlinewidth": 0,
              "ticks": ""
             }
            },
            "type": "scattercarpet"
           }
          ],
          "scattergeo": [
           {
            "marker": {
             "colorbar": {
              "outlinewidth": 0,
              "ticks": ""
             }
            },
            "type": "scattergeo"
           }
          ],
          "scattergl": [
           {
            "marker": {
             "colorbar": {
              "outlinewidth": 0,
              "ticks": ""
             }
            },
            "type": "scattergl"
           }
          ],
          "scattermapbox": [
           {
            "marker": {
             "colorbar": {
              "outlinewidth": 0,
              "ticks": ""
             }
            },
            "type": "scattermapbox"
           }
          ],
          "scatterpolar": [
           {
            "marker": {
             "colorbar": {
              "outlinewidth": 0,
              "ticks": ""
             }
            },
            "type": "scatterpolar"
           }
          ],
          "scatterpolargl": [
           {
            "marker": {
             "colorbar": {
              "outlinewidth": 0,
              "ticks": ""
             }
            },
            "type": "scatterpolargl"
           }
          ],
          "scatterternary": [
           {
            "marker": {
             "colorbar": {
              "outlinewidth": 0,
              "ticks": ""
             }
            },
            "type": "scatterternary"
           }
          ],
          "surface": [
           {
            "colorbar": {
             "outlinewidth": 0,
             "ticks": ""
            },
            "colorscale": [
             [
              0,
              "#0d0887"
             ],
             [
              0.1111111111111111,
              "#46039f"
             ],
             [
              0.2222222222222222,
              "#7201a8"
             ],
             [
              0.3333333333333333,
              "#9c179e"
             ],
             [
              0.4444444444444444,
              "#bd3786"
             ],
             [
              0.5555555555555556,
              "#d8576b"
             ],
             [
              0.6666666666666666,
              "#ed7953"
             ],
             [
              0.7777777777777778,
              "#fb9f3a"
             ],
             [
              0.8888888888888888,
              "#fdca26"
             ],
             [
              1,
              "#f0f921"
             ]
            ],
            "type": "surface"
           }
          ],
          "table": [
           {
            "cells": {
             "fill": {
              "color": "#EBF0F8"
             },
             "line": {
              "color": "white"
             }
            },
            "header": {
             "fill": {
              "color": "#C8D4E3"
             },
             "line": {
              "color": "white"
             }
            },
            "type": "table"
           }
          ]
         },
         "layout": {
          "annotationdefaults": {
           "arrowcolor": "#2a3f5f",
           "arrowhead": 0,
           "arrowwidth": 1
          },
          "autotypenumbers": "strict",
          "coloraxis": {
           "colorbar": {
            "outlinewidth": 0,
            "ticks": ""
           }
          },
          "colorscale": {
           "diverging": [
            [
             0,
             "#8e0152"
            ],
            [
             0.1,
             "#c51b7d"
            ],
            [
             0.2,
             "#de77ae"
            ],
            [
             0.3,
             "#f1b6da"
            ],
            [
             0.4,
             "#fde0ef"
            ],
            [
             0.5,
             "#f7f7f7"
            ],
            [
             0.6,
             "#e6f5d0"
            ],
            [
             0.7,
             "#b8e186"
            ],
            [
             0.8,
             "#7fbc41"
            ],
            [
             0.9,
             "#4d9221"
            ],
            [
             1,
             "#276419"
            ]
           ],
           "sequential": [
            [
             0,
             "#0d0887"
            ],
            [
             0.1111111111111111,
             "#46039f"
            ],
            [
             0.2222222222222222,
             "#7201a8"
            ],
            [
             0.3333333333333333,
             "#9c179e"
            ],
            [
             0.4444444444444444,
             "#bd3786"
            ],
            [
             0.5555555555555556,
             "#d8576b"
            ],
            [
             0.6666666666666666,
             "#ed7953"
            ],
            [
             0.7777777777777778,
             "#fb9f3a"
            ],
            [
             0.8888888888888888,
             "#fdca26"
            ],
            [
             1,
             "#f0f921"
            ]
           ],
           "sequentialminus": [
            [
             0,
             "#0d0887"
            ],
            [
             0.1111111111111111,
             "#46039f"
            ],
            [
             0.2222222222222222,
             "#7201a8"
            ],
            [
             0.3333333333333333,
             "#9c179e"
            ],
            [
             0.4444444444444444,
             "#bd3786"
            ],
            [
             0.5555555555555556,
             "#d8576b"
            ],
            [
             0.6666666666666666,
             "#ed7953"
            ],
            [
             0.7777777777777778,
             "#fb9f3a"
            ],
            [
             0.8888888888888888,
             "#fdca26"
            ],
            [
             1,
             "#f0f921"
            ]
           ]
          },
          "colorway": [
           "#636efa",
           "#EF553B",
           "#00cc96",
           "#ab63fa",
           "#FFA15A",
           "#19d3f3",
           "#FF6692",
           "#B6E880",
           "#FF97FF",
           "#FECB52"
          ],
          "font": {
           "color": "#2a3f5f"
          },
          "geo": {
           "bgcolor": "white",
           "lakecolor": "white",
           "landcolor": "#E5ECF6",
           "showlakes": true,
           "showland": true,
           "subunitcolor": "white"
          },
          "hoverlabel": {
           "align": "left"
          },
          "hovermode": "closest",
          "mapbox": {
           "style": "light"
          },
          "paper_bgcolor": "white",
          "plot_bgcolor": "#E5ECF6",
          "polar": {
           "angularaxis": {
            "gridcolor": "white",
            "linecolor": "white",
            "ticks": ""
           },
           "bgcolor": "#E5ECF6",
           "radialaxis": {
            "gridcolor": "white",
            "linecolor": "white",
            "ticks": ""
           }
          },
          "scene": {
           "xaxis": {
            "backgroundcolor": "#E5ECF6",
            "gridcolor": "white",
            "gridwidth": 2,
            "linecolor": "white",
            "showbackground": true,
            "ticks": "",
            "zerolinecolor": "white"
           },
           "yaxis": {
            "backgroundcolor": "#E5ECF6",
            "gridcolor": "white",
            "gridwidth": 2,
            "linecolor": "white",
            "showbackground": true,
            "ticks": "",
            "zerolinecolor": "white"
           },
           "zaxis": {
            "backgroundcolor": "#E5ECF6",
            "gridcolor": "white",
            "gridwidth": 2,
            "linecolor": "white",
            "showbackground": true,
            "ticks": "",
            "zerolinecolor": "white"
           }
          },
          "shapedefaults": {
           "line": {
            "color": "#2a3f5f"
           }
          },
          "ternary": {
           "aaxis": {
            "gridcolor": "white",
            "linecolor": "white",
            "ticks": ""
           },
           "baxis": {
            "gridcolor": "white",
            "linecolor": "white",
            "ticks": ""
           },
           "bgcolor": "#E5ECF6",
           "caxis": {
            "gridcolor": "white",
            "linecolor": "white",
            "ticks": ""
           }
          },
          "title": {
           "x": 0.05
          },
          "xaxis": {
           "automargin": true,
           "gridcolor": "white",
           "linecolor": "white",
           "ticks": "",
           "title": {
            "standoff": 15
           },
           "zerolinecolor": "white",
           "zerolinewidth": 2
          },
          "yaxis": {
           "automargin": true,
           "gridcolor": "white",
           "linecolor": "white",
           "ticks": "",
           "title": {
            "standoff": 15
           },
           "zerolinecolor": "white",
           "zerolinewidth": 2
          }
         }
        },
        "xaxis": {
         "anchor": "y",
         "domain": [
          0,
          1
         ],
         "title": {
          "text": "County"
         }
        },
        "yaxis": {
         "anchor": "x",
         "domain": [
          0,
          1
         ]
        }
       }
      },
      "text/html": [
       "<div>                            <div id=\"ec362627-c50f-4b13-9a5f-9c91ed885425\" class=\"plotly-graph-div\" style=\"height:525px; width:100%;\"></div>            <script type=\"text/javascript\">                require([\"plotly\"], function(Plotly) {                    window.PLOTLYENV=window.PLOTLYENV || {};                                    if (document.getElementById(\"ec362627-c50f-4b13-9a5f-9c91ed885425\")) {                    Plotly.newPlot(                        \"ec362627-c50f-4b13-9a5f-9c91ed885425\",                        [{\"alignmentgroup\": \"True\", \"hovertemplate\": \"County=%{x}<extra></extra>\", \"legendgroup\": \"\", \"marker\": {\"color\": \"#636efa\"}, \"name\": \"\", \"notched\": false, \"offsetgroup\": \"\", \"orientation\": \"h\", \"showlegend\": false, \"type\": \"box\", \"x\": [\"Aitkin\", \"Anoka\", \"Becker\", \"Beltrami\", \"Benton\", \"Big Stone\", \"Blue Earth\", \"Brown\", \"Carlton\", \"Carver\", \"Cass\", \"Chippewa\", \"Chisago\", \"Clay\", \"Clearwater\", \"Cook\", \"Cottonwood\", \"Crow Wing\", \"Dakota\", \"Dodge\", \"Douglas\", \"Faribault\", \"Fillmore\", \"Freeborn\", \"Goodhue\", \"Grant\", \"Hennepin\", \"Houston\", \"Hubbard\", \"Isanti\", \"Itasca\", \"Jackson\", \"Kanabec\", \"Kandiyohi\", \"Kittson\", \"Koochiching\", \"Lac qui Parle\", \"Lake\", \"Lake of the Woods\", \"Le Sueur\", \"Lincoln\", \"Lyon\", \"Mahnomen\", \"Marshall\", \"Martin\", \"McLeod\", \"Meeker\", \"Mille Lacs\", \"Morrison\", \"Mower\", \"Murray\", \"Nicollet\", \"Nobles\", \"Norman\", \"Olmsted\", \"Otter Tail\", \"Pennington\", \"Pine\", \"Pipestone\", \"Polk\", \"Pope\", \"Ramsey\", \"Red Lake\", \"Redwood\", \"Renville\", \"Rice\", \"Rock\", \"Roseau\", \"Scott\", \"Sherburne\", \"Sibley\", \"St. Louis\", \"Stearns\", \"Steele\", \"Stevens\", \"Swift\", \"Todd\", \"Traverse\", \"Wabasha\", \"Wadena\", \"Waseca\", \"Washington\", \"Watonwan\", \"Wilkin\", \"Winona\", \"Wright\", \"Yellow Medicine\", \"Unknown/Missing\"], \"x0\": \" \", \"xaxis\": \"x\", \"y0\": \" \", \"yaxis\": \"y\"}],                        {\"boxmode\": \"group\", \"legend\": {\"tracegroupgap\": 0}, \"margin\": {\"t\": 60}, \"template\": {\"data\": {\"bar\": [{\"error_x\": {\"color\": \"#2a3f5f\"}, \"error_y\": {\"color\": \"#2a3f5f\"}, \"marker\": {\"line\": {\"color\": \"#E5ECF6\", \"width\": 0.5}}, \"type\": \"bar\"}], \"barpolar\": [{\"marker\": {\"line\": {\"color\": \"#E5ECF6\", \"width\": 0.5}}, \"type\": \"barpolar\"}], \"carpet\": [{\"aaxis\": {\"endlinecolor\": \"#2a3f5f\", \"gridcolor\": \"white\", \"linecolor\": \"white\", \"minorgridcolor\": \"white\", \"startlinecolor\": \"#2a3f5f\"}, \"baxis\": {\"endlinecolor\": \"#2a3f5f\", \"gridcolor\": \"white\", \"linecolor\": \"white\", \"minorgridcolor\": \"white\", \"startlinecolor\": \"#2a3f5f\"}, \"type\": \"carpet\"}], \"choropleth\": [{\"colorbar\": {\"outlinewidth\": 0, \"ticks\": \"\"}, \"type\": \"choropleth\"}], \"contour\": [{\"colorbar\": {\"outlinewidth\": 0, \"ticks\": \"\"}, \"colorscale\": [[0.0, \"#0d0887\"], [0.1111111111111111, \"#46039f\"], [0.2222222222222222, \"#7201a8\"], [0.3333333333333333, \"#9c179e\"], [0.4444444444444444, \"#bd3786\"], [0.5555555555555556, \"#d8576b\"], [0.6666666666666666, \"#ed7953\"], [0.7777777777777778, \"#fb9f3a\"], [0.8888888888888888, \"#fdca26\"], [1.0, \"#f0f921\"]], \"type\": \"contour\"}], \"contourcarpet\": [{\"colorbar\": {\"outlinewidth\": 0, \"ticks\": \"\"}, \"type\": \"contourcarpet\"}], \"heatmap\": [{\"colorbar\": {\"outlinewidth\": 0, \"ticks\": \"\"}, \"colorscale\": [[0.0, \"#0d0887\"], [0.1111111111111111, \"#46039f\"], [0.2222222222222222, \"#7201a8\"], [0.3333333333333333, \"#9c179e\"], [0.4444444444444444, \"#bd3786\"], [0.5555555555555556, \"#d8576b\"], [0.6666666666666666, \"#ed7953\"], [0.7777777777777778, \"#fb9f3a\"], [0.8888888888888888, \"#fdca26\"], [1.0, \"#f0f921\"]], \"type\": \"heatmap\"}], \"heatmapgl\": [{\"colorbar\": {\"outlinewidth\": 0, \"ticks\": \"\"}, \"colorscale\": [[0.0, \"#0d0887\"], [0.1111111111111111, \"#46039f\"], [0.2222222222222222, \"#7201a8\"], [0.3333333333333333, \"#9c179e\"], [0.4444444444444444, \"#bd3786\"], [0.5555555555555556, \"#d8576b\"], [0.6666666666666666, \"#ed7953\"], [0.7777777777777778, \"#fb9f3a\"], [0.8888888888888888, \"#fdca26\"], [1.0, \"#f0f921\"]], \"type\": \"heatmapgl\"}], \"histogram\": [{\"marker\": {\"colorbar\": {\"outlinewidth\": 0, \"ticks\": \"\"}}, \"type\": \"histogram\"}], \"histogram2d\": [{\"colorbar\": {\"outlinewidth\": 0, \"ticks\": \"\"}, \"colorscale\": [[0.0, \"#0d0887\"], [0.1111111111111111, \"#46039f\"], [0.2222222222222222, \"#7201a8\"], [0.3333333333333333, \"#9c179e\"], [0.4444444444444444, \"#bd3786\"], [0.5555555555555556, \"#d8576b\"], [0.6666666666666666, \"#ed7953\"], [0.7777777777777778, \"#fb9f3a\"], [0.8888888888888888, \"#fdca26\"], [1.0, \"#f0f921\"]], \"type\": \"histogram2d\"}], \"histogram2dcontour\": [{\"colorbar\": {\"outlinewidth\": 0, \"ticks\": \"\"}, \"colorscale\": [[0.0, \"#0d0887\"], [0.1111111111111111, \"#46039f\"], [0.2222222222222222, \"#7201a8\"], [0.3333333333333333, \"#9c179e\"], [0.4444444444444444, \"#bd3786\"], [0.5555555555555556, \"#d8576b\"], [0.6666666666666666, \"#ed7953\"], [0.7777777777777778, \"#fb9f3a\"], [0.8888888888888888, \"#fdca26\"], [1.0, \"#f0f921\"]], \"type\": \"histogram2dcontour\"}], \"mesh3d\": [{\"colorbar\": {\"outlinewidth\": 0, \"ticks\": \"\"}, \"type\": \"mesh3d\"}], \"parcoords\": [{\"line\": {\"colorbar\": {\"outlinewidth\": 0, \"ticks\": \"\"}}, \"type\": \"parcoords\"}], \"pie\": [{\"automargin\": true, \"type\": \"pie\"}], \"scatter\": [{\"marker\": {\"colorbar\": {\"outlinewidth\": 0, \"ticks\": \"\"}}, \"type\": \"scatter\"}], \"scatter3d\": [{\"line\": {\"colorbar\": {\"outlinewidth\": 0, \"ticks\": \"\"}}, \"marker\": {\"colorbar\": {\"outlinewidth\": 0, \"ticks\": \"\"}}, \"type\": \"scatter3d\"}], \"scattercarpet\": [{\"marker\": {\"colorbar\": {\"outlinewidth\": 0, \"ticks\": \"\"}}, \"type\": \"scattercarpet\"}], \"scattergeo\": [{\"marker\": {\"colorbar\": {\"outlinewidth\": 0, \"ticks\": \"\"}}, \"type\": \"scattergeo\"}], \"scattergl\": [{\"marker\": {\"colorbar\": {\"outlinewidth\": 0, \"ticks\": \"\"}}, \"type\": \"scattergl\"}], \"scattermapbox\": [{\"marker\": {\"colorbar\": {\"outlinewidth\": 0, \"ticks\": \"\"}}, \"type\": \"scattermapbox\"}], \"scatterpolar\": [{\"marker\": {\"colorbar\": {\"outlinewidth\": 0, \"ticks\": \"\"}}, \"type\": \"scatterpolar\"}], \"scatterpolargl\": [{\"marker\": {\"colorbar\": {\"outlinewidth\": 0, \"ticks\": \"\"}}, \"type\": \"scatterpolargl\"}], \"scatterternary\": [{\"marker\": {\"colorbar\": {\"outlinewidth\": 0, \"ticks\": \"\"}}, \"type\": \"scatterternary\"}], \"surface\": [{\"colorbar\": {\"outlinewidth\": 0, \"ticks\": \"\"}, \"colorscale\": [[0.0, \"#0d0887\"], [0.1111111111111111, \"#46039f\"], [0.2222222222222222, \"#7201a8\"], [0.3333333333333333, \"#9c179e\"], [0.4444444444444444, \"#bd3786\"], [0.5555555555555556, \"#d8576b\"], [0.6666666666666666, \"#ed7953\"], [0.7777777777777778, \"#fb9f3a\"], [0.8888888888888888, \"#fdca26\"], [1.0, \"#f0f921\"]], \"type\": \"surface\"}], \"table\": [{\"cells\": {\"fill\": {\"color\": \"#EBF0F8\"}, \"line\": {\"color\": \"white\"}}, \"header\": {\"fill\": {\"color\": \"#C8D4E3\"}, \"line\": {\"color\": \"white\"}}, \"type\": \"table\"}]}, \"layout\": {\"annotationdefaults\": {\"arrowcolor\": \"#2a3f5f\", \"arrowhead\": 0, \"arrowwidth\": 1}, \"autotypenumbers\": \"strict\", \"coloraxis\": {\"colorbar\": {\"outlinewidth\": 0, \"ticks\": \"\"}}, \"colorscale\": {\"diverging\": [[0, \"#8e0152\"], [0.1, \"#c51b7d\"], [0.2, \"#de77ae\"], [0.3, \"#f1b6da\"], [0.4, \"#fde0ef\"], [0.5, \"#f7f7f7\"], [0.6, \"#e6f5d0\"], [0.7, \"#b8e186\"], [0.8, \"#7fbc41\"], [0.9, \"#4d9221\"], [1, \"#276419\"]], \"sequential\": [[0.0, \"#0d0887\"], [0.1111111111111111, \"#46039f\"], [0.2222222222222222, \"#7201a8\"], [0.3333333333333333, \"#9c179e\"], [0.4444444444444444, \"#bd3786\"], [0.5555555555555556, \"#d8576b\"], [0.6666666666666666, \"#ed7953\"], [0.7777777777777778, \"#fb9f3a\"], [0.8888888888888888, \"#fdca26\"], [1.0, \"#f0f921\"]], \"sequentialminus\": [[0.0, \"#0d0887\"], [0.1111111111111111, \"#46039f\"], [0.2222222222222222, \"#7201a8\"], [0.3333333333333333, \"#9c179e\"], [0.4444444444444444, \"#bd3786\"], [0.5555555555555556, \"#d8576b\"], [0.6666666666666666, \"#ed7953\"], [0.7777777777777778, \"#fb9f3a\"], [0.8888888888888888, \"#fdca26\"], [1.0, \"#f0f921\"]]}, \"colorway\": [\"#636efa\", \"#EF553B\", \"#00cc96\", \"#ab63fa\", \"#FFA15A\", \"#19d3f3\", \"#FF6692\", \"#B6E880\", \"#FF97FF\", \"#FECB52\"], \"font\": {\"color\": \"#2a3f5f\"}, \"geo\": {\"bgcolor\": \"white\", \"lakecolor\": \"white\", \"landcolor\": \"#E5ECF6\", \"showlakes\": true, \"showland\": true, \"subunitcolor\": \"white\"}, \"hoverlabel\": {\"align\": \"left\"}, \"hovermode\": \"closest\", \"mapbox\": {\"style\": \"light\"}, \"paper_bgcolor\": \"white\", \"plot_bgcolor\": \"#E5ECF6\", \"polar\": {\"angularaxis\": {\"gridcolor\": \"white\", \"linecolor\": \"white\", \"ticks\": \"\"}, \"bgcolor\": \"#E5ECF6\", \"radialaxis\": {\"gridcolor\": \"white\", \"linecolor\": \"white\", \"ticks\": \"\"}}, \"scene\": {\"xaxis\": {\"backgroundcolor\": \"#E5ECF6\", \"gridcolor\": \"white\", \"gridwidth\": 2, \"linecolor\": \"white\", \"showbackground\": true, \"ticks\": \"\", \"zerolinecolor\": \"white\"}, \"yaxis\": {\"backgroundcolor\": \"#E5ECF6\", \"gridcolor\": \"white\", \"gridwidth\": 2, \"linecolor\": \"white\", \"showbackground\": true, \"ticks\": \"\", \"zerolinecolor\": \"white\"}, \"zaxis\": {\"backgroundcolor\": \"#E5ECF6\", \"gridcolor\": \"white\", \"gridwidth\": 2, \"linecolor\": \"white\", \"showbackground\": true, \"ticks\": \"\", \"zerolinecolor\": \"white\"}}, \"shapedefaults\": {\"line\": {\"color\": \"#2a3f5f\"}}, \"ternary\": {\"aaxis\": {\"gridcolor\": \"white\", \"linecolor\": \"white\", \"ticks\": \"\"}, \"baxis\": {\"gridcolor\": \"white\", \"linecolor\": \"white\", \"ticks\": \"\"}, \"bgcolor\": \"#E5ECF6\", \"caxis\": {\"gridcolor\": \"white\", \"linecolor\": \"white\", \"ticks\": \"\"}}, \"title\": {\"x\": 0.05}, \"xaxis\": {\"automargin\": true, \"gridcolor\": \"white\", \"linecolor\": \"white\", \"ticks\": \"\", \"title\": {\"standoff\": 15}, \"zerolinecolor\": \"white\", \"zerolinewidth\": 2}, \"yaxis\": {\"automargin\": true, \"gridcolor\": \"white\", \"linecolor\": \"white\", \"ticks\": \"\", \"title\": {\"standoff\": 15}, \"zerolinecolor\": \"white\", \"zerolinewidth\": 2}}}, \"xaxis\": {\"anchor\": \"y\", \"domain\": [0.0, 1.0], \"title\": {\"text\": \"County\"}}, \"yaxis\": {\"anchor\": \"x\", \"domain\": [0.0, 1.0]}},                        {\"responsive\": true}                    ).then(function(){\n",
       "                            \n",
       "var gd = document.getElementById('ec362627-c50f-4b13-9a5f-9c91ed885425');\n",
       "var x = new MutationObserver(function (mutations, observer) {{\n",
       "        var display = window.getComputedStyle(gd).display;\n",
       "        if (!display || display === 'none') {{\n",
       "            console.log([gd, 'removed!']);\n",
       "            Plotly.purge(gd);\n",
       "            observer.disconnect();\n",
       "        }}\n",
       "}});\n",
       "\n",
       "// Listen for the removal of the full notebook cells\n",
       "var notebookContainer = gd.closest('#notebook-container');\n",
       "if (notebookContainer) {{\n",
       "    x.observe(notebookContainer, {childList: true});\n",
       "}}\n",
       "\n",
       "// Listen for the clearing of the current output cell\n",
       "var outputEl = gd.closest('.output');\n",
       "if (outputEl) {{\n",
       "    x.observe(outputEl, {childList: true});\n",
       "}}\n",
       "\n",
       "                        })                };                });            </script>        </div>"
      ]
     },
     "metadata": {},
     "output_type": "display_data"
    }
   ],
   "source": [
    "# Distributions and skewness of Sales[Boxplot}\n",
    "fig = px.box(compiledcountydata, x=\"County\")\n",
    "              # range_X=[0,1000000])\n",
    "# Plot Chart\n",
    "fig.show()"
   ]
  },
  {
   "cell_type": "code",
   "execution_count": 9,
   "metadata": {
    "scrolled": true
   },
   "outputs": [
    {
     "data": {
      "application/vnd.plotly.v1+json": {
       "config": {
        "plotlyServerURL": "https://plot.ly"
       },
       "data": [
        {
         "alignmentgroup": "True",
         "hovertemplate": "County=%{y}<br>Total Deaths=%{x}<extra></extra>",
         "legendgroup": "Aitkin",
         "marker": {
          "color": "#636efa"
         },
         "name": "Aitkin",
         "offsetgroup": "Aitkin",
         "orientation": "h",
         "showlegend": true,
         "textposition": "auto",
         "type": "bar",
         "x": [
          33
         ],
         "xaxis": "x",
         "y": [
          "Aitkin"
         ],
         "yaxis": "y"
        },
        {
         "alignmentgroup": "True",
         "hovertemplate": "County=%{y}<br>Total Deaths=%{x}<extra></extra>",
         "legendgroup": "Anoka",
         "marker": {
          "color": "#EF553B"
         },
         "name": "Anoka",
         "offsetgroup": "Anoka",
         "orientation": "h",
         "showlegend": true,
         "textposition": "auto",
         "type": "bar",
         "x": [
          390
         ],
         "xaxis": "x",
         "y": [
          "Anoka"
         ],
         "yaxis": "y"
        },
        {
         "alignmentgroup": "True",
         "hovertemplate": "County=%{y}<br>Total Deaths=%{x}<extra></extra>",
         "legendgroup": "Becker",
         "marker": {
          "color": "#00cc96"
         },
         "name": "Becker",
         "offsetgroup": "Becker",
         "orientation": "h",
         "showlegend": true,
         "textposition": "auto",
         "type": "bar",
         "x": [
          42
         ],
         "xaxis": "x",
         "y": [
          "Becker"
         ],
         "yaxis": "y"
        },
        {
         "alignmentgroup": "True",
         "hovertemplate": "County=%{y}<br>Total Deaths=%{x}<extra></extra>",
         "legendgroup": "Beltrami",
         "marker": {
          "color": "#ab63fa"
         },
         "name": "Beltrami",
         "offsetgroup": "Beltrami",
         "orientation": "h",
         "showlegend": true,
         "textposition": "auto",
         "type": "bar",
         "x": [
          51
         ],
         "xaxis": "x",
         "y": [
          "Beltrami"
         ],
         "yaxis": "y"
        },
        {
         "alignmentgroup": "True",
         "hovertemplate": "County=%{y}<br>Total Deaths=%{x}<extra></extra>",
         "legendgroup": "Benton",
         "marker": {
          "color": "#FFA15A"
         },
         "name": "Benton",
         "offsetgroup": "Benton",
         "orientation": "h",
         "showlegend": true,
         "textposition": "auto",
         "type": "bar",
         "x": [
          90
         ],
         "xaxis": "x",
         "y": [
          "Benton"
         ],
         "yaxis": "y"
        },
        {
         "alignmentgroup": "True",
         "hovertemplate": "County=%{y}<br>Total Deaths=%{x}<extra></extra>",
         "legendgroup": "Big Stone",
         "marker": {
          "color": "#19d3f3"
         },
         "name": "Big Stone",
         "offsetgroup": "Big Stone",
         "orientation": "h",
         "showlegend": true,
         "textposition": "auto",
         "type": "bar",
         "x": [
          3
         ],
         "xaxis": "x",
         "y": [
          "Big Stone"
         ],
         "yaxis": "y"
        },
        {
         "alignmentgroup": "True",
         "hovertemplate": "County=%{y}<br>Total Deaths=%{x}<extra></extra>",
         "legendgroup": "Blue Earth",
         "marker": {
          "color": "#FF6692"
         },
         "name": "Blue Earth",
         "offsetgroup": "Blue Earth",
         "orientation": "h",
         "showlegend": true,
         "textposition": "auto",
         "type": "bar",
         "x": [
          35
         ],
         "xaxis": "x",
         "y": [
          "Blue Earth"
         ],
         "yaxis": "y"
        },
        {
         "alignmentgroup": "True",
         "hovertemplate": "County=%{y}<br>Total Deaths=%{x}<extra></extra>",
         "legendgroup": "Brown",
         "marker": {
          "color": "#B6E880"
         },
         "name": "Brown",
         "offsetgroup": "Brown",
         "orientation": "h",
         "showlegend": true,
         "textposition": "auto",
         "type": "bar",
         "x": [
          37
         ],
         "xaxis": "x",
         "y": [
          "Brown"
         ],
         "yaxis": "y"
        },
        {
         "alignmentgroup": "True",
         "hovertemplate": "County=%{y}<br>Total Deaths=%{x}<extra></extra>",
         "legendgroup": "Carlton",
         "marker": {
          "color": "#FF97FF"
         },
         "name": "Carlton",
         "offsetgroup": "Carlton",
         "orientation": "h",
         "showlegend": true,
         "textposition": "auto",
         "type": "bar",
         "x": [
          49
         ],
         "xaxis": "x",
         "y": [
          "Carlton"
         ],
         "yaxis": "y"
        },
        {
         "alignmentgroup": "True",
         "hovertemplate": "County=%{y}<br>Total Deaths=%{x}<extra></extra>",
         "legendgroup": "Carver",
         "marker": {
          "color": "#FECB52"
         },
         "name": "Carver",
         "offsetgroup": "Carver",
         "orientation": "h",
         "showlegend": true,
         "textposition": "auto",
         "type": "bar",
         "x": [
          40
         ],
         "xaxis": "x",
         "y": [
          "Carver"
         ],
         "yaxis": "y"
        },
        {
         "alignmentgroup": "True",
         "hovertemplate": "County=%{y}<br>Total Deaths=%{x}<extra></extra>",
         "legendgroup": "Cass",
         "marker": {
          "color": "#636efa"
         },
         "name": "Cass",
         "offsetgroup": "Cass",
         "orientation": "h",
         "showlegend": true,
         "textposition": "auto",
         "type": "bar",
         "x": [
          24
         ],
         "xaxis": "x",
         "y": [
          "Cass"
         ],
         "yaxis": "y"
        },
        {
         "alignmentgroup": "True",
         "hovertemplate": "County=%{y}<br>Total Deaths=%{x}<extra></extra>",
         "legendgroup": "Chippewa",
         "marker": {
          "color": "#EF553B"
         },
         "name": "Chippewa",
         "offsetgroup": "Chippewa",
         "orientation": "h",
         "showlegend": true,
         "textposition": "auto",
         "type": "bar",
         "x": [
          35
         ],
         "xaxis": "x",
         "y": [
          "Chippewa"
         ],
         "yaxis": "y"
        },
        {
         "alignmentgroup": "True",
         "hovertemplate": "County=%{y}<br>Total Deaths=%{x}<extra></extra>",
         "legendgroup": "Chisago",
         "marker": {
          "color": "#00cc96"
         },
         "name": "Chisago",
         "offsetgroup": "Chisago",
         "orientation": "h",
         "showlegend": true,
         "textposition": "auto",
         "type": "bar",
         "x": [
          45
         ],
         "xaxis": "x",
         "y": [
          "Chisago"
         ],
         "yaxis": "y"
        },
        {
         "alignmentgroup": "True",
         "hovertemplate": "County=%{y}<br>Total Deaths=%{x}<extra></extra>",
         "legendgroup": "Clay",
         "marker": {
          "color": "#ab63fa"
         },
         "name": "Clay",
         "offsetgroup": "Clay",
         "orientation": "h",
         "showlegend": true,
         "textposition": "auto",
         "type": "bar",
         "x": [
          87
         ],
         "xaxis": "x",
         "y": [
          "Clay"
         ],
         "yaxis": "y"
        },
        {
         "alignmentgroup": "True",
         "hovertemplate": "County=%{y}<br>Total Deaths=%{x}<extra></extra>",
         "legendgroup": "Clearwater",
         "marker": {
          "color": "#FFA15A"
         },
         "name": "Clearwater",
         "offsetgroup": "Clearwater",
         "orientation": "h",
         "showlegend": true,
         "textposition": "auto",
         "type": "bar",
         "x": [
          14
         ],
         "xaxis": "x",
         "y": [
          "Clearwater"
         ],
         "yaxis": "y"
        },
        {
         "alignmentgroup": "True",
         "hovertemplate": "County=%{y}<br>Total Deaths=%{x}<extra></extra>",
         "legendgroup": "Cook",
         "marker": {
          "color": "#19d3f3"
         },
         "name": "Cook",
         "offsetgroup": "Cook",
         "orientation": "h",
         "showlegend": true,
         "textposition": "auto",
         "type": "bar",
         "x": [
          0
         ],
         "xaxis": "x",
         "y": [
          "Cook"
         ],
         "yaxis": "y"
        },
        {
         "alignmentgroup": "True",
         "hovertemplate": "County=%{y}<br>Total Deaths=%{x}<extra></extra>",
         "legendgroup": "Cottonwood",
         "marker": {
          "color": "#FF6692"
         },
         "name": "Cottonwood",
         "offsetgroup": "Cottonwood",
         "orientation": "h",
         "showlegend": true,
         "textposition": "auto",
         "type": "bar",
         "x": [
          20
         ],
         "xaxis": "x",
         "y": [
          "Cottonwood"
         ],
         "yaxis": "y"
        },
        {
         "alignmentgroup": "True",
         "hovertemplate": "County=%{y}<br>Total Deaths=%{x}<extra></extra>",
         "legendgroup": "Crow Wing",
         "marker": {
          "color": "#B6E880"
         },
         "name": "Crow Wing",
         "offsetgroup": "Crow Wing",
         "orientation": "h",
         "showlegend": true,
         "textposition": "auto",
         "type": "bar",
         "x": [
          82
         ],
         "xaxis": "x",
         "y": [
          "Crow Wing"
         ],
         "yaxis": "y"
        },
        {
         "alignmentgroup": "True",
         "hovertemplate": "County=%{y}<br>Total Deaths=%{x}<extra></extra>",
         "legendgroup": "Dakota",
         "marker": {
          "color": "#FF97FF"
         },
         "name": "Dakota",
         "offsetgroup": "Dakota",
         "orientation": "h",
         "showlegend": true,
         "textposition": "auto",
         "type": "bar",
         "x": [
          392
         ],
         "xaxis": "x",
         "y": [
          "Dakota"
         ],
         "yaxis": "y"
        },
        {
         "alignmentgroup": "True",
         "hovertemplate": "County=%{y}<br>Total Deaths=%{x}<extra></extra>",
         "legendgroup": "Dodge",
         "marker": {
          "color": "#FECB52"
         },
         "name": "Dodge",
         "offsetgroup": "Dodge",
         "orientation": "h",
         "showlegend": true,
         "textposition": "auto",
         "type": "bar",
         "x": [
          4
         ],
         "xaxis": "x",
         "y": [
          "Dodge"
         ],
         "yaxis": "y"
        },
        {
         "alignmentgroup": "True",
         "hovertemplate": "County=%{y}<br>Total Deaths=%{x}<extra></extra>",
         "legendgroup": "Douglas",
         "marker": {
          "color": "#636efa"
         },
         "name": "Douglas",
         "offsetgroup": "Douglas",
         "orientation": "h",
         "showlegend": true,
         "textposition": "auto",
         "type": "bar",
         "x": [
          68
         ],
         "xaxis": "x",
         "y": [
          "Douglas"
         ],
         "yaxis": "y"
        },
        {
         "alignmentgroup": "True",
         "hovertemplate": "County=%{y}<br>Total Deaths=%{x}<extra></extra>",
         "legendgroup": "Faribault",
         "marker": {
          "color": "#EF553B"
         },
         "name": "Faribault",
         "offsetgroup": "Faribault",
         "orientation": "h",
         "showlegend": true,
         "textposition": "auto",
         "type": "bar",
         "x": [
          17
         ],
         "xaxis": "x",
         "y": [
          "Faribault"
         ],
         "yaxis": "y"
        },
        {
         "alignmentgroup": "True",
         "hovertemplate": "County=%{y}<br>Total Deaths=%{x}<extra></extra>",
         "legendgroup": "Fillmore",
         "marker": {
          "color": "#00cc96"
         },
         "name": "Fillmore",
         "offsetgroup": "Fillmore",
         "orientation": "h",
         "showlegend": true,
         "textposition": "auto",
         "type": "bar",
         "x": [
          8
         ],
         "xaxis": "x",
         "y": [
          "Fillmore"
         ],
         "yaxis": "y"
        },
        {
         "alignmentgroup": "True",
         "hovertemplate": "County=%{y}<br>Total Deaths=%{x}<extra></extra>",
         "legendgroup": "Freeborn",
         "marker": {
          "color": "#ab63fa"
         },
         "name": "Freeborn",
         "offsetgroup": "Freeborn",
         "orientation": "h",
         "showlegend": true,
         "textposition": "auto",
         "type": "bar",
         "x": [
          24
         ],
         "xaxis": "x",
         "y": [
          "Freeborn"
         ],
         "yaxis": "y"
        },
        {
         "alignmentgroup": "True",
         "hovertemplate": "County=%{y}<br>Total Deaths=%{x}<extra></extra>",
         "legendgroup": "Goodhue",
         "marker": {
          "color": "#FFA15A"
         },
         "name": "Goodhue",
         "offsetgroup": "Goodhue",
         "orientation": "h",
         "showlegend": true,
         "textposition": "auto",
         "type": "bar",
         "x": [
          69
         ],
         "xaxis": "x",
         "y": [
          "Goodhue"
         ],
         "yaxis": "y"
        },
        {
         "alignmentgroup": "True",
         "hovertemplate": "County=%{y}<br>Total Deaths=%{x}<extra></extra>",
         "legendgroup": "Grant",
         "marker": {
          "color": "#19d3f3"
         },
         "name": "Grant",
         "offsetgroup": "Grant",
         "orientation": "h",
         "showlegend": true,
         "textposition": "auto",
         "type": "bar",
         "x": [
          8
         ],
         "xaxis": "x",
         "y": [
          "Grant"
         ],
         "yaxis": "y"
        },
        {
         "alignmentgroup": "True",
         "hovertemplate": "County=%{y}<br>Total Deaths=%{x}<extra></extra>",
         "legendgroup": "Hennepin",
         "marker": {
          "color": "#FF6692"
         },
         "name": "Hennepin",
         "offsetgroup": "Hennepin",
         "orientation": "h",
         "showlegend": true,
         "textposition": "auto",
         "type": "bar",
         "x": [
          1588
         ],
         "xaxis": "x",
         "y": [
          "Hennepin"
         ],
         "yaxis": "y"
        },
        {
         "alignmentgroup": "True",
         "hovertemplate": "County=%{y}<br>Total Deaths=%{x}<extra></extra>",
         "legendgroup": "Houston",
         "marker": {
          "color": "#B6E880"
         },
         "name": "Houston",
         "offsetgroup": "Houston",
         "orientation": "h",
         "showlegend": true,
         "textposition": "auto",
         "type": "bar",
         "x": [
          14
         ],
         "xaxis": "x",
         "y": [
          "Houston"
         ],
         "yaxis": "y"
        },
        {
         "alignmentgroup": "True",
         "hovertemplate": "County=%{y}<br>Total Deaths=%{x}<extra></extra>",
         "legendgroup": "Hubbard",
         "marker": {
          "color": "#FF97FF"
         },
         "name": "Hubbard",
         "offsetgroup": "Hubbard",
         "orientation": "h",
         "showlegend": true,
         "textposition": "auto",
         "type": "bar",
         "x": [
          41
         ],
         "xaxis": "x",
         "y": [
          "Hubbard"
         ],
         "yaxis": "y"
        },
        {
         "alignmentgroup": "True",
         "hovertemplate": "County=%{y}<br>Total Deaths=%{x}<extra></extra>",
         "legendgroup": "Isanti",
         "marker": {
          "color": "#FECB52"
         },
         "name": "Isanti",
         "offsetgroup": "Isanti",
         "orientation": "h",
         "showlegend": true,
         "textposition": "auto",
         "type": "bar",
         "x": [
          56
         ],
         "xaxis": "x",
         "y": [
          "Isanti"
         ],
         "yaxis": "y"
        },
        {
         "alignmentgroup": "True",
         "hovertemplate": "County=%{y}<br>Total Deaths=%{x}<extra></extra>",
         "legendgroup": "Itasca",
         "marker": {
          "color": "#636efa"
         },
         "name": "Itasca",
         "offsetgroup": "Itasca",
         "orientation": "h",
         "showlegend": true,
         "textposition": "auto",
         "type": "bar",
         "x": [
          46
         ],
         "xaxis": "x",
         "y": [
          "Itasca"
         ],
         "yaxis": "y"
        },
        {
         "alignmentgroup": "True",
         "hovertemplate": "County=%{y}<br>Total Deaths=%{x}<extra></extra>",
         "legendgroup": "Jackson",
         "marker": {
          "color": "#EF553B"
         },
         "name": "Jackson",
         "offsetgroup": "Jackson",
         "orientation": "h",
         "showlegend": true,
         "textposition": "auto",
         "type": "bar",
         "x": [
          10
         ],
         "xaxis": "x",
         "y": [
          "Jackson"
         ],
         "yaxis": "y"
        },
        {
         "alignmentgroup": "True",
         "hovertemplate": "County=%{y}<br>Total Deaths=%{x}<extra></extra>",
         "legendgroup": "Kanabec",
         "marker": {
          "color": "#00cc96"
         },
         "name": "Kanabec",
         "offsetgroup": "Kanabec",
         "orientation": "h",
         "showlegend": true,
         "textposition": "auto",
         "type": "bar",
         "x": [
          19
         ],
         "xaxis": "x",
         "y": [
          "Kanabec"
         ],
         "yaxis": "y"
        },
        {
         "alignmentgroup": "True",
         "hovertemplate": "County=%{y}<br>Total Deaths=%{x}<extra></extra>",
         "legendgroup": "Kandiyohi",
         "marker": {
          "color": "#ab63fa"
         },
         "name": "Kandiyohi",
         "offsetgroup": "Kandiyohi",
         "orientation": "h",
         "showlegend": true,
         "textposition": "auto",
         "type": "bar",
         "x": [
          74
         ],
         "xaxis": "x",
         "y": [
          "Kandiyohi"
         ],
         "yaxis": "y"
        },
        {
         "alignmentgroup": "True",
         "hovertemplate": "County=%{y}<br>Total Deaths=%{x}<extra></extra>",
         "legendgroup": "Kittson",
         "marker": {
          "color": "#FFA15A"
         },
         "name": "Kittson",
         "offsetgroup": "Kittson",
         "orientation": "h",
         "showlegend": true,
         "textposition": "auto",
         "type": "bar",
         "x": [
          21
         ],
         "xaxis": "x",
         "y": [
          "Kittson"
         ],
         "yaxis": "y"
        },
        {
         "alignmentgroup": "True",
         "hovertemplate": "County=%{y}<br>Total Deaths=%{x}<extra></extra>",
         "legendgroup": "Koochiching",
         "marker": {
          "color": "#19d3f3"
         },
         "name": "Koochiching",
         "offsetgroup": "Koochiching",
         "orientation": "h",
         "showlegend": true,
         "textposition": "auto",
         "type": "bar",
         "x": [
          11
         ],
         "xaxis": "x",
         "y": [
          "Koochiching"
         ],
         "yaxis": "y"
        },
        {
         "alignmentgroup": "True",
         "hovertemplate": "County=%{y}<br>Total Deaths=%{x}<extra></extra>",
         "legendgroup": "Lac qui Parle",
         "marker": {
          "color": "#FF6692"
         },
         "name": "Lac qui Parle",
         "offsetgroup": "Lac qui Parle",
         "orientation": "h",
         "showlegend": true,
         "textposition": "auto",
         "type": "bar",
         "x": [
          16
         ],
         "xaxis": "x",
         "y": [
          "Lac qui Parle"
         ],
         "yaxis": "y"
        },
        {
         "alignmentgroup": "True",
         "hovertemplate": "County=%{y}<br>Total Deaths=%{x}<extra></extra>",
         "legendgroup": "Lake",
         "marker": {
          "color": "#B6E880"
         },
         "name": "Lake",
         "offsetgroup": "Lake",
         "orientation": "h",
         "showlegend": true,
         "textposition": "auto",
         "type": "bar",
         "x": [
          18
         ],
         "xaxis": "x",
         "y": [
          "Lake"
         ],
         "yaxis": "y"
        },
        {
         "alignmentgroup": "True",
         "hovertemplate": "County=%{y}<br>Total Deaths=%{x}<extra></extra>",
         "legendgroup": "Lake of the Woods",
         "marker": {
          "color": "#FF97FF"
         },
         "name": "Lake of the Woods",
         "offsetgroup": "Lake of the Woods",
         "orientation": "h",
         "showlegend": true,
         "textposition": "auto",
         "type": "bar",
         "x": [
          1
         ],
         "xaxis": "x",
         "y": [
          "Lake of the Woods"
         ],
         "yaxis": "y"
        },
        {
         "alignmentgroup": "True",
         "hovertemplate": "County=%{y}<br>Total Deaths=%{x}<extra></extra>",
         "legendgroup": "Le Sueur",
         "marker": {
          "color": "#FECB52"
         },
         "name": "Le Sueur",
         "offsetgroup": "Le Sueur",
         "orientation": "h",
         "showlegend": true,
         "textposition": "auto",
         "type": "bar",
         "x": [
          20
         ],
         "xaxis": "x",
         "y": [
          "Le Sueur"
         ],
         "yaxis": "y"
        },
        {
         "alignmentgroup": "True",
         "hovertemplate": "County=%{y}<br>Total Deaths=%{x}<extra></extra>",
         "legendgroup": "Lincoln",
         "marker": {
          "color": "#636efa"
         },
         "name": "Lincoln",
         "offsetgroup": "Lincoln",
         "orientation": "h",
         "showlegend": true,
         "textposition": "auto",
         "type": "bar",
         "x": [
          2
         ],
         "xaxis": "x",
         "y": [
          "Lincoln"
         ],
         "yaxis": "y"
        },
        {
         "alignmentgroup": "True",
         "hovertemplate": "County=%{y}<br>Total Deaths=%{x}<extra></extra>",
         "legendgroup": "Lyon",
         "marker": {
          "color": "#EF553B"
         },
         "name": "Lyon",
         "offsetgroup": "Lyon",
         "orientation": "h",
         "showlegend": true,
         "textposition": "auto",
         "type": "bar",
         "x": [
          44
         ],
         "xaxis": "x",
         "y": [
          "Lyon"
         ],
         "yaxis": "y"
        },
        {
         "alignmentgroup": "True",
         "hovertemplate": "County=%{y}<br>Total Deaths=%{x}<extra></extra>",
         "legendgroup": "Mahnomen",
         "marker": {
          "color": "#00cc96"
         },
         "name": "Mahnomen",
         "offsetgroup": "Mahnomen",
         "orientation": "h",
         "showlegend": true,
         "textposition": "auto",
         "type": "bar",
         "x": [
          7
         ],
         "xaxis": "x",
         "y": [
          "Mahnomen"
         ],
         "yaxis": "y"
        },
        {
         "alignmentgroup": "True",
         "hovertemplate": "County=%{y}<br>Total Deaths=%{x}<extra></extra>",
         "legendgroup": "Marshall",
         "marker": {
          "color": "#ab63fa"
         },
         "name": "Marshall",
         "offsetgroup": "Marshall",
         "orientation": "h",
         "showlegend": true,
         "textposition": "auto",
         "type": "bar",
         "x": [
          15
         ],
         "xaxis": "x",
         "y": [
          "Marshall"
         ],
         "yaxis": "y"
        },
        {
         "alignmentgroup": "True",
         "hovertemplate": "County=%{y}<br>Total Deaths=%{x}<extra></extra>",
         "legendgroup": "Martin",
         "marker": {
          "color": "#FFA15A"
         },
         "name": "Martin",
         "offsetgroup": "Martin",
         "orientation": "h",
         "showlegend": true,
         "textposition": "auto",
         "type": "bar",
         "x": [
          28
         ],
         "xaxis": "x",
         "y": [
          "Martin"
         ],
         "yaxis": "y"
        },
        {
         "alignmentgroup": "True",
         "hovertemplate": "County=%{y}<br>Total Deaths=%{x}<extra></extra>",
         "legendgroup": "McLeod",
         "marker": {
          "color": "#19d3f3"
         },
         "name": "McLeod",
         "offsetgroup": "McLeod",
         "orientation": "h",
         "showlegend": true,
         "textposition": "auto",
         "type": "bar",
         "x": [
          50
         ],
         "xaxis": "x",
         "y": [
          "McLeod"
         ],
         "yaxis": "y"
        },
        {
         "alignmentgroup": "True",
         "hovertemplate": "County=%{y}<br>Total Deaths=%{x}<extra></extra>",
         "legendgroup": "Meeker",
         "marker": {
          "color": "#FF6692"
         },
         "name": "Meeker",
         "offsetgroup": "Meeker",
         "orientation": "h",
         "showlegend": true,
         "textposition": "auto",
         "type": "bar",
         "x": [
          34
         ],
         "xaxis": "x",
         "y": [
          "Meeker"
         ],
         "yaxis": "y"
        },
        {
         "alignmentgroup": "True",
         "hovertemplate": "County=%{y}<br>Total Deaths=%{x}<extra></extra>",
         "legendgroup": "Mille Lacs",
         "marker": {
          "color": "#B6E880"
         },
         "name": "Mille Lacs",
         "offsetgroup": "Mille Lacs",
         "orientation": "h",
         "showlegend": true,
         "textposition": "auto",
         "type": "bar",
         "x": [
          47
         ],
         "xaxis": "x",
         "y": [
          "Mille Lacs"
         ],
         "yaxis": "y"
        },
        {
         "alignmentgroup": "True",
         "hovertemplate": "County=%{y}<br>Total Deaths=%{x}<extra></extra>",
         "legendgroup": "Morrison",
         "marker": {
          "color": "#FF97FF"
         },
         "name": "Morrison",
         "offsetgroup": "Morrison",
         "orientation": "h",
         "showlegend": true,
         "textposition": "auto",
         "type": "bar",
         "x": [
          47
         ],
         "xaxis": "x",
         "y": [
          "Morrison"
         ],
         "yaxis": "y"
        },
        {
         "alignmentgroup": "True",
         "hovertemplate": "County=%{y}<br>Total Deaths=%{x}<extra></extra>",
         "legendgroup": "Mower",
         "marker": {
          "color": "#FECB52"
         },
         "name": "Mower",
         "offsetgroup": "Mower",
         "orientation": "h",
         "showlegend": true,
         "textposition": "auto",
         "type": "bar",
         "x": [
          31
         ],
         "xaxis": "x",
         "y": [
          "Mower"
         ],
         "yaxis": "y"
        },
        {
         "alignmentgroup": "True",
         "hovertemplate": "County=%{y}<br>Total Deaths=%{x}<extra></extra>",
         "legendgroup": "Murray",
         "marker": {
          "color": "#636efa"
         },
         "name": "Murray",
         "offsetgroup": "Murray",
         "orientation": "h",
         "showlegend": true,
         "textposition": "auto",
         "type": "bar",
         "x": [
          8
         ],
         "xaxis": "x",
         "y": [
          "Murray"
         ],
         "yaxis": "y"
        },
        {
         "alignmentgroup": "True",
         "hovertemplate": "County=%{y}<br>Total Deaths=%{x}<extra></extra>",
         "legendgroup": "Nicollet",
         "marker": {
          "color": "#EF553B"
         },
         "name": "Nicollet",
         "offsetgroup": "Nicollet",
         "orientation": "h",
         "showlegend": true,
         "textposition": "auto",
         "type": "bar",
         "x": [
          41
         ],
         "xaxis": "x",
         "y": [
          "Nicollet"
         ],
         "yaxis": "y"
        },
        {
         "alignmentgroup": "True",
         "hovertemplate": "County=%{y}<br>Total Deaths=%{x}<extra></extra>",
         "legendgroup": "Nobles",
         "marker": {
          "color": "#00cc96"
         },
         "name": "Nobles",
         "offsetgroup": "Nobles",
         "orientation": "h",
         "showlegend": true,
         "textposition": "auto",
         "type": "bar",
         "x": [
          47
         ],
         "xaxis": "x",
         "y": [
          "Nobles"
         ],
         "yaxis": "y"
        },
        {
         "alignmentgroup": "True",
         "hovertemplate": "County=%{y}<br>Total Deaths=%{x}<extra></extra>",
         "legendgroup": "Norman",
         "marker": {
          "color": "#ab63fa"
         },
         "name": "Norman",
         "offsetgroup": "Norman",
         "orientation": "h",
         "showlegend": true,
         "textposition": "auto",
         "type": "bar",
         "x": [
          8
         ],
         "xaxis": "x",
         "y": [
          "Norman"
         ],
         "yaxis": "y"
        },
        {
         "alignmentgroup": "True",
         "hovertemplate": "County=%{y}<br>Total Deaths=%{x}<extra></extra>",
         "legendgroup": "Olmsted",
         "marker": {
          "color": "#FFA15A"
         },
         "name": "Olmsted",
         "offsetgroup": "Olmsted",
         "orientation": "h",
         "showlegend": true,
         "textposition": "auto",
         "type": "bar",
         "x": [
          89
         ],
         "xaxis": "x",
         "y": [
          "Olmsted"
         ],
         "yaxis": "y"
        },
        {
         "alignmentgroup": "True",
         "hovertemplate": "County=%{y}<br>Total Deaths=%{x}<extra></extra>",
         "legendgroup": "Otter Tail",
         "marker": {
          "color": "#19d3f3"
         },
         "name": "Otter Tail",
         "offsetgroup": "Otter Tail",
         "orientation": "h",
         "showlegend": true,
         "textposition": "auto",
         "type": "bar",
         "x": [
          70
         ],
         "xaxis": "x",
         "y": [
          "Otter Tail"
         ],
         "yaxis": "y"
        },
        {
         "alignmentgroup": "True",
         "hovertemplate": "County=%{y}<br>Total Deaths=%{x}<extra></extra>",
         "legendgroup": "Pennington",
         "marker": {
          "color": "#FF6692"
         },
         "name": "Pennington",
         "offsetgroup": "Pennington",
         "orientation": "h",
         "showlegend": true,
         "textposition": "auto",
         "type": "bar",
         "x": [
          16
         ],
         "xaxis": "x",
         "y": [
          "Pennington"
         ],
         "yaxis": "y"
        },
        {
         "alignmentgroup": "True",
         "hovertemplate": "County=%{y}<br>Total Deaths=%{x}<extra></extra>",
         "legendgroup": "Pine",
         "marker": {
          "color": "#B6E880"
         },
         "name": "Pine",
         "offsetgroup": "Pine",
         "orientation": "h",
         "showlegend": true,
         "textposition": "auto",
         "type": "bar",
         "x": [
          16
         ],
         "xaxis": "x",
         "y": [
          "Pine"
         ],
         "yaxis": "y"
        },
        {
         "alignmentgroup": "True",
         "hovertemplate": "County=%{y}<br>Total Deaths=%{x}<extra></extra>",
         "legendgroup": "Pipestone",
         "marker": {
          "color": "#FF97FF"
         },
         "name": "Pipestone",
         "offsetgroup": "Pipestone",
         "orientation": "h",
         "showlegend": true,
         "textposition": "auto",
         "type": "bar",
         "x": [
          24
         ],
         "xaxis": "x",
         "y": [
          "Pipestone"
         ],
         "yaxis": "y"
        },
        {
         "alignmentgroup": "True",
         "hovertemplate": "County=%{y}<br>Total Deaths=%{x}<extra></extra>",
         "legendgroup": "Polk",
         "marker": {
          "color": "#FECB52"
         },
         "name": "Polk",
         "offsetgroup": "Polk",
         "orientation": "h",
         "showlegend": true,
         "textposition": "auto",
         "type": "bar",
         "x": [
          63
         ],
         "xaxis": "x",
         "y": [
          "Polk"
         ],
         "yaxis": "y"
        },
        {
         "alignmentgroup": "True",
         "hovertemplate": "County=%{y}<br>Total Deaths=%{x}<extra></extra>",
         "legendgroup": "Pope",
         "marker": {
          "color": "#636efa"
         },
         "name": "Pope",
         "offsetgroup": "Pope",
         "orientation": "h",
         "showlegend": true,
         "textposition": "auto",
         "type": "bar",
         "x": [
          5
         ],
         "xaxis": "x",
         "y": [
          "Pope"
         ],
         "yaxis": "y"
        },
        {
         "alignmentgroup": "True",
         "hovertemplate": "County=%{y}<br>Total Deaths=%{x}<extra></extra>",
         "legendgroup": "Ramsey",
         "marker": {
          "color": "#EF553B"
         },
         "name": "Ramsey",
         "offsetgroup": "Ramsey",
         "orientation": "h",
         "showlegend": true,
         "textposition": "auto",
         "type": "bar",
         "x": [
          805
         ],
         "xaxis": "x",
         "y": [
          "Ramsey"
         ],
         "yaxis": "y"
        },
        {
         "alignmentgroup": "True",
         "hovertemplate": "County=%{y}<br>Total Deaths=%{x}<extra></extra>",
         "legendgroup": "Red Lake",
         "marker": {
          "color": "#00cc96"
         },
         "name": "Red Lake",
         "offsetgroup": "Red Lake",
         "orientation": "h",
         "showlegend": true,
         "textposition": "auto",
         "type": "bar",
         "x": [
          5
         ],
         "xaxis": "x",
         "y": [
          "Red Lake"
         ],
         "yaxis": "y"
        },
        {
         "alignmentgroup": "True",
         "hovertemplate": "County=%{y}<br>Total Deaths=%{x}<extra></extra>",
         "legendgroup": "Redwood",
         "marker": {
          "color": "#ab63fa"
         },
         "name": "Redwood",
         "offsetgroup": "Redwood",
         "orientation": "h",
         "showlegend": true,
         "textposition": "auto",
         "type": "bar",
         "x": [
          27
         ],
         "xaxis": "x",
         "y": [
          "Redwood"
         ],
         "yaxis": "y"
        },
        {
         "alignmentgroup": "True",
         "hovertemplate": "County=%{y}<br>Total Deaths=%{x}<extra></extra>",
         "legendgroup": "Renville",
         "marker": {
          "color": "#FFA15A"
         },
         "name": "Renville",
         "offsetgroup": "Renville",
         "orientation": "h",
         "showlegend": true,
         "textposition": "auto",
         "type": "bar",
         "x": [
          40
         ],
         "xaxis": "x",
         "y": [
          "Renville"
         ],
         "yaxis": "y"
        },
        {
         "alignmentgroup": "True",
         "hovertemplate": "County=%{y}<br>Total Deaths=%{x}<extra></extra>",
         "legendgroup": "Rice",
         "marker": {
          "color": "#19d3f3"
         },
         "name": "Rice",
         "offsetgroup": "Rice",
         "orientation": "h",
         "showlegend": true,
         "textposition": "auto",
         "type": "bar",
         "x": [
          91
         ],
         "xaxis": "x",
         "y": [
          "Rice"
         ],
         "yaxis": "y"
        },
        {
         "alignmentgroup": "True",
         "hovertemplate": "County=%{y}<br>Total Deaths=%{x}<extra></extra>",
         "legendgroup": "Rock",
         "marker": {
          "color": "#FF6692"
         },
         "name": "Rock",
         "offsetgroup": "Rock",
         "orientation": "h",
         "showlegend": true,
         "textposition": "auto",
         "type": "bar",
         "x": [
          14
         ],
         "xaxis": "x",
         "y": [
          "Rock"
         ],
         "yaxis": "y"
        },
        {
         "alignmentgroup": "True",
         "hovertemplate": "County=%{y}<br>Total Deaths=%{x}<extra></extra>",
         "legendgroup": "Roseau",
         "marker": {
          "color": "#B6E880"
         },
         "name": "Roseau",
         "offsetgroup": "Roseau",
         "orientation": "h",
         "showlegend": true,
         "textposition": "auto",
         "type": "bar",
         "x": [
          17
         ],
         "xaxis": "x",
         "y": [
          "Roseau"
         ],
         "yaxis": "y"
        },
        {
         "alignmentgroup": "True",
         "hovertemplate": "County=%{y}<br>Total Deaths=%{x}<extra></extra>",
         "legendgroup": "Scott",
         "marker": {
          "color": "#FF97FF"
         },
         "name": "Scott",
         "offsetgroup": "Scott",
         "orientation": "h",
         "showlegend": true,
         "textposition": "auto",
         "type": "bar",
         "x": [
          107
         ],
         "xaxis": "x",
         "y": [
          "Scott"
         ],
         "yaxis": "y"
        },
        {
         "alignmentgroup": "True",
         "hovertemplate": "County=%{y}<br>Total Deaths=%{x}<extra></extra>",
         "legendgroup": "Sherburne",
         "marker": {
          "color": "#FECB52"
         },
         "name": "Sherburne",
         "offsetgroup": "Sherburne",
         "orientation": "h",
         "showlegend": true,
         "textposition": "auto",
         "type": "bar",
         "x": [
          73
         ],
         "xaxis": "x",
         "y": [
          "Sherburne"
         ],
         "yaxis": "y"
        },
        {
         "alignmentgroup": "True",
         "hovertemplate": "County=%{y}<br>Total Deaths=%{x}<extra></extra>",
         "legendgroup": "Sibley",
         "marker": {
          "color": "#636efa"
         },
         "name": "Sibley",
         "offsetgroup": "Sibley",
         "orientation": "h",
         "showlegend": true,
         "textposition": "auto",
         "type": "bar",
         "x": [
          10
         ],
         "xaxis": "x",
         "y": [
          "Sibley"
         ],
         "yaxis": "y"
        },
        {
         "alignmentgroup": "True",
         "hovertemplate": "County=%{y}<br>Total Deaths=%{x}<extra></extra>",
         "legendgroup": "St. Louis",
         "marker": {
          "color": "#EF553B"
         },
         "name": "St. Louis",
         "offsetgroup": "St. Louis",
         "orientation": "h",
         "showlegend": true,
         "textposition": "auto",
         "type": "bar",
         "x": [
          264
         ],
         "xaxis": "x",
         "y": [
          "St. Louis"
         ],
         "yaxis": "y"
        },
        {
         "alignmentgroup": "True",
         "hovertemplate": "County=%{y}<br>Total Deaths=%{x}<extra></extra>",
         "legendgroup": "Stearns",
         "marker": {
          "color": "#00cc96"
         },
         "name": "Stearns",
         "offsetgroup": "Stearns",
         "orientation": "h",
         "showlegend": true,
         "textposition": "auto",
         "type": "bar",
         "x": [
          202
         ],
         "xaxis": "x",
         "y": [
          "Stearns"
         ],
         "yaxis": "y"
        },
        {
         "alignmentgroup": "True",
         "hovertemplate": "County=%{y}<br>Total Deaths=%{x}<extra></extra>",
         "legendgroup": "Steele",
         "marker": {
          "color": "#ab63fa"
         },
         "name": "Steele",
         "offsetgroup": "Steele",
         "orientation": "h",
         "showlegend": true,
         "textposition": "auto",
         "type": "bar",
         "x": [
          11
         ],
         "xaxis": "x",
         "y": [
          "Steele"
         ],
         "yaxis": "y"
        },
        {
         "alignmentgroup": "True",
         "hovertemplate": "County=%{y}<br>Total Deaths=%{x}<extra></extra>",
         "legendgroup": "Stevens",
         "marker": {
          "color": "#FFA15A"
         },
         "name": "Stevens",
         "offsetgroup": "Stevens",
         "orientation": "h",
         "showlegend": true,
         "textposition": "auto",
         "type": "bar",
         "x": [
          8
         ],
         "xaxis": "x",
         "y": [
          "Stevens"
         ],
         "yaxis": "y"
        },
        {
         "alignmentgroup": "True",
         "hovertemplate": "County=%{y}<br>Total Deaths=%{x}<extra></extra>",
         "legendgroup": "Swift",
         "marker": {
          "color": "#19d3f3"
         },
         "name": "Swift",
         "offsetgroup": "Swift",
         "orientation": "h",
         "showlegend": true,
         "textposition": "auto",
         "type": "bar",
         "x": [
          18
         ],
         "xaxis": "x",
         "y": [
          "Swift"
         ],
         "yaxis": "y"
        },
        {
         "alignmentgroup": "True",
         "hovertemplate": "County=%{y}<br>Total Deaths=%{x}<extra></extra>",
         "legendgroup": "Todd",
         "marker": {
          "color": "#FF6692"
         },
         "name": "Todd",
         "offsetgroup": "Todd",
         "orientation": "h",
         "showlegend": true,
         "textposition": "auto",
         "type": "bar",
         "x": [
          30
         ],
         "xaxis": "x",
         "y": [
          "Todd"
         ],
         "yaxis": "y"
        },
        {
         "alignmentgroup": "True",
         "hovertemplate": "County=%{y}<br>Total Deaths=%{x}<extra></extra>",
         "legendgroup": "Traverse",
         "marker": {
          "color": "#B6E880"
         },
         "name": "Traverse",
         "offsetgroup": "Traverse",
         "orientation": "h",
         "showlegend": true,
         "textposition": "auto",
         "type": "bar",
         "x": [
          5
         ],
         "xaxis": "x",
         "y": [
          "Traverse"
         ],
         "yaxis": "y"
        },
        {
         "alignmentgroup": "True",
         "hovertemplate": "County=%{y}<br>Total Deaths=%{x}<extra></extra>",
         "legendgroup": "Wabasha",
         "marker": {
          "color": "#FF97FF"
         },
         "name": "Wabasha",
         "offsetgroup": "Wabasha",
         "orientation": "h",
         "showlegend": true,
         "textposition": "auto",
         "type": "bar",
         "x": [
          3
         ],
         "xaxis": "x",
         "y": [
          "Wabasha"
         ],
         "yaxis": "y"
        },
        {
         "alignmentgroup": "True",
         "hovertemplate": "County=%{y}<br>Total Deaths=%{x}<extra></extra>",
         "legendgroup": "Wadena",
         "marker": {
          "color": "#FECB52"
         },
         "name": "Wadena",
         "offsetgroup": "Wadena",
         "orientation": "h",
         "showlegend": true,
         "textposition": "auto",
         "type": "bar",
         "x": [
          20
         ],
         "xaxis": "x",
         "y": [
          "Wadena"
         ],
         "yaxis": "y"
        },
        {
         "alignmentgroup": "True",
         "hovertemplate": "County=%{y}<br>Total Deaths=%{x}<extra></extra>",
         "legendgroup": "Waseca",
         "marker": {
          "color": "#636efa"
         },
         "name": "Waseca",
         "offsetgroup": "Waseca",
         "orientation": "h",
         "showlegend": true,
         "textposition": "auto",
         "type": "bar",
         "x": [
          17
         ],
         "xaxis": "x",
         "y": [
          "Waseca"
         ],
         "yaxis": "y"
        },
        {
         "alignmentgroup": "True",
         "hovertemplate": "County=%{y}<br>Total Deaths=%{x}<extra></extra>",
         "legendgroup": "Washington",
         "marker": {
          "color": "#EF553B"
         },
         "name": "Washington",
         "offsetgroup": "Washington",
         "orientation": "h",
         "showlegend": true,
         "textposition": "auto",
         "type": "bar",
         "x": [
          259
         ],
         "xaxis": "x",
         "y": [
          "Washington"
         ],
         "yaxis": "y"
        },
        {
         "alignmentgroup": "True",
         "hovertemplate": "County=%{y}<br>Total Deaths=%{x}<extra></extra>",
         "legendgroup": "Watonwan",
         "marker": {
          "color": "#00cc96"
         },
         "name": "Watonwan",
         "offsetgroup": "Watonwan",
         "orientation": "h",
         "showlegend": true,
         "textposition": "auto",
         "type": "bar",
         "x": [
          8
         ],
         "xaxis": "x",
         "y": [
          "Watonwan"
         ],
         "yaxis": "y"
        },
        {
         "alignmentgroup": "True",
         "hovertemplate": "County=%{y}<br>Total Deaths=%{x}<extra></extra>",
         "legendgroup": "Wilkin",
         "marker": {
          "color": "#ab63fa"
         },
         "name": "Wilkin",
         "offsetgroup": "Wilkin",
         "orientation": "h",
         "showlegend": true,
         "textposition": "auto",
         "type": "bar",
         "x": [
          11
         ],
         "xaxis": "x",
         "y": [
          "Wilkin"
         ],
         "yaxis": "y"
        },
        {
         "alignmentgroup": "True",
         "hovertemplate": "County=%{y}<br>Total Deaths=%{x}<extra></extra>",
         "legendgroup": "Winona",
         "marker": {
          "color": "#FFA15A"
         },
         "name": "Winona",
         "offsetgroup": "Winona",
         "orientation": "h",
         "showlegend": true,
         "textposition": "auto",
         "type": "bar",
         "x": [
          49
         ],
         "xaxis": "x",
         "y": [
          "Winona"
         ],
         "yaxis": "y"
        },
        {
         "alignmentgroup": "True",
         "hovertemplate": "County=%{y}<br>Total Deaths=%{x}<extra></extra>",
         "legendgroup": "Wright",
         "marker": {
          "color": "#19d3f3"
         },
         "name": "Wright",
         "offsetgroup": "Wright",
         "orientation": "h",
         "showlegend": true,
         "textposition": "auto",
         "type": "bar",
         "x": [
          116
         ],
         "xaxis": "x",
         "y": [
          "Wright"
         ],
         "yaxis": "y"
        },
        {
         "alignmentgroup": "True",
         "hovertemplate": "County=%{y}<br>Total Deaths=%{x}<extra></extra>",
         "legendgroup": "Yellow Medicine",
         "marker": {
          "color": "#FF6692"
         },
         "name": "Yellow Medicine",
         "offsetgroup": "Yellow Medicine",
         "orientation": "h",
         "showlegend": true,
         "textposition": "auto",
         "type": "bar",
         "x": [
          17
         ],
         "xaxis": "x",
         "y": [
          "Yellow Medicine"
         ],
         "yaxis": "y"
        },
        {
         "alignmentgroup": "True",
         "hovertemplate": "County=%{y}<br>Total Deaths=%{x}<extra></extra>",
         "legendgroup": "Unknown/Missing",
         "marker": {
          "color": "#B6E880"
         },
         "name": "Unknown/Missing",
         "offsetgroup": "Unknown/Missing",
         "orientation": "h",
         "showlegend": true,
         "textposition": "auto",
         "type": "bar",
         "x": [
          0
         ],
         "xaxis": "x",
         "y": [
          "Unknown/Missing"
         ],
         "yaxis": "y"
        }
       ],
       "layout": {
        "barmode": "relative",
        "legend": {
         "title": {
          "text": "County"
         },
         "tracegroupgap": 0
        },
        "template": {
         "data": {
          "bar": [
           {
            "error_x": {
             "color": "#2a3f5f"
            },
            "error_y": {
             "color": "#2a3f5f"
            },
            "marker": {
             "line": {
              "color": "#E5ECF6",
              "width": 0.5
             }
            },
            "type": "bar"
           }
          ],
          "barpolar": [
           {
            "marker": {
             "line": {
              "color": "#E5ECF6",
              "width": 0.5
             }
            },
            "type": "barpolar"
           }
          ],
          "carpet": [
           {
            "aaxis": {
             "endlinecolor": "#2a3f5f",
             "gridcolor": "white",
             "linecolor": "white",
             "minorgridcolor": "white",
             "startlinecolor": "#2a3f5f"
            },
            "baxis": {
             "endlinecolor": "#2a3f5f",
             "gridcolor": "white",
             "linecolor": "white",
             "minorgridcolor": "white",
             "startlinecolor": "#2a3f5f"
            },
            "type": "carpet"
           }
          ],
          "choropleth": [
           {
            "colorbar": {
             "outlinewidth": 0,
             "ticks": ""
            },
            "type": "choropleth"
           }
          ],
          "contour": [
           {
            "colorbar": {
             "outlinewidth": 0,
             "ticks": ""
            },
            "colorscale": [
             [
              0,
              "#0d0887"
             ],
             [
              0.1111111111111111,
              "#46039f"
             ],
             [
              0.2222222222222222,
              "#7201a8"
             ],
             [
              0.3333333333333333,
              "#9c179e"
             ],
             [
              0.4444444444444444,
              "#bd3786"
             ],
             [
              0.5555555555555556,
              "#d8576b"
             ],
             [
              0.6666666666666666,
              "#ed7953"
             ],
             [
              0.7777777777777778,
              "#fb9f3a"
             ],
             [
              0.8888888888888888,
              "#fdca26"
             ],
             [
              1,
              "#f0f921"
             ]
            ],
            "type": "contour"
           }
          ],
          "contourcarpet": [
           {
            "colorbar": {
             "outlinewidth": 0,
             "ticks": ""
            },
            "type": "contourcarpet"
           }
          ],
          "heatmap": [
           {
            "colorbar": {
             "outlinewidth": 0,
             "ticks": ""
            },
            "colorscale": [
             [
              0,
              "#0d0887"
             ],
             [
              0.1111111111111111,
              "#46039f"
             ],
             [
              0.2222222222222222,
              "#7201a8"
             ],
             [
              0.3333333333333333,
              "#9c179e"
             ],
             [
              0.4444444444444444,
              "#bd3786"
             ],
             [
              0.5555555555555556,
              "#d8576b"
             ],
             [
              0.6666666666666666,
              "#ed7953"
             ],
             [
              0.7777777777777778,
              "#fb9f3a"
             ],
             [
              0.8888888888888888,
              "#fdca26"
             ],
             [
              1,
              "#f0f921"
             ]
            ],
            "type": "heatmap"
           }
          ],
          "heatmapgl": [
           {
            "colorbar": {
             "outlinewidth": 0,
             "ticks": ""
            },
            "colorscale": [
             [
              0,
              "#0d0887"
             ],
             [
              0.1111111111111111,
              "#46039f"
             ],
             [
              0.2222222222222222,
              "#7201a8"
             ],
             [
              0.3333333333333333,
              "#9c179e"
             ],
             [
              0.4444444444444444,
              "#bd3786"
             ],
             [
              0.5555555555555556,
              "#d8576b"
             ],
             [
              0.6666666666666666,
              "#ed7953"
             ],
             [
              0.7777777777777778,
              "#fb9f3a"
             ],
             [
              0.8888888888888888,
              "#fdca26"
             ],
             [
              1,
              "#f0f921"
             ]
            ],
            "type": "heatmapgl"
           }
          ],
          "histogram": [
           {
            "marker": {
             "colorbar": {
              "outlinewidth": 0,
              "ticks": ""
             }
            },
            "type": "histogram"
           }
          ],
          "histogram2d": [
           {
            "colorbar": {
             "outlinewidth": 0,
             "ticks": ""
            },
            "colorscale": [
             [
              0,
              "#0d0887"
             ],
             [
              0.1111111111111111,
              "#46039f"
             ],
             [
              0.2222222222222222,
              "#7201a8"
             ],
             [
              0.3333333333333333,
              "#9c179e"
             ],
             [
              0.4444444444444444,
              "#bd3786"
             ],
             [
              0.5555555555555556,
              "#d8576b"
             ],
             [
              0.6666666666666666,
              "#ed7953"
             ],
             [
              0.7777777777777778,
              "#fb9f3a"
             ],
             [
              0.8888888888888888,
              "#fdca26"
             ],
             [
              1,
              "#f0f921"
             ]
            ],
            "type": "histogram2d"
           }
          ],
          "histogram2dcontour": [
           {
            "colorbar": {
             "outlinewidth": 0,
             "ticks": ""
            },
            "colorscale": [
             [
              0,
              "#0d0887"
             ],
             [
              0.1111111111111111,
              "#46039f"
             ],
             [
              0.2222222222222222,
              "#7201a8"
             ],
             [
              0.3333333333333333,
              "#9c179e"
             ],
             [
              0.4444444444444444,
              "#bd3786"
             ],
             [
              0.5555555555555556,
              "#d8576b"
             ],
             [
              0.6666666666666666,
              "#ed7953"
             ],
             [
              0.7777777777777778,
              "#fb9f3a"
             ],
             [
              0.8888888888888888,
              "#fdca26"
             ],
             [
              1,
              "#f0f921"
             ]
            ],
            "type": "histogram2dcontour"
           }
          ],
          "mesh3d": [
           {
            "colorbar": {
             "outlinewidth": 0,
             "ticks": ""
            },
            "type": "mesh3d"
           }
          ],
          "parcoords": [
           {
            "line": {
             "colorbar": {
              "outlinewidth": 0,
              "ticks": ""
             }
            },
            "type": "parcoords"
           }
          ],
          "pie": [
           {
            "automargin": true,
            "type": "pie"
           }
          ],
          "scatter": [
           {
            "marker": {
             "colorbar": {
              "outlinewidth": 0,
              "ticks": ""
             }
            },
            "type": "scatter"
           }
          ],
          "scatter3d": [
           {
            "line": {
             "colorbar": {
              "outlinewidth": 0,
              "ticks": ""
             }
            },
            "marker": {
             "colorbar": {
              "outlinewidth": 0,
              "ticks": ""
             }
            },
            "type": "scatter3d"
           }
          ],
          "scattercarpet": [
           {
            "marker": {
             "colorbar": {
              "outlinewidth": 0,
              "ticks": ""
             }
            },
            "type": "scattercarpet"
           }
          ],
          "scattergeo": [
           {
            "marker": {
             "colorbar": {
              "outlinewidth": 0,
              "ticks": ""
             }
            },
            "type": "scattergeo"
           }
          ],
          "scattergl": [
           {
            "marker": {
             "colorbar": {
              "outlinewidth": 0,
              "ticks": ""
             }
            },
            "type": "scattergl"
           }
          ],
          "scattermapbox": [
           {
            "marker": {
             "colorbar": {
              "outlinewidth": 0,
              "ticks": ""
             }
            },
            "type": "scattermapbox"
           }
          ],
          "scatterpolar": [
           {
            "marker": {
             "colorbar": {
              "outlinewidth": 0,
              "ticks": ""
             }
            },
            "type": "scatterpolar"
           }
          ],
          "scatterpolargl": [
           {
            "marker": {
             "colorbar": {
              "outlinewidth": 0,
              "ticks": ""
             }
            },
            "type": "scatterpolargl"
           }
          ],
          "scatterternary": [
           {
            "marker": {
             "colorbar": {
              "outlinewidth": 0,
              "ticks": ""
             }
            },
            "type": "scatterternary"
           }
          ],
          "surface": [
           {
            "colorbar": {
             "outlinewidth": 0,
             "ticks": ""
            },
            "colorscale": [
             [
              0,
              "#0d0887"
             ],
             [
              0.1111111111111111,
              "#46039f"
             ],
             [
              0.2222222222222222,
              "#7201a8"
             ],
             [
              0.3333333333333333,
              "#9c179e"
             ],
             [
              0.4444444444444444,
              "#bd3786"
             ],
             [
              0.5555555555555556,
              "#d8576b"
             ],
             [
              0.6666666666666666,
              "#ed7953"
             ],
             [
              0.7777777777777778,
              "#fb9f3a"
             ],
             [
              0.8888888888888888,
              "#fdca26"
             ],
             [
              1,
              "#f0f921"
             ]
            ],
            "type": "surface"
           }
          ],
          "table": [
           {
            "cells": {
             "fill": {
              "color": "#EBF0F8"
             },
             "line": {
              "color": "white"
             }
            },
            "header": {
             "fill": {
              "color": "#C8D4E3"
             },
             "line": {
              "color": "white"
             }
            },
            "type": "table"
           }
          ]
         },
         "layout": {
          "annotationdefaults": {
           "arrowcolor": "#2a3f5f",
           "arrowhead": 0,
           "arrowwidth": 1
          },
          "autotypenumbers": "strict",
          "coloraxis": {
           "colorbar": {
            "outlinewidth": 0,
            "ticks": ""
           }
          },
          "colorscale": {
           "diverging": [
            [
             0,
             "#8e0152"
            ],
            [
             0.1,
             "#c51b7d"
            ],
            [
             0.2,
             "#de77ae"
            ],
            [
             0.3,
             "#f1b6da"
            ],
            [
             0.4,
             "#fde0ef"
            ],
            [
             0.5,
             "#f7f7f7"
            ],
            [
             0.6,
             "#e6f5d0"
            ],
            [
             0.7,
             "#b8e186"
            ],
            [
             0.8,
             "#7fbc41"
            ],
            [
             0.9,
             "#4d9221"
            ],
            [
             1,
             "#276419"
            ]
           ],
           "sequential": [
            [
             0,
             "#0d0887"
            ],
            [
             0.1111111111111111,
             "#46039f"
            ],
            [
             0.2222222222222222,
             "#7201a8"
            ],
            [
             0.3333333333333333,
             "#9c179e"
            ],
            [
             0.4444444444444444,
             "#bd3786"
            ],
            [
             0.5555555555555556,
             "#d8576b"
            ],
            [
             0.6666666666666666,
             "#ed7953"
            ],
            [
             0.7777777777777778,
             "#fb9f3a"
            ],
            [
             0.8888888888888888,
             "#fdca26"
            ],
            [
             1,
             "#f0f921"
            ]
           ],
           "sequentialminus": [
            [
             0,
             "#0d0887"
            ],
            [
             0.1111111111111111,
             "#46039f"
            ],
            [
             0.2222222222222222,
             "#7201a8"
            ],
            [
             0.3333333333333333,
             "#9c179e"
            ],
            [
             0.4444444444444444,
             "#bd3786"
            ],
            [
             0.5555555555555556,
             "#d8576b"
            ],
            [
             0.6666666666666666,
             "#ed7953"
            ],
            [
             0.7777777777777778,
             "#fb9f3a"
            ],
            [
             0.8888888888888888,
             "#fdca26"
            ],
            [
             1,
             "#f0f921"
            ]
           ]
          },
          "colorway": [
           "#636efa",
           "#EF553B",
           "#00cc96",
           "#ab63fa",
           "#FFA15A",
           "#19d3f3",
           "#FF6692",
           "#B6E880",
           "#FF97FF",
           "#FECB52"
          ],
          "font": {
           "color": "#2a3f5f"
          },
          "geo": {
           "bgcolor": "white",
           "lakecolor": "white",
           "landcolor": "#E5ECF6",
           "showlakes": true,
           "showland": true,
           "subunitcolor": "white"
          },
          "hoverlabel": {
           "align": "left"
          },
          "hovermode": "closest",
          "mapbox": {
           "style": "light"
          },
          "paper_bgcolor": "white",
          "plot_bgcolor": "#E5ECF6",
          "polar": {
           "angularaxis": {
            "gridcolor": "white",
            "linecolor": "white",
            "ticks": ""
           },
           "bgcolor": "#E5ECF6",
           "radialaxis": {
            "gridcolor": "white",
            "linecolor": "white",
            "ticks": ""
           }
          },
          "scene": {
           "xaxis": {
            "backgroundcolor": "#E5ECF6",
            "gridcolor": "white",
            "gridwidth": 2,
            "linecolor": "white",
            "showbackground": true,
            "ticks": "",
            "zerolinecolor": "white"
           },
           "yaxis": {
            "backgroundcolor": "#E5ECF6",
            "gridcolor": "white",
            "gridwidth": 2,
            "linecolor": "white",
            "showbackground": true,
            "ticks": "",
            "zerolinecolor": "white"
           },
           "zaxis": {
            "backgroundcolor": "#E5ECF6",
            "gridcolor": "white",
            "gridwidth": 2,
            "linecolor": "white",
            "showbackground": true,
            "ticks": "",
            "zerolinecolor": "white"
           }
          },
          "shapedefaults": {
           "line": {
            "color": "#2a3f5f"
           }
          },
          "ternary": {
           "aaxis": {
            "gridcolor": "white",
            "linecolor": "white",
            "ticks": ""
           },
           "baxis": {
            "gridcolor": "white",
            "linecolor": "white",
            "ticks": ""
           },
           "bgcolor": "#E5ECF6",
           "caxis": {
            "gridcolor": "white",
            "linecolor": "white",
            "ticks": ""
           }
          },
          "title": {
           "x": 0.05
          },
          "xaxis": {
           "automargin": true,
           "gridcolor": "white",
           "linecolor": "white",
           "ticks": "",
           "title": {
            "standoff": 15
           },
           "zerolinecolor": "white",
           "zerolinewidth": 2
          },
          "yaxis": {
           "automargin": true,
           "gridcolor": "white",
           "linecolor": "white",
           "ticks": "",
           "title": {
            "standoff": 15
           },
           "zerolinecolor": "white",
           "zerolinewidth": 2
          }
         }
        },
        "title": {
         "text": "<b> by County</b>"
        },
        "xaxis": {
         "anchor": "y",
         "domain": [
          0,
          1
         ],
         "title": {
          "text": "Total Deaths"
         }
        },
        "yaxis": {
         "anchor": "x",
         "categoryarray": [
          "Unknown/Missing",
          "Yellow Medicine",
          "Wright",
          "Winona",
          "Wilkin",
          "Watonwan",
          "Washington",
          "Waseca",
          "Wadena",
          "Wabasha",
          "Traverse",
          "Todd",
          "Swift",
          "Stevens",
          "Steele",
          "Stearns",
          "St. Louis",
          "Sibley",
          "Sherburne",
          "Scott",
          "Roseau",
          "Rock",
          "Rice",
          "Renville",
          "Redwood",
          "Red Lake",
          "Ramsey",
          "Pope",
          "Polk",
          "Pipestone",
          "Pine",
          "Pennington",
          "Otter Tail",
          "Olmsted",
          "Norman",
          "Nobles",
          "Nicollet",
          "Murray",
          "Mower",
          "Morrison",
          "Mille Lacs",
          "Meeker",
          "McLeod",
          "Martin",
          "Marshall",
          "Mahnomen",
          "Lyon",
          "Lincoln",
          "Le Sueur",
          "Lake of the Woods",
          "Lake",
          "Lac qui Parle",
          "Koochiching",
          "Kittson",
          "Kandiyohi",
          "Kanabec",
          "Jackson",
          "Itasca",
          "Isanti",
          "Hubbard",
          "Houston",
          "Hennepin",
          "Grant",
          "Goodhue",
          "Freeborn",
          "Fillmore",
          "Faribault",
          "Douglas",
          "Dodge",
          "Dakota",
          "Crow Wing",
          "Cottonwood",
          "Cook",
          "Clearwater",
          "Clay",
          "Chisago",
          "Chippewa",
          "Cass",
          "Carver",
          "Carlton",
          "Brown",
          "Blue Earth",
          "Big Stone",
          "Benton",
          "Beltrami",
          "Becker",
          "Anoka",
          "Aitkin"
         ],
         "categoryorder": "array",
         "domain": [
          0,
          1
         ],
         "title": {
          "text": "County"
         }
        }
       }
      },
      "text/html": [
       "<div>                            <div id=\"d0fde006-741f-4e74-baea-6b476fb1ff59\" class=\"plotly-graph-div\" style=\"height:525px; width:100%;\"></div>            <script type=\"text/javascript\">                require([\"plotly\"], function(Plotly) {                    window.PLOTLYENV=window.PLOTLYENV || {};                                    if (document.getElementById(\"d0fde006-741f-4e74-baea-6b476fb1ff59\")) {                    Plotly.newPlot(                        \"d0fde006-741f-4e74-baea-6b476fb1ff59\",                        [{\"alignmentgroup\": \"True\", \"hovertemplate\": \"County=%{y}<br>Total Deaths=%{x}<extra></extra>\", \"legendgroup\": \"Aitkin\", \"marker\": {\"color\": \"#636efa\"}, \"name\": \"Aitkin\", \"offsetgroup\": \"Aitkin\", \"orientation\": \"h\", \"showlegend\": true, \"textposition\": \"auto\", \"type\": \"bar\", \"x\": [33], \"xaxis\": \"x\", \"y\": [\"Aitkin\"], \"yaxis\": \"y\"}, {\"alignmentgroup\": \"True\", \"hovertemplate\": \"County=%{y}<br>Total Deaths=%{x}<extra></extra>\", \"legendgroup\": \"Anoka\", \"marker\": {\"color\": \"#EF553B\"}, \"name\": \"Anoka\", \"offsetgroup\": \"Anoka\", \"orientation\": \"h\", \"showlegend\": true, \"textposition\": \"auto\", \"type\": \"bar\", \"x\": [390], \"xaxis\": \"x\", \"y\": [\"Anoka\"], \"yaxis\": \"y\"}, {\"alignmentgroup\": \"True\", \"hovertemplate\": \"County=%{y}<br>Total Deaths=%{x}<extra></extra>\", \"legendgroup\": \"Becker\", \"marker\": {\"color\": \"#00cc96\"}, \"name\": \"Becker\", \"offsetgroup\": \"Becker\", \"orientation\": \"h\", \"showlegend\": true, \"textposition\": \"auto\", \"type\": \"bar\", \"x\": [42], \"xaxis\": \"x\", \"y\": [\"Becker\"], \"yaxis\": \"y\"}, {\"alignmentgroup\": \"True\", \"hovertemplate\": \"County=%{y}<br>Total Deaths=%{x}<extra></extra>\", \"legendgroup\": \"Beltrami\", \"marker\": {\"color\": \"#ab63fa\"}, \"name\": \"Beltrami\", \"offsetgroup\": \"Beltrami\", \"orientation\": \"h\", \"showlegend\": true, \"textposition\": \"auto\", \"type\": \"bar\", \"x\": [51], \"xaxis\": \"x\", \"y\": [\"Beltrami\"], \"yaxis\": \"y\"}, {\"alignmentgroup\": \"True\", \"hovertemplate\": \"County=%{y}<br>Total Deaths=%{x}<extra></extra>\", \"legendgroup\": \"Benton\", \"marker\": {\"color\": \"#FFA15A\"}, \"name\": \"Benton\", \"offsetgroup\": \"Benton\", \"orientation\": \"h\", \"showlegend\": true, \"textposition\": \"auto\", \"type\": \"bar\", \"x\": [90], \"xaxis\": \"x\", \"y\": [\"Benton\"], \"yaxis\": \"y\"}, {\"alignmentgroup\": \"True\", \"hovertemplate\": \"County=%{y}<br>Total Deaths=%{x}<extra></extra>\", \"legendgroup\": \"Big Stone\", \"marker\": {\"color\": \"#19d3f3\"}, \"name\": \"Big Stone\", \"offsetgroup\": \"Big Stone\", \"orientation\": \"h\", \"showlegend\": true, \"textposition\": \"auto\", \"type\": \"bar\", \"x\": [3], \"xaxis\": \"x\", \"y\": [\"Big Stone\"], \"yaxis\": \"y\"}, {\"alignmentgroup\": \"True\", \"hovertemplate\": \"County=%{y}<br>Total Deaths=%{x}<extra></extra>\", \"legendgroup\": \"Blue Earth\", \"marker\": {\"color\": \"#FF6692\"}, \"name\": \"Blue Earth\", \"offsetgroup\": \"Blue Earth\", \"orientation\": \"h\", \"showlegend\": true, \"textposition\": \"auto\", \"type\": \"bar\", \"x\": [35], \"xaxis\": \"x\", \"y\": [\"Blue Earth\"], \"yaxis\": \"y\"}, {\"alignmentgroup\": \"True\", \"hovertemplate\": \"County=%{y}<br>Total Deaths=%{x}<extra></extra>\", \"legendgroup\": \"Brown\", \"marker\": {\"color\": \"#B6E880\"}, \"name\": \"Brown\", \"offsetgroup\": \"Brown\", \"orientation\": \"h\", \"showlegend\": true, \"textposition\": \"auto\", \"type\": \"bar\", \"x\": [37], \"xaxis\": \"x\", \"y\": [\"Brown\"], \"yaxis\": \"y\"}, {\"alignmentgroup\": \"True\", \"hovertemplate\": \"County=%{y}<br>Total Deaths=%{x}<extra></extra>\", \"legendgroup\": \"Carlton\", \"marker\": {\"color\": \"#FF97FF\"}, \"name\": \"Carlton\", \"offsetgroup\": \"Carlton\", \"orientation\": \"h\", \"showlegend\": true, \"textposition\": \"auto\", \"type\": \"bar\", \"x\": [49], \"xaxis\": \"x\", \"y\": [\"Carlton\"], \"yaxis\": \"y\"}, {\"alignmentgroup\": \"True\", \"hovertemplate\": \"County=%{y}<br>Total Deaths=%{x}<extra></extra>\", \"legendgroup\": \"Carver\", \"marker\": {\"color\": \"#FECB52\"}, \"name\": \"Carver\", \"offsetgroup\": \"Carver\", \"orientation\": \"h\", \"showlegend\": true, \"textposition\": \"auto\", \"type\": \"bar\", \"x\": [40], \"xaxis\": \"x\", \"y\": [\"Carver\"], \"yaxis\": \"y\"}, {\"alignmentgroup\": \"True\", \"hovertemplate\": \"County=%{y}<br>Total Deaths=%{x}<extra></extra>\", \"legendgroup\": \"Cass\", \"marker\": {\"color\": \"#636efa\"}, \"name\": \"Cass\", \"offsetgroup\": \"Cass\", \"orientation\": \"h\", \"showlegend\": true, \"textposition\": \"auto\", \"type\": \"bar\", \"x\": [24], \"xaxis\": \"x\", \"y\": [\"Cass\"], \"yaxis\": \"y\"}, {\"alignmentgroup\": \"True\", \"hovertemplate\": \"County=%{y}<br>Total Deaths=%{x}<extra></extra>\", \"legendgroup\": \"Chippewa\", \"marker\": {\"color\": \"#EF553B\"}, \"name\": \"Chippewa\", \"offsetgroup\": \"Chippewa\", \"orientation\": \"h\", \"showlegend\": true, \"textposition\": \"auto\", \"type\": \"bar\", \"x\": [35], \"xaxis\": \"x\", \"y\": [\"Chippewa\"], \"yaxis\": \"y\"}, {\"alignmentgroup\": \"True\", \"hovertemplate\": \"County=%{y}<br>Total Deaths=%{x}<extra></extra>\", \"legendgroup\": \"Chisago\", \"marker\": {\"color\": \"#00cc96\"}, \"name\": \"Chisago\", \"offsetgroup\": \"Chisago\", \"orientation\": \"h\", \"showlegend\": true, \"textposition\": \"auto\", \"type\": \"bar\", \"x\": [45], \"xaxis\": \"x\", \"y\": [\"Chisago\"], \"yaxis\": \"y\"}, {\"alignmentgroup\": \"True\", \"hovertemplate\": \"County=%{y}<br>Total Deaths=%{x}<extra></extra>\", \"legendgroup\": \"Clay\", \"marker\": {\"color\": \"#ab63fa\"}, \"name\": \"Clay\", \"offsetgroup\": \"Clay\", \"orientation\": \"h\", \"showlegend\": true, \"textposition\": \"auto\", \"type\": \"bar\", \"x\": [87], \"xaxis\": \"x\", \"y\": [\"Clay\"], \"yaxis\": \"y\"}, {\"alignmentgroup\": \"True\", \"hovertemplate\": \"County=%{y}<br>Total Deaths=%{x}<extra></extra>\", \"legendgroup\": \"Clearwater\", \"marker\": {\"color\": \"#FFA15A\"}, \"name\": \"Clearwater\", \"offsetgroup\": \"Clearwater\", \"orientation\": \"h\", \"showlegend\": true, \"textposition\": \"auto\", \"type\": \"bar\", \"x\": [14], \"xaxis\": \"x\", \"y\": [\"Clearwater\"], \"yaxis\": \"y\"}, {\"alignmentgroup\": \"True\", \"hovertemplate\": \"County=%{y}<br>Total Deaths=%{x}<extra></extra>\", \"legendgroup\": \"Cook\", \"marker\": {\"color\": \"#19d3f3\"}, \"name\": \"Cook\", \"offsetgroup\": \"Cook\", \"orientation\": \"h\", \"showlegend\": true, \"textposition\": \"auto\", \"type\": \"bar\", \"x\": [0], \"xaxis\": \"x\", \"y\": [\"Cook\"], \"yaxis\": \"y\"}, {\"alignmentgroup\": \"True\", \"hovertemplate\": \"County=%{y}<br>Total Deaths=%{x}<extra></extra>\", \"legendgroup\": \"Cottonwood\", \"marker\": {\"color\": \"#FF6692\"}, \"name\": \"Cottonwood\", \"offsetgroup\": \"Cottonwood\", \"orientation\": \"h\", \"showlegend\": true, \"textposition\": \"auto\", \"type\": \"bar\", \"x\": [20], \"xaxis\": \"x\", \"y\": [\"Cottonwood\"], \"yaxis\": \"y\"}, {\"alignmentgroup\": \"True\", \"hovertemplate\": \"County=%{y}<br>Total Deaths=%{x}<extra></extra>\", \"legendgroup\": \"Crow Wing\", \"marker\": {\"color\": \"#B6E880\"}, \"name\": \"Crow Wing\", \"offsetgroup\": \"Crow Wing\", \"orientation\": \"h\", \"showlegend\": true, \"textposition\": \"auto\", \"type\": \"bar\", \"x\": [82], \"xaxis\": \"x\", \"y\": [\"Crow Wing\"], \"yaxis\": \"y\"}, {\"alignmentgroup\": \"True\", \"hovertemplate\": \"County=%{y}<br>Total Deaths=%{x}<extra></extra>\", \"legendgroup\": \"Dakota\", \"marker\": {\"color\": \"#FF97FF\"}, \"name\": \"Dakota\", \"offsetgroup\": \"Dakota\", \"orientation\": \"h\", \"showlegend\": true, \"textposition\": \"auto\", \"type\": \"bar\", \"x\": [392], \"xaxis\": \"x\", \"y\": [\"Dakota\"], \"yaxis\": \"y\"}, {\"alignmentgroup\": \"True\", \"hovertemplate\": \"County=%{y}<br>Total Deaths=%{x}<extra></extra>\", \"legendgroup\": \"Dodge\", \"marker\": {\"color\": \"#FECB52\"}, \"name\": \"Dodge\", \"offsetgroup\": \"Dodge\", \"orientation\": \"h\", \"showlegend\": true, \"textposition\": \"auto\", \"type\": \"bar\", \"x\": [4], \"xaxis\": \"x\", \"y\": [\"Dodge\"], \"yaxis\": \"y\"}, {\"alignmentgroup\": \"True\", \"hovertemplate\": \"County=%{y}<br>Total Deaths=%{x}<extra></extra>\", \"legendgroup\": \"Douglas\", \"marker\": {\"color\": \"#636efa\"}, \"name\": \"Douglas\", \"offsetgroup\": \"Douglas\", \"orientation\": \"h\", \"showlegend\": true, \"textposition\": \"auto\", \"type\": \"bar\", \"x\": [68], \"xaxis\": \"x\", \"y\": [\"Douglas\"], \"yaxis\": \"y\"}, {\"alignmentgroup\": \"True\", \"hovertemplate\": \"County=%{y}<br>Total Deaths=%{x}<extra></extra>\", \"legendgroup\": \"Faribault\", \"marker\": {\"color\": \"#EF553B\"}, \"name\": \"Faribault\", \"offsetgroup\": \"Faribault\", \"orientation\": \"h\", \"showlegend\": true, \"textposition\": \"auto\", \"type\": \"bar\", \"x\": [17], \"xaxis\": \"x\", \"y\": [\"Faribault\"], \"yaxis\": \"y\"}, {\"alignmentgroup\": \"True\", \"hovertemplate\": \"County=%{y}<br>Total Deaths=%{x}<extra></extra>\", \"legendgroup\": \"Fillmore\", \"marker\": {\"color\": \"#00cc96\"}, \"name\": \"Fillmore\", \"offsetgroup\": \"Fillmore\", \"orientation\": \"h\", \"showlegend\": true, \"textposition\": \"auto\", \"type\": \"bar\", \"x\": [8], \"xaxis\": \"x\", \"y\": [\"Fillmore\"], \"yaxis\": \"y\"}, {\"alignmentgroup\": \"True\", \"hovertemplate\": \"County=%{y}<br>Total Deaths=%{x}<extra></extra>\", \"legendgroup\": \"Freeborn\", \"marker\": {\"color\": \"#ab63fa\"}, \"name\": \"Freeborn\", \"offsetgroup\": \"Freeborn\", \"orientation\": \"h\", \"showlegend\": true, \"textposition\": \"auto\", \"type\": \"bar\", \"x\": [24], \"xaxis\": \"x\", \"y\": [\"Freeborn\"], \"yaxis\": \"y\"}, {\"alignmentgroup\": \"True\", \"hovertemplate\": \"County=%{y}<br>Total Deaths=%{x}<extra></extra>\", \"legendgroup\": \"Goodhue\", \"marker\": {\"color\": \"#FFA15A\"}, \"name\": \"Goodhue\", \"offsetgroup\": \"Goodhue\", \"orientation\": \"h\", \"showlegend\": true, \"textposition\": \"auto\", \"type\": \"bar\", \"x\": [69], \"xaxis\": \"x\", \"y\": [\"Goodhue\"], \"yaxis\": \"y\"}, {\"alignmentgroup\": \"True\", \"hovertemplate\": \"County=%{y}<br>Total Deaths=%{x}<extra></extra>\", \"legendgroup\": \"Grant\", \"marker\": {\"color\": \"#19d3f3\"}, \"name\": \"Grant\", \"offsetgroup\": \"Grant\", \"orientation\": \"h\", \"showlegend\": true, \"textposition\": \"auto\", \"type\": \"bar\", \"x\": [8], \"xaxis\": \"x\", \"y\": [\"Grant\"], \"yaxis\": \"y\"}, {\"alignmentgroup\": \"True\", \"hovertemplate\": \"County=%{y}<br>Total Deaths=%{x}<extra></extra>\", \"legendgroup\": \"Hennepin\", \"marker\": {\"color\": \"#FF6692\"}, \"name\": \"Hennepin\", \"offsetgroup\": \"Hennepin\", \"orientation\": \"h\", \"showlegend\": true, \"textposition\": \"auto\", \"type\": \"bar\", \"x\": [1588], \"xaxis\": \"x\", \"y\": [\"Hennepin\"], \"yaxis\": \"y\"}, {\"alignmentgroup\": \"True\", \"hovertemplate\": \"County=%{y}<br>Total Deaths=%{x}<extra></extra>\", \"legendgroup\": \"Houston\", \"marker\": {\"color\": \"#B6E880\"}, \"name\": \"Houston\", \"offsetgroup\": \"Houston\", \"orientation\": \"h\", \"showlegend\": true, \"textposition\": \"auto\", \"type\": \"bar\", \"x\": [14], \"xaxis\": \"x\", \"y\": [\"Houston\"], \"yaxis\": \"y\"}, {\"alignmentgroup\": \"True\", \"hovertemplate\": \"County=%{y}<br>Total Deaths=%{x}<extra></extra>\", \"legendgroup\": \"Hubbard\", \"marker\": {\"color\": \"#FF97FF\"}, \"name\": \"Hubbard\", \"offsetgroup\": \"Hubbard\", \"orientation\": \"h\", \"showlegend\": true, \"textposition\": \"auto\", \"type\": \"bar\", \"x\": [41], \"xaxis\": \"x\", \"y\": [\"Hubbard\"], \"yaxis\": \"y\"}, {\"alignmentgroup\": \"True\", \"hovertemplate\": \"County=%{y}<br>Total Deaths=%{x}<extra></extra>\", \"legendgroup\": \"Isanti\", \"marker\": {\"color\": \"#FECB52\"}, \"name\": \"Isanti\", \"offsetgroup\": \"Isanti\", \"orientation\": \"h\", \"showlegend\": true, \"textposition\": \"auto\", \"type\": \"bar\", \"x\": [56], \"xaxis\": \"x\", \"y\": [\"Isanti\"], \"yaxis\": \"y\"}, {\"alignmentgroup\": \"True\", \"hovertemplate\": \"County=%{y}<br>Total Deaths=%{x}<extra></extra>\", \"legendgroup\": \"Itasca\", \"marker\": {\"color\": \"#636efa\"}, \"name\": \"Itasca\", \"offsetgroup\": \"Itasca\", \"orientation\": \"h\", \"showlegend\": true, \"textposition\": \"auto\", \"type\": \"bar\", \"x\": [46], \"xaxis\": \"x\", \"y\": [\"Itasca\"], \"yaxis\": \"y\"}, {\"alignmentgroup\": \"True\", \"hovertemplate\": \"County=%{y}<br>Total Deaths=%{x}<extra></extra>\", \"legendgroup\": \"Jackson\", \"marker\": {\"color\": \"#EF553B\"}, \"name\": \"Jackson\", \"offsetgroup\": \"Jackson\", \"orientation\": \"h\", \"showlegend\": true, \"textposition\": \"auto\", \"type\": \"bar\", \"x\": [10], \"xaxis\": \"x\", \"y\": [\"Jackson\"], \"yaxis\": \"y\"}, {\"alignmentgroup\": \"True\", \"hovertemplate\": \"County=%{y}<br>Total Deaths=%{x}<extra></extra>\", \"legendgroup\": \"Kanabec\", \"marker\": {\"color\": \"#00cc96\"}, \"name\": \"Kanabec\", \"offsetgroup\": \"Kanabec\", \"orientation\": \"h\", \"showlegend\": true, \"textposition\": \"auto\", \"type\": \"bar\", \"x\": [19], \"xaxis\": \"x\", \"y\": [\"Kanabec\"], \"yaxis\": \"y\"}, {\"alignmentgroup\": \"True\", \"hovertemplate\": \"County=%{y}<br>Total Deaths=%{x}<extra></extra>\", \"legendgroup\": \"Kandiyohi\", \"marker\": {\"color\": \"#ab63fa\"}, \"name\": \"Kandiyohi\", \"offsetgroup\": \"Kandiyohi\", \"orientation\": \"h\", \"showlegend\": true, \"textposition\": \"auto\", \"type\": \"bar\", \"x\": [74], \"xaxis\": \"x\", \"y\": [\"Kandiyohi\"], \"yaxis\": \"y\"}, {\"alignmentgroup\": \"True\", \"hovertemplate\": \"County=%{y}<br>Total Deaths=%{x}<extra></extra>\", \"legendgroup\": \"Kittson\", \"marker\": {\"color\": \"#FFA15A\"}, \"name\": \"Kittson\", \"offsetgroup\": \"Kittson\", \"orientation\": \"h\", \"showlegend\": true, \"textposition\": \"auto\", \"type\": \"bar\", \"x\": [21], \"xaxis\": \"x\", \"y\": [\"Kittson\"], \"yaxis\": \"y\"}, {\"alignmentgroup\": \"True\", \"hovertemplate\": \"County=%{y}<br>Total Deaths=%{x}<extra></extra>\", \"legendgroup\": \"Koochiching\", \"marker\": {\"color\": \"#19d3f3\"}, \"name\": \"Koochiching\", \"offsetgroup\": \"Koochiching\", \"orientation\": \"h\", \"showlegend\": true, \"textposition\": \"auto\", \"type\": \"bar\", \"x\": [11], \"xaxis\": \"x\", \"y\": [\"Koochiching\"], \"yaxis\": \"y\"}, {\"alignmentgroup\": \"True\", \"hovertemplate\": \"County=%{y}<br>Total Deaths=%{x}<extra></extra>\", \"legendgroup\": \"Lac qui Parle\", \"marker\": {\"color\": \"#FF6692\"}, \"name\": \"Lac qui Parle\", \"offsetgroup\": \"Lac qui Parle\", \"orientation\": \"h\", \"showlegend\": true, \"textposition\": \"auto\", \"type\": \"bar\", \"x\": [16], \"xaxis\": \"x\", \"y\": [\"Lac qui Parle\"], \"yaxis\": \"y\"}, {\"alignmentgroup\": \"True\", \"hovertemplate\": \"County=%{y}<br>Total Deaths=%{x}<extra></extra>\", \"legendgroup\": \"Lake\", \"marker\": {\"color\": \"#B6E880\"}, \"name\": \"Lake\", \"offsetgroup\": \"Lake\", \"orientation\": \"h\", \"showlegend\": true, \"textposition\": \"auto\", \"type\": \"bar\", \"x\": [18], \"xaxis\": \"x\", \"y\": [\"Lake\"], \"yaxis\": \"y\"}, {\"alignmentgroup\": \"True\", \"hovertemplate\": \"County=%{y}<br>Total Deaths=%{x}<extra></extra>\", \"legendgroup\": \"Lake of the Woods\", \"marker\": {\"color\": \"#FF97FF\"}, \"name\": \"Lake of the Woods\", \"offsetgroup\": \"Lake of the Woods\", \"orientation\": \"h\", \"showlegend\": true, \"textposition\": \"auto\", \"type\": \"bar\", \"x\": [1], \"xaxis\": \"x\", \"y\": [\"Lake of the Woods\"], \"yaxis\": \"y\"}, {\"alignmentgroup\": \"True\", \"hovertemplate\": \"County=%{y}<br>Total Deaths=%{x}<extra></extra>\", \"legendgroup\": \"Le Sueur\", \"marker\": {\"color\": \"#FECB52\"}, \"name\": \"Le Sueur\", \"offsetgroup\": \"Le Sueur\", \"orientation\": \"h\", \"showlegend\": true, \"textposition\": \"auto\", \"type\": \"bar\", \"x\": [20], \"xaxis\": \"x\", \"y\": [\"Le Sueur\"], \"yaxis\": \"y\"}, {\"alignmentgroup\": \"True\", \"hovertemplate\": \"County=%{y}<br>Total Deaths=%{x}<extra></extra>\", \"legendgroup\": \"Lincoln\", \"marker\": {\"color\": \"#636efa\"}, \"name\": \"Lincoln\", \"offsetgroup\": \"Lincoln\", \"orientation\": \"h\", \"showlegend\": true, \"textposition\": \"auto\", \"type\": \"bar\", \"x\": [2], \"xaxis\": \"x\", \"y\": [\"Lincoln\"], \"yaxis\": \"y\"}, {\"alignmentgroup\": \"True\", \"hovertemplate\": \"County=%{y}<br>Total Deaths=%{x}<extra></extra>\", \"legendgroup\": \"Lyon\", \"marker\": {\"color\": \"#EF553B\"}, \"name\": \"Lyon\", \"offsetgroup\": \"Lyon\", \"orientation\": \"h\", \"showlegend\": true, \"textposition\": \"auto\", \"type\": \"bar\", \"x\": [44], \"xaxis\": \"x\", \"y\": [\"Lyon\"], \"yaxis\": \"y\"}, {\"alignmentgroup\": \"True\", \"hovertemplate\": \"County=%{y}<br>Total Deaths=%{x}<extra></extra>\", \"legendgroup\": \"Mahnomen\", \"marker\": {\"color\": \"#00cc96\"}, \"name\": \"Mahnomen\", \"offsetgroup\": \"Mahnomen\", \"orientation\": \"h\", \"showlegend\": true, \"textposition\": \"auto\", \"type\": \"bar\", \"x\": [7], \"xaxis\": \"x\", \"y\": [\"Mahnomen\"], \"yaxis\": \"y\"}, {\"alignmentgroup\": \"True\", \"hovertemplate\": \"County=%{y}<br>Total Deaths=%{x}<extra></extra>\", \"legendgroup\": \"Marshall\", \"marker\": {\"color\": \"#ab63fa\"}, \"name\": \"Marshall\", \"offsetgroup\": \"Marshall\", \"orientation\": \"h\", \"showlegend\": true, \"textposition\": \"auto\", \"type\": \"bar\", \"x\": [15], \"xaxis\": \"x\", \"y\": [\"Marshall\"], \"yaxis\": \"y\"}, {\"alignmentgroup\": \"True\", \"hovertemplate\": \"County=%{y}<br>Total Deaths=%{x}<extra></extra>\", \"legendgroup\": \"Martin\", \"marker\": {\"color\": \"#FFA15A\"}, \"name\": \"Martin\", \"offsetgroup\": \"Martin\", \"orientation\": \"h\", \"showlegend\": true, \"textposition\": \"auto\", \"type\": \"bar\", \"x\": [28], \"xaxis\": \"x\", \"y\": [\"Martin\"], \"yaxis\": \"y\"}, {\"alignmentgroup\": \"True\", \"hovertemplate\": \"County=%{y}<br>Total Deaths=%{x}<extra></extra>\", \"legendgroup\": \"McLeod\", \"marker\": {\"color\": \"#19d3f3\"}, \"name\": \"McLeod\", \"offsetgroup\": \"McLeod\", \"orientation\": \"h\", \"showlegend\": true, \"textposition\": \"auto\", \"type\": \"bar\", \"x\": [50], \"xaxis\": \"x\", \"y\": [\"McLeod\"], \"yaxis\": \"y\"}, {\"alignmentgroup\": \"True\", \"hovertemplate\": \"County=%{y}<br>Total Deaths=%{x}<extra></extra>\", \"legendgroup\": \"Meeker\", \"marker\": {\"color\": \"#FF6692\"}, \"name\": \"Meeker\", \"offsetgroup\": \"Meeker\", \"orientation\": \"h\", \"showlegend\": true, \"textposition\": \"auto\", \"type\": \"bar\", \"x\": [34], \"xaxis\": \"x\", \"y\": [\"Meeker\"], \"yaxis\": \"y\"}, {\"alignmentgroup\": \"True\", \"hovertemplate\": \"County=%{y}<br>Total Deaths=%{x}<extra></extra>\", \"legendgroup\": \"Mille Lacs\", \"marker\": {\"color\": \"#B6E880\"}, \"name\": \"Mille Lacs\", \"offsetgroup\": \"Mille Lacs\", \"orientation\": \"h\", \"showlegend\": true, \"textposition\": \"auto\", \"type\": \"bar\", \"x\": [47], \"xaxis\": \"x\", \"y\": [\"Mille Lacs\"], \"yaxis\": \"y\"}, {\"alignmentgroup\": \"True\", \"hovertemplate\": \"County=%{y}<br>Total Deaths=%{x}<extra></extra>\", \"legendgroup\": \"Morrison\", \"marker\": {\"color\": \"#FF97FF\"}, \"name\": \"Morrison\", \"offsetgroup\": \"Morrison\", \"orientation\": \"h\", \"showlegend\": true, \"textposition\": \"auto\", \"type\": \"bar\", \"x\": [47], \"xaxis\": \"x\", \"y\": [\"Morrison\"], \"yaxis\": \"y\"}, {\"alignmentgroup\": \"True\", \"hovertemplate\": \"County=%{y}<br>Total Deaths=%{x}<extra></extra>\", \"legendgroup\": \"Mower\", \"marker\": {\"color\": \"#FECB52\"}, \"name\": \"Mower\", \"offsetgroup\": \"Mower\", \"orientation\": \"h\", \"showlegend\": true, \"textposition\": \"auto\", \"type\": \"bar\", \"x\": [31], \"xaxis\": \"x\", \"y\": [\"Mower\"], \"yaxis\": \"y\"}, {\"alignmentgroup\": \"True\", \"hovertemplate\": \"County=%{y}<br>Total Deaths=%{x}<extra></extra>\", \"legendgroup\": \"Murray\", \"marker\": {\"color\": \"#636efa\"}, \"name\": \"Murray\", \"offsetgroup\": \"Murray\", \"orientation\": \"h\", \"showlegend\": true, \"textposition\": \"auto\", \"type\": \"bar\", \"x\": [8], \"xaxis\": \"x\", \"y\": [\"Murray\"], \"yaxis\": \"y\"}, {\"alignmentgroup\": \"True\", \"hovertemplate\": \"County=%{y}<br>Total Deaths=%{x}<extra></extra>\", \"legendgroup\": \"Nicollet\", \"marker\": {\"color\": \"#EF553B\"}, \"name\": \"Nicollet\", \"offsetgroup\": \"Nicollet\", \"orientation\": \"h\", \"showlegend\": true, \"textposition\": \"auto\", \"type\": \"bar\", \"x\": [41], \"xaxis\": \"x\", \"y\": [\"Nicollet\"], \"yaxis\": \"y\"}, {\"alignmentgroup\": \"True\", \"hovertemplate\": \"County=%{y}<br>Total Deaths=%{x}<extra></extra>\", \"legendgroup\": \"Nobles\", \"marker\": {\"color\": \"#00cc96\"}, \"name\": \"Nobles\", \"offsetgroup\": \"Nobles\", \"orientation\": \"h\", \"showlegend\": true, \"textposition\": \"auto\", \"type\": \"bar\", \"x\": [47], \"xaxis\": \"x\", \"y\": [\"Nobles\"], \"yaxis\": \"y\"}, {\"alignmentgroup\": \"True\", \"hovertemplate\": \"County=%{y}<br>Total Deaths=%{x}<extra></extra>\", \"legendgroup\": \"Norman\", \"marker\": {\"color\": \"#ab63fa\"}, \"name\": \"Norman\", \"offsetgroup\": \"Norman\", \"orientation\": \"h\", \"showlegend\": true, \"textposition\": \"auto\", \"type\": \"bar\", \"x\": [8], \"xaxis\": \"x\", \"y\": [\"Norman\"], \"yaxis\": \"y\"}, {\"alignmentgroup\": \"True\", \"hovertemplate\": \"County=%{y}<br>Total Deaths=%{x}<extra></extra>\", \"legendgroup\": \"Olmsted\", \"marker\": {\"color\": \"#FFA15A\"}, \"name\": \"Olmsted\", \"offsetgroup\": \"Olmsted\", \"orientation\": \"h\", \"showlegend\": true, \"textposition\": \"auto\", \"type\": \"bar\", \"x\": [89], \"xaxis\": \"x\", \"y\": [\"Olmsted\"], \"yaxis\": \"y\"}, {\"alignmentgroup\": \"True\", \"hovertemplate\": \"County=%{y}<br>Total Deaths=%{x}<extra></extra>\", \"legendgroup\": \"Otter Tail\", \"marker\": {\"color\": \"#19d3f3\"}, \"name\": \"Otter Tail\", \"offsetgroup\": \"Otter Tail\", \"orientation\": \"h\", \"showlegend\": true, \"textposition\": \"auto\", \"type\": \"bar\", \"x\": [70], \"xaxis\": \"x\", \"y\": [\"Otter Tail\"], \"yaxis\": \"y\"}, {\"alignmentgroup\": \"True\", \"hovertemplate\": \"County=%{y}<br>Total Deaths=%{x}<extra></extra>\", \"legendgroup\": \"Pennington\", \"marker\": {\"color\": \"#FF6692\"}, \"name\": \"Pennington\", \"offsetgroup\": \"Pennington\", \"orientation\": \"h\", \"showlegend\": true, \"textposition\": \"auto\", \"type\": \"bar\", \"x\": [16], \"xaxis\": \"x\", \"y\": [\"Pennington\"], \"yaxis\": \"y\"}, {\"alignmentgroup\": \"True\", \"hovertemplate\": \"County=%{y}<br>Total Deaths=%{x}<extra></extra>\", \"legendgroup\": \"Pine\", \"marker\": {\"color\": \"#B6E880\"}, \"name\": \"Pine\", \"offsetgroup\": \"Pine\", \"orientation\": \"h\", \"showlegend\": true, \"textposition\": \"auto\", \"type\": \"bar\", \"x\": [16], \"xaxis\": \"x\", \"y\": [\"Pine\"], \"yaxis\": \"y\"}, {\"alignmentgroup\": \"True\", \"hovertemplate\": \"County=%{y}<br>Total Deaths=%{x}<extra></extra>\", \"legendgroup\": \"Pipestone\", \"marker\": {\"color\": \"#FF97FF\"}, \"name\": \"Pipestone\", \"offsetgroup\": \"Pipestone\", \"orientation\": \"h\", \"showlegend\": true, \"textposition\": \"auto\", \"type\": \"bar\", \"x\": [24], \"xaxis\": \"x\", \"y\": [\"Pipestone\"], \"yaxis\": \"y\"}, {\"alignmentgroup\": \"True\", \"hovertemplate\": \"County=%{y}<br>Total Deaths=%{x}<extra></extra>\", \"legendgroup\": \"Polk\", \"marker\": {\"color\": \"#FECB52\"}, \"name\": \"Polk\", \"offsetgroup\": \"Polk\", \"orientation\": \"h\", \"showlegend\": true, \"textposition\": \"auto\", \"type\": \"bar\", \"x\": [63], \"xaxis\": \"x\", \"y\": [\"Polk\"], \"yaxis\": \"y\"}, {\"alignmentgroup\": \"True\", \"hovertemplate\": \"County=%{y}<br>Total Deaths=%{x}<extra></extra>\", \"legendgroup\": \"Pope\", \"marker\": {\"color\": \"#636efa\"}, \"name\": \"Pope\", \"offsetgroup\": \"Pope\", \"orientation\": \"h\", \"showlegend\": true, \"textposition\": \"auto\", \"type\": \"bar\", \"x\": [5], \"xaxis\": \"x\", \"y\": [\"Pope\"], \"yaxis\": \"y\"}, {\"alignmentgroup\": \"True\", \"hovertemplate\": \"County=%{y}<br>Total Deaths=%{x}<extra></extra>\", \"legendgroup\": \"Ramsey\", \"marker\": {\"color\": \"#EF553B\"}, \"name\": \"Ramsey\", \"offsetgroup\": \"Ramsey\", \"orientation\": \"h\", \"showlegend\": true, \"textposition\": \"auto\", \"type\": \"bar\", \"x\": [805], \"xaxis\": \"x\", \"y\": [\"Ramsey\"], \"yaxis\": \"y\"}, {\"alignmentgroup\": \"True\", \"hovertemplate\": \"County=%{y}<br>Total Deaths=%{x}<extra></extra>\", \"legendgroup\": \"Red Lake\", \"marker\": {\"color\": \"#00cc96\"}, \"name\": \"Red Lake\", \"offsetgroup\": \"Red Lake\", \"orientation\": \"h\", \"showlegend\": true, \"textposition\": \"auto\", \"type\": \"bar\", \"x\": [5], \"xaxis\": \"x\", \"y\": [\"Red Lake\"], \"yaxis\": \"y\"}, {\"alignmentgroup\": \"True\", \"hovertemplate\": \"County=%{y}<br>Total Deaths=%{x}<extra></extra>\", \"legendgroup\": \"Redwood\", \"marker\": {\"color\": \"#ab63fa\"}, \"name\": \"Redwood\", \"offsetgroup\": \"Redwood\", \"orientation\": \"h\", \"showlegend\": true, \"textposition\": \"auto\", \"type\": \"bar\", \"x\": [27], \"xaxis\": \"x\", \"y\": [\"Redwood\"], \"yaxis\": \"y\"}, {\"alignmentgroup\": \"True\", \"hovertemplate\": \"County=%{y}<br>Total Deaths=%{x}<extra></extra>\", \"legendgroup\": \"Renville\", \"marker\": {\"color\": \"#FFA15A\"}, \"name\": \"Renville\", \"offsetgroup\": \"Renville\", \"orientation\": \"h\", \"showlegend\": true, \"textposition\": \"auto\", \"type\": \"bar\", \"x\": [40], \"xaxis\": \"x\", \"y\": [\"Renville\"], \"yaxis\": \"y\"}, {\"alignmentgroup\": \"True\", \"hovertemplate\": \"County=%{y}<br>Total Deaths=%{x}<extra></extra>\", \"legendgroup\": \"Rice\", \"marker\": {\"color\": \"#19d3f3\"}, \"name\": \"Rice\", \"offsetgroup\": \"Rice\", \"orientation\": \"h\", \"showlegend\": true, \"textposition\": \"auto\", \"type\": \"bar\", \"x\": [91], \"xaxis\": \"x\", \"y\": [\"Rice\"], \"yaxis\": \"y\"}, {\"alignmentgroup\": \"True\", \"hovertemplate\": \"County=%{y}<br>Total Deaths=%{x}<extra></extra>\", \"legendgroup\": \"Rock\", \"marker\": {\"color\": \"#FF6692\"}, \"name\": \"Rock\", \"offsetgroup\": \"Rock\", \"orientation\": \"h\", \"showlegend\": true, \"textposition\": \"auto\", \"type\": \"bar\", \"x\": [14], \"xaxis\": \"x\", \"y\": [\"Rock\"], \"yaxis\": \"y\"}, {\"alignmentgroup\": \"True\", \"hovertemplate\": \"County=%{y}<br>Total Deaths=%{x}<extra></extra>\", \"legendgroup\": \"Roseau\", \"marker\": {\"color\": \"#B6E880\"}, \"name\": \"Roseau\", \"offsetgroup\": \"Roseau\", \"orientation\": \"h\", \"showlegend\": true, \"textposition\": \"auto\", \"type\": \"bar\", \"x\": [17], \"xaxis\": \"x\", \"y\": [\"Roseau\"], \"yaxis\": \"y\"}, {\"alignmentgroup\": \"True\", \"hovertemplate\": \"County=%{y}<br>Total Deaths=%{x}<extra></extra>\", \"legendgroup\": \"Scott\", \"marker\": {\"color\": \"#FF97FF\"}, \"name\": \"Scott\", \"offsetgroup\": \"Scott\", \"orientation\": \"h\", \"showlegend\": true, \"textposition\": \"auto\", \"type\": \"bar\", \"x\": [107], \"xaxis\": \"x\", \"y\": [\"Scott\"], \"yaxis\": \"y\"}, {\"alignmentgroup\": \"True\", \"hovertemplate\": \"County=%{y}<br>Total Deaths=%{x}<extra></extra>\", \"legendgroup\": \"Sherburne\", \"marker\": {\"color\": \"#FECB52\"}, \"name\": \"Sherburne\", \"offsetgroup\": \"Sherburne\", \"orientation\": \"h\", \"showlegend\": true, \"textposition\": \"auto\", \"type\": \"bar\", \"x\": [73], \"xaxis\": \"x\", \"y\": [\"Sherburne\"], \"yaxis\": \"y\"}, {\"alignmentgroup\": \"True\", \"hovertemplate\": \"County=%{y}<br>Total Deaths=%{x}<extra></extra>\", \"legendgroup\": \"Sibley\", \"marker\": {\"color\": \"#636efa\"}, \"name\": \"Sibley\", \"offsetgroup\": \"Sibley\", \"orientation\": \"h\", \"showlegend\": true, \"textposition\": \"auto\", \"type\": \"bar\", \"x\": [10], \"xaxis\": \"x\", \"y\": [\"Sibley\"], \"yaxis\": \"y\"}, {\"alignmentgroup\": \"True\", \"hovertemplate\": \"County=%{y}<br>Total Deaths=%{x}<extra></extra>\", \"legendgroup\": \"St. Louis\", \"marker\": {\"color\": \"#EF553B\"}, \"name\": \"St. Louis\", \"offsetgroup\": \"St. Louis\", \"orientation\": \"h\", \"showlegend\": true, \"textposition\": \"auto\", \"type\": \"bar\", \"x\": [264], \"xaxis\": \"x\", \"y\": [\"St. Louis\"], \"yaxis\": \"y\"}, {\"alignmentgroup\": \"True\", \"hovertemplate\": \"County=%{y}<br>Total Deaths=%{x}<extra></extra>\", \"legendgroup\": \"Stearns\", \"marker\": {\"color\": \"#00cc96\"}, \"name\": \"Stearns\", \"offsetgroup\": \"Stearns\", \"orientation\": \"h\", \"showlegend\": true, \"textposition\": \"auto\", \"type\": \"bar\", \"x\": [202], \"xaxis\": \"x\", \"y\": [\"Stearns\"], \"yaxis\": \"y\"}, {\"alignmentgroup\": \"True\", \"hovertemplate\": \"County=%{y}<br>Total Deaths=%{x}<extra></extra>\", \"legendgroup\": \"Steele\", \"marker\": {\"color\": \"#ab63fa\"}, \"name\": \"Steele\", \"offsetgroup\": \"Steele\", \"orientation\": \"h\", \"showlegend\": true, \"textposition\": \"auto\", \"type\": \"bar\", \"x\": [11], \"xaxis\": \"x\", \"y\": [\"Steele\"], \"yaxis\": \"y\"}, {\"alignmentgroup\": \"True\", \"hovertemplate\": \"County=%{y}<br>Total Deaths=%{x}<extra></extra>\", \"legendgroup\": \"Stevens\", \"marker\": {\"color\": \"#FFA15A\"}, \"name\": \"Stevens\", \"offsetgroup\": \"Stevens\", \"orientation\": \"h\", \"showlegend\": true, \"textposition\": \"auto\", \"type\": \"bar\", \"x\": [8], \"xaxis\": \"x\", \"y\": [\"Stevens\"], \"yaxis\": \"y\"}, {\"alignmentgroup\": \"True\", \"hovertemplate\": \"County=%{y}<br>Total Deaths=%{x}<extra></extra>\", \"legendgroup\": \"Swift\", \"marker\": {\"color\": \"#19d3f3\"}, \"name\": \"Swift\", \"offsetgroup\": \"Swift\", \"orientation\": \"h\", \"showlegend\": true, \"textposition\": \"auto\", \"type\": \"bar\", \"x\": [18], \"xaxis\": \"x\", \"y\": [\"Swift\"], \"yaxis\": \"y\"}, {\"alignmentgroup\": \"True\", \"hovertemplate\": \"County=%{y}<br>Total Deaths=%{x}<extra></extra>\", \"legendgroup\": \"Todd\", \"marker\": {\"color\": \"#FF6692\"}, \"name\": \"Todd\", \"offsetgroup\": \"Todd\", \"orientation\": \"h\", \"showlegend\": true, \"textposition\": \"auto\", \"type\": \"bar\", \"x\": [30], \"xaxis\": \"x\", \"y\": [\"Todd\"], \"yaxis\": \"y\"}, {\"alignmentgroup\": \"True\", \"hovertemplate\": \"County=%{y}<br>Total Deaths=%{x}<extra></extra>\", \"legendgroup\": \"Traverse\", \"marker\": {\"color\": \"#B6E880\"}, \"name\": \"Traverse\", \"offsetgroup\": \"Traverse\", \"orientation\": \"h\", \"showlegend\": true, \"textposition\": \"auto\", \"type\": \"bar\", \"x\": [5], \"xaxis\": \"x\", \"y\": [\"Traverse\"], \"yaxis\": \"y\"}, {\"alignmentgroup\": \"True\", \"hovertemplate\": \"County=%{y}<br>Total Deaths=%{x}<extra></extra>\", \"legendgroup\": \"Wabasha\", \"marker\": {\"color\": \"#FF97FF\"}, \"name\": \"Wabasha\", \"offsetgroup\": \"Wabasha\", \"orientation\": \"h\", \"showlegend\": true, \"textposition\": \"auto\", \"type\": \"bar\", \"x\": [3], \"xaxis\": \"x\", \"y\": [\"Wabasha\"], \"yaxis\": \"y\"}, {\"alignmentgroup\": \"True\", \"hovertemplate\": \"County=%{y}<br>Total Deaths=%{x}<extra></extra>\", \"legendgroup\": \"Wadena\", \"marker\": {\"color\": \"#FECB52\"}, \"name\": \"Wadena\", \"offsetgroup\": \"Wadena\", \"orientation\": \"h\", \"showlegend\": true, \"textposition\": \"auto\", \"type\": \"bar\", \"x\": [20], \"xaxis\": \"x\", \"y\": [\"Wadena\"], \"yaxis\": \"y\"}, {\"alignmentgroup\": \"True\", \"hovertemplate\": \"County=%{y}<br>Total Deaths=%{x}<extra></extra>\", \"legendgroup\": \"Waseca\", \"marker\": {\"color\": \"#636efa\"}, \"name\": \"Waseca\", \"offsetgroup\": \"Waseca\", \"orientation\": \"h\", \"showlegend\": true, \"textposition\": \"auto\", \"type\": \"bar\", \"x\": [17], \"xaxis\": \"x\", \"y\": [\"Waseca\"], \"yaxis\": \"y\"}, {\"alignmentgroup\": \"True\", \"hovertemplate\": \"County=%{y}<br>Total Deaths=%{x}<extra></extra>\", \"legendgroup\": \"Washington\", \"marker\": {\"color\": \"#EF553B\"}, \"name\": \"Washington\", \"offsetgroup\": \"Washington\", \"orientation\": \"h\", \"showlegend\": true, \"textposition\": \"auto\", \"type\": \"bar\", \"x\": [259], \"xaxis\": \"x\", \"y\": [\"Washington\"], \"yaxis\": \"y\"}, {\"alignmentgroup\": \"True\", \"hovertemplate\": \"County=%{y}<br>Total Deaths=%{x}<extra></extra>\", \"legendgroup\": \"Watonwan\", \"marker\": {\"color\": \"#00cc96\"}, \"name\": \"Watonwan\", \"offsetgroup\": \"Watonwan\", \"orientation\": \"h\", \"showlegend\": true, \"textposition\": \"auto\", \"type\": \"bar\", \"x\": [8], \"xaxis\": \"x\", \"y\": [\"Watonwan\"], \"yaxis\": \"y\"}, {\"alignmentgroup\": \"True\", \"hovertemplate\": \"County=%{y}<br>Total Deaths=%{x}<extra></extra>\", \"legendgroup\": \"Wilkin\", \"marker\": {\"color\": \"#ab63fa\"}, \"name\": \"Wilkin\", \"offsetgroup\": \"Wilkin\", \"orientation\": \"h\", \"showlegend\": true, \"textposition\": \"auto\", \"type\": \"bar\", \"x\": [11], \"xaxis\": \"x\", \"y\": [\"Wilkin\"], \"yaxis\": \"y\"}, {\"alignmentgroup\": \"True\", \"hovertemplate\": \"County=%{y}<br>Total Deaths=%{x}<extra></extra>\", \"legendgroup\": \"Winona\", \"marker\": {\"color\": \"#FFA15A\"}, \"name\": \"Winona\", \"offsetgroup\": \"Winona\", \"orientation\": \"h\", \"showlegend\": true, \"textposition\": \"auto\", \"type\": \"bar\", \"x\": [49], \"xaxis\": \"x\", \"y\": [\"Winona\"], \"yaxis\": \"y\"}, {\"alignmentgroup\": \"True\", \"hovertemplate\": \"County=%{y}<br>Total Deaths=%{x}<extra></extra>\", \"legendgroup\": \"Wright\", \"marker\": {\"color\": \"#19d3f3\"}, \"name\": \"Wright\", \"offsetgroup\": \"Wright\", \"orientation\": \"h\", \"showlegend\": true, \"textposition\": \"auto\", \"type\": \"bar\", \"x\": [116], \"xaxis\": \"x\", \"y\": [\"Wright\"], \"yaxis\": \"y\"}, {\"alignmentgroup\": \"True\", \"hovertemplate\": \"County=%{y}<br>Total Deaths=%{x}<extra></extra>\", \"legendgroup\": \"Yellow Medicine\", \"marker\": {\"color\": \"#FF6692\"}, \"name\": \"Yellow Medicine\", \"offsetgroup\": \"Yellow Medicine\", \"orientation\": \"h\", \"showlegend\": true, \"textposition\": \"auto\", \"type\": \"bar\", \"x\": [17], \"xaxis\": \"x\", \"y\": [\"Yellow Medicine\"], \"yaxis\": \"y\"}, {\"alignmentgroup\": \"True\", \"hovertemplate\": \"County=%{y}<br>Total Deaths=%{x}<extra></extra>\", \"legendgroup\": \"Unknown/Missing\", \"marker\": {\"color\": \"#B6E880\"}, \"name\": \"Unknown/Missing\", \"offsetgroup\": \"Unknown/Missing\", \"orientation\": \"h\", \"showlegend\": true, \"textposition\": \"auto\", \"type\": \"bar\", \"x\": [0], \"xaxis\": \"x\", \"y\": [\"Unknown/Missing\"], \"yaxis\": \"y\"}],                        {\"barmode\": \"relative\", \"legend\": {\"title\": {\"text\": \"County\"}, \"tracegroupgap\": 0}, \"template\": {\"data\": {\"bar\": [{\"error_x\": {\"color\": \"#2a3f5f\"}, \"error_y\": {\"color\": \"#2a3f5f\"}, \"marker\": {\"line\": {\"color\": \"#E5ECF6\", \"width\": 0.5}}, \"type\": \"bar\"}], \"barpolar\": [{\"marker\": {\"line\": {\"color\": \"#E5ECF6\", \"width\": 0.5}}, \"type\": \"barpolar\"}], \"carpet\": [{\"aaxis\": {\"endlinecolor\": \"#2a3f5f\", \"gridcolor\": \"white\", \"linecolor\": \"white\", \"minorgridcolor\": \"white\", \"startlinecolor\": \"#2a3f5f\"}, \"baxis\": {\"endlinecolor\": \"#2a3f5f\", \"gridcolor\": \"white\", \"linecolor\": \"white\", \"minorgridcolor\": \"white\", \"startlinecolor\": \"#2a3f5f\"}, \"type\": \"carpet\"}], \"choropleth\": [{\"colorbar\": {\"outlinewidth\": 0, \"ticks\": \"\"}, \"type\": \"choropleth\"}], \"contour\": [{\"colorbar\": {\"outlinewidth\": 0, \"ticks\": \"\"}, \"colorscale\": [[0.0, \"#0d0887\"], [0.1111111111111111, \"#46039f\"], [0.2222222222222222, \"#7201a8\"], [0.3333333333333333, \"#9c179e\"], [0.4444444444444444, \"#bd3786\"], [0.5555555555555556, \"#d8576b\"], [0.6666666666666666, \"#ed7953\"], [0.7777777777777778, \"#fb9f3a\"], [0.8888888888888888, \"#fdca26\"], [1.0, \"#f0f921\"]], \"type\": \"contour\"}], \"contourcarpet\": [{\"colorbar\": {\"outlinewidth\": 0, \"ticks\": \"\"}, \"type\": \"contourcarpet\"}], \"heatmap\": [{\"colorbar\": {\"outlinewidth\": 0, \"ticks\": \"\"}, \"colorscale\": [[0.0, \"#0d0887\"], [0.1111111111111111, \"#46039f\"], [0.2222222222222222, \"#7201a8\"], [0.3333333333333333, \"#9c179e\"], [0.4444444444444444, \"#bd3786\"], [0.5555555555555556, \"#d8576b\"], [0.6666666666666666, \"#ed7953\"], [0.7777777777777778, \"#fb9f3a\"], [0.8888888888888888, \"#fdca26\"], [1.0, \"#f0f921\"]], \"type\": \"heatmap\"}], \"heatmapgl\": [{\"colorbar\": {\"outlinewidth\": 0, \"ticks\": \"\"}, \"colorscale\": [[0.0, \"#0d0887\"], [0.1111111111111111, \"#46039f\"], [0.2222222222222222, \"#7201a8\"], [0.3333333333333333, \"#9c179e\"], [0.4444444444444444, \"#bd3786\"], [0.5555555555555556, \"#d8576b\"], [0.6666666666666666, \"#ed7953\"], [0.7777777777777778, \"#fb9f3a\"], [0.8888888888888888, \"#fdca26\"], [1.0, \"#f0f921\"]], \"type\": \"heatmapgl\"}], \"histogram\": [{\"marker\": {\"colorbar\": {\"outlinewidth\": 0, \"ticks\": \"\"}}, \"type\": \"histogram\"}], \"histogram2d\": [{\"colorbar\": {\"outlinewidth\": 0, \"ticks\": \"\"}, \"colorscale\": [[0.0, \"#0d0887\"], [0.1111111111111111, \"#46039f\"], [0.2222222222222222, \"#7201a8\"], [0.3333333333333333, \"#9c179e\"], [0.4444444444444444, \"#bd3786\"], [0.5555555555555556, \"#d8576b\"], [0.6666666666666666, \"#ed7953\"], [0.7777777777777778, \"#fb9f3a\"], [0.8888888888888888, \"#fdca26\"], [1.0, \"#f0f921\"]], \"type\": \"histogram2d\"}], \"histogram2dcontour\": [{\"colorbar\": {\"outlinewidth\": 0, \"ticks\": \"\"}, \"colorscale\": [[0.0, \"#0d0887\"], [0.1111111111111111, \"#46039f\"], [0.2222222222222222, \"#7201a8\"], [0.3333333333333333, \"#9c179e\"], [0.4444444444444444, \"#bd3786\"], [0.5555555555555556, \"#d8576b\"], [0.6666666666666666, \"#ed7953\"], [0.7777777777777778, \"#fb9f3a\"], [0.8888888888888888, \"#fdca26\"], [1.0, \"#f0f921\"]], \"type\": \"histogram2dcontour\"}], \"mesh3d\": [{\"colorbar\": {\"outlinewidth\": 0, \"ticks\": \"\"}, \"type\": \"mesh3d\"}], \"parcoords\": [{\"line\": {\"colorbar\": {\"outlinewidth\": 0, \"ticks\": \"\"}}, \"type\": \"parcoords\"}], \"pie\": [{\"automargin\": true, \"type\": \"pie\"}], \"scatter\": [{\"marker\": {\"colorbar\": {\"outlinewidth\": 0, \"ticks\": \"\"}}, \"type\": \"scatter\"}], \"scatter3d\": [{\"line\": {\"colorbar\": {\"outlinewidth\": 0, \"ticks\": \"\"}}, \"marker\": {\"colorbar\": {\"outlinewidth\": 0, \"ticks\": \"\"}}, \"type\": \"scatter3d\"}], \"scattercarpet\": [{\"marker\": {\"colorbar\": {\"outlinewidth\": 0, \"ticks\": \"\"}}, \"type\": \"scattercarpet\"}], \"scattergeo\": [{\"marker\": {\"colorbar\": {\"outlinewidth\": 0, \"ticks\": \"\"}}, \"type\": \"scattergeo\"}], \"scattergl\": [{\"marker\": {\"colorbar\": {\"outlinewidth\": 0, \"ticks\": \"\"}}, \"type\": \"scattergl\"}], \"scattermapbox\": [{\"marker\": {\"colorbar\": {\"outlinewidth\": 0, \"ticks\": \"\"}}, \"type\": \"scattermapbox\"}], \"scatterpolar\": [{\"marker\": {\"colorbar\": {\"outlinewidth\": 0, \"ticks\": \"\"}}, \"type\": \"scatterpolar\"}], \"scatterpolargl\": [{\"marker\": {\"colorbar\": {\"outlinewidth\": 0, \"ticks\": \"\"}}, \"type\": \"scatterpolargl\"}], \"scatterternary\": [{\"marker\": {\"colorbar\": {\"outlinewidth\": 0, \"ticks\": \"\"}}, \"type\": \"scatterternary\"}], \"surface\": [{\"colorbar\": {\"outlinewidth\": 0, \"ticks\": \"\"}, \"colorscale\": [[0.0, \"#0d0887\"], [0.1111111111111111, \"#46039f\"], [0.2222222222222222, \"#7201a8\"], [0.3333333333333333, \"#9c179e\"], [0.4444444444444444, \"#bd3786\"], [0.5555555555555556, \"#d8576b\"], [0.6666666666666666, \"#ed7953\"], [0.7777777777777778, \"#fb9f3a\"], [0.8888888888888888, \"#fdca26\"], [1.0, \"#f0f921\"]], \"type\": \"surface\"}], \"table\": [{\"cells\": {\"fill\": {\"color\": \"#EBF0F8\"}, \"line\": {\"color\": \"white\"}}, \"header\": {\"fill\": {\"color\": \"#C8D4E3\"}, \"line\": {\"color\": \"white\"}}, \"type\": \"table\"}]}, \"layout\": {\"annotationdefaults\": {\"arrowcolor\": \"#2a3f5f\", \"arrowhead\": 0, \"arrowwidth\": 1}, \"autotypenumbers\": \"strict\", \"coloraxis\": {\"colorbar\": {\"outlinewidth\": 0, \"ticks\": \"\"}}, \"colorscale\": {\"diverging\": [[0, \"#8e0152\"], [0.1, \"#c51b7d\"], [0.2, \"#de77ae\"], [0.3, \"#f1b6da\"], [0.4, \"#fde0ef\"], [0.5, \"#f7f7f7\"], [0.6, \"#e6f5d0\"], [0.7, \"#b8e186\"], [0.8, \"#7fbc41\"], [0.9, \"#4d9221\"], [1, \"#276419\"]], \"sequential\": [[0.0, \"#0d0887\"], [0.1111111111111111, \"#46039f\"], [0.2222222222222222, \"#7201a8\"], [0.3333333333333333, \"#9c179e\"], [0.4444444444444444, \"#bd3786\"], [0.5555555555555556, \"#d8576b\"], [0.6666666666666666, \"#ed7953\"], [0.7777777777777778, \"#fb9f3a\"], [0.8888888888888888, \"#fdca26\"], [1.0, \"#f0f921\"]], \"sequentialminus\": [[0.0, \"#0d0887\"], [0.1111111111111111, \"#46039f\"], [0.2222222222222222, \"#7201a8\"], [0.3333333333333333, \"#9c179e\"], [0.4444444444444444, \"#bd3786\"], [0.5555555555555556, \"#d8576b\"], [0.6666666666666666, \"#ed7953\"], [0.7777777777777778, \"#fb9f3a\"], [0.8888888888888888, \"#fdca26\"], [1.0, \"#f0f921\"]]}, \"colorway\": [\"#636efa\", \"#EF553B\", \"#00cc96\", \"#ab63fa\", \"#FFA15A\", \"#19d3f3\", \"#FF6692\", \"#B6E880\", \"#FF97FF\", \"#FECB52\"], \"font\": {\"color\": \"#2a3f5f\"}, \"geo\": {\"bgcolor\": \"white\", \"lakecolor\": \"white\", \"landcolor\": \"#E5ECF6\", \"showlakes\": true, \"showland\": true, \"subunitcolor\": \"white\"}, \"hoverlabel\": {\"align\": \"left\"}, \"hovermode\": \"closest\", \"mapbox\": {\"style\": \"light\"}, \"paper_bgcolor\": \"white\", \"plot_bgcolor\": \"#E5ECF6\", \"polar\": {\"angularaxis\": {\"gridcolor\": \"white\", \"linecolor\": \"white\", \"ticks\": \"\"}, \"bgcolor\": \"#E5ECF6\", \"radialaxis\": {\"gridcolor\": \"white\", \"linecolor\": \"white\", \"ticks\": \"\"}}, \"scene\": {\"xaxis\": {\"backgroundcolor\": \"#E5ECF6\", \"gridcolor\": \"white\", \"gridwidth\": 2, \"linecolor\": \"white\", \"showbackground\": true, \"ticks\": \"\", \"zerolinecolor\": \"white\"}, \"yaxis\": {\"backgroundcolor\": \"#E5ECF6\", \"gridcolor\": \"white\", \"gridwidth\": 2, \"linecolor\": \"white\", \"showbackground\": true, \"ticks\": \"\", \"zerolinecolor\": \"white\"}, \"zaxis\": {\"backgroundcolor\": \"#E5ECF6\", \"gridcolor\": \"white\", \"gridwidth\": 2, \"linecolor\": \"white\", \"showbackground\": true, \"ticks\": \"\", \"zerolinecolor\": \"white\"}}, \"shapedefaults\": {\"line\": {\"color\": \"#2a3f5f\"}}, \"ternary\": {\"aaxis\": {\"gridcolor\": \"white\", \"linecolor\": \"white\", \"ticks\": \"\"}, \"baxis\": {\"gridcolor\": \"white\", \"linecolor\": \"white\", \"ticks\": \"\"}, \"bgcolor\": \"#E5ECF6\", \"caxis\": {\"gridcolor\": \"white\", \"linecolor\": \"white\", \"ticks\": \"\"}}, \"title\": {\"x\": 0.05}, \"xaxis\": {\"automargin\": true, \"gridcolor\": \"white\", \"linecolor\": \"white\", \"ticks\": \"\", \"title\": {\"standoff\": 15}, \"zerolinecolor\": \"white\", \"zerolinewidth\": 2}, \"yaxis\": {\"automargin\": true, \"gridcolor\": \"white\", \"linecolor\": \"white\", \"ticks\": \"\", \"title\": {\"standoff\": 15}, \"zerolinecolor\": \"white\", \"zerolinewidth\": 2}}}, \"title\": {\"text\": \"<b> by County</b>\"}, \"xaxis\": {\"anchor\": \"y\", \"domain\": [0.0, 1.0], \"title\": {\"text\": \"Total Deaths\"}}, \"yaxis\": {\"anchor\": \"x\", \"categoryarray\": [\"Unknown/Missing\", \"Yellow Medicine\", \"Wright\", \"Winona\", \"Wilkin\", \"Watonwan\", \"Washington\", \"Waseca\", \"Wadena\", \"Wabasha\", \"Traverse\", \"Todd\", \"Swift\", \"Stevens\", \"Steele\", \"Stearns\", \"St. Louis\", \"Sibley\", \"Sherburne\", \"Scott\", \"Roseau\", \"Rock\", \"Rice\", \"Renville\", \"Redwood\", \"Red Lake\", \"Ramsey\", \"Pope\", \"Polk\", \"Pipestone\", \"Pine\", \"Pennington\", \"Otter Tail\", \"Olmsted\", \"Norman\", \"Nobles\", \"Nicollet\", \"Murray\", \"Mower\", \"Morrison\", \"Mille Lacs\", \"Meeker\", \"McLeod\", \"Martin\", \"Marshall\", \"Mahnomen\", \"Lyon\", \"Lincoln\", \"Le Sueur\", \"Lake of the Woods\", \"Lake\", \"Lac qui Parle\", \"Koochiching\", \"Kittson\", \"Kandiyohi\", \"Kanabec\", \"Jackson\", \"Itasca\", \"Isanti\", \"Hubbard\", \"Houston\", \"Hennepin\", \"Grant\", \"Goodhue\", \"Freeborn\", \"Fillmore\", \"Faribault\", \"Douglas\", \"Dodge\", \"Dakota\", \"Crow Wing\", \"Cottonwood\", \"Cook\", \"Clearwater\", \"Clay\", \"Chisago\", \"Chippewa\", \"Cass\", \"Carver\", \"Carlton\", \"Brown\", \"Blue Earth\", \"Big Stone\", \"Benton\", \"Beltrami\", \"Becker\", \"Anoka\", \"Aitkin\"], \"categoryorder\": \"array\", \"domain\": [0.0, 1.0], \"title\": {\"text\": \"County\"}}},                        {\"responsive\": true}                    ).then(function(){\n",
       "                            \n",
       "var gd = document.getElementById('d0fde006-741f-4e74-baea-6b476fb1ff59');\n",
       "var x = new MutationObserver(function (mutations, observer) {{\n",
       "        var display = window.getComputedStyle(gd).display;\n",
       "        if (!display || display === 'none') {{\n",
       "            console.log([gd, 'removed!']);\n",
       "            Plotly.purge(gd);\n",
       "            observer.disconnect();\n",
       "        }}\n",
       "}});\n",
       "\n",
       "// Listen for the removal of the full notebook cells\n",
       "var notebookContainer = gd.closest('#notebook-container');\n",
       "if (notebookContainer) {{\n",
       "    x.observe(notebookContainer, {childList: true});\n",
       "}}\n",
       "\n",
       "// Listen for the clearing of the current output cell\n",
       "var outputEl = gd.closest('.output');\n",
       "if (outputEl) {{\n",
       "    x.observe(outputEl, {childList: true});\n",
       "}}\n",
       "\n",
       "                        })                };                });            </script>        </div>"
      ]
     },
     "metadata": {},
     "output_type": "display_data"
    }
   ],
   "source": [
    "fig = px.bar(compiledcountydata,\n",
    "             x='Total Deaths',\n",
    "             y='County',\n",
    "             color='County',\n",
    "             color_continuous_scale=[\"red\",\"yellow\",\"green\"],\n",
    "             title='<b> by County</b>')\n",
    "fig.show()"
   ]
  },
  {
   "cell_type": "code",
   "execution_count": 16,
   "metadata": {},
   "outputs": [
    {
     "data": {
      "application/vnd.plotly.v1+json": {
       "config": {
        "plotlyServerURL": "https://plot.ly"
       },
       "data": [
        {
         "alignmentgroup": "True",
         "hovertemplate": "County=%{y}<br>Total Deaths=%{x}<extra></extra>",
         "legendgroup": "Aitkin",
         "marker": {
          "color": "#636efa"
         },
         "name": "Aitkin",
         "offsetgroup": "Aitkin",
         "orientation": "h",
         "showlegend": true,
         "textposition": "auto",
         "type": "bar",
         "x": [
          33
         ],
         "xaxis": "x",
         "y": [
          "Aitkin"
         ],
         "yaxis": "y"
        },
        {
         "alignmentgroup": "True",
         "hovertemplate": "County=%{y}<br>Total Deaths=%{x}<extra></extra>",
         "legendgroup": "Anoka",
         "marker": {
          "color": "#EF553B"
         },
         "name": "Anoka",
         "offsetgroup": "Anoka",
         "orientation": "h",
         "showlegend": true,
         "textposition": "auto",
         "type": "bar",
         "x": [
          390
         ],
         "xaxis": "x",
         "y": [
          "Anoka"
         ],
         "yaxis": "y"
        },
        {
         "alignmentgroup": "True",
         "hovertemplate": "County=%{y}<br>Total Deaths=%{x}<extra></extra>",
         "legendgroup": "Becker",
         "marker": {
          "color": "#00cc96"
         },
         "name": "Becker",
         "offsetgroup": "Becker",
         "orientation": "h",
         "showlegend": true,
         "textposition": "auto",
         "type": "bar",
         "x": [
          42
         ],
         "xaxis": "x",
         "y": [
          "Becker"
         ],
         "yaxis": "y"
        },
        {
         "alignmentgroup": "True",
         "hovertemplate": "County=%{y}<br>Total Deaths=%{x}<extra></extra>",
         "legendgroup": "Beltrami",
         "marker": {
          "color": "#ab63fa"
         },
         "name": "Beltrami",
         "offsetgroup": "Beltrami",
         "orientation": "h",
         "showlegend": true,
         "textposition": "auto",
         "type": "bar",
         "x": [
          51
         ],
         "xaxis": "x",
         "y": [
          "Beltrami"
         ],
         "yaxis": "y"
        },
        {
         "alignmentgroup": "True",
         "hovertemplate": "County=%{y}<br>Total Deaths=%{x}<extra></extra>",
         "legendgroup": "Benton",
         "marker": {
          "color": "#FFA15A"
         },
         "name": "Benton",
         "offsetgroup": "Benton",
         "orientation": "h",
         "showlegend": true,
         "textposition": "auto",
         "type": "bar",
         "x": [
          90
         ],
         "xaxis": "x",
         "y": [
          "Benton"
         ],
         "yaxis": "y"
        },
        {
         "alignmentgroup": "True",
         "hovertemplate": "County=%{y}<br>Total Deaths=%{x}<extra></extra>",
         "legendgroup": "Big Stone",
         "marker": {
          "color": "#19d3f3"
         },
         "name": "Big Stone",
         "offsetgroup": "Big Stone",
         "orientation": "h",
         "showlegend": true,
         "textposition": "auto",
         "type": "bar",
         "x": [
          3
         ],
         "xaxis": "x",
         "y": [
          "Big Stone"
         ],
         "yaxis": "y"
        },
        {
         "alignmentgroup": "True",
         "hovertemplate": "County=%{y}<br>Total Deaths=%{x}<extra></extra>",
         "legendgroup": "Blue Earth",
         "marker": {
          "color": "#FF6692"
         },
         "name": "Blue Earth",
         "offsetgroup": "Blue Earth",
         "orientation": "h",
         "showlegend": true,
         "textposition": "auto",
         "type": "bar",
         "x": [
          35
         ],
         "xaxis": "x",
         "y": [
          "Blue Earth"
         ],
         "yaxis": "y"
        },
        {
         "alignmentgroup": "True",
         "hovertemplate": "County=%{y}<br>Total Deaths=%{x}<extra></extra>",
         "legendgroup": "Brown",
         "marker": {
          "color": "#B6E880"
         },
         "name": "Brown",
         "offsetgroup": "Brown",
         "orientation": "h",
         "showlegend": true,
         "textposition": "auto",
         "type": "bar",
         "x": [
          37
         ],
         "xaxis": "x",
         "y": [
          "Brown"
         ],
         "yaxis": "y"
        },
        {
         "alignmentgroup": "True",
         "hovertemplate": "County=%{y}<br>Total Deaths=%{x}<extra></extra>",
         "legendgroup": "Carlton",
         "marker": {
          "color": "#FF97FF"
         },
         "name": "Carlton",
         "offsetgroup": "Carlton",
         "orientation": "h",
         "showlegend": true,
         "textposition": "auto",
         "type": "bar",
         "x": [
          49
         ],
         "xaxis": "x",
         "y": [
          "Carlton"
         ],
         "yaxis": "y"
        },
        {
         "alignmentgroup": "True",
         "hovertemplate": "County=%{y}<br>Total Deaths=%{x}<extra></extra>",
         "legendgroup": "Carver",
         "marker": {
          "color": "#FECB52"
         },
         "name": "Carver",
         "offsetgroup": "Carver",
         "orientation": "h",
         "showlegend": true,
         "textposition": "auto",
         "type": "bar",
         "x": [
          40
         ],
         "xaxis": "x",
         "y": [
          "Carver"
         ],
         "yaxis": "y"
        },
        {
         "alignmentgroup": "True",
         "hovertemplate": "County=%{y}<br>Total Deaths=%{x}<extra></extra>",
         "legendgroup": "Cass",
         "marker": {
          "color": "#636efa"
         },
         "name": "Cass",
         "offsetgroup": "Cass",
         "orientation": "h",
         "showlegend": true,
         "textposition": "auto",
         "type": "bar",
         "x": [
          24
         ],
         "xaxis": "x",
         "y": [
          "Cass"
         ],
         "yaxis": "y"
        },
        {
         "alignmentgroup": "True",
         "hovertemplate": "County=%{y}<br>Total Deaths=%{x}<extra></extra>",
         "legendgroup": "Chippewa",
         "marker": {
          "color": "#EF553B"
         },
         "name": "Chippewa",
         "offsetgroup": "Chippewa",
         "orientation": "h",
         "showlegend": true,
         "textposition": "auto",
         "type": "bar",
         "x": [
          35
         ],
         "xaxis": "x",
         "y": [
          "Chippewa"
         ],
         "yaxis": "y"
        },
        {
         "alignmentgroup": "True",
         "hovertemplate": "County=%{y}<br>Total Deaths=%{x}<extra></extra>",
         "legendgroup": "Chisago",
         "marker": {
          "color": "#00cc96"
         },
         "name": "Chisago",
         "offsetgroup": "Chisago",
         "orientation": "h",
         "showlegend": true,
         "textposition": "auto",
         "type": "bar",
         "x": [
          45
         ],
         "xaxis": "x",
         "y": [
          "Chisago"
         ],
         "yaxis": "y"
        },
        {
         "alignmentgroup": "True",
         "hovertemplate": "County=%{y}<br>Total Deaths=%{x}<extra></extra>",
         "legendgroup": "Clay",
         "marker": {
          "color": "#ab63fa"
         },
         "name": "Clay",
         "offsetgroup": "Clay",
         "orientation": "h",
         "showlegend": true,
         "textposition": "auto",
         "type": "bar",
         "x": [
          87
         ],
         "xaxis": "x",
         "y": [
          "Clay"
         ],
         "yaxis": "y"
        },
        {
         "alignmentgroup": "True",
         "hovertemplate": "County=%{y}<br>Total Deaths=%{x}<extra></extra>",
         "legendgroup": "Clearwater",
         "marker": {
          "color": "#FFA15A"
         },
         "name": "Clearwater",
         "offsetgroup": "Clearwater",
         "orientation": "h",
         "showlegend": true,
         "textposition": "auto",
         "type": "bar",
         "x": [
          14
         ],
         "xaxis": "x",
         "y": [
          "Clearwater"
         ],
         "yaxis": "y"
        },
        {
         "alignmentgroup": "True",
         "hovertemplate": "County=%{y}<br>Total Deaths=%{x}<extra></extra>",
         "legendgroup": "Cook",
         "marker": {
          "color": "#19d3f3"
         },
         "name": "Cook",
         "offsetgroup": "Cook",
         "orientation": "h",
         "showlegend": true,
         "textposition": "auto",
         "type": "bar",
         "x": [
          0
         ],
         "xaxis": "x",
         "y": [
          "Cook"
         ],
         "yaxis": "y"
        },
        {
         "alignmentgroup": "True",
         "hovertemplate": "County=%{y}<br>Total Deaths=%{x}<extra></extra>",
         "legendgroup": "Cottonwood",
         "marker": {
          "color": "#FF6692"
         },
         "name": "Cottonwood",
         "offsetgroup": "Cottonwood",
         "orientation": "h",
         "showlegend": true,
         "textposition": "auto",
         "type": "bar",
         "x": [
          20
         ],
         "xaxis": "x",
         "y": [
          "Cottonwood"
         ],
         "yaxis": "y"
        },
        {
         "alignmentgroup": "True",
         "hovertemplate": "County=%{y}<br>Total Deaths=%{x}<extra></extra>",
         "legendgroup": "Crow Wing",
         "marker": {
          "color": "#B6E880"
         },
         "name": "Crow Wing",
         "offsetgroup": "Crow Wing",
         "orientation": "h",
         "showlegend": true,
         "textposition": "auto",
         "type": "bar",
         "x": [
          82
         ],
         "xaxis": "x",
         "y": [
          "Crow Wing"
         ],
         "yaxis": "y"
        },
        {
         "alignmentgroup": "True",
         "hovertemplate": "County=%{y}<br>Total Deaths=%{x}<extra></extra>",
         "legendgroup": "Dakota",
         "marker": {
          "color": "#FF97FF"
         },
         "name": "Dakota",
         "offsetgroup": "Dakota",
         "orientation": "h",
         "showlegend": true,
         "textposition": "auto",
         "type": "bar",
         "x": [
          392
         ],
         "xaxis": "x",
         "y": [
          "Dakota"
         ],
         "yaxis": "y"
        },
        {
         "alignmentgroup": "True",
         "hovertemplate": "County=%{y}<br>Total Deaths=%{x}<extra></extra>",
         "legendgroup": "Dodge",
         "marker": {
          "color": "#FECB52"
         },
         "name": "Dodge",
         "offsetgroup": "Dodge",
         "orientation": "h",
         "showlegend": true,
         "textposition": "auto",
         "type": "bar",
         "x": [
          4
         ],
         "xaxis": "x",
         "y": [
          "Dodge"
         ],
         "yaxis": "y"
        },
        {
         "alignmentgroup": "True",
         "hovertemplate": "County=%{y}<br>Total Deaths=%{x}<extra></extra>",
         "legendgroup": "Douglas",
         "marker": {
          "color": "#636efa"
         },
         "name": "Douglas",
         "offsetgroup": "Douglas",
         "orientation": "h",
         "showlegend": true,
         "textposition": "auto",
         "type": "bar",
         "x": [
          68
         ],
         "xaxis": "x",
         "y": [
          "Douglas"
         ],
         "yaxis": "y"
        },
        {
         "alignmentgroup": "True",
         "hovertemplate": "County=%{y}<br>Total Deaths=%{x}<extra></extra>",
         "legendgroup": "Faribault",
         "marker": {
          "color": "#EF553B"
         },
         "name": "Faribault",
         "offsetgroup": "Faribault",
         "orientation": "h",
         "showlegend": true,
         "textposition": "auto",
         "type": "bar",
         "x": [
          17
         ],
         "xaxis": "x",
         "y": [
          "Faribault"
         ],
         "yaxis": "y"
        },
        {
         "alignmentgroup": "True",
         "hovertemplate": "County=%{y}<br>Total Deaths=%{x}<extra></extra>",
         "legendgroup": "Fillmore",
         "marker": {
          "color": "#00cc96"
         },
         "name": "Fillmore",
         "offsetgroup": "Fillmore",
         "orientation": "h",
         "showlegend": true,
         "textposition": "auto",
         "type": "bar",
         "x": [
          8
         ],
         "xaxis": "x",
         "y": [
          "Fillmore"
         ],
         "yaxis": "y"
        },
        {
         "alignmentgroup": "True",
         "hovertemplate": "County=%{y}<br>Total Deaths=%{x}<extra></extra>",
         "legendgroup": "Freeborn",
         "marker": {
          "color": "#ab63fa"
         },
         "name": "Freeborn",
         "offsetgroup": "Freeborn",
         "orientation": "h",
         "showlegend": true,
         "textposition": "auto",
         "type": "bar",
         "x": [
          24
         ],
         "xaxis": "x",
         "y": [
          "Freeborn"
         ],
         "yaxis": "y"
        },
        {
         "alignmentgroup": "True",
         "hovertemplate": "County=%{y}<br>Total Deaths=%{x}<extra></extra>",
         "legendgroup": "Goodhue",
         "marker": {
          "color": "#FFA15A"
         },
         "name": "Goodhue",
         "offsetgroup": "Goodhue",
         "orientation": "h",
         "showlegend": true,
         "textposition": "auto",
         "type": "bar",
         "x": [
          69
         ],
         "xaxis": "x",
         "y": [
          "Goodhue"
         ],
         "yaxis": "y"
        },
        {
         "alignmentgroup": "True",
         "hovertemplate": "County=%{y}<br>Total Deaths=%{x}<extra></extra>",
         "legendgroup": "Grant",
         "marker": {
          "color": "#19d3f3"
         },
         "name": "Grant",
         "offsetgroup": "Grant",
         "orientation": "h",
         "showlegend": true,
         "textposition": "auto",
         "type": "bar",
         "x": [
          8
         ],
         "xaxis": "x",
         "y": [
          "Grant"
         ],
         "yaxis": "y"
        },
        {
         "alignmentgroup": "True",
         "hovertemplate": "County=%{y}<br>Total Deaths=%{x}<extra></extra>",
         "legendgroup": "Hennepin",
         "marker": {
          "color": "#FF6692"
         },
         "name": "Hennepin",
         "offsetgroup": "Hennepin",
         "orientation": "h",
         "showlegend": true,
         "textposition": "auto",
         "type": "bar",
         "x": [
          1588
         ],
         "xaxis": "x",
         "y": [
          "Hennepin"
         ],
         "yaxis": "y"
        },
        {
         "alignmentgroup": "True",
         "hovertemplate": "County=%{y}<br>Total Deaths=%{x}<extra></extra>",
         "legendgroup": "Houston",
         "marker": {
          "color": "#B6E880"
         },
         "name": "Houston",
         "offsetgroup": "Houston",
         "orientation": "h",
         "showlegend": true,
         "textposition": "auto",
         "type": "bar",
         "x": [
          14
         ],
         "xaxis": "x",
         "y": [
          "Houston"
         ],
         "yaxis": "y"
        },
        {
         "alignmentgroup": "True",
         "hovertemplate": "County=%{y}<br>Total Deaths=%{x}<extra></extra>",
         "legendgroup": "Hubbard",
         "marker": {
          "color": "#FF97FF"
         },
         "name": "Hubbard",
         "offsetgroup": "Hubbard",
         "orientation": "h",
         "showlegend": true,
         "textposition": "auto",
         "type": "bar",
         "x": [
          41
         ],
         "xaxis": "x",
         "y": [
          "Hubbard"
         ],
         "yaxis": "y"
        },
        {
         "alignmentgroup": "True",
         "hovertemplate": "County=%{y}<br>Total Deaths=%{x}<extra></extra>",
         "legendgroup": "Isanti",
         "marker": {
          "color": "#FECB52"
         },
         "name": "Isanti",
         "offsetgroup": "Isanti",
         "orientation": "h",
         "showlegend": true,
         "textposition": "auto",
         "type": "bar",
         "x": [
          56
         ],
         "xaxis": "x",
         "y": [
          "Isanti"
         ],
         "yaxis": "y"
        },
        {
         "alignmentgroup": "True",
         "hovertemplate": "County=%{y}<br>Total Deaths=%{x}<extra></extra>",
         "legendgroup": "Itasca",
         "marker": {
          "color": "#636efa"
         },
         "name": "Itasca",
         "offsetgroup": "Itasca",
         "orientation": "h",
         "showlegend": true,
         "textposition": "auto",
         "type": "bar",
         "x": [
          46
         ],
         "xaxis": "x",
         "y": [
          "Itasca"
         ],
         "yaxis": "y"
        },
        {
         "alignmentgroup": "True",
         "hovertemplate": "County=%{y}<br>Total Deaths=%{x}<extra></extra>",
         "legendgroup": "Jackson",
         "marker": {
          "color": "#EF553B"
         },
         "name": "Jackson",
         "offsetgroup": "Jackson",
         "orientation": "h",
         "showlegend": true,
         "textposition": "auto",
         "type": "bar",
         "x": [
          10
         ],
         "xaxis": "x",
         "y": [
          "Jackson"
         ],
         "yaxis": "y"
        },
        {
         "alignmentgroup": "True",
         "hovertemplate": "County=%{y}<br>Total Deaths=%{x}<extra></extra>",
         "legendgroup": "Kanabec",
         "marker": {
          "color": "#00cc96"
         },
         "name": "Kanabec",
         "offsetgroup": "Kanabec",
         "orientation": "h",
         "showlegend": true,
         "textposition": "auto",
         "type": "bar",
         "x": [
          19
         ],
         "xaxis": "x",
         "y": [
          "Kanabec"
         ],
         "yaxis": "y"
        },
        {
         "alignmentgroup": "True",
         "hovertemplate": "County=%{y}<br>Total Deaths=%{x}<extra></extra>",
         "legendgroup": "Kandiyohi",
         "marker": {
          "color": "#ab63fa"
         },
         "name": "Kandiyohi",
         "offsetgroup": "Kandiyohi",
         "orientation": "h",
         "showlegend": true,
         "textposition": "auto",
         "type": "bar",
         "x": [
          74
         ],
         "xaxis": "x",
         "y": [
          "Kandiyohi"
         ],
         "yaxis": "y"
        },
        {
         "alignmentgroup": "True",
         "hovertemplate": "County=%{y}<br>Total Deaths=%{x}<extra></extra>",
         "legendgroup": "Kittson",
         "marker": {
          "color": "#FFA15A"
         },
         "name": "Kittson",
         "offsetgroup": "Kittson",
         "orientation": "h",
         "showlegend": true,
         "textposition": "auto",
         "type": "bar",
         "x": [
          21
         ],
         "xaxis": "x",
         "y": [
          "Kittson"
         ],
         "yaxis": "y"
        },
        {
         "alignmentgroup": "True",
         "hovertemplate": "County=%{y}<br>Total Deaths=%{x}<extra></extra>",
         "legendgroup": "Koochiching",
         "marker": {
          "color": "#19d3f3"
         },
         "name": "Koochiching",
         "offsetgroup": "Koochiching",
         "orientation": "h",
         "showlegend": true,
         "textposition": "auto",
         "type": "bar",
         "x": [
          11
         ],
         "xaxis": "x",
         "y": [
          "Koochiching"
         ],
         "yaxis": "y"
        },
        {
         "alignmentgroup": "True",
         "hovertemplate": "County=%{y}<br>Total Deaths=%{x}<extra></extra>",
         "legendgroup": "Lac qui Parle",
         "marker": {
          "color": "#FF6692"
         },
         "name": "Lac qui Parle",
         "offsetgroup": "Lac qui Parle",
         "orientation": "h",
         "showlegend": true,
         "textposition": "auto",
         "type": "bar",
         "x": [
          16
         ],
         "xaxis": "x",
         "y": [
          "Lac qui Parle"
         ],
         "yaxis": "y"
        },
        {
         "alignmentgroup": "True",
         "hovertemplate": "County=%{y}<br>Total Deaths=%{x}<extra></extra>",
         "legendgroup": "Lake",
         "marker": {
          "color": "#B6E880"
         },
         "name": "Lake",
         "offsetgroup": "Lake",
         "orientation": "h",
         "showlegend": true,
         "textposition": "auto",
         "type": "bar",
         "x": [
          18
         ],
         "xaxis": "x",
         "y": [
          "Lake"
         ],
         "yaxis": "y"
        },
        {
         "alignmentgroup": "True",
         "hovertemplate": "County=%{y}<br>Total Deaths=%{x}<extra></extra>",
         "legendgroup": "Lake of the Woods",
         "marker": {
          "color": "#FF97FF"
         },
         "name": "Lake of the Woods",
         "offsetgroup": "Lake of the Woods",
         "orientation": "h",
         "showlegend": true,
         "textposition": "auto",
         "type": "bar",
         "x": [
          1
         ],
         "xaxis": "x",
         "y": [
          "Lake of the Woods"
         ],
         "yaxis": "y"
        },
        {
         "alignmentgroup": "True",
         "hovertemplate": "County=%{y}<br>Total Deaths=%{x}<extra></extra>",
         "legendgroup": "Le Sueur",
         "marker": {
          "color": "#FECB52"
         },
         "name": "Le Sueur",
         "offsetgroup": "Le Sueur",
         "orientation": "h",
         "showlegend": true,
         "textposition": "auto",
         "type": "bar",
         "x": [
          20
         ],
         "xaxis": "x",
         "y": [
          "Le Sueur"
         ],
         "yaxis": "y"
        },
        {
         "alignmentgroup": "True",
         "hovertemplate": "County=%{y}<br>Total Deaths=%{x}<extra></extra>",
         "legendgroup": "Lincoln",
         "marker": {
          "color": "#636efa"
         },
         "name": "Lincoln",
         "offsetgroup": "Lincoln",
         "orientation": "h",
         "showlegend": true,
         "textposition": "auto",
         "type": "bar",
         "x": [
          2
         ],
         "xaxis": "x",
         "y": [
          "Lincoln"
         ],
         "yaxis": "y"
        },
        {
         "alignmentgroup": "True",
         "hovertemplate": "County=%{y}<br>Total Deaths=%{x}<extra></extra>",
         "legendgroup": "Lyon",
         "marker": {
          "color": "#EF553B"
         },
         "name": "Lyon",
         "offsetgroup": "Lyon",
         "orientation": "h",
         "showlegend": true,
         "textposition": "auto",
         "type": "bar",
         "x": [
          44
         ],
         "xaxis": "x",
         "y": [
          "Lyon"
         ],
         "yaxis": "y"
        },
        {
         "alignmentgroup": "True",
         "hovertemplate": "County=%{y}<br>Total Deaths=%{x}<extra></extra>",
         "legendgroup": "Mahnomen",
         "marker": {
          "color": "#00cc96"
         },
         "name": "Mahnomen",
         "offsetgroup": "Mahnomen",
         "orientation": "h",
         "showlegend": true,
         "textposition": "auto",
         "type": "bar",
         "x": [
          7
         ],
         "xaxis": "x",
         "y": [
          "Mahnomen"
         ],
         "yaxis": "y"
        },
        {
         "alignmentgroup": "True",
         "hovertemplate": "County=%{y}<br>Total Deaths=%{x}<extra></extra>",
         "legendgroup": "Marshall",
         "marker": {
          "color": "#ab63fa"
         },
         "name": "Marshall",
         "offsetgroup": "Marshall",
         "orientation": "h",
         "showlegend": true,
         "textposition": "auto",
         "type": "bar",
         "x": [
          15
         ],
         "xaxis": "x",
         "y": [
          "Marshall"
         ],
         "yaxis": "y"
        },
        {
         "alignmentgroup": "True",
         "hovertemplate": "County=%{y}<br>Total Deaths=%{x}<extra></extra>",
         "legendgroup": "Martin",
         "marker": {
          "color": "#FFA15A"
         },
         "name": "Martin",
         "offsetgroup": "Martin",
         "orientation": "h",
         "showlegend": true,
         "textposition": "auto",
         "type": "bar",
         "x": [
          28
         ],
         "xaxis": "x",
         "y": [
          "Martin"
         ],
         "yaxis": "y"
        },
        {
         "alignmentgroup": "True",
         "hovertemplate": "County=%{y}<br>Total Deaths=%{x}<extra></extra>",
         "legendgroup": "McLeod",
         "marker": {
          "color": "#19d3f3"
         },
         "name": "McLeod",
         "offsetgroup": "McLeod",
         "orientation": "h",
         "showlegend": true,
         "textposition": "auto",
         "type": "bar",
         "x": [
          50
         ],
         "xaxis": "x",
         "y": [
          "McLeod"
         ],
         "yaxis": "y"
        },
        {
         "alignmentgroup": "True",
         "hovertemplate": "County=%{y}<br>Total Deaths=%{x}<extra></extra>",
         "legendgroup": "Meeker",
         "marker": {
          "color": "#FF6692"
         },
         "name": "Meeker",
         "offsetgroup": "Meeker",
         "orientation": "h",
         "showlegend": true,
         "textposition": "auto",
         "type": "bar",
         "x": [
          34
         ],
         "xaxis": "x",
         "y": [
          "Meeker"
         ],
         "yaxis": "y"
        },
        {
         "alignmentgroup": "True",
         "hovertemplate": "County=%{y}<br>Total Deaths=%{x}<extra></extra>",
         "legendgroup": "Mille Lacs",
         "marker": {
          "color": "#B6E880"
         },
         "name": "Mille Lacs",
         "offsetgroup": "Mille Lacs",
         "orientation": "h",
         "showlegend": true,
         "textposition": "auto",
         "type": "bar",
         "x": [
          47
         ],
         "xaxis": "x",
         "y": [
          "Mille Lacs"
         ],
         "yaxis": "y"
        },
        {
         "alignmentgroup": "True",
         "hovertemplate": "County=%{y}<br>Total Deaths=%{x}<extra></extra>",
         "legendgroup": "Morrison",
         "marker": {
          "color": "#FF97FF"
         },
         "name": "Morrison",
         "offsetgroup": "Morrison",
         "orientation": "h",
         "showlegend": true,
         "textposition": "auto",
         "type": "bar",
         "x": [
          47
         ],
         "xaxis": "x",
         "y": [
          "Morrison"
         ],
         "yaxis": "y"
        },
        {
         "alignmentgroup": "True",
         "hovertemplate": "County=%{y}<br>Total Deaths=%{x}<extra></extra>",
         "legendgroup": "Mower",
         "marker": {
          "color": "#FECB52"
         },
         "name": "Mower",
         "offsetgroup": "Mower",
         "orientation": "h",
         "showlegend": true,
         "textposition": "auto",
         "type": "bar",
         "x": [
          31
         ],
         "xaxis": "x",
         "y": [
          "Mower"
         ],
         "yaxis": "y"
        },
        {
         "alignmentgroup": "True",
         "hovertemplate": "County=%{y}<br>Total Deaths=%{x}<extra></extra>",
         "legendgroup": "Murray",
         "marker": {
          "color": "#636efa"
         },
         "name": "Murray",
         "offsetgroup": "Murray",
         "orientation": "h",
         "showlegend": true,
         "textposition": "auto",
         "type": "bar",
         "x": [
          8
         ],
         "xaxis": "x",
         "y": [
          "Murray"
         ],
         "yaxis": "y"
        },
        {
         "alignmentgroup": "True",
         "hovertemplate": "County=%{y}<br>Total Deaths=%{x}<extra></extra>",
         "legendgroup": "Nicollet",
         "marker": {
          "color": "#EF553B"
         },
         "name": "Nicollet",
         "offsetgroup": "Nicollet",
         "orientation": "h",
         "showlegend": true,
         "textposition": "auto",
         "type": "bar",
         "x": [
          41
         ],
         "xaxis": "x",
         "y": [
          "Nicollet"
         ],
         "yaxis": "y"
        },
        {
         "alignmentgroup": "True",
         "hovertemplate": "County=%{y}<br>Total Deaths=%{x}<extra></extra>",
         "legendgroup": "Nobles",
         "marker": {
          "color": "#00cc96"
         },
         "name": "Nobles",
         "offsetgroup": "Nobles",
         "orientation": "h",
         "showlegend": true,
         "textposition": "auto",
         "type": "bar",
         "x": [
          47
         ],
         "xaxis": "x",
         "y": [
          "Nobles"
         ],
         "yaxis": "y"
        },
        {
         "alignmentgroup": "True",
         "hovertemplate": "County=%{y}<br>Total Deaths=%{x}<extra></extra>",
         "legendgroup": "Norman",
         "marker": {
          "color": "#ab63fa"
         },
         "name": "Norman",
         "offsetgroup": "Norman",
         "orientation": "h",
         "showlegend": true,
         "textposition": "auto",
         "type": "bar",
         "x": [
          8
         ],
         "xaxis": "x",
         "y": [
          "Norman"
         ],
         "yaxis": "y"
        },
        {
         "alignmentgroup": "True",
         "hovertemplate": "County=%{y}<br>Total Deaths=%{x}<extra></extra>",
         "legendgroup": "Olmsted",
         "marker": {
          "color": "#FFA15A"
         },
         "name": "Olmsted",
         "offsetgroup": "Olmsted",
         "orientation": "h",
         "showlegend": true,
         "textposition": "auto",
         "type": "bar",
         "x": [
          89
         ],
         "xaxis": "x",
         "y": [
          "Olmsted"
         ],
         "yaxis": "y"
        },
        {
         "alignmentgroup": "True",
         "hovertemplate": "County=%{y}<br>Total Deaths=%{x}<extra></extra>",
         "legendgroup": "Otter Tail",
         "marker": {
          "color": "#19d3f3"
         },
         "name": "Otter Tail",
         "offsetgroup": "Otter Tail",
         "orientation": "h",
         "showlegend": true,
         "textposition": "auto",
         "type": "bar",
         "x": [
          70
         ],
         "xaxis": "x",
         "y": [
          "Otter Tail"
         ],
         "yaxis": "y"
        },
        {
         "alignmentgroup": "True",
         "hovertemplate": "County=%{y}<br>Total Deaths=%{x}<extra></extra>",
         "legendgroup": "Pennington",
         "marker": {
          "color": "#FF6692"
         },
         "name": "Pennington",
         "offsetgroup": "Pennington",
         "orientation": "h",
         "showlegend": true,
         "textposition": "auto",
         "type": "bar",
         "x": [
          16
         ],
         "xaxis": "x",
         "y": [
          "Pennington"
         ],
         "yaxis": "y"
        },
        {
         "alignmentgroup": "True",
         "hovertemplate": "County=%{y}<br>Total Deaths=%{x}<extra></extra>",
         "legendgroup": "Pine",
         "marker": {
          "color": "#B6E880"
         },
         "name": "Pine",
         "offsetgroup": "Pine",
         "orientation": "h",
         "showlegend": true,
         "textposition": "auto",
         "type": "bar",
         "x": [
          16
         ],
         "xaxis": "x",
         "y": [
          "Pine"
         ],
         "yaxis": "y"
        },
        {
         "alignmentgroup": "True",
         "hovertemplate": "County=%{y}<br>Total Deaths=%{x}<extra></extra>",
         "legendgroup": "Pipestone",
         "marker": {
          "color": "#FF97FF"
         },
         "name": "Pipestone",
         "offsetgroup": "Pipestone",
         "orientation": "h",
         "showlegend": true,
         "textposition": "auto",
         "type": "bar",
         "x": [
          24
         ],
         "xaxis": "x",
         "y": [
          "Pipestone"
         ],
         "yaxis": "y"
        },
        {
         "alignmentgroup": "True",
         "hovertemplate": "County=%{y}<br>Total Deaths=%{x}<extra></extra>",
         "legendgroup": "Polk",
         "marker": {
          "color": "#FECB52"
         },
         "name": "Polk",
         "offsetgroup": "Polk",
         "orientation": "h",
         "showlegend": true,
         "textposition": "auto",
         "type": "bar",
         "x": [
          63
         ],
         "xaxis": "x",
         "y": [
          "Polk"
         ],
         "yaxis": "y"
        },
        {
         "alignmentgroup": "True",
         "hovertemplate": "County=%{y}<br>Total Deaths=%{x}<extra></extra>",
         "legendgroup": "Pope",
         "marker": {
          "color": "#636efa"
         },
         "name": "Pope",
         "offsetgroup": "Pope",
         "orientation": "h",
         "showlegend": true,
         "textposition": "auto",
         "type": "bar",
         "x": [
          5
         ],
         "xaxis": "x",
         "y": [
          "Pope"
         ],
         "yaxis": "y"
        },
        {
         "alignmentgroup": "True",
         "hovertemplate": "County=%{y}<br>Total Deaths=%{x}<extra></extra>",
         "legendgroup": "Ramsey",
         "marker": {
          "color": "#EF553B"
         },
         "name": "Ramsey",
         "offsetgroup": "Ramsey",
         "orientation": "h",
         "showlegend": true,
         "textposition": "auto",
         "type": "bar",
         "x": [
          805
         ],
         "xaxis": "x",
         "y": [
          "Ramsey"
         ],
         "yaxis": "y"
        },
        {
         "alignmentgroup": "True",
         "hovertemplate": "County=%{y}<br>Total Deaths=%{x}<extra></extra>",
         "legendgroup": "Red Lake",
         "marker": {
          "color": "#00cc96"
         },
         "name": "Red Lake",
         "offsetgroup": "Red Lake",
         "orientation": "h",
         "showlegend": true,
         "textposition": "auto",
         "type": "bar",
         "x": [
          5
         ],
         "xaxis": "x",
         "y": [
          "Red Lake"
         ],
         "yaxis": "y"
        },
        {
         "alignmentgroup": "True",
         "hovertemplate": "County=%{y}<br>Total Deaths=%{x}<extra></extra>",
         "legendgroup": "Redwood",
         "marker": {
          "color": "#ab63fa"
         },
         "name": "Redwood",
         "offsetgroup": "Redwood",
         "orientation": "h",
         "showlegend": true,
         "textposition": "auto",
         "type": "bar",
         "x": [
          27
         ],
         "xaxis": "x",
         "y": [
          "Redwood"
         ],
         "yaxis": "y"
        },
        {
         "alignmentgroup": "True",
         "hovertemplate": "County=%{y}<br>Total Deaths=%{x}<extra></extra>",
         "legendgroup": "Renville",
         "marker": {
          "color": "#FFA15A"
         },
         "name": "Renville",
         "offsetgroup": "Renville",
         "orientation": "h",
         "showlegend": true,
         "textposition": "auto",
         "type": "bar",
         "x": [
          40
         ],
         "xaxis": "x",
         "y": [
          "Renville"
         ],
         "yaxis": "y"
        },
        {
         "alignmentgroup": "True",
         "hovertemplate": "County=%{y}<br>Total Deaths=%{x}<extra></extra>",
         "legendgroup": "Rice",
         "marker": {
          "color": "#19d3f3"
         },
         "name": "Rice",
         "offsetgroup": "Rice",
         "orientation": "h",
         "showlegend": true,
         "textposition": "auto",
         "type": "bar",
         "x": [
          91
         ],
         "xaxis": "x",
         "y": [
          "Rice"
         ],
         "yaxis": "y"
        },
        {
         "alignmentgroup": "True",
         "hovertemplate": "County=%{y}<br>Total Deaths=%{x}<extra></extra>",
         "legendgroup": "Rock",
         "marker": {
          "color": "#FF6692"
         },
         "name": "Rock",
         "offsetgroup": "Rock",
         "orientation": "h",
         "showlegend": true,
         "textposition": "auto",
         "type": "bar",
         "x": [
          14
         ],
         "xaxis": "x",
         "y": [
          "Rock"
         ],
         "yaxis": "y"
        },
        {
         "alignmentgroup": "True",
         "hovertemplate": "County=%{y}<br>Total Deaths=%{x}<extra></extra>",
         "legendgroup": "Roseau",
         "marker": {
          "color": "#B6E880"
         },
         "name": "Roseau",
         "offsetgroup": "Roseau",
         "orientation": "h",
         "showlegend": true,
         "textposition": "auto",
         "type": "bar",
         "x": [
          17
         ],
         "xaxis": "x",
         "y": [
          "Roseau"
         ],
         "yaxis": "y"
        },
        {
         "alignmentgroup": "True",
         "hovertemplate": "County=%{y}<br>Total Deaths=%{x}<extra></extra>",
         "legendgroup": "Scott",
         "marker": {
          "color": "#FF97FF"
         },
         "name": "Scott",
         "offsetgroup": "Scott",
         "orientation": "h",
         "showlegend": true,
         "textposition": "auto",
         "type": "bar",
         "x": [
          107
         ],
         "xaxis": "x",
         "y": [
          "Scott"
         ],
         "yaxis": "y"
        },
        {
         "alignmentgroup": "True",
         "hovertemplate": "County=%{y}<br>Total Deaths=%{x}<extra></extra>",
         "legendgroup": "Sherburne",
         "marker": {
          "color": "#FECB52"
         },
         "name": "Sherburne",
         "offsetgroup": "Sherburne",
         "orientation": "h",
         "showlegend": true,
         "textposition": "auto",
         "type": "bar",
         "x": [
          73
         ],
         "xaxis": "x",
         "y": [
          "Sherburne"
         ],
         "yaxis": "y"
        },
        {
         "alignmentgroup": "True",
         "hovertemplate": "County=%{y}<br>Total Deaths=%{x}<extra></extra>",
         "legendgroup": "Sibley",
         "marker": {
          "color": "#636efa"
         },
         "name": "Sibley",
         "offsetgroup": "Sibley",
         "orientation": "h",
         "showlegend": true,
         "textposition": "auto",
         "type": "bar",
         "x": [
          10
         ],
         "xaxis": "x",
         "y": [
          "Sibley"
         ],
         "yaxis": "y"
        },
        {
         "alignmentgroup": "True",
         "hovertemplate": "County=%{y}<br>Total Deaths=%{x}<extra></extra>",
         "legendgroup": "St. Louis",
         "marker": {
          "color": "#EF553B"
         },
         "name": "St. Louis",
         "offsetgroup": "St. Louis",
         "orientation": "h",
         "showlegend": true,
         "textposition": "auto",
         "type": "bar",
         "x": [
          264
         ],
         "xaxis": "x",
         "y": [
          "St. Louis"
         ],
         "yaxis": "y"
        },
        {
         "alignmentgroup": "True",
         "hovertemplate": "County=%{y}<br>Total Deaths=%{x}<extra></extra>",
         "legendgroup": "Stearns",
         "marker": {
          "color": "#00cc96"
         },
         "name": "Stearns",
         "offsetgroup": "Stearns",
         "orientation": "h",
         "showlegend": true,
         "textposition": "auto",
         "type": "bar",
         "x": [
          202
         ],
         "xaxis": "x",
         "y": [
          "Stearns"
         ],
         "yaxis": "y"
        },
        {
         "alignmentgroup": "True",
         "hovertemplate": "County=%{y}<br>Total Deaths=%{x}<extra></extra>",
         "legendgroup": "Steele",
         "marker": {
          "color": "#ab63fa"
         },
         "name": "Steele",
         "offsetgroup": "Steele",
         "orientation": "h",
         "showlegend": true,
         "textposition": "auto",
         "type": "bar",
         "x": [
          11
         ],
         "xaxis": "x",
         "y": [
          "Steele"
         ],
         "yaxis": "y"
        },
        {
         "alignmentgroup": "True",
         "hovertemplate": "County=%{y}<br>Total Deaths=%{x}<extra></extra>",
         "legendgroup": "Stevens",
         "marker": {
          "color": "#FFA15A"
         },
         "name": "Stevens",
         "offsetgroup": "Stevens",
         "orientation": "h",
         "showlegend": true,
         "textposition": "auto",
         "type": "bar",
         "x": [
          8
         ],
         "xaxis": "x",
         "y": [
          "Stevens"
         ],
         "yaxis": "y"
        },
        {
         "alignmentgroup": "True",
         "hovertemplate": "County=%{y}<br>Total Deaths=%{x}<extra></extra>",
         "legendgroup": "Swift",
         "marker": {
          "color": "#19d3f3"
         },
         "name": "Swift",
         "offsetgroup": "Swift",
         "orientation": "h",
         "showlegend": true,
         "textposition": "auto",
         "type": "bar",
         "x": [
          18
         ],
         "xaxis": "x",
         "y": [
          "Swift"
         ],
         "yaxis": "y"
        },
        {
         "alignmentgroup": "True",
         "hovertemplate": "County=%{y}<br>Total Deaths=%{x}<extra></extra>",
         "legendgroup": "Todd",
         "marker": {
          "color": "#FF6692"
         },
         "name": "Todd",
         "offsetgroup": "Todd",
         "orientation": "h",
         "showlegend": true,
         "textposition": "auto",
         "type": "bar",
         "x": [
          30
         ],
         "xaxis": "x",
         "y": [
          "Todd"
         ],
         "yaxis": "y"
        },
        {
         "alignmentgroup": "True",
         "hovertemplate": "County=%{y}<br>Total Deaths=%{x}<extra></extra>",
         "legendgroup": "Traverse",
         "marker": {
          "color": "#B6E880"
         },
         "name": "Traverse",
         "offsetgroup": "Traverse",
         "orientation": "h",
         "showlegend": true,
         "textposition": "auto",
         "type": "bar",
         "x": [
          5
         ],
         "xaxis": "x",
         "y": [
          "Traverse"
         ],
         "yaxis": "y"
        },
        {
         "alignmentgroup": "True",
         "hovertemplate": "County=%{y}<br>Total Deaths=%{x}<extra></extra>",
         "legendgroup": "Wabasha",
         "marker": {
          "color": "#FF97FF"
         },
         "name": "Wabasha",
         "offsetgroup": "Wabasha",
         "orientation": "h",
         "showlegend": true,
         "textposition": "auto",
         "type": "bar",
         "x": [
          3
         ],
         "xaxis": "x",
         "y": [
          "Wabasha"
         ],
         "yaxis": "y"
        },
        {
         "alignmentgroup": "True",
         "hovertemplate": "County=%{y}<br>Total Deaths=%{x}<extra></extra>",
         "legendgroup": "Wadena",
         "marker": {
          "color": "#FECB52"
         },
         "name": "Wadena",
         "offsetgroup": "Wadena",
         "orientation": "h",
         "showlegend": true,
         "textposition": "auto",
         "type": "bar",
         "x": [
          20
         ],
         "xaxis": "x",
         "y": [
          "Wadena"
         ],
         "yaxis": "y"
        },
        {
         "alignmentgroup": "True",
         "hovertemplate": "County=%{y}<br>Total Deaths=%{x}<extra></extra>",
         "legendgroup": "Waseca",
         "marker": {
          "color": "#636efa"
         },
         "name": "Waseca",
         "offsetgroup": "Waseca",
         "orientation": "h",
         "showlegend": true,
         "textposition": "auto",
         "type": "bar",
         "x": [
          17
         ],
         "xaxis": "x",
         "y": [
          "Waseca"
         ],
         "yaxis": "y"
        },
        {
         "alignmentgroup": "True",
         "hovertemplate": "County=%{y}<br>Total Deaths=%{x}<extra></extra>",
         "legendgroup": "Washington",
         "marker": {
          "color": "#EF553B"
         },
         "name": "Washington",
         "offsetgroup": "Washington",
         "orientation": "h",
         "showlegend": true,
         "textposition": "auto",
         "type": "bar",
         "x": [
          259
         ],
         "xaxis": "x",
         "y": [
          "Washington"
         ],
         "yaxis": "y"
        },
        {
         "alignmentgroup": "True",
         "hovertemplate": "County=%{y}<br>Total Deaths=%{x}<extra></extra>",
         "legendgroup": "Watonwan",
         "marker": {
          "color": "#00cc96"
         },
         "name": "Watonwan",
         "offsetgroup": "Watonwan",
         "orientation": "h",
         "showlegend": true,
         "textposition": "auto",
         "type": "bar",
         "x": [
          8
         ],
         "xaxis": "x",
         "y": [
          "Watonwan"
         ],
         "yaxis": "y"
        },
        {
         "alignmentgroup": "True",
         "hovertemplate": "County=%{y}<br>Total Deaths=%{x}<extra></extra>",
         "legendgroup": "Wilkin",
         "marker": {
          "color": "#ab63fa"
         },
         "name": "Wilkin",
         "offsetgroup": "Wilkin",
         "orientation": "h",
         "showlegend": true,
         "textposition": "auto",
         "type": "bar",
         "x": [
          11
         ],
         "xaxis": "x",
         "y": [
          "Wilkin"
         ],
         "yaxis": "y"
        },
        {
         "alignmentgroup": "True",
         "hovertemplate": "County=%{y}<br>Total Deaths=%{x}<extra></extra>",
         "legendgroup": "Winona",
         "marker": {
          "color": "#FFA15A"
         },
         "name": "Winona",
         "offsetgroup": "Winona",
         "orientation": "h",
         "showlegend": true,
         "textposition": "auto",
         "type": "bar",
         "x": [
          49
         ],
         "xaxis": "x",
         "y": [
          "Winona"
         ],
         "yaxis": "y"
        },
        {
         "alignmentgroup": "True",
         "hovertemplate": "County=%{y}<br>Total Deaths=%{x}<extra></extra>",
         "legendgroup": "Wright",
         "marker": {
          "color": "#19d3f3"
         },
         "name": "Wright",
         "offsetgroup": "Wright",
         "orientation": "h",
         "showlegend": true,
         "textposition": "auto",
         "type": "bar",
         "x": [
          116
         ],
         "xaxis": "x",
         "y": [
          "Wright"
         ],
         "yaxis": "y"
        },
        {
         "alignmentgroup": "True",
         "hovertemplate": "County=%{y}<br>Total Deaths=%{x}<extra></extra>",
         "legendgroup": "Yellow Medicine",
         "marker": {
          "color": "#FF6692"
         },
         "name": "Yellow Medicine",
         "offsetgroup": "Yellow Medicine",
         "orientation": "h",
         "showlegend": true,
         "textposition": "auto",
         "type": "bar",
         "x": [
          17
         ],
         "xaxis": "x",
         "y": [
          "Yellow Medicine"
         ],
         "yaxis": "y"
        },
        {
         "alignmentgroup": "True",
         "hovertemplate": "County=%{y}<br>Total Deaths=%{x}<extra></extra>",
         "legendgroup": "Unknown/Missing",
         "marker": {
          "color": "#B6E880"
         },
         "name": "Unknown/Missing",
         "offsetgroup": "Unknown/Missing",
         "orientation": "h",
         "showlegend": true,
         "textposition": "auto",
         "type": "bar",
         "x": [
          0
         ],
         "xaxis": "x",
         "y": [
          "Unknown/Missing"
         ],
         "yaxis": "y"
        }
       ],
       "layout": {
        "barmode": "relative",
        "legend": {
         "title": {
          "text": "County"
         },
         "tracegroupgap": 0
        },
        "template": {
         "data": {
          "bar": [
           {
            "error_x": {
             "color": "#2a3f5f"
            },
            "error_y": {
             "color": "#2a3f5f"
            },
            "marker": {
             "line": {
              "color": "#E5ECF6",
              "width": 0.5
             }
            },
            "type": "bar"
           }
          ],
          "barpolar": [
           {
            "marker": {
             "line": {
              "color": "#E5ECF6",
              "width": 0.5
             }
            },
            "type": "barpolar"
           }
          ],
          "carpet": [
           {
            "aaxis": {
             "endlinecolor": "#2a3f5f",
             "gridcolor": "white",
             "linecolor": "white",
             "minorgridcolor": "white",
             "startlinecolor": "#2a3f5f"
            },
            "baxis": {
             "endlinecolor": "#2a3f5f",
             "gridcolor": "white",
             "linecolor": "white",
             "minorgridcolor": "white",
             "startlinecolor": "#2a3f5f"
            },
            "type": "carpet"
           }
          ],
          "choropleth": [
           {
            "colorbar": {
             "outlinewidth": 0,
             "ticks": ""
            },
            "type": "choropleth"
           }
          ],
          "contour": [
           {
            "colorbar": {
             "outlinewidth": 0,
             "ticks": ""
            },
            "colorscale": [
             [
              0,
              "#0d0887"
             ],
             [
              0.1111111111111111,
              "#46039f"
             ],
             [
              0.2222222222222222,
              "#7201a8"
             ],
             [
              0.3333333333333333,
              "#9c179e"
             ],
             [
              0.4444444444444444,
              "#bd3786"
             ],
             [
              0.5555555555555556,
              "#d8576b"
             ],
             [
              0.6666666666666666,
              "#ed7953"
             ],
             [
              0.7777777777777778,
              "#fb9f3a"
             ],
             [
              0.8888888888888888,
              "#fdca26"
             ],
             [
              1,
              "#f0f921"
             ]
            ],
            "type": "contour"
           }
          ],
          "contourcarpet": [
           {
            "colorbar": {
             "outlinewidth": 0,
             "ticks": ""
            },
            "type": "contourcarpet"
           }
          ],
          "heatmap": [
           {
            "colorbar": {
             "outlinewidth": 0,
             "ticks": ""
            },
            "colorscale": [
             [
              0,
              "#0d0887"
             ],
             [
              0.1111111111111111,
              "#46039f"
             ],
             [
              0.2222222222222222,
              "#7201a8"
             ],
             [
              0.3333333333333333,
              "#9c179e"
             ],
             [
              0.4444444444444444,
              "#bd3786"
             ],
             [
              0.5555555555555556,
              "#d8576b"
             ],
             [
              0.6666666666666666,
              "#ed7953"
             ],
             [
              0.7777777777777778,
              "#fb9f3a"
             ],
             [
              0.8888888888888888,
              "#fdca26"
             ],
             [
              1,
              "#f0f921"
             ]
            ],
            "type": "heatmap"
           }
          ],
          "heatmapgl": [
           {
            "colorbar": {
             "outlinewidth": 0,
             "ticks": ""
            },
            "colorscale": [
             [
              0,
              "#0d0887"
             ],
             [
              0.1111111111111111,
              "#46039f"
             ],
             [
              0.2222222222222222,
              "#7201a8"
             ],
             [
              0.3333333333333333,
              "#9c179e"
             ],
             [
              0.4444444444444444,
              "#bd3786"
             ],
             [
              0.5555555555555556,
              "#d8576b"
             ],
             [
              0.6666666666666666,
              "#ed7953"
             ],
             [
              0.7777777777777778,
              "#fb9f3a"
             ],
             [
              0.8888888888888888,
              "#fdca26"
             ],
             [
              1,
              "#f0f921"
             ]
            ],
            "type": "heatmapgl"
           }
          ],
          "histogram": [
           {
            "marker": {
             "colorbar": {
              "outlinewidth": 0,
              "ticks": ""
             }
            },
            "type": "histogram"
           }
          ],
          "histogram2d": [
           {
            "colorbar": {
             "outlinewidth": 0,
             "ticks": ""
            },
            "colorscale": [
             [
              0,
              "#0d0887"
             ],
             [
              0.1111111111111111,
              "#46039f"
             ],
             [
              0.2222222222222222,
              "#7201a8"
             ],
             [
              0.3333333333333333,
              "#9c179e"
             ],
             [
              0.4444444444444444,
              "#bd3786"
             ],
             [
              0.5555555555555556,
              "#d8576b"
             ],
             [
              0.6666666666666666,
              "#ed7953"
             ],
             [
              0.7777777777777778,
              "#fb9f3a"
             ],
             [
              0.8888888888888888,
              "#fdca26"
             ],
             [
              1,
              "#f0f921"
             ]
            ],
            "type": "histogram2d"
           }
          ],
          "histogram2dcontour": [
           {
            "colorbar": {
             "outlinewidth": 0,
             "ticks": ""
            },
            "colorscale": [
             [
              0,
              "#0d0887"
             ],
             [
              0.1111111111111111,
              "#46039f"
             ],
             [
              0.2222222222222222,
              "#7201a8"
             ],
             [
              0.3333333333333333,
              "#9c179e"
             ],
             [
              0.4444444444444444,
              "#bd3786"
             ],
             [
              0.5555555555555556,
              "#d8576b"
             ],
             [
              0.6666666666666666,
              "#ed7953"
             ],
             [
              0.7777777777777778,
              "#fb9f3a"
             ],
             [
              0.8888888888888888,
              "#fdca26"
             ],
             [
              1,
              "#f0f921"
             ]
            ],
            "type": "histogram2dcontour"
           }
          ],
          "mesh3d": [
           {
            "colorbar": {
             "outlinewidth": 0,
             "ticks": ""
            },
            "type": "mesh3d"
           }
          ],
          "parcoords": [
           {
            "line": {
             "colorbar": {
              "outlinewidth": 0,
              "ticks": ""
             }
            },
            "type": "parcoords"
           }
          ],
          "pie": [
           {
            "automargin": true,
            "type": "pie"
           }
          ],
          "scatter": [
           {
            "marker": {
             "colorbar": {
              "outlinewidth": 0,
              "ticks": ""
             }
            },
            "type": "scatter"
           }
          ],
          "scatter3d": [
           {
            "line": {
             "colorbar": {
              "outlinewidth": 0,
              "ticks": ""
             }
            },
            "marker": {
             "colorbar": {
              "outlinewidth": 0,
              "ticks": ""
             }
            },
            "type": "scatter3d"
           }
          ],
          "scattercarpet": [
           {
            "marker": {
             "colorbar": {
              "outlinewidth": 0,
              "ticks": ""
             }
            },
            "type": "scattercarpet"
           }
          ],
          "scattergeo": [
           {
            "marker": {
             "colorbar": {
              "outlinewidth": 0,
              "ticks": ""
             }
            },
            "type": "scattergeo"
           }
          ],
          "scattergl": [
           {
            "marker": {
             "colorbar": {
              "outlinewidth": 0,
              "ticks": ""
             }
            },
            "type": "scattergl"
           }
          ],
          "scattermapbox": [
           {
            "marker": {
             "colorbar": {
              "outlinewidth": 0,
              "ticks": ""
             }
            },
            "type": "scattermapbox"
           }
          ],
          "scatterpolar": [
           {
            "marker": {
             "colorbar": {
              "outlinewidth": 0,
              "ticks": ""
             }
            },
            "type": "scatterpolar"
           }
          ],
          "scatterpolargl": [
           {
            "marker": {
             "colorbar": {
              "outlinewidth": 0,
              "ticks": ""
             }
            },
            "type": "scatterpolargl"
           }
          ],
          "scatterternary": [
           {
            "marker": {
             "colorbar": {
              "outlinewidth": 0,
              "ticks": ""
             }
            },
            "type": "scatterternary"
           }
          ],
          "surface": [
           {
            "colorbar": {
             "outlinewidth": 0,
             "ticks": ""
            },
            "colorscale": [
             [
              0,
              "#0d0887"
             ],
             [
              0.1111111111111111,
              "#46039f"
             ],
             [
              0.2222222222222222,
              "#7201a8"
             ],
             [
              0.3333333333333333,
              "#9c179e"
             ],
             [
              0.4444444444444444,
              "#bd3786"
             ],
             [
              0.5555555555555556,
              "#d8576b"
             ],
             [
              0.6666666666666666,
              "#ed7953"
             ],
             [
              0.7777777777777778,
              "#fb9f3a"
             ],
             [
              0.8888888888888888,
              "#fdca26"
             ],
             [
              1,
              "#f0f921"
             ]
            ],
            "type": "surface"
           }
          ],
          "table": [
           {
            "cells": {
             "fill": {
              "color": "#EBF0F8"
             },
             "line": {
              "color": "white"
             }
            },
            "header": {
             "fill": {
              "color": "#C8D4E3"
             },
             "line": {
              "color": "white"
             }
            },
            "type": "table"
           }
          ]
         },
         "layout": {
          "annotationdefaults": {
           "arrowcolor": "#2a3f5f",
           "arrowhead": 0,
           "arrowwidth": 1
          },
          "autotypenumbers": "strict",
          "coloraxis": {
           "colorbar": {
            "outlinewidth": 0,
            "ticks": ""
           }
          },
          "colorscale": {
           "diverging": [
            [
             0,
             "#8e0152"
            ],
            [
             0.1,
             "#c51b7d"
            ],
            [
             0.2,
             "#de77ae"
            ],
            [
             0.3,
             "#f1b6da"
            ],
            [
             0.4,
             "#fde0ef"
            ],
            [
             0.5,
             "#f7f7f7"
            ],
            [
             0.6,
             "#e6f5d0"
            ],
            [
             0.7,
             "#b8e186"
            ],
            [
             0.8,
             "#7fbc41"
            ],
            [
             0.9,
             "#4d9221"
            ],
            [
             1,
             "#276419"
            ]
           ],
           "sequential": [
            [
             0,
             "#0d0887"
            ],
            [
             0.1111111111111111,
             "#46039f"
            ],
            [
             0.2222222222222222,
             "#7201a8"
            ],
            [
             0.3333333333333333,
             "#9c179e"
            ],
            [
             0.4444444444444444,
             "#bd3786"
            ],
            [
             0.5555555555555556,
             "#d8576b"
            ],
            [
             0.6666666666666666,
             "#ed7953"
            ],
            [
             0.7777777777777778,
             "#fb9f3a"
            ],
            [
             0.8888888888888888,
             "#fdca26"
            ],
            [
             1,
             "#f0f921"
            ]
           ],
           "sequentialminus": [
            [
             0,
             "#0d0887"
            ],
            [
             0.1111111111111111,
             "#46039f"
            ],
            [
             0.2222222222222222,
             "#7201a8"
            ],
            [
             0.3333333333333333,
             "#9c179e"
            ],
            [
             0.4444444444444444,
             "#bd3786"
            ],
            [
             0.5555555555555556,
             "#d8576b"
            ],
            [
             0.6666666666666666,
             "#ed7953"
            ],
            [
             0.7777777777777778,
             "#fb9f3a"
            ],
            [
             0.8888888888888888,
             "#fdca26"
            ],
            [
             1,
             "#f0f921"
            ]
           ]
          },
          "colorway": [
           "#636efa",
           "#EF553B",
           "#00cc96",
           "#ab63fa",
           "#FFA15A",
           "#19d3f3",
           "#FF6692",
           "#B6E880",
           "#FF97FF",
           "#FECB52"
          ],
          "font": {
           "color": "#2a3f5f"
          },
          "geo": {
           "bgcolor": "white",
           "lakecolor": "white",
           "landcolor": "#E5ECF6",
           "showlakes": true,
           "showland": true,
           "subunitcolor": "white"
          },
          "hoverlabel": {
           "align": "left"
          },
          "hovermode": "closest",
          "mapbox": {
           "style": "light"
          },
          "paper_bgcolor": "white",
          "plot_bgcolor": "#E5ECF6",
          "polar": {
           "angularaxis": {
            "gridcolor": "white",
            "linecolor": "white",
            "ticks": ""
           },
           "bgcolor": "#E5ECF6",
           "radialaxis": {
            "gridcolor": "white",
            "linecolor": "white",
            "ticks": ""
           }
          },
          "scene": {
           "xaxis": {
            "backgroundcolor": "#E5ECF6",
            "gridcolor": "white",
            "gridwidth": 2,
            "linecolor": "white",
            "showbackground": true,
            "ticks": "",
            "zerolinecolor": "white"
           },
           "yaxis": {
            "backgroundcolor": "#E5ECF6",
            "gridcolor": "white",
            "gridwidth": 2,
            "linecolor": "white",
            "showbackground": true,
            "ticks": "",
            "zerolinecolor": "white"
           },
           "zaxis": {
            "backgroundcolor": "#E5ECF6",
            "gridcolor": "white",
            "gridwidth": 2,
            "linecolor": "white",
            "showbackground": true,
            "ticks": "",
            "zerolinecolor": "white"
           }
          },
          "shapedefaults": {
           "line": {
            "color": "#2a3f5f"
           }
          },
          "ternary": {
           "aaxis": {
            "gridcolor": "white",
            "linecolor": "white",
            "ticks": ""
           },
           "baxis": {
            "gridcolor": "white",
            "linecolor": "white",
            "ticks": ""
           },
           "bgcolor": "#E5ECF6",
           "caxis": {
            "gridcolor": "white",
            "linecolor": "white",
            "ticks": ""
           }
          },
          "title": {
           "x": 0.05
          },
          "xaxis": {
           "automargin": true,
           "gridcolor": "white",
           "linecolor": "white",
           "ticks": "",
           "title": {
            "standoff": 15
           },
           "zerolinecolor": "white",
           "zerolinewidth": 2
          },
          "yaxis": {
           "automargin": true,
           "gridcolor": "white",
           "linecolor": "white",
           "ticks": "",
           "title": {
            "standoff": 15
           },
           "zerolinecolor": "white",
           "zerolinewidth": 2
          }
         }
        },
        "title": {
         "text": "<b> by County</b>"
        },
        "xaxis": {
         "anchor": "y",
         "domain": [
          0,
          1
         ],
         "range": [
          1,
          1600
         ],
         "title": {
          "text": "Total Deaths"
         }
        },
        "yaxis": {
         "anchor": "x",
         "categoryarray": [
          "Unknown/Missing",
          "Yellow Medicine",
          "Wright",
          "Winona",
          "Wilkin",
          "Watonwan",
          "Washington",
          "Waseca",
          "Wadena",
          "Wabasha",
          "Traverse",
          "Todd",
          "Swift",
          "Stevens",
          "Steele",
          "Stearns",
          "St. Louis",
          "Sibley",
          "Sherburne",
          "Scott",
          "Roseau",
          "Rock",
          "Rice",
          "Renville",
          "Redwood",
          "Red Lake",
          "Ramsey",
          "Pope",
          "Polk",
          "Pipestone",
          "Pine",
          "Pennington",
          "Otter Tail",
          "Olmsted",
          "Norman",
          "Nobles",
          "Nicollet",
          "Murray",
          "Mower",
          "Morrison",
          "Mille Lacs",
          "Meeker",
          "McLeod",
          "Martin",
          "Marshall",
          "Mahnomen",
          "Lyon",
          "Lincoln",
          "Le Sueur",
          "Lake of the Woods",
          "Lake",
          "Lac qui Parle",
          "Koochiching",
          "Kittson",
          "Kandiyohi",
          "Kanabec",
          "Jackson",
          "Itasca",
          "Isanti",
          "Hubbard",
          "Houston",
          "Hennepin",
          "Grant",
          "Goodhue",
          "Freeborn",
          "Fillmore",
          "Faribault",
          "Douglas",
          "Dodge",
          "Dakota",
          "Crow Wing",
          "Cottonwood",
          "Cook",
          "Clearwater",
          "Clay",
          "Chisago",
          "Chippewa",
          "Cass",
          "Carver",
          "Carlton",
          "Brown",
          "Blue Earth",
          "Big Stone",
          "Benton",
          "Beltrami",
          "Becker",
          "Anoka",
          "Aitkin"
         ],
         "categoryorder": "array",
         "domain": [
          0,
          1
         ],
         "title": {
          "text": "County"
         }
        }
       }
      },
      "text/html": [
       "<div>                            <div id=\"9822b852-be04-479b-9b50-7a8ce23b00a6\" class=\"plotly-graph-div\" style=\"height:525px; width:100%;\"></div>            <script type=\"text/javascript\">                require([\"plotly\"], function(Plotly) {                    window.PLOTLYENV=window.PLOTLYENV || {};                                    if (document.getElementById(\"9822b852-be04-479b-9b50-7a8ce23b00a6\")) {                    Plotly.newPlot(                        \"9822b852-be04-479b-9b50-7a8ce23b00a6\",                        [{\"alignmentgroup\": \"True\", \"hovertemplate\": \"County=%{y}<br>Total Deaths=%{x}<extra></extra>\", \"legendgroup\": \"Aitkin\", \"marker\": {\"color\": \"#636efa\"}, \"name\": \"Aitkin\", \"offsetgroup\": \"Aitkin\", \"orientation\": \"h\", \"showlegend\": true, \"textposition\": \"auto\", \"type\": \"bar\", \"x\": [33], \"xaxis\": \"x\", \"y\": [\"Aitkin\"], \"yaxis\": \"y\"}, {\"alignmentgroup\": \"True\", \"hovertemplate\": \"County=%{y}<br>Total Deaths=%{x}<extra></extra>\", \"legendgroup\": \"Anoka\", \"marker\": {\"color\": \"#EF553B\"}, \"name\": \"Anoka\", \"offsetgroup\": \"Anoka\", \"orientation\": \"h\", \"showlegend\": true, \"textposition\": \"auto\", \"type\": \"bar\", \"x\": [390], \"xaxis\": \"x\", \"y\": [\"Anoka\"], \"yaxis\": \"y\"}, {\"alignmentgroup\": \"True\", \"hovertemplate\": \"County=%{y}<br>Total Deaths=%{x}<extra></extra>\", \"legendgroup\": \"Becker\", \"marker\": {\"color\": \"#00cc96\"}, \"name\": \"Becker\", \"offsetgroup\": \"Becker\", \"orientation\": \"h\", \"showlegend\": true, \"textposition\": \"auto\", \"type\": \"bar\", \"x\": [42], \"xaxis\": \"x\", \"y\": [\"Becker\"], \"yaxis\": \"y\"}, {\"alignmentgroup\": \"True\", \"hovertemplate\": \"County=%{y}<br>Total Deaths=%{x}<extra></extra>\", \"legendgroup\": \"Beltrami\", \"marker\": {\"color\": \"#ab63fa\"}, \"name\": \"Beltrami\", \"offsetgroup\": \"Beltrami\", \"orientation\": \"h\", \"showlegend\": true, \"textposition\": \"auto\", \"type\": \"bar\", \"x\": [51], \"xaxis\": \"x\", \"y\": [\"Beltrami\"], \"yaxis\": \"y\"}, {\"alignmentgroup\": \"True\", \"hovertemplate\": \"County=%{y}<br>Total Deaths=%{x}<extra></extra>\", \"legendgroup\": \"Benton\", \"marker\": {\"color\": \"#FFA15A\"}, \"name\": \"Benton\", \"offsetgroup\": \"Benton\", \"orientation\": \"h\", \"showlegend\": true, \"textposition\": \"auto\", \"type\": \"bar\", \"x\": [90], \"xaxis\": \"x\", \"y\": [\"Benton\"], \"yaxis\": \"y\"}, {\"alignmentgroup\": \"True\", \"hovertemplate\": \"County=%{y}<br>Total Deaths=%{x}<extra></extra>\", \"legendgroup\": \"Big Stone\", \"marker\": {\"color\": \"#19d3f3\"}, \"name\": \"Big Stone\", \"offsetgroup\": \"Big Stone\", \"orientation\": \"h\", \"showlegend\": true, \"textposition\": \"auto\", \"type\": \"bar\", \"x\": [3], \"xaxis\": \"x\", \"y\": [\"Big Stone\"], \"yaxis\": \"y\"}, {\"alignmentgroup\": \"True\", \"hovertemplate\": \"County=%{y}<br>Total Deaths=%{x}<extra></extra>\", \"legendgroup\": \"Blue Earth\", \"marker\": {\"color\": \"#FF6692\"}, \"name\": \"Blue Earth\", \"offsetgroup\": \"Blue Earth\", \"orientation\": \"h\", \"showlegend\": true, \"textposition\": \"auto\", \"type\": \"bar\", \"x\": [35], \"xaxis\": \"x\", \"y\": [\"Blue Earth\"], \"yaxis\": \"y\"}, {\"alignmentgroup\": \"True\", \"hovertemplate\": \"County=%{y}<br>Total Deaths=%{x}<extra></extra>\", \"legendgroup\": \"Brown\", \"marker\": {\"color\": \"#B6E880\"}, \"name\": \"Brown\", \"offsetgroup\": \"Brown\", \"orientation\": \"h\", \"showlegend\": true, \"textposition\": \"auto\", \"type\": \"bar\", \"x\": [37], \"xaxis\": \"x\", \"y\": [\"Brown\"], \"yaxis\": \"y\"}, {\"alignmentgroup\": \"True\", \"hovertemplate\": \"County=%{y}<br>Total Deaths=%{x}<extra></extra>\", \"legendgroup\": \"Carlton\", \"marker\": {\"color\": \"#FF97FF\"}, \"name\": \"Carlton\", \"offsetgroup\": \"Carlton\", \"orientation\": \"h\", \"showlegend\": true, \"textposition\": \"auto\", \"type\": \"bar\", \"x\": [49], \"xaxis\": \"x\", \"y\": [\"Carlton\"], \"yaxis\": \"y\"}, {\"alignmentgroup\": \"True\", \"hovertemplate\": \"County=%{y}<br>Total Deaths=%{x}<extra></extra>\", \"legendgroup\": \"Carver\", \"marker\": {\"color\": \"#FECB52\"}, \"name\": \"Carver\", \"offsetgroup\": \"Carver\", \"orientation\": \"h\", \"showlegend\": true, \"textposition\": \"auto\", \"type\": \"bar\", \"x\": [40], \"xaxis\": \"x\", \"y\": [\"Carver\"], \"yaxis\": \"y\"}, {\"alignmentgroup\": \"True\", \"hovertemplate\": \"County=%{y}<br>Total Deaths=%{x}<extra></extra>\", \"legendgroup\": \"Cass\", \"marker\": {\"color\": \"#636efa\"}, \"name\": \"Cass\", \"offsetgroup\": \"Cass\", \"orientation\": \"h\", \"showlegend\": true, \"textposition\": \"auto\", \"type\": \"bar\", \"x\": [24], \"xaxis\": \"x\", \"y\": [\"Cass\"], \"yaxis\": \"y\"}, {\"alignmentgroup\": \"True\", \"hovertemplate\": \"County=%{y}<br>Total Deaths=%{x}<extra></extra>\", \"legendgroup\": \"Chippewa\", \"marker\": {\"color\": \"#EF553B\"}, \"name\": \"Chippewa\", \"offsetgroup\": \"Chippewa\", \"orientation\": \"h\", \"showlegend\": true, \"textposition\": \"auto\", \"type\": \"bar\", \"x\": [35], \"xaxis\": \"x\", \"y\": [\"Chippewa\"], \"yaxis\": \"y\"}, {\"alignmentgroup\": \"True\", \"hovertemplate\": \"County=%{y}<br>Total Deaths=%{x}<extra></extra>\", \"legendgroup\": \"Chisago\", \"marker\": {\"color\": \"#00cc96\"}, \"name\": \"Chisago\", \"offsetgroup\": \"Chisago\", \"orientation\": \"h\", \"showlegend\": true, \"textposition\": \"auto\", \"type\": \"bar\", \"x\": [45], \"xaxis\": \"x\", \"y\": [\"Chisago\"], \"yaxis\": \"y\"}, {\"alignmentgroup\": \"True\", \"hovertemplate\": \"County=%{y}<br>Total Deaths=%{x}<extra></extra>\", \"legendgroup\": \"Clay\", \"marker\": {\"color\": \"#ab63fa\"}, \"name\": \"Clay\", \"offsetgroup\": \"Clay\", \"orientation\": \"h\", \"showlegend\": true, \"textposition\": \"auto\", \"type\": \"bar\", \"x\": [87], \"xaxis\": \"x\", \"y\": [\"Clay\"], \"yaxis\": \"y\"}, {\"alignmentgroup\": \"True\", \"hovertemplate\": \"County=%{y}<br>Total Deaths=%{x}<extra></extra>\", \"legendgroup\": \"Clearwater\", \"marker\": {\"color\": \"#FFA15A\"}, \"name\": \"Clearwater\", \"offsetgroup\": \"Clearwater\", \"orientation\": \"h\", \"showlegend\": true, \"textposition\": \"auto\", \"type\": \"bar\", \"x\": [14], \"xaxis\": \"x\", \"y\": [\"Clearwater\"], \"yaxis\": \"y\"}, {\"alignmentgroup\": \"True\", \"hovertemplate\": \"County=%{y}<br>Total Deaths=%{x}<extra></extra>\", \"legendgroup\": \"Cook\", \"marker\": {\"color\": \"#19d3f3\"}, \"name\": \"Cook\", \"offsetgroup\": \"Cook\", \"orientation\": \"h\", \"showlegend\": true, \"textposition\": \"auto\", \"type\": \"bar\", \"x\": [0], \"xaxis\": \"x\", \"y\": [\"Cook\"], \"yaxis\": \"y\"}, {\"alignmentgroup\": \"True\", \"hovertemplate\": \"County=%{y}<br>Total Deaths=%{x}<extra></extra>\", \"legendgroup\": \"Cottonwood\", \"marker\": {\"color\": \"#FF6692\"}, \"name\": \"Cottonwood\", \"offsetgroup\": \"Cottonwood\", \"orientation\": \"h\", \"showlegend\": true, \"textposition\": \"auto\", \"type\": \"bar\", \"x\": [20], \"xaxis\": \"x\", \"y\": [\"Cottonwood\"], \"yaxis\": \"y\"}, {\"alignmentgroup\": \"True\", \"hovertemplate\": \"County=%{y}<br>Total Deaths=%{x}<extra></extra>\", \"legendgroup\": \"Crow Wing\", \"marker\": {\"color\": \"#B6E880\"}, \"name\": \"Crow Wing\", \"offsetgroup\": \"Crow Wing\", \"orientation\": \"h\", \"showlegend\": true, \"textposition\": \"auto\", \"type\": \"bar\", \"x\": [82], \"xaxis\": \"x\", \"y\": [\"Crow Wing\"], \"yaxis\": \"y\"}, {\"alignmentgroup\": \"True\", \"hovertemplate\": \"County=%{y}<br>Total Deaths=%{x}<extra></extra>\", \"legendgroup\": \"Dakota\", \"marker\": {\"color\": \"#FF97FF\"}, \"name\": \"Dakota\", \"offsetgroup\": \"Dakota\", \"orientation\": \"h\", \"showlegend\": true, \"textposition\": \"auto\", \"type\": \"bar\", \"x\": [392], \"xaxis\": \"x\", \"y\": [\"Dakota\"], \"yaxis\": \"y\"}, {\"alignmentgroup\": \"True\", \"hovertemplate\": \"County=%{y}<br>Total Deaths=%{x}<extra></extra>\", \"legendgroup\": \"Dodge\", \"marker\": {\"color\": \"#FECB52\"}, \"name\": \"Dodge\", \"offsetgroup\": \"Dodge\", \"orientation\": \"h\", \"showlegend\": true, \"textposition\": \"auto\", \"type\": \"bar\", \"x\": [4], \"xaxis\": \"x\", \"y\": [\"Dodge\"], \"yaxis\": \"y\"}, {\"alignmentgroup\": \"True\", \"hovertemplate\": \"County=%{y}<br>Total Deaths=%{x}<extra></extra>\", \"legendgroup\": \"Douglas\", \"marker\": {\"color\": \"#636efa\"}, \"name\": \"Douglas\", \"offsetgroup\": \"Douglas\", \"orientation\": \"h\", \"showlegend\": true, \"textposition\": \"auto\", \"type\": \"bar\", \"x\": [68], \"xaxis\": \"x\", \"y\": [\"Douglas\"], \"yaxis\": \"y\"}, {\"alignmentgroup\": \"True\", \"hovertemplate\": \"County=%{y}<br>Total Deaths=%{x}<extra></extra>\", \"legendgroup\": \"Faribault\", \"marker\": {\"color\": \"#EF553B\"}, \"name\": \"Faribault\", \"offsetgroup\": \"Faribault\", \"orientation\": \"h\", \"showlegend\": true, \"textposition\": \"auto\", \"type\": \"bar\", \"x\": [17], \"xaxis\": \"x\", \"y\": [\"Faribault\"], \"yaxis\": \"y\"}, {\"alignmentgroup\": \"True\", \"hovertemplate\": \"County=%{y}<br>Total Deaths=%{x}<extra></extra>\", \"legendgroup\": \"Fillmore\", \"marker\": {\"color\": \"#00cc96\"}, \"name\": \"Fillmore\", \"offsetgroup\": \"Fillmore\", \"orientation\": \"h\", \"showlegend\": true, \"textposition\": \"auto\", \"type\": \"bar\", \"x\": [8], \"xaxis\": \"x\", \"y\": [\"Fillmore\"], \"yaxis\": \"y\"}, {\"alignmentgroup\": \"True\", \"hovertemplate\": \"County=%{y}<br>Total Deaths=%{x}<extra></extra>\", \"legendgroup\": \"Freeborn\", \"marker\": {\"color\": \"#ab63fa\"}, \"name\": \"Freeborn\", \"offsetgroup\": \"Freeborn\", \"orientation\": \"h\", \"showlegend\": true, \"textposition\": \"auto\", \"type\": \"bar\", \"x\": [24], \"xaxis\": \"x\", \"y\": [\"Freeborn\"], \"yaxis\": \"y\"}, {\"alignmentgroup\": \"True\", \"hovertemplate\": \"County=%{y}<br>Total Deaths=%{x}<extra></extra>\", \"legendgroup\": \"Goodhue\", \"marker\": {\"color\": \"#FFA15A\"}, \"name\": \"Goodhue\", \"offsetgroup\": \"Goodhue\", \"orientation\": \"h\", \"showlegend\": true, \"textposition\": \"auto\", \"type\": \"bar\", \"x\": [69], \"xaxis\": \"x\", \"y\": [\"Goodhue\"], \"yaxis\": \"y\"}, {\"alignmentgroup\": \"True\", \"hovertemplate\": \"County=%{y}<br>Total Deaths=%{x}<extra></extra>\", \"legendgroup\": \"Grant\", \"marker\": {\"color\": \"#19d3f3\"}, \"name\": \"Grant\", \"offsetgroup\": \"Grant\", \"orientation\": \"h\", \"showlegend\": true, \"textposition\": \"auto\", \"type\": \"bar\", \"x\": [8], \"xaxis\": \"x\", \"y\": [\"Grant\"], \"yaxis\": \"y\"}, {\"alignmentgroup\": \"True\", \"hovertemplate\": \"County=%{y}<br>Total Deaths=%{x}<extra></extra>\", \"legendgroup\": \"Hennepin\", \"marker\": {\"color\": \"#FF6692\"}, \"name\": \"Hennepin\", \"offsetgroup\": \"Hennepin\", \"orientation\": \"h\", \"showlegend\": true, \"textposition\": \"auto\", \"type\": \"bar\", \"x\": [1588], \"xaxis\": \"x\", \"y\": [\"Hennepin\"], \"yaxis\": \"y\"}, {\"alignmentgroup\": \"True\", \"hovertemplate\": \"County=%{y}<br>Total Deaths=%{x}<extra></extra>\", \"legendgroup\": \"Houston\", \"marker\": {\"color\": \"#B6E880\"}, \"name\": \"Houston\", \"offsetgroup\": \"Houston\", \"orientation\": \"h\", \"showlegend\": true, \"textposition\": \"auto\", \"type\": \"bar\", \"x\": [14], \"xaxis\": \"x\", \"y\": [\"Houston\"], \"yaxis\": \"y\"}, {\"alignmentgroup\": \"True\", \"hovertemplate\": \"County=%{y}<br>Total Deaths=%{x}<extra></extra>\", \"legendgroup\": \"Hubbard\", \"marker\": {\"color\": \"#FF97FF\"}, \"name\": \"Hubbard\", \"offsetgroup\": \"Hubbard\", \"orientation\": \"h\", \"showlegend\": true, \"textposition\": \"auto\", \"type\": \"bar\", \"x\": [41], \"xaxis\": \"x\", \"y\": [\"Hubbard\"], \"yaxis\": \"y\"}, {\"alignmentgroup\": \"True\", \"hovertemplate\": \"County=%{y}<br>Total Deaths=%{x}<extra></extra>\", \"legendgroup\": \"Isanti\", \"marker\": {\"color\": \"#FECB52\"}, \"name\": \"Isanti\", \"offsetgroup\": \"Isanti\", \"orientation\": \"h\", \"showlegend\": true, \"textposition\": \"auto\", \"type\": \"bar\", \"x\": [56], \"xaxis\": \"x\", \"y\": [\"Isanti\"], \"yaxis\": \"y\"}, {\"alignmentgroup\": \"True\", \"hovertemplate\": \"County=%{y}<br>Total Deaths=%{x}<extra></extra>\", \"legendgroup\": \"Itasca\", \"marker\": {\"color\": \"#636efa\"}, \"name\": \"Itasca\", \"offsetgroup\": \"Itasca\", \"orientation\": \"h\", \"showlegend\": true, \"textposition\": \"auto\", \"type\": \"bar\", \"x\": [46], \"xaxis\": \"x\", \"y\": [\"Itasca\"], \"yaxis\": \"y\"}, {\"alignmentgroup\": \"True\", \"hovertemplate\": \"County=%{y}<br>Total Deaths=%{x}<extra></extra>\", \"legendgroup\": \"Jackson\", \"marker\": {\"color\": \"#EF553B\"}, \"name\": \"Jackson\", \"offsetgroup\": \"Jackson\", \"orientation\": \"h\", \"showlegend\": true, \"textposition\": \"auto\", \"type\": \"bar\", \"x\": [10], \"xaxis\": \"x\", \"y\": [\"Jackson\"], \"yaxis\": \"y\"}, {\"alignmentgroup\": \"True\", \"hovertemplate\": \"County=%{y}<br>Total Deaths=%{x}<extra></extra>\", \"legendgroup\": \"Kanabec\", \"marker\": {\"color\": \"#00cc96\"}, \"name\": \"Kanabec\", \"offsetgroup\": \"Kanabec\", \"orientation\": \"h\", \"showlegend\": true, \"textposition\": \"auto\", \"type\": \"bar\", \"x\": [19], \"xaxis\": \"x\", \"y\": [\"Kanabec\"], \"yaxis\": \"y\"}, {\"alignmentgroup\": \"True\", \"hovertemplate\": \"County=%{y}<br>Total Deaths=%{x}<extra></extra>\", \"legendgroup\": \"Kandiyohi\", \"marker\": {\"color\": \"#ab63fa\"}, \"name\": \"Kandiyohi\", \"offsetgroup\": \"Kandiyohi\", \"orientation\": \"h\", \"showlegend\": true, \"textposition\": \"auto\", \"type\": \"bar\", \"x\": [74], \"xaxis\": \"x\", \"y\": [\"Kandiyohi\"], \"yaxis\": \"y\"}, {\"alignmentgroup\": \"True\", \"hovertemplate\": \"County=%{y}<br>Total Deaths=%{x}<extra></extra>\", \"legendgroup\": \"Kittson\", \"marker\": {\"color\": \"#FFA15A\"}, \"name\": \"Kittson\", \"offsetgroup\": \"Kittson\", \"orientation\": \"h\", \"showlegend\": true, \"textposition\": \"auto\", \"type\": \"bar\", \"x\": [21], \"xaxis\": \"x\", \"y\": [\"Kittson\"], \"yaxis\": \"y\"}, {\"alignmentgroup\": \"True\", \"hovertemplate\": \"County=%{y}<br>Total Deaths=%{x}<extra></extra>\", \"legendgroup\": \"Koochiching\", \"marker\": {\"color\": \"#19d3f3\"}, \"name\": \"Koochiching\", \"offsetgroup\": \"Koochiching\", \"orientation\": \"h\", \"showlegend\": true, \"textposition\": \"auto\", \"type\": \"bar\", \"x\": [11], \"xaxis\": \"x\", \"y\": [\"Koochiching\"], \"yaxis\": \"y\"}, {\"alignmentgroup\": \"True\", \"hovertemplate\": \"County=%{y}<br>Total Deaths=%{x}<extra></extra>\", \"legendgroup\": \"Lac qui Parle\", \"marker\": {\"color\": \"#FF6692\"}, \"name\": \"Lac qui Parle\", \"offsetgroup\": \"Lac qui Parle\", \"orientation\": \"h\", \"showlegend\": true, \"textposition\": \"auto\", \"type\": \"bar\", \"x\": [16], \"xaxis\": \"x\", \"y\": [\"Lac qui Parle\"], \"yaxis\": \"y\"}, {\"alignmentgroup\": \"True\", \"hovertemplate\": \"County=%{y}<br>Total Deaths=%{x}<extra></extra>\", \"legendgroup\": \"Lake\", \"marker\": {\"color\": \"#B6E880\"}, \"name\": \"Lake\", \"offsetgroup\": \"Lake\", \"orientation\": \"h\", \"showlegend\": true, \"textposition\": \"auto\", \"type\": \"bar\", \"x\": [18], \"xaxis\": \"x\", \"y\": [\"Lake\"], \"yaxis\": \"y\"}, {\"alignmentgroup\": \"True\", \"hovertemplate\": \"County=%{y}<br>Total Deaths=%{x}<extra></extra>\", \"legendgroup\": \"Lake of the Woods\", \"marker\": {\"color\": \"#FF97FF\"}, \"name\": \"Lake of the Woods\", \"offsetgroup\": \"Lake of the Woods\", \"orientation\": \"h\", \"showlegend\": true, \"textposition\": \"auto\", \"type\": \"bar\", \"x\": [1], \"xaxis\": \"x\", \"y\": [\"Lake of the Woods\"], \"yaxis\": \"y\"}, {\"alignmentgroup\": \"True\", \"hovertemplate\": \"County=%{y}<br>Total Deaths=%{x}<extra></extra>\", \"legendgroup\": \"Le Sueur\", \"marker\": {\"color\": \"#FECB52\"}, \"name\": \"Le Sueur\", \"offsetgroup\": \"Le Sueur\", \"orientation\": \"h\", \"showlegend\": true, \"textposition\": \"auto\", \"type\": \"bar\", \"x\": [20], \"xaxis\": \"x\", \"y\": [\"Le Sueur\"], \"yaxis\": \"y\"}, {\"alignmentgroup\": \"True\", \"hovertemplate\": \"County=%{y}<br>Total Deaths=%{x}<extra></extra>\", \"legendgroup\": \"Lincoln\", \"marker\": {\"color\": \"#636efa\"}, \"name\": \"Lincoln\", \"offsetgroup\": \"Lincoln\", \"orientation\": \"h\", \"showlegend\": true, \"textposition\": \"auto\", \"type\": \"bar\", \"x\": [2], \"xaxis\": \"x\", \"y\": [\"Lincoln\"], \"yaxis\": \"y\"}, {\"alignmentgroup\": \"True\", \"hovertemplate\": \"County=%{y}<br>Total Deaths=%{x}<extra></extra>\", \"legendgroup\": \"Lyon\", \"marker\": {\"color\": \"#EF553B\"}, \"name\": \"Lyon\", \"offsetgroup\": \"Lyon\", \"orientation\": \"h\", \"showlegend\": true, \"textposition\": \"auto\", \"type\": \"bar\", \"x\": [44], \"xaxis\": \"x\", \"y\": [\"Lyon\"], \"yaxis\": \"y\"}, {\"alignmentgroup\": \"True\", \"hovertemplate\": \"County=%{y}<br>Total Deaths=%{x}<extra></extra>\", \"legendgroup\": \"Mahnomen\", \"marker\": {\"color\": \"#00cc96\"}, \"name\": \"Mahnomen\", \"offsetgroup\": \"Mahnomen\", \"orientation\": \"h\", \"showlegend\": true, \"textposition\": \"auto\", \"type\": \"bar\", \"x\": [7], \"xaxis\": \"x\", \"y\": [\"Mahnomen\"], \"yaxis\": \"y\"}, {\"alignmentgroup\": \"True\", \"hovertemplate\": \"County=%{y}<br>Total Deaths=%{x}<extra></extra>\", \"legendgroup\": \"Marshall\", \"marker\": {\"color\": \"#ab63fa\"}, \"name\": \"Marshall\", \"offsetgroup\": \"Marshall\", \"orientation\": \"h\", \"showlegend\": true, \"textposition\": \"auto\", \"type\": \"bar\", \"x\": [15], \"xaxis\": \"x\", \"y\": [\"Marshall\"], \"yaxis\": \"y\"}, {\"alignmentgroup\": \"True\", \"hovertemplate\": \"County=%{y}<br>Total Deaths=%{x}<extra></extra>\", \"legendgroup\": \"Martin\", \"marker\": {\"color\": \"#FFA15A\"}, \"name\": \"Martin\", \"offsetgroup\": \"Martin\", \"orientation\": \"h\", \"showlegend\": true, \"textposition\": \"auto\", \"type\": \"bar\", \"x\": [28], \"xaxis\": \"x\", \"y\": [\"Martin\"], \"yaxis\": \"y\"}, {\"alignmentgroup\": \"True\", \"hovertemplate\": \"County=%{y}<br>Total Deaths=%{x}<extra></extra>\", \"legendgroup\": \"McLeod\", \"marker\": {\"color\": \"#19d3f3\"}, \"name\": \"McLeod\", \"offsetgroup\": \"McLeod\", \"orientation\": \"h\", \"showlegend\": true, \"textposition\": \"auto\", \"type\": \"bar\", \"x\": [50], \"xaxis\": \"x\", \"y\": [\"McLeod\"], \"yaxis\": \"y\"}, {\"alignmentgroup\": \"True\", \"hovertemplate\": \"County=%{y}<br>Total Deaths=%{x}<extra></extra>\", \"legendgroup\": \"Meeker\", \"marker\": {\"color\": \"#FF6692\"}, \"name\": \"Meeker\", \"offsetgroup\": \"Meeker\", \"orientation\": \"h\", \"showlegend\": true, \"textposition\": \"auto\", \"type\": \"bar\", \"x\": [34], \"xaxis\": \"x\", \"y\": [\"Meeker\"], \"yaxis\": \"y\"}, {\"alignmentgroup\": \"True\", \"hovertemplate\": \"County=%{y}<br>Total Deaths=%{x}<extra></extra>\", \"legendgroup\": \"Mille Lacs\", \"marker\": {\"color\": \"#B6E880\"}, \"name\": \"Mille Lacs\", \"offsetgroup\": \"Mille Lacs\", \"orientation\": \"h\", \"showlegend\": true, \"textposition\": \"auto\", \"type\": \"bar\", \"x\": [47], \"xaxis\": \"x\", \"y\": [\"Mille Lacs\"], \"yaxis\": \"y\"}, {\"alignmentgroup\": \"True\", \"hovertemplate\": \"County=%{y}<br>Total Deaths=%{x}<extra></extra>\", \"legendgroup\": \"Morrison\", \"marker\": {\"color\": \"#FF97FF\"}, \"name\": \"Morrison\", \"offsetgroup\": \"Morrison\", \"orientation\": \"h\", \"showlegend\": true, \"textposition\": \"auto\", \"type\": \"bar\", \"x\": [47], \"xaxis\": \"x\", \"y\": [\"Morrison\"], \"yaxis\": \"y\"}, {\"alignmentgroup\": \"True\", \"hovertemplate\": \"County=%{y}<br>Total Deaths=%{x}<extra></extra>\", \"legendgroup\": \"Mower\", \"marker\": {\"color\": \"#FECB52\"}, \"name\": \"Mower\", \"offsetgroup\": \"Mower\", \"orientation\": \"h\", \"showlegend\": true, \"textposition\": \"auto\", \"type\": \"bar\", \"x\": [31], \"xaxis\": \"x\", \"y\": [\"Mower\"], \"yaxis\": \"y\"}, {\"alignmentgroup\": \"True\", \"hovertemplate\": \"County=%{y}<br>Total Deaths=%{x}<extra></extra>\", \"legendgroup\": \"Murray\", \"marker\": {\"color\": \"#636efa\"}, \"name\": \"Murray\", \"offsetgroup\": \"Murray\", \"orientation\": \"h\", \"showlegend\": true, \"textposition\": \"auto\", \"type\": \"bar\", \"x\": [8], \"xaxis\": \"x\", \"y\": [\"Murray\"], \"yaxis\": \"y\"}, {\"alignmentgroup\": \"True\", \"hovertemplate\": \"County=%{y}<br>Total Deaths=%{x}<extra></extra>\", \"legendgroup\": \"Nicollet\", \"marker\": {\"color\": \"#EF553B\"}, \"name\": \"Nicollet\", \"offsetgroup\": \"Nicollet\", \"orientation\": \"h\", \"showlegend\": true, \"textposition\": \"auto\", \"type\": \"bar\", \"x\": [41], \"xaxis\": \"x\", \"y\": [\"Nicollet\"], \"yaxis\": \"y\"}, {\"alignmentgroup\": \"True\", \"hovertemplate\": \"County=%{y}<br>Total Deaths=%{x}<extra></extra>\", \"legendgroup\": \"Nobles\", \"marker\": {\"color\": \"#00cc96\"}, \"name\": \"Nobles\", \"offsetgroup\": \"Nobles\", \"orientation\": \"h\", \"showlegend\": true, \"textposition\": \"auto\", \"type\": \"bar\", \"x\": [47], \"xaxis\": \"x\", \"y\": [\"Nobles\"], \"yaxis\": \"y\"}, {\"alignmentgroup\": \"True\", \"hovertemplate\": \"County=%{y}<br>Total Deaths=%{x}<extra></extra>\", \"legendgroup\": \"Norman\", \"marker\": {\"color\": \"#ab63fa\"}, \"name\": \"Norman\", \"offsetgroup\": \"Norman\", \"orientation\": \"h\", \"showlegend\": true, \"textposition\": \"auto\", \"type\": \"bar\", \"x\": [8], \"xaxis\": \"x\", \"y\": [\"Norman\"], \"yaxis\": \"y\"}, {\"alignmentgroup\": \"True\", \"hovertemplate\": \"County=%{y}<br>Total Deaths=%{x}<extra></extra>\", \"legendgroup\": \"Olmsted\", \"marker\": {\"color\": \"#FFA15A\"}, \"name\": \"Olmsted\", \"offsetgroup\": \"Olmsted\", \"orientation\": \"h\", \"showlegend\": true, \"textposition\": \"auto\", \"type\": \"bar\", \"x\": [89], \"xaxis\": \"x\", \"y\": [\"Olmsted\"], \"yaxis\": \"y\"}, {\"alignmentgroup\": \"True\", \"hovertemplate\": \"County=%{y}<br>Total Deaths=%{x}<extra></extra>\", \"legendgroup\": \"Otter Tail\", \"marker\": {\"color\": \"#19d3f3\"}, \"name\": \"Otter Tail\", \"offsetgroup\": \"Otter Tail\", \"orientation\": \"h\", \"showlegend\": true, \"textposition\": \"auto\", \"type\": \"bar\", \"x\": [70], \"xaxis\": \"x\", \"y\": [\"Otter Tail\"], \"yaxis\": \"y\"}, {\"alignmentgroup\": \"True\", \"hovertemplate\": \"County=%{y}<br>Total Deaths=%{x}<extra></extra>\", \"legendgroup\": \"Pennington\", \"marker\": {\"color\": \"#FF6692\"}, \"name\": \"Pennington\", \"offsetgroup\": \"Pennington\", \"orientation\": \"h\", \"showlegend\": true, \"textposition\": \"auto\", \"type\": \"bar\", \"x\": [16], \"xaxis\": \"x\", \"y\": [\"Pennington\"], \"yaxis\": \"y\"}, {\"alignmentgroup\": \"True\", \"hovertemplate\": \"County=%{y}<br>Total Deaths=%{x}<extra></extra>\", \"legendgroup\": \"Pine\", \"marker\": {\"color\": \"#B6E880\"}, \"name\": \"Pine\", \"offsetgroup\": \"Pine\", \"orientation\": \"h\", \"showlegend\": true, \"textposition\": \"auto\", \"type\": \"bar\", \"x\": [16], \"xaxis\": \"x\", \"y\": [\"Pine\"], \"yaxis\": \"y\"}, {\"alignmentgroup\": \"True\", \"hovertemplate\": \"County=%{y}<br>Total Deaths=%{x}<extra></extra>\", \"legendgroup\": \"Pipestone\", \"marker\": {\"color\": \"#FF97FF\"}, \"name\": \"Pipestone\", \"offsetgroup\": \"Pipestone\", \"orientation\": \"h\", \"showlegend\": true, \"textposition\": \"auto\", \"type\": \"bar\", \"x\": [24], \"xaxis\": \"x\", \"y\": [\"Pipestone\"], \"yaxis\": \"y\"}, {\"alignmentgroup\": \"True\", \"hovertemplate\": \"County=%{y}<br>Total Deaths=%{x}<extra></extra>\", \"legendgroup\": \"Polk\", \"marker\": {\"color\": \"#FECB52\"}, \"name\": \"Polk\", \"offsetgroup\": \"Polk\", \"orientation\": \"h\", \"showlegend\": true, \"textposition\": \"auto\", \"type\": \"bar\", \"x\": [63], \"xaxis\": \"x\", \"y\": [\"Polk\"], \"yaxis\": \"y\"}, {\"alignmentgroup\": \"True\", \"hovertemplate\": \"County=%{y}<br>Total Deaths=%{x}<extra></extra>\", \"legendgroup\": \"Pope\", \"marker\": {\"color\": \"#636efa\"}, \"name\": \"Pope\", \"offsetgroup\": \"Pope\", \"orientation\": \"h\", \"showlegend\": true, \"textposition\": \"auto\", \"type\": \"bar\", \"x\": [5], \"xaxis\": \"x\", \"y\": [\"Pope\"], \"yaxis\": \"y\"}, {\"alignmentgroup\": \"True\", \"hovertemplate\": \"County=%{y}<br>Total Deaths=%{x}<extra></extra>\", \"legendgroup\": \"Ramsey\", \"marker\": {\"color\": \"#EF553B\"}, \"name\": \"Ramsey\", \"offsetgroup\": \"Ramsey\", \"orientation\": \"h\", \"showlegend\": true, \"textposition\": \"auto\", \"type\": \"bar\", \"x\": [805], \"xaxis\": \"x\", \"y\": [\"Ramsey\"], \"yaxis\": \"y\"}, {\"alignmentgroup\": \"True\", \"hovertemplate\": \"County=%{y}<br>Total Deaths=%{x}<extra></extra>\", \"legendgroup\": \"Red Lake\", \"marker\": {\"color\": \"#00cc96\"}, \"name\": \"Red Lake\", \"offsetgroup\": \"Red Lake\", \"orientation\": \"h\", \"showlegend\": true, \"textposition\": \"auto\", \"type\": \"bar\", \"x\": [5], \"xaxis\": \"x\", \"y\": [\"Red Lake\"], \"yaxis\": \"y\"}, {\"alignmentgroup\": \"True\", \"hovertemplate\": \"County=%{y}<br>Total Deaths=%{x}<extra></extra>\", \"legendgroup\": \"Redwood\", \"marker\": {\"color\": \"#ab63fa\"}, \"name\": \"Redwood\", \"offsetgroup\": \"Redwood\", \"orientation\": \"h\", \"showlegend\": true, \"textposition\": \"auto\", \"type\": \"bar\", \"x\": [27], \"xaxis\": \"x\", \"y\": [\"Redwood\"], \"yaxis\": \"y\"}, {\"alignmentgroup\": \"True\", \"hovertemplate\": \"County=%{y}<br>Total Deaths=%{x}<extra></extra>\", \"legendgroup\": \"Renville\", \"marker\": {\"color\": \"#FFA15A\"}, \"name\": \"Renville\", \"offsetgroup\": \"Renville\", \"orientation\": \"h\", \"showlegend\": true, \"textposition\": \"auto\", \"type\": \"bar\", \"x\": [40], \"xaxis\": \"x\", \"y\": [\"Renville\"], \"yaxis\": \"y\"}, {\"alignmentgroup\": \"True\", \"hovertemplate\": \"County=%{y}<br>Total Deaths=%{x}<extra></extra>\", \"legendgroup\": \"Rice\", \"marker\": {\"color\": \"#19d3f3\"}, \"name\": \"Rice\", \"offsetgroup\": \"Rice\", \"orientation\": \"h\", \"showlegend\": true, \"textposition\": \"auto\", \"type\": \"bar\", \"x\": [91], \"xaxis\": \"x\", \"y\": [\"Rice\"], \"yaxis\": \"y\"}, {\"alignmentgroup\": \"True\", \"hovertemplate\": \"County=%{y}<br>Total Deaths=%{x}<extra></extra>\", \"legendgroup\": \"Rock\", \"marker\": {\"color\": \"#FF6692\"}, \"name\": \"Rock\", \"offsetgroup\": \"Rock\", \"orientation\": \"h\", \"showlegend\": true, \"textposition\": \"auto\", \"type\": \"bar\", \"x\": [14], \"xaxis\": \"x\", \"y\": [\"Rock\"], \"yaxis\": \"y\"}, {\"alignmentgroup\": \"True\", \"hovertemplate\": \"County=%{y}<br>Total Deaths=%{x}<extra></extra>\", \"legendgroup\": \"Roseau\", \"marker\": {\"color\": \"#B6E880\"}, \"name\": \"Roseau\", \"offsetgroup\": \"Roseau\", \"orientation\": \"h\", \"showlegend\": true, \"textposition\": \"auto\", \"type\": \"bar\", \"x\": [17], \"xaxis\": \"x\", \"y\": [\"Roseau\"], \"yaxis\": \"y\"}, {\"alignmentgroup\": \"True\", \"hovertemplate\": \"County=%{y}<br>Total Deaths=%{x}<extra></extra>\", \"legendgroup\": \"Scott\", \"marker\": {\"color\": \"#FF97FF\"}, \"name\": \"Scott\", \"offsetgroup\": \"Scott\", \"orientation\": \"h\", \"showlegend\": true, \"textposition\": \"auto\", \"type\": \"bar\", \"x\": [107], \"xaxis\": \"x\", \"y\": [\"Scott\"], \"yaxis\": \"y\"}, {\"alignmentgroup\": \"True\", \"hovertemplate\": \"County=%{y}<br>Total Deaths=%{x}<extra></extra>\", \"legendgroup\": \"Sherburne\", \"marker\": {\"color\": \"#FECB52\"}, \"name\": \"Sherburne\", \"offsetgroup\": \"Sherburne\", \"orientation\": \"h\", \"showlegend\": true, \"textposition\": \"auto\", \"type\": \"bar\", \"x\": [73], \"xaxis\": \"x\", \"y\": [\"Sherburne\"], \"yaxis\": \"y\"}, {\"alignmentgroup\": \"True\", \"hovertemplate\": \"County=%{y}<br>Total Deaths=%{x}<extra></extra>\", \"legendgroup\": \"Sibley\", \"marker\": {\"color\": \"#636efa\"}, \"name\": \"Sibley\", \"offsetgroup\": \"Sibley\", \"orientation\": \"h\", \"showlegend\": true, \"textposition\": \"auto\", \"type\": \"bar\", \"x\": [10], \"xaxis\": \"x\", \"y\": [\"Sibley\"], \"yaxis\": \"y\"}, {\"alignmentgroup\": \"True\", \"hovertemplate\": \"County=%{y}<br>Total Deaths=%{x}<extra></extra>\", \"legendgroup\": \"St. Louis\", \"marker\": {\"color\": \"#EF553B\"}, \"name\": \"St. Louis\", \"offsetgroup\": \"St. Louis\", \"orientation\": \"h\", \"showlegend\": true, \"textposition\": \"auto\", \"type\": \"bar\", \"x\": [264], \"xaxis\": \"x\", \"y\": [\"St. Louis\"], \"yaxis\": \"y\"}, {\"alignmentgroup\": \"True\", \"hovertemplate\": \"County=%{y}<br>Total Deaths=%{x}<extra></extra>\", \"legendgroup\": \"Stearns\", \"marker\": {\"color\": \"#00cc96\"}, \"name\": \"Stearns\", \"offsetgroup\": \"Stearns\", \"orientation\": \"h\", \"showlegend\": true, \"textposition\": \"auto\", \"type\": \"bar\", \"x\": [202], \"xaxis\": \"x\", \"y\": [\"Stearns\"], \"yaxis\": \"y\"}, {\"alignmentgroup\": \"True\", \"hovertemplate\": \"County=%{y}<br>Total Deaths=%{x}<extra></extra>\", \"legendgroup\": \"Steele\", \"marker\": {\"color\": \"#ab63fa\"}, \"name\": \"Steele\", \"offsetgroup\": \"Steele\", \"orientation\": \"h\", \"showlegend\": true, \"textposition\": \"auto\", \"type\": \"bar\", \"x\": [11], \"xaxis\": \"x\", \"y\": [\"Steele\"], \"yaxis\": \"y\"}, {\"alignmentgroup\": \"True\", \"hovertemplate\": \"County=%{y}<br>Total Deaths=%{x}<extra></extra>\", \"legendgroup\": \"Stevens\", \"marker\": {\"color\": \"#FFA15A\"}, \"name\": \"Stevens\", \"offsetgroup\": \"Stevens\", \"orientation\": \"h\", \"showlegend\": true, \"textposition\": \"auto\", \"type\": \"bar\", \"x\": [8], \"xaxis\": \"x\", \"y\": [\"Stevens\"], \"yaxis\": \"y\"}, {\"alignmentgroup\": \"True\", \"hovertemplate\": \"County=%{y}<br>Total Deaths=%{x}<extra></extra>\", \"legendgroup\": \"Swift\", \"marker\": {\"color\": \"#19d3f3\"}, \"name\": \"Swift\", \"offsetgroup\": \"Swift\", \"orientation\": \"h\", \"showlegend\": true, \"textposition\": \"auto\", \"type\": \"bar\", \"x\": [18], \"xaxis\": \"x\", \"y\": [\"Swift\"], \"yaxis\": \"y\"}, {\"alignmentgroup\": \"True\", \"hovertemplate\": \"County=%{y}<br>Total Deaths=%{x}<extra></extra>\", \"legendgroup\": \"Todd\", \"marker\": {\"color\": \"#FF6692\"}, \"name\": \"Todd\", \"offsetgroup\": \"Todd\", \"orientation\": \"h\", \"showlegend\": true, \"textposition\": \"auto\", \"type\": \"bar\", \"x\": [30], \"xaxis\": \"x\", \"y\": [\"Todd\"], \"yaxis\": \"y\"}, {\"alignmentgroup\": \"True\", \"hovertemplate\": \"County=%{y}<br>Total Deaths=%{x}<extra></extra>\", \"legendgroup\": \"Traverse\", \"marker\": {\"color\": \"#B6E880\"}, \"name\": \"Traverse\", \"offsetgroup\": \"Traverse\", \"orientation\": \"h\", \"showlegend\": true, \"textposition\": \"auto\", \"type\": \"bar\", \"x\": [5], \"xaxis\": \"x\", \"y\": [\"Traverse\"], \"yaxis\": \"y\"}, {\"alignmentgroup\": \"True\", \"hovertemplate\": \"County=%{y}<br>Total Deaths=%{x}<extra></extra>\", \"legendgroup\": \"Wabasha\", \"marker\": {\"color\": \"#FF97FF\"}, \"name\": \"Wabasha\", \"offsetgroup\": \"Wabasha\", \"orientation\": \"h\", \"showlegend\": true, \"textposition\": \"auto\", \"type\": \"bar\", \"x\": [3], \"xaxis\": \"x\", \"y\": [\"Wabasha\"], \"yaxis\": \"y\"}, {\"alignmentgroup\": \"True\", \"hovertemplate\": \"County=%{y}<br>Total Deaths=%{x}<extra></extra>\", \"legendgroup\": \"Wadena\", \"marker\": {\"color\": \"#FECB52\"}, \"name\": \"Wadena\", \"offsetgroup\": \"Wadena\", \"orientation\": \"h\", \"showlegend\": true, \"textposition\": \"auto\", \"type\": \"bar\", \"x\": [20], \"xaxis\": \"x\", \"y\": [\"Wadena\"], \"yaxis\": \"y\"}, {\"alignmentgroup\": \"True\", \"hovertemplate\": \"County=%{y}<br>Total Deaths=%{x}<extra></extra>\", \"legendgroup\": \"Waseca\", \"marker\": {\"color\": \"#636efa\"}, \"name\": \"Waseca\", \"offsetgroup\": \"Waseca\", \"orientation\": \"h\", \"showlegend\": true, \"textposition\": \"auto\", \"type\": \"bar\", \"x\": [17], \"xaxis\": \"x\", \"y\": [\"Waseca\"], \"yaxis\": \"y\"}, {\"alignmentgroup\": \"True\", \"hovertemplate\": \"County=%{y}<br>Total Deaths=%{x}<extra></extra>\", \"legendgroup\": \"Washington\", \"marker\": {\"color\": \"#EF553B\"}, \"name\": \"Washington\", \"offsetgroup\": \"Washington\", \"orientation\": \"h\", \"showlegend\": true, \"textposition\": \"auto\", \"type\": \"bar\", \"x\": [259], \"xaxis\": \"x\", \"y\": [\"Washington\"], \"yaxis\": \"y\"}, {\"alignmentgroup\": \"True\", \"hovertemplate\": \"County=%{y}<br>Total Deaths=%{x}<extra></extra>\", \"legendgroup\": \"Watonwan\", \"marker\": {\"color\": \"#00cc96\"}, \"name\": \"Watonwan\", \"offsetgroup\": \"Watonwan\", \"orientation\": \"h\", \"showlegend\": true, \"textposition\": \"auto\", \"type\": \"bar\", \"x\": [8], \"xaxis\": \"x\", \"y\": [\"Watonwan\"], \"yaxis\": \"y\"}, {\"alignmentgroup\": \"True\", \"hovertemplate\": \"County=%{y}<br>Total Deaths=%{x}<extra></extra>\", \"legendgroup\": \"Wilkin\", \"marker\": {\"color\": \"#ab63fa\"}, \"name\": \"Wilkin\", \"offsetgroup\": \"Wilkin\", \"orientation\": \"h\", \"showlegend\": true, \"textposition\": \"auto\", \"type\": \"bar\", \"x\": [11], \"xaxis\": \"x\", \"y\": [\"Wilkin\"], \"yaxis\": \"y\"}, {\"alignmentgroup\": \"True\", \"hovertemplate\": \"County=%{y}<br>Total Deaths=%{x}<extra></extra>\", \"legendgroup\": \"Winona\", \"marker\": {\"color\": \"#FFA15A\"}, \"name\": \"Winona\", \"offsetgroup\": \"Winona\", \"orientation\": \"h\", \"showlegend\": true, \"textposition\": \"auto\", \"type\": \"bar\", \"x\": [49], \"xaxis\": \"x\", \"y\": [\"Winona\"], \"yaxis\": \"y\"}, {\"alignmentgroup\": \"True\", \"hovertemplate\": \"County=%{y}<br>Total Deaths=%{x}<extra></extra>\", \"legendgroup\": \"Wright\", \"marker\": {\"color\": \"#19d3f3\"}, \"name\": \"Wright\", \"offsetgroup\": \"Wright\", \"orientation\": \"h\", \"showlegend\": true, \"textposition\": \"auto\", \"type\": \"bar\", \"x\": [116], \"xaxis\": \"x\", \"y\": [\"Wright\"], \"yaxis\": \"y\"}, {\"alignmentgroup\": \"True\", \"hovertemplate\": \"County=%{y}<br>Total Deaths=%{x}<extra></extra>\", \"legendgroup\": \"Yellow Medicine\", \"marker\": {\"color\": \"#FF6692\"}, \"name\": \"Yellow Medicine\", \"offsetgroup\": \"Yellow Medicine\", \"orientation\": \"h\", \"showlegend\": true, \"textposition\": \"auto\", \"type\": \"bar\", \"x\": [17], \"xaxis\": \"x\", \"y\": [\"Yellow Medicine\"], \"yaxis\": \"y\"}, {\"alignmentgroup\": \"True\", \"hovertemplate\": \"County=%{y}<br>Total Deaths=%{x}<extra></extra>\", \"legendgroup\": \"Unknown/Missing\", \"marker\": {\"color\": \"#B6E880\"}, \"name\": \"Unknown/Missing\", \"offsetgroup\": \"Unknown/Missing\", \"orientation\": \"h\", \"showlegend\": true, \"textposition\": \"auto\", \"type\": \"bar\", \"x\": [0], \"xaxis\": \"x\", \"y\": [\"Unknown/Missing\"], \"yaxis\": \"y\"}],                        {\"barmode\": \"relative\", \"legend\": {\"title\": {\"text\": \"County\"}, \"tracegroupgap\": 0}, \"template\": {\"data\": {\"bar\": [{\"error_x\": {\"color\": \"#2a3f5f\"}, \"error_y\": {\"color\": \"#2a3f5f\"}, \"marker\": {\"line\": {\"color\": \"#E5ECF6\", \"width\": 0.5}}, \"type\": \"bar\"}], \"barpolar\": [{\"marker\": {\"line\": {\"color\": \"#E5ECF6\", \"width\": 0.5}}, \"type\": \"barpolar\"}], \"carpet\": [{\"aaxis\": {\"endlinecolor\": \"#2a3f5f\", \"gridcolor\": \"white\", \"linecolor\": \"white\", \"minorgridcolor\": \"white\", \"startlinecolor\": \"#2a3f5f\"}, \"baxis\": {\"endlinecolor\": \"#2a3f5f\", \"gridcolor\": \"white\", \"linecolor\": \"white\", \"minorgridcolor\": \"white\", \"startlinecolor\": \"#2a3f5f\"}, \"type\": \"carpet\"}], \"choropleth\": [{\"colorbar\": {\"outlinewidth\": 0, \"ticks\": \"\"}, \"type\": \"choropleth\"}], \"contour\": [{\"colorbar\": {\"outlinewidth\": 0, \"ticks\": \"\"}, \"colorscale\": [[0.0, \"#0d0887\"], [0.1111111111111111, \"#46039f\"], [0.2222222222222222, \"#7201a8\"], [0.3333333333333333, \"#9c179e\"], [0.4444444444444444, \"#bd3786\"], [0.5555555555555556, \"#d8576b\"], [0.6666666666666666, \"#ed7953\"], [0.7777777777777778, \"#fb9f3a\"], [0.8888888888888888, \"#fdca26\"], [1.0, \"#f0f921\"]], \"type\": \"contour\"}], \"contourcarpet\": [{\"colorbar\": {\"outlinewidth\": 0, \"ticks\": \"\"}, \"type\": \"contourcarpet\"}], \"heatmap\": [{\"colorbar\": {\"outlinewidth\": 0, \"ticks\": \"\"}, \"colorscale\": [[0.0, \"#0d0887\"], [0.1111111111111111, \"#46039f\"], [0.2222222222222222, \"#7201a8\"], [0.3333333333333333, \"#9c179e\"], [0.4444444444444444, \"#bd3786\"], [0.5555555555555556, \"#d8576b\"], [0.6666666666666666, \"#ed7953\"], [0.7777777777777778, \"#fb9f3a\"], [0.8888888888888888, \"#fdca26\"], [1.0, \"#f0f921\"]], \"type\": \"heatmap\"}], \"heatmapgl\": [{\"colorbar\": {\"outlinewidth\": 0, \"ticks\": \"\"}, \"colorscale\": [[0.0, \"#0d0887\"], [0.1111111111111111, \"#46039f\"], [0.2222222222222222, \"#7201a8\"], [0.3333333333333333, \"#9c179e\"], [0.4444444444444444, \"#bd3786\"], [0.5555555555555556, \"#d8576b\"], [0.6666666666666666, \"#ed7953\"], [0.7777777777777778, \"#fb9f3a\"], [0.8888888888888888, \"#fdca26\"], [1.0, \"#f0f921\"]], \"type\": \"heatmapgl\"}], \"histogram\": [{\"marker\": {\"colorbar\": {\"outlinewidth\": 0, \"ticks\": \"\"}}, \"type\": \"histogram\"}], \"histogram2d\": [{\"colorbar\": {\"outlinewidth\": 0, \"ticks\": \"\"}, \"colorscale\": [[0.0, \"#0d0887\"], [0.1111111111111111, \"#46039f\"], [0.2222222222222222, \"#7201a8\"], [0.3333333333333333, \"#9c179e\"], [0.4444444444444444, \"#bd3786\"], [0.5555555555555556, \"#d8576b\"], [0.6666666666666666, \"#ed7953\"], [0.7777777777777778, \"#fb9f3a\"], [0.8888888888888888, \"#fdca26\"], [1.0, \"#f0f921\"]], \"type\": \"histogram2d\"}], \"histogram2dcontour\": [{\"colorbar\": {\"outlinewidth\": 0, \"ticks\": \"\"}, \"colorscale\": [[0.0, \"#0d0887\"], [0.1111111111111111, \"#46039f\"], [0.2222222222222222, \"#7201a8\"], [0.3333333333333333, \"#9c179e\"], [0.4444444444444444, \"#bd3786\"], [0.5555555555555556, \"#d8576b\"], [0.6666666666666666, \"#ed7953\"], [0.7777777777777778, \"#fb9f3a\"], [0.8888888888888888, \"#fdca26\"], [1.0, \"#f0f921\"]], \"type\": \"histogram2dcontour\"}], \"mesh3d\": [{\"colorbar\": {\"outlinewidth\": 0, \"ticks\": \"\"}, \"type\": \"mesh3d\"}], \"parcoords\": [{\"line\": {\"colorbar\": {\"outlinewidth\": 0, \"ticks\": \"\"}}, \"type\": \"parcoords\"}], \"pie\": [{\"automargin\": true, \"type\": \"pie\"}], \"scatter\": [{\"marker\": {\"colorbar\": {\"outlinewidth\": 0, \"ticks\": \"\"}}, \"type\": \"scatter\"}], \"scatter3d\": [{\"line\": {\"colorbar\": {\"outlinewidth\": 0, \"ticks\": \"\"}}, \"marker\": {\"colorbar\": {\"outlinewidth\": 0, \"ticks\": \"\"}}, \"type\": \"scatter3d\"}], \"scattercarpet\": [{\"marker\": {\"colorbar\": {\"outlinewidth\": 0, \"ticks\": \"\"}}, \"type\": \"scattercarpet\"}], \"scattergeo\": [{\"marker\": {\"colorbar\": {\"outlinewidth\": 0, \"ticks\": \"\"}}, \"type\": \"scattergeo\"}], \"scattergl\": [{\"marker\": {\"colorbar\": {\"outlinewidth\": 0, \"ticks\": \"\"}}, \"type\": \"scattergl\"}], \"scattermapbox\": [{\"marker\": {\"colorbar\": {\"outlinewidth\": 0, \"ticks\": \"\"}}, \"type\": \"scattermapbox\"}], \"scatterpolar\": [{\"marker\": {\"colorbar\": {\"outlinewidth\": 0, \"ticks\": \"\"}}, \"type\": \"scatterpolar\"}], \"scatterpolargl\": [{\"marker\": {\"colorbar\": {\"outlinewidth\": 0, \"ticks\": \"\"}}, \"type\": \"scatterpolargl\"}], \"scatterternary\": [{\"marker\": {\"colorbar\": {\"outlinewidth\": 0, \"ticks\": \"\"}}, \"type\": \"scatterternary\"}], \"surface\": [{\"colorbar\": {\"outlinewidth\": 0, \"ticks\": \"\"}, \"colorscale\": [[0.0, \"#0d0887\"], [0.1111111111111111, \"#46039f\"], [0.2222222222222222, \"#7201a8\"], [0.3333333333333333, \"#9c179e\"], [0.4444444444444444, \"#bd3786\"], [0.5555555555555556, \"#d8576b\"], [0.6666666666666666, \"#ed7953\"], [0.7777777777777778, \"#fb9f3a\"], [0.8888888888888888, \"#fdca26\"], [1.0, \"#f0f921\"]], \"type\": \"surface\"}], \"table\": [{\"cells\": {\"fill\": {\"color\": \"#EBF0F8\"}, \"line\": {\"color\": \"white\"}}, \"header\": {\"fill\": {\"color\": \"#C8D4E3\"}, \"line\": {\"color\": \"white\"}}, \"type\": \"table\"}]}, \"layout\": {\"annotationdefaults\": {\"arrowcolor\": \"#2a3f5f\", \"arrowhead\": 0, \"arrowwidth\": 1}, \"autotypenumbers\": \"strict\", \"coloraxis\": {\"colorbar\": {\"outlinewidth\": 0, \"ticks\": \"\"}}, \"colorscale\": {\"diverging\": [[0, \"#8e0152\"], [0.1, \"#c51b7d\"], [0.2, \"#de77ae\"], [0.3, \"#f1b6da\"], [0.4, \"#fde0ef\"], [0.5, \"#f7f7f7\"], [0.6, \"#e6f5d0\"], [0.7, \"#b8e186\"], [0.8, \"#7fbc41\"], [0.9, \"#4d9221\"], [1, \"#276419\"]], \"sequential\": [[0.0, \"#0d0887\"], [0.1111111111111111, \"#46039f\"], [0.2222222222222222, \"#7201a8\"], [0.3333333333333333, \"#9c179e\"], [0.4444444444444444, \"#bd3786\"], [0.5555555555555556, \"#d8576b\"], [0.6666666666666666, \"#ed7953\"], [0.7777777777777778, \"#fb9f3a\"], [0.8888888888888888, \"#fdca26\"], [1.0, \"#f0f921\"]], \"sequentialminus\": [[0.0, \"#0d0887\"], [0.1111111111111111, \"#46039f\"], [0.2222222222222222, \"#7201a8\"], [0.3333333333333333, \"#9c179e\"], [0.4444444444444444, \"#bd3786\"], [0.5555555555555556, \"#d8576b\"], [0.6666666666666666, \"#ed7953\"], [0.7777777777777778, \"#fb9f3a\"], [0.8888888888888888, \"#fdca26\"], [1.0, \"#f0f921\"]]}, \"colorway\": [\"#636efa\", \"#EF553B\", \"#00cc96\", \"#ab63fa\", \"#FFA15A\", \"#19d3f3\", \"#FF6692\", \"#B6E880\", \"#FF97FF\", \"#FECB52\"], \"font\": {\"color\": \"#2a3f5f\"}, \"geo\": {\"bgcolor\": \"white\", \"lakecolor\": \"white\", \"landcolor\": \"#E5ECF6\", \"showlakes\": true, \"showland\": true, \"subunitcolor\": \"white\"}, \"hoverlabel\": {\"align\": \"left\"}, \"hovermode\": \"closest\", \"mapbox\": {\"style\": \"light\"}, \"paper_bgcolor\": \"white\", \"plot_bgcolor\": \"#E5ECF6\", \"polar\": {\"angularaxis\": {\"gridcolor\": \"white\", \"linecolor\": \"white\", \"ticks\": \"\"}, \"bgcolor\": \"#E5ECF6\", \"radialaxis\": {\"gridcolor\": \"white\", \"linecolor\": \"white\", \"ticks\": \"\"}}, \"scene\": {\"xaxis\": {\"backgroundcolor\": \"#E5ECF6\", \"gridcolor\": \"white\", \"gridwidth\": 2, \"linecolor\": \"white\", \"showbackground\": true, \"ticks\": \"\", \"zerolinecolor\": \"white\"}, \"yaxis\": {\"backgroundcolor\": \"#E5ECF6\", \"gridcolor\": \"white\", \"gridwidth\": 2, \"linecolor\": \"white\", \"showbackground\": true, \"ticks\": \"\", \"zerolinecolor\": \"white\"}, \"zaxis\": {\"backgroundcolor\": \"#E5ECF6\", \"gridcolor\": \"white\", \"gridwidth\": 2, \"linecolor\": \"white\", \"showbackground\": true, \"ticks\": \"\", \"zerolinecolor\": \"white\"}}, \"shapedefaults\": {\"line\": {\"color\": \"#2a3f5f\"}}, \"ternary\": {\"aaxis\": {\"gridcolor\": \"white\", \"linecolor\": \"white\", \"ticks\": \"\"}, \"baxis\": {\"gridcolor\": \"white\", \"linecolor\": \"white\", \"ticks\": \"\"}, \"bgcolor\": \"#E5ECF6\", \"caxis\": {\"gridcolor\": \"white\", \"linecolor\": \"white\", \"ticks\": \"\"}}, \"title\": {\"x\": 0.05}, \"xaxis\": {\"automargin\": true, \"gridcolor\": \"white\", \"linecolor\": \"white\", \"ticks\": \"\", \"title\": {\"standoff\": 15}, \"zerolinecolor\": \"white\", \"zerolinewidth\": 2}, \"yaxis\": {\"automargin\": true, \"gridcolor\": \"white\", \"linecolor\": \"white\", \"ticks\": \"\", \"title\": {\"standoff\": 15}, \"zerolinecolor\": \"white\", \"zerolinewidth\": 2}}}, \"title\": {\"text\": \"<b> by County</b>\"}, \"xaxis\": {\"anchor\": \"y\", \"domain\": [0.0, 1.0], \"range\": [1, 1600], \"title\": {\"text\": \"Total Deaths\"}}, \"yaxis\": {\"anchor\": \"x\", \"categoryarray\": [\"Unknown/Missing\", \"Yellow Medicine\", \"Wright\", \"Winona\", \"Wilkin\", \"Watonwan\", \"Washington\", \"Waseca\", \"Wadena\", \"Wabasha\", \"Traverse\", \"Todd\", \"Swift\", \"Stevens\", \"Steele\", \"Stearns\", \"St. Louis\", \"Sibley\", \"Sherburne\", \"Scott\", \"Roseau\", \"Rock\", \"Rice\", \"Renville\", \"Redwood\", \"Red Lake\", \"Ramsey\", \"Pope\", \"Polk\", \"Pipestone\", \"Pine\", \"Pennington\", \"Otter Tail\", \"Olmsted\", \"Norman\", \"Nobles\", \"Nicollet\", \"Murray\", \"Mower\", \"Morrison\", \"Mille Lacs\", \"Meeker\", \"McLeod\", \"Martin\", \"Marshall\", \"Mahnomen\", \"Lyon\", \"Lincoln\", \"Le Sueur\", \"Lake of the Woods\", \"Lake\", \"Lac qui Parle\", \"Koochiching\", \"Kittson\", \"Kandiyohi\", \"Kanabec\", \"Jackson\", \"Itasca\", \"Isanti\", \"Hubbard\", \"Houston\", \"Hennepin\", \"Grant\", \"Goodhue\", \"Freeborn\", \"Fillmore\", \"Faribault\", \"Douglas\", \"Dodge\", \"Dakota\", \"Crow Wing\", \"Cottonwood\", \"Cook\", \"Clearwater\", \"Clay\", \"Chisago\", \"Chippewa\", \"Cass\", \"Carver\", \"Carlton\", \"Brown\", \"Blue Earth\", \"Big Stone\", \"Benton\", \"Beltrami\", \"Becker\", \"Anoka\", \"Aitkin\"], \"categoryorder\": \"array\", \"domain\": [0.0, 1.0], \"title\": {\"text\": \"County\"}}},                        {\"responsive\": true}                    ).then(function(){\n",
       "                            \n",
       "var gd = document.getElementById('9822b852-be04-479b-9b50-7a8ce23b00a6');\n",
       "var x = new MutationObserver(function (mutations, observer) {{\n",
       "        var display = window.getComputedStyle(gd).display;\n",
       "        if (!display || display === 'none') {{\n",
       "            console.log([gd, 'removed!']);\n",
       "            Plotly.purge(gd);\n",
       "            observer.disconnect();\n",
       "        }}\n",
       "}});\n",
       "\n",
       "// Listen for the removal of the full notebook cells\n",
       "var notebookContainer = gd.closest('#notebook-container');\n",
       "if (notebookContainer) {{\n",
       "    x.observe(notebookContainer, {childList: true});\n",
       "}}\n",
       "\n",
       "// Listen for the clearing of the current output cell\n",
       "var outputEl = gd.closest('.output');\n",
       "if (outputEl) {{\n",
       "    x.observe(outputEl, {childList: true});\n",
       "}}\n",
       "\n",
       "                        })                };                });            </script>        </div>"
      ]
     },
     "metadata": {},
     "output_type": "display_data"
    }
   ],
   "source": [
    "# fig = px.bar(all_Data,\n",
    "#              x='City',\n",
    "#              y='Sales',\n",
    "#              range_y=[1,9],\n",
    "#              color='City',\n",
    "#              color_continuous_scale=[\"red\",\"yellow\",\"green\"],\n",
    "#              title='<b> Sales by City</b>')\n",
    "# fig.show()\n",
    "\n",
    "fig = px.bar(compiledcountydata,\n",
    "             x='Total Deaths',\n",
    "             y='County',\n",
    "             range_x =[1,1600], \n",
    "             color='County',\n",
    "             color_continuous_scale=[\"red\",\"yellow\",\"green\"],\n",
    "             title='<b> by County</b>')\n",
    "fig.show()"
   ]
  },
  {
   "cell_type": "code",
   "execution_count": 21,
   "metadata": {},
   "outputs": [
    {
     "data": {
      "application/vnd.plotly.v1+json": {
       "config": {
        "plotlyServerURL": "https://plot.ly"
       },
       "data": [
        {
         "domain": {
          "x": [
           0,
           1
          ],
          "y": [
           0,
           1
          ]
         },
         "hovertemplate": "County=%{label}<br>Total Deaths=%{value}<extra></extra>",
         "labels": [
          "Aitkin",
          "Anoka",
          "Becker",
          "Beltrami",
          "Benton",
          "Big Stone",
          "Blue Earth",
          "Brown",
          "Carlton",
          "Carver",
          "Cass",
          "Chippewa",
          "Chisago",
          "Clay",
          "Clearwater",
          "Cook",
          "Cottonwood",
          "Crow Wing",
          "Dakota",
          "Dodge",
          "Douglas",
          "Faribault",
          "Fillmore",
          "Freeborn",
          "Goodhue",
          "Grant",
          "Hennepin",
          "Houston",
          "Hubbard",
          "Isanti",
          "Itasca",
          "Jackson",
          "Kanabec",
          "Kandiyohi",
          "Kittson",
          "Koochiching",
          "Lac qui Parle",
          "Lake",
          "Lake of the Woods",
          "Le Sueur",
          "Lincoln",
          "Lyon",
          "Mahnomen",
          "Marshall",
          "Martin",
          "McLeod",
          "Meeker",
          "Mille Lacs",
          "Morrison",
          "Mower",
          "Murray",
          "Nicollet",
          "Nobles",
          "Norman",
          "Olmsted",
          "Otter Tail",
          "Pennington",
          "Pine",
          "Pipestone",
          "Polk",
          "Pope",
          "Ramsey",
          "Red Lake",
          "Redwood",
          "Renville",
          "Rice",
          "Rock",
          "Roseau",
          "Scott",
          "Sherburne",
          "Sibley",
          "St. Louis",
          "Stearns",
          "Steele",
          "Stevens",
          "Swift",
          "Todd",
          "Traverse",
          "Wabasha",
          "Wadena",
          "Waseca",
          "Washington",
          "Watonwan",
          "Wilkin",
          "Winona",
          "Wright",
          "Yellow Medicine",
          "Unknown/Missing"
         ],
         "legendgroup": "",
         "name": "",
         "showlegend": true,
         "type": "pie",
         "values": [
          33,
          390,
          42,
          51,
          90,
          3,
          35,
          37,
          49,
          40,
          24,
          35,
          45,
          87,
          14,
          0,
          20,
          82,
          392,
          4,
          68,
          17,
          8,
          24,
          69,
          8,
          1588,
          14,
          41,
          56,
          46,
          10,
          19,
          74,
          21,
          11,
          16,
          18,
          1,
          20,
          2,
          44,
          7,
          15,
          28,
          50,
          34,
          47,
          47,
          31,
          8,
          41,
          47,
          8,
          89,
          70,
          16,
          16,
          24,
          63,
          5,
          805,
          5,
          27,
          40,
          91,
          14,
          17,
          107,
          73,
          10,
          264,
          202,
          11,
          8,
          18,
          30,
          5,
          3,
          20,
          17,
          259,
          8,
          11,
          49,
          116,
          17,
          0
         ]
        }
       ],
       "layout": {
        "legend": {
         "tracegroupgap": 0
        },
        "template": {
         "data": {
          "bar": [
           {
            "error_x": {
             "color": "#2a3f5f"
            },
            "error_y": {
             "color": "#2a3f5f"
            },
            "marker": {
             "line": {
              "color": "#E5ECF6",
              "width": 0.5
             }
            },
            "type": "bar"
           }
          ],
          "barpolar": [
           {
            "marker": {
             "line": {
              "color": "#E5ECF6",
              "width": 0.5
             }
            },
            "type": "barpolar"
           }
          ],
          "carpet": [
           {
            "aaxis": {
             "endlinecolor": "#2a3f5f",
             "gridcolor": "white",
             "linecolor": "white",
             "minorgridcolor": "white",
             "startlinecolor": "#2a3f5f"
            },
            "baxis": {
             "endlinecolor": "#2a3f5f",
             "gridcolor": "white",
             "linecolor": "white",
             "minorgridcolor": "white",
             "startlinecolor": "#2a3f5f"
            },
            "type": "carpet"
           }
          ],
          "choropleth": [
           {
            "colorbar": {
             "outlinewidth": 0,
             "ticks": ""
            },
            "type": "choropleth"
           }
          ],
          "contour": [
           {
            "colorbar": {
             "outlinewidth": 0,
             "ticks": ""
            },
            "colorscale": [
             [
              0,
              "#0d0887"
             ],
             [
              0.1111111111111111,
              "#46039f"
             ],
             [
              0.2222222222222222,
              "#7201a8"
             ],
             [
              0.3333333333333333,
              "#9c179e"
             ],
             [
              0.4444444444444444,
              "#bd3786"
             ],
             [
              0.5555555555555556,
              "#d8576b"
             ],
             [
              0.6666666666666666,
              "#ed7953"
             ],
             [
              0.7777777777777778,
              "#fb9f3a"
             ],
             [
              0.8888888888888888,
              "#fdca26"
             ],
             [
              1,
              "#f0f921"
             ]
            ],
            "type": "contour"
           }
          ],
          "contourcarpet": [
           {
            "colorbar": {
             "outlinewidth": 0,
             "ticks": ""
            },
            "type": "contourcarpet"
           }
          ],
          "heatmap": [
           {
            "colorbar": {
             "outlinewidth": 0,
             "ticks": ""
            },
            "colorscale": [
             [
              0,
              "#0d0887"
             ],
             [
              0.1111111111111111,
              "#46039f"
             ],
             [
              0.2222222222222222,
              "#7201a8"
             ],
             [
              0.3333333333333333,
              "#9c179e"
             ],
             [
              0.4444444444444444,
              "#bd3786"
             ],
             [
              0.5555555555555556,
              "#d8576b"
             ],
             [
              0.6666666666666666,
              "#ed7953"
             ],
             [
              0.7777777777777778,
              "#fb9f3a"
             ],
             [
              0.8888888888888888,
              "#fdca26"
             ],
             [
              1,
              "#f0f921"
             ]
            ],
            "type": "heatmap"
           }
          ],
          "heatmapgl": [
           {
            "colorbar": {
             "outlinewidth": 0,
             "ticks": ""
            },
            "colorscale": [
             [
              0,
              "#0d0887"
             ],
             [
              0.1111111111111111,
              "#46039f"
             ],
             [
              0.2222222222222222,
              "#7201a8"
             ],
             [
              0.3333333333333333,
              "#9c179e"
             ],
             [
              0.4444444444444444,
              "#bd3786"
             ],
             [
              0.5555555555555556,
              "#d8576b"
             ],
             [
              0.6666666666666666,
              "#ed7953"
             ],
             [
              0.7777777777777778,
              "#fb9f3a"
             ],
             [
              0.8888888888888888,
              "#fdca26"
             ],
             [
              1,
              "#f0f921"
             ]
            ],
            "type": "heatmapgl"
           }
          ],
          "histogram": [
           {
            "marker": {
             "colorbar": {
              "outlinewidth": 0,
              "ticks": ""
             }
            },
            "type": "histogram"
           }
          ],
          "histogram2d": [
           {
            "colorbar": {
             "outlinewidth": 0,
             "ticks": ""
            },
            "colorscale": [
             [
              0,
              "#0d0887"
             ],
             [
              0.1111111111111111,
              "#46039f"
             ],
             [
              0.2222222222222222,
              "#7201a8"
             ],
             [
              0.3333333333333333,
              "#9c179e"
             ],
             [
              0.4444444444444444,
              "#bd3786"
             ],
             [
              0.5555555555555556,
              "#d8576b"
             ],
             [
              0.6666666666666666,
              "#ed7953"
             ],
             [
              0.7777777777777778,
              "#fb9f3a"
             ],
             [
              0.8888888888888888,
              "#fdca26"
             ],
             [
              1,
              "#f0f921"
             ]
            ],
            "type": "histogram2d"
           }
          ],
          "histogram2dcontour": [
           {
            "colorbar": {
             "outlinewidth": 0,
             "ticks": ""
            },
            "colorscale": [
             [
              0,
              "#0d0887"
             ],
             [
              0.1111111111111111,
              "#46039f"
             ],
             [
              0.2222222222222222,
              "#7201a8"
             ],
             [
              0.3333333333333333,
              "#9c179e"
             ],
             [
              0.4444444444444444,
              "#bd3786"
             ],
             [
              0.5555555555555556,
              "#d8576b"
             ],
             [
              0.6666666666666666,
              "#ed7953"
             ],
             [
              0.7777777777777778,
              "#fb9f3a"
             ],
             [
              0.8888888888888888,
              "#fdca26"
             ],
             [
              1,
              "#f0f921"
             ]
            ],
            "type": "histogram2dcontour"
           }
          ],
          "mesh3d": [
           {
            "colorbar": {
             "outlinewidth": 0,
             "ticks": ""
            },
            "type": "mesh3d"
           }
          ],
          "parcoords": [
           {
            "line": {
             "colorbar": {
              "outlinewidth": 0,
              "ticks": ""
             }
            },
            "type": "parcoords"
           }
          ],
          "pie": [
           {
            "automargin": true,
            "type": "pie"
           }
          ],
          "scatter": [
           {
            "marker": {
             "colorbar": {
              "outlinewidth": 0,
              "ticks": ""
             }
            },
            "type": "scatter"
           }
          ],
          "scatter3d": [
           {
            "line": {
             "colorbar": {
              "outlinewidth": 0,
              "ticks": ""
             }
            },
            "marker": {
             "colorbar": {
              "outlinewidth": 0,
              "ticks": ""
             }
            },
            "type": "scatter3d"
           }
          ],
          "scattercarpet": [
           {
            "marker": {
             "colorbar": {
              "outlinewidth": 0,
              "ticks": ""
             }
            },
            "type": "scattercarpet"
           }
          ],
          "scattergeo": [
           {
            "marker": {
             "colorbar": {
              "outlinewidth": 0,
              "ticks": ""
             }
            },
            "type": "scattergeo"
           }
          ],
          "scattergl": [
           {
            "marker": {
             "colorbar": {
              "outlinewidth": 0,
              "ticks": ""
             }
            },
            "type": "scattergl"
           }
          ],
          "scattermapbox": [
           {
            "marker": {
             "colorbar": {
              "outlinewidth": 0,
              "ticks": ""
             }
            },
            "type": "scattermapbox"
           }
          ],
          "scatterpolar": [
           {
            "marker": {
             "colorbar": {
              "outlinewidth": 0,
              "ticks": ""
             }
            },
            "type": "scatterpolar"
           }
          ],
          "scatterpolargl": [
           {
            "marker": {
             "colorbar": {
              "outlinewidth": 0,
              "ticks": ""
             }
            },
            "type": "scatterpolargl"
           }
          ],
          "scatterternary": [
           {
            "marker": {
             "colorbar": {
              "outlinewidth": 0,
              "ticks": ""
             }
            },
            "type": "scatterternary"
           }
          ],
          "surface": [
           {
            "colorbar": {
             "outlinewidth": 0,
             "ticks": ""
            },
            "colorscale": [
             [
              0,
              "#0d0887"
             ],
             [
              0.1111111111111111,
              "#46039f"
             ],
             [
              0.2222222222222222,
              "#7201a8"
             ],
             [
              0.3333333333333333,
              "#9c179e"
             ],
             [
              0.4444444444444444,
              "#bd3786"
             ],
             [
              0.5555555555555556,
              "#d8576b"
             ],
             [
              0.6666666666666666,
              "#ed7953"
             ],
             [
              0.7777777777777778,
              "#fb9f3a"
             ],
             [
              0.8888888888888888,
              "#fdca26"
             ],
             [
              1,
              "#f0f921"
             ]
            ],
            "type": "surface"
           }
          ],
          "table": [
           {
            "cells": {
             "fill": {
              "color": "#EBF0F8"
             },
             "line": {
              "color": "white"
             }
            },
            "header": {
             "fill": {
              "color": "#C8D4E3"
             },
             "line": {
              "color": "white"
             }
            },
            "type": "table"
           }
          ]
         },
         "layout": {
          "annotationdefaults": {
           "arrowcolor": "#2a3f5f",
           "arrowhead": 0,
           "arrowwidth": 1
          },
          "autotypenumbers": "strict",
          "coloraxis": {
           "colorbar": {
            "outlinewidth": 0,
            "ticks": ""
           }
          },
          "colorscale": {
           "diverging": [
            [
             0,
             "#8e0152"
            ],
            [
             0.1,
             "#c51b7d"
            ],
            [
             0.2,
             "#de77ae"
            ],
            [
             0.3,
             "#f1b6da"
            ],
            [
             0.4,
             "#fde0ef"
            ],
            [
             0.5,
             "#f7f7f7"
            ],
            [
             0.6,
             "#e6f5d0"
            ],
            [
             0.7,
             "#b8e186"
            ],
            [
             0.8,
             "#7fbc41"
            ],
            [
             0.9,
             "#4d9221"
            ],
            [
             1,
             "#276419"
            ]
           ],
           "sequential": [
            [
             0,
             "#0d0887"
            ],
            [
             0.1111111111111111,
             "#46039f"
            ],
            [
             0.2222222222222222,
             "#7201a8"
            ],
            [
             0.3333333333333333,
             "#9c179e"
            ],
            [
             0.4444444444444444,
             "#bd3786"
            ],
            [
             0.5555555555555556,
             "#d8576b"
            ],
            [
             0.6666666666666666,
             "#ed7953"
            ],
            [
             0.7777777777777778,
             "#fb9f3a"
            ],
            [
             0.8888888888888888,
             "#fdca26"
            ],
            [
             1,
             "#f0f921"
            ]
           ],
           "sequentialminus": [
            [
             0,
             "#0d0887"
            ],
            [
             0.1111111111111111,
             "#46039f"
            ],
            [
             0.2222222222222222,
             "#7201a8"
            ],
            [
             0.3333333333333333,
             "#9c179e"
            ],
            [
             0.4444444444444444,
             "#bd3786"
            ],
            [
             0.5555555555555556,
             "#d8576b"
            ],
            [
             0.6666666666666666,
             "#ed7953"
            ],
            [
             0.7777777777777778,
             "#fb9f3a"
            ],
            [
             0.8888888888888888,
             "#fdca26"
            ],
            [
             1,
             "#f0f921"
            ]
           ]
          },
          "colorway": [
           "#636efa",
           "#EF553B",
           "#00cc96",
           "#ab63fa",
           "#FFA15A",
           "#19d3f3",
           "#FF6692",
           "#B6E880",
           "#FF97FF",
           "#FECB52"
          ],
          "font": {
           "color": "#2a3f5f"
          },
          "geo": {
           "bgcolor": "white",
           "lakecolor": "white",
           "landcolor": "#E5ECF6",
           "showlakes": true,
           "showland": true,
           "subunitcolor": "white"
          },
          "hoverlabel": {
           "align": "left"
          },
          "hovermode": "closest",
          "mapbox": {
           "style": "light"
          },
          "paper_bgcolor": "white",
          "plot_bgcolor": "#E5ECF6",
          "polar": {
           "angularaxis": {
            "gridcolor": "white",
            "linecolor": "white",
            "ticks": ""
           },
           "bgcolor": "#E5ECF6",
           "radialaxis": {
            "gridcolor": "white",
            "linecolor": "white",
            "ticks": ""
           }
          },
          "scene": {
           "xaxis": {
            "backgroundcolor": "#E5ECF6",
            "gridcolor": "white",
            "gridwidth": 2,
            "linecolor": "white",
            "showbackground": true,
            "ticks": "",
            "zerolinecolor": "white"
           },
           "yaxis": {
            "backgroundcolor": "#E5ECF6",
            "gridcolor": "white",
            "gridwidth": 2,
            "linecolor": "white",
            "showbackground": true,
            "ticks": "",
            "zerolinecolor": "white"
           },
           "zaxis": {
            "backgroundcolor": "#E5ECF6",
            "gridcolor": "white",
            "gridwidth": 2,
            "linecolor": "white",
            "showbackground": true,
            "ticks": "",
            "zerolinecolor": "white"
           }
          },
          "shapedefaults": {
           "line": {
            "color": "#2a3f5f"
           }
          },
          "ternary": {
           "aaxis": {
            "gridcolor": "white",
            "linecolor": "white",
            "ticks": ""
           },
           "baxis": {
            "gridcolor": "white",
            "linecolor": "white",
            "ticks": ""
           },
           "bgcolor": "#E5ECF6",
           "caxis": {
            "gridcolor": "white",
            "linecolor": "white",
            "ticks": ""
           }
          },
          "title": {
           "x": 0.05
          },
          "xaxis": {
           "automargin": true,
           "gridcolor": "white",
           "linecolor": "white",
           "ticks": "",
           "title": {
            "standoff": 15
           },
           "zerolinecolor": "white",
           "zerolinewidth": 2
          },
          "yaxis": {
           "automargin": true,
           "gridcolor": "white",
           "linecolor": "white",
           "ticks": "",
           "title": {
            "standoff": 15
           },
           "zerolinecolor": "white",
           "zerolinewidth": 2
          }
         }
        },
        "title": {
         "text": "<b> by County</b>"
        }
       }
      },
      "text/html": [
       "<div>                            <div id=\"8e79366e-4df6-48b3-9a63-34fa2edf4485\" class=\"plotly-graph-div\" style=\"height:525px; width:100%;\"></div>            <script type=\"text/javascript\">                require([\"plotly\"], function(Plotly) {                    window.PLOTLYENV=window.PLOTLYENV || {};                                    if (document.getElementById(\"8e79366e-4df6-48b3-9a63-34fa2edf4485\")) {                    Plotly.newPlot(                        \"8e79366e-4df6-48b3-9a63-34fa2edf4485\",                        [{\"domain\": {\"x\": [0.0, 1.0], \"y\": [0.0, 1.0]}, \"hovertemplate\": \"County=%{label}<br>Total Deaths=%{value}<extra></extra>\", \"labels\": [\"Aitkin\", \"Anoka\", \"Becker\", \"Beltrami\", \"Benton\", \"Big Stone\", \"Blue Earth\", \"Brown\", \"Carlton\", \"Carver\", \"Cass\", \"Chippewa\", \"Chisago\", \"Clay\", \"Clearwater\", \"Cook\", \"Cottonwood\", \"Crow Wing\", \"Dakota\", \"Dodge\", \"Douglas\", \"Faribault\", \"Fillmore\", \"Freeborn\", \"Goodhue\", \"Grant\", \"Hennepin\", \"Houston\", \"Hubbard\", \"Isanti\", \"Itasca\", \"Jackson\", \"Kanabec\", \"Kandiyohi\", \"Kittson\", \"Koochiching\", \"Lac qui Parle\", \"Lake\", \"Lake of the Woods\", \"Le Sueur\", \"Lincoln\", \"Lyon\", \"Mahnomen\", \"Marshall\", \"Martin\", \"McLeod\", \"Meeker\", \"Mille Lacs\", \"Morrison\", \"Mower\", \"Murray\", \"Nicollet\", \"Nobles\", \"Norman\", \"Olmsted\", \"Otter Tail\", \"Pennington\", \"Pine\", \"Pipestone\", \"Polk\", \"Pope\", \"Ramsey\", \"Red Lake\", \"Redwood\", \"Renville\", \"Rice\", \"Rock\", \"Roseau\", \"Scott\", \"Sherburne\", \"Sibley\", \"St. Louis\", \"Stearns\", \"Steele\", \"Stevens\", \"Swift\", \"Todd\", \"Traverse\", \"Wabasha\", \"Wadena\", \"Waseca\", \"Washington\", \"Watonwan\", \"Wilkin\", \"Winona\", \"Wright\", \"Yellow Medicine\", \"Unknown/Missing\"], \"legendgroup\": \"\", \"name\": \"\", \"showlegend\": true, \"type\": \"pie\", \"values\": [33, 390, 42, 51, 90, 3, 35, 37, 49, 40, 24, 35, 45, 87, 14, 0, 20, 82, 392, 4, 68, 17, 8, 24, 69, 8, 1588, 14, 41, 56, 46, 10, 19, 74, 21, 11, 16, 18, 1, 20, 2, 44, 7, 15, 28, 50, 34, 47, 47, 31, 8, 41, 47, 8, 89, 70, 16, 16, 24, 63, 5, 805, 5, 27, 40, 91, 14, 17, 107, 73, 10, 264, 202, 11, 8, 18, 30, 5, 3, 20, 17, 259, 8, 11, 49, 116, 17, 0]}],                        {\"legend\": {\"tracegroupgap\": 0}, \"template\": {\"data\": {\"bar\": [{\"error_x\": {\"color\": \"#2a3f5f\"}, \"error_y\": {\"color\": \"#2a3f5f\"}, \"marker\": {\"line\": {\"color\": \"#E5ECF6\", \"width\": 0.5}}, \"type\": \"bar\"}], \"barpolar\": [{\"marker\": {\"line\": {\"color\": \"#E5ECF6\", \"width\": 0.5}}, \"type\": \"barpolar\"}], \"carpet\": [{\"aaxis\": {\"endlinecolor\": \"#2a3f5f\", \"gridcolor\": \"white\", \"linecolor\": \"white\", \"minorgridcolor\": \"white\", \"startlinecolor\": \"#2a3f5f\"}, \"baxis\": {\"endlinecolor\": \"#2a3f5f\", \"gridcolor\": \"white\", \"linecolor\": \"white\", \"minorgridcolor\": \"white\", \"startlinecolor\": \"#2a3f5f\"}, \"type\": \"carpet\"}], \"choropleth\": [{\"colorbar\": {\"outlinewidth\": 0, \"ticks\": \"\"}, \"type\": \"choropleth\"}], \"contour\": [{\"colorbar\": {\"outlinewidth\": 0, \"ticks\": \"\"}, \"colorscale\": [[0.0, \"#0d0887\"], [0.1111111111111111, \"#46039f\"], [0.2222222222222222, \"#7201a8\"], [0.3333333333333333, \"#9c179e\"], [0.4444444444444444, \"#bd3786\"], [0.5555555555555556, \"#d8576b\"], [0.6666666666666666, \"#ed7953\"], [0.7777777777777778, \"#fb9f3a\"], [0.8888888888888888, \"#fdca26\"], [1.0, \"#f0f921\"]], \"type\": \"contour\"}], \"contourcarpet\": [{\"colorbar\": {\"outlinewidth\": 0, \"ticks\": \"\"}, \"type\": \"contourcarpet\"}], \"heatmap\": [{\"colorbar\": {\"outlinewidth\": 0, \"ticks\": \"\"}, \"colorscale\": [[0.0, \"#0d0887\"], [0.1111111111111111, \"#46039f\"], [0.2222222222222222, \"#7201a8\"], [0.3333333333333333, \"#9c179e\"], [0.4444444444444444, \"#bd3786\"], [0.5555555555555556, \"#d8576b\"], [0.6666666666666666, \"#ed7953\"], [0.7777777777777778, \"#fb9f3a\"], [0.8888888888888888, \"#fdca26\"], [1.0, \"#f0f921\"]], \"type\": \"heatmap\"}], \"heatmapgl\": [{\"colorbar\": {\"outlinewidth\": 0, \"ticks\": \"\"}, \"colorscale\": [[0.0, \"#0d0887\"], [0.1111111111111111, \"#46039f\"], [0.2222222222222222, \"#7201a8\"], [0.3333333333333333, \"#9c179e\"], [0.4444444444444444, \"#bd3786\"], [0.5555555555555556, \"#d8576b\"], [0.6666666666666666, \"#ed7953\"], [0.7777777777777778, \"#fb9f3a\"], [0.8888888888888888, \"#fdca26\"], [1.0, \"#f0f921\"]], \"type\": \"heatmapgl\"}], \"histogram\": [{\"marker\": {\"colorbar\": {\"outlinewidth\": 0, \"ticks\": \"\"}}, \"type\": \"histogram\"}], \"histogram2d\": [{\"colorbar\": {\"outlinewidth\": 0, \"ticks\": \"\"}, \"colorscale\": [[0.0, \"#0d0887\"], [0.1111111111111111, \"#46039f\"], [0.2222222222222222, \"#7201a8\"], [0.3333333333333333, \"#9c179e\"], [0.4444444444444444, \"#bd3786\"], [0.5555555555555556, \"#d8576b\"], [0.6666666666666666, \"#ed7953\"], [0.7777777777777778, \"#fb9f3a\"], [0.8888888888888888, \"#fdca26\"], [1.0, \"#f0f921\"]], \"type\": \"histogram2d\"}], \"histogram2dcontour\": [{\"colorbar\": {\"outlinewidth\": 0, \"ticks\": \"\"}, \"colorscale\": [[0.0, \"#0d0887\"], [0.1111111111111111, \"#46039f\"], [0.2222222222222222, \"#7201a8\"], [0.3333333333333333, \"#9c179e\"], [0.4444444444444444, \"#bd3786\"], [0.5555555555555556, \"#d8576b\"], [0.6666666666666666, \"#ed7953\"], [0.7777777777777778, \"#fb9f3a\"], [0.8888888888888888, \"#fdca26\"], [1.0, \"#f0f921\"]], \"type\": \"histogram2dcontour\"}], \"mesh3d\": [{\"colorbar\": {\"outlinewidth\": 0, \"ticks\": \"\"}, \"type\": \"mesh3d\"}], \"parcoords\": [{\"line\": {\"colorbar\": {\"outlinewidth\": 0, \"ticks\": \"\"}}, \"type\": \"parcoords\"}], \"pie\": [{\"automargin\": true, \"type\": \"pie\"}], \"scatter\": [{\"marker\": {\"colorbar\": {\"outlinewidth\": 0, \"ticks\": \"\"}}, \"type\": \"scatter\"}], \"scatter3d\": [{\"line\": {\"colorbar\": {\"outlinewidth\": 0, \"ticks\": \"\"}}, \"marker\": {\"colorbar\": {\"outlinewidth\": 0, \"ticks\": \"\"}}, \"type\": \"scatter3d\"}], \"scattercarpet\": [{\"marker\": {\"colorbar\": {\"outlinewidth\": 0, \"ticks\": \"\"}}, \"type\": \"scattercarpet\"}], \"scattergeo\": [{\"marker\": {\"colorbar\": {\"outlinewidth\": 0, \"ticks\": \"\"}}, \"type\": \"scattergeo\"}], \"scattergl\": [{\"marker\": {\"colorbar\": {\"outlinewidth\": 0, \"ticks\": \"\"}}, \"type\": \"scattergl\"}], \"scattermapbox\": [{\"marker\": {\"colorbar\": {\"outlinewidth\": 0, \"ticks\": \"\"}}, \"type\": \"scattermapbox\"}], \"scatterpolar\": [{\"marker\": {\"colorbar\": {\"outlinewidth\": 0, \"ticks\": \"\"}}, \"type\": \"scatterpolar\"}], \"scatterpolargl\": [{\"marker\": {\"colorbar\": {\"outlinewidth\": 0, \"ticks\": \"\"}}, \"type\": \"scatterpolargl\"}], \"scatterternary\": [{\"marker\": {\"colorbar\": {\"outlinewidth\": 0, \"ticks\": \"\"}}, \"type\": \"scatterternary\"}], \"surface\": [{\"colorbar\": {\"outlinewidth\": 0, \"ticks\": \"\"}, \"colorscale\": [[0.0, \"#0d0887\"], [0.1111111111111111, \"#46039f\"], [0.2222222222222222, \"#7201a8\"], [0.3333333333333333, \"#9c179e\"], [0.4444444444444444, \"#bd3786\"], [0.5555555555555556, \"#d8576b\"], [0.6666666666666666, \"#ed7953\"], [0.7777777777777778, \"#fb9f3a\"], [0.8888888888888888, \"#fdca26\"], [1.0, \"#f0f921\"]], \"type\": \"surface\"}], \"table\": [{\"cells\": {\"fill\": {\"color\": \"#EBF0F8\"}, \"line\": {\"color\": \"white\"}}, \"header\": {\"fill\": {\"color\": \"#C8D4E3\"}, \"line\": {\"color\": \"white\"}}, \"type\": \"table\"}]}, \"layout\": {\"annotationdefaults\": {\"arrowcolor\": \"#2a3f5f\", \"arrowhead\": 0, \"arrowwidth\": 1}, \"autotypenumbers\": \"strict\", \"coloraxis\": {\"colorbar\": {\"outlinewidth\": 0, \"ticks\": \"\"}}, \"colorscale\": {\"diverging\": [[0, \"#8e0152\"], [0.1, \"#c51b7d\"], [0.2, \"#de77ae\"], [0.3, \"#f1b6da\"], [0.4, \"#fde0ef\"], [0.5, \"#f7f7f7\"], [0.6, \"#e6f5d0\"], [0.7, \"#b8e186\"], [0.8, \"#7fbc41\"], [0.9, \"#4d9221\"], [1, \"#276419\"]], \"sequential\": [[0.0, \"#0d0887\"], [0.1111111111111111, \"#46039f\"], [0.2222222222222222, \"#7201a8\"], [0.3333333333333333, \"#9c179e\"], [0.4444444444444444, \"#bd3786\"], [0.5555555555555556, \"#d8576b\"], [0.6666666666666666, \"#ed7953\"], [0.7777777777777778, \"#fb9f3a\"], [0.8888888888888888, \"#fdca26\"], [1.0, \"#f0f921\"]], \"sequentialminus\": [[0.0, \"#0d0887\"], [0.1111111111111111, \"#46039f\"], [0.2222222222222222, \"#7201a8\"], [0.3333333333333333, \"#9c179e\"], [0.4444444444444444, \"#bd3786\"], [0.5555555555555556, \"#d8576b\"], [0.6666666666666666, \"#ed7953\"], [0.7777777777777778, \"#fb9f3a\"], [0.8888888888888888, \"#fdca26\"], [1.0, \"#f0f921\"]]}, \"colorway\": [\"#636efa\", \"#EF553B\", \"#00cc96\", \"#ab63fa\", \"#FFA15A\", \"#19d3f3\", \"#FF6692\", \"#B6E880\", \"#FF97FF\", \"#FECB52\"], \"font\": {\"color\": \"#2a3f5f\"}, \"geo\": {\"bgcolor\": \"white\", \"lakecolor\": \"white\", \"landcolor\": \"#E5ECF6\", \"showlakes\": true, \"showland\": true, \"subunitcolor\": \"white\"}, \"hoverlabel\": {\"align\": \"left\"}, \"hovermode\": \"closest\", \"mapbox\": {\"style\": \"light\"}, \"paper_bgcolor\": \"white\", \"plot_bgcolor\": \"#E5ECF6\", \"polar\": {\"angularaxis\": {\"gridcolor\": \"white\", \"linecolor\": \"white\", \"ticks\": \"\"}, \"bgcolor\": \"#E5ECF6\", \"radialaxis\": {\"gridcolor\": \"white\", \"linecolor\": \"white\", \"ticks\": \"\"}}, \"scene\": {\"xaxis\": {\"backgroundcolor\": \"#E5ECF6\", \"gridcolor\": \"white\", \"gridwidth\": 2, \"linecolor\": \"white\", \"showbackground\": true, \"ticks\": \"\", \"zerolinecolor\": \"white\"}, \"yaxis\": {\"backgroundcolor\": \"#E5ECF6\", \"gridcolor\": \"white\", \"gridwidth\": 2, \"linecolor\": \"white\", \"showbackground\": true, \"ticks\": \"\", \"zerolinecolor\": \"white\"}, \"zaxis\": {\"backgroundcolor\": \"#E5ECF6\", \"gridcolor\": \"white\", \"gridwidth\": 2, \"linecolor\": \"white\", \"showbackground\": true, \"ticks\": \"\", \"zerolinecolor\": \"white\"}}, \"shapedefaults\": {\"line\": {\"color\": \"#2a3f5f\"}}, \"ternary\": {\"aaxis\": {\"gridcolor\": \"white\", \"linecolor\": \"white\", \"ticks\": \"\"}, \"baxis\": {\"gridcolor\": \"white\", \"linecolor\": \"white\", \"ticks\": \"\"}, \"bgcolor\": \"#E5ECF6\", \"caxis\": {\"gridcolor\": \"white\", \"linecolor\": \"white\", \"ticks\": \"\"}}, \"title\": {\"x\": 0.05}, \"xaxis\": {\"automargin\": true, \"gridcolor\": \"white\", \"linecolor\": \"white\", \"ticks\": \"\", \"title\": {\"standoff\": 15}, \"zerolinecolor\": \"white\", \"zerolinewidth\": 2}, \"yaxis\": {\"automargin\": true, \"gridcolor\": \"white\", \"linecolor\": \"white\", \"ticks\": \"\", \"title\": {\"standoff\": 15}, \"zerolinecolor\": \"white\", \"zerolinewidth\": 2}}}, \"title\": {\"text\": \"<b> by County</b>\"}},                        {\"responsive\": true}                    ).then(function(){\n",
       "                            \n",
       "var gd = document.getElementById('8e79366e-4df6-48b3-9a63-34fa2edf4485');\n",
       "var x = new MutationObserver(function (mutations, observer) {{\n",
       "        var display = window.getComputedStyle(gd).display;\n",
       "        if (!display || display === 'none') {{\n",
       "            console.log([gd, 'removed!']);\n",
       "            Plotly.purge(gd);\n",
       "            observer.disconnect();\n",
       "        }}\n",
       "}});\n",
       "\n",
       "// Listen for the removal of the full notebook cells\n",
       "var notebookContainer = gd.closest('#notebook-container');\n",
       "if (notebookContainer) {{\n",
       "    x.observe(notebookContainer, {childList: true});\n",
       "}}\n",
       "\n",
       "// Listen for the clearing of the current output cell\n",
       "var outputEl = gd.closest('.output');\n",
       "if (outputEl) {{\n",
       "    x.observe(outputEl, {childList: true});\n",
       "}}\n",
       "\n",
       "                        })                };                });            </script>        </div>"
      ]
     },
     "metadata": {},
     "output_type": "display_data"
    }
   ],
   "source": [
    "fig = px.pie(compiledcountydata,\n",
    "             values='Total Deaths',\n",
    "             names='County',             \n",
    "             title='<b> by County</b>')\n",
    "fig.show()"
   ]
  },
  {
   "cell_type": "code",
   "execution_count": 24,
   "metadata": {},
   "outputs": [
    {
     "data": {
      "application/vnd.plotly.v1+json": {
       "config": {
        "plotlyServerURL": "https://plot.ly"
       },
       "data": [
        {
         "alignmentgroup": "True",
         "hovertemplate": "variable=Total Positive Cases<br>County=%{x}<br>value=%{y}<extra></extra>",
         "legendgroup": "Total Positive Cases",
         "marker": {
          "color": "#636efa"
         },
         "name": "Total Positive Cases",
         "offsetgroup": "Total Positive Cases",
         "orientation": "v",
         "showlegend": true,
         "textposition": "auto",
         "type": "bar",
         "x": [
          "Aitkin",
          "Anoka",
          "Becker",
          "Beltrami",
          "Benton",
          "Big Stone",
          "Blue Earth",
          "Brown",
          "Carlton",
          "Carver",
          "Cass",
          "Chippewa",
          "Chisago",
          "Clay",
          "Clearwater",
          "Cook",
          "Cottonwood",
          "Crow Wing",
          "Dakota",
          "Dodge",
          "Douglas",
          "Faribault",
          "Fillmore",
          "Freeborn",
          "Goodhue",
          "Grant",
          "Hennepin",
          "Houston",
          "Hubbard",
          "Isanti",
          "Itasca",
          "Jackson",
          "Kanabec",
          "Kandiyohi",
          "Kittson",
          "Koochiching",
          "Lac qui Parle",
          "Lake",
          "Lake of the Woods",
          "Le Sueur",
          "Lincoln",
          "Lyon",
          "Mahnomen",
          "Marshall",
          "Martin",
          "McLeod",
          "Meeker",
          "Mille Lacs",
          "Morrison",
          "Mower",
          "Murray",
          "Nicollet",
          "Nobles",
          "Norman",
          "Olmsted",
          "Otter Tail",
          "Pennington",
          "Pine",
          "Pipestone",
          "Polk",
          "Pope",
          "Ramsey",
          "Red Lake",
          "Redwood",
          "Renville",
          "Rice",
          "Rock",
          "Roseau",
          "Scott",
          "Sherburne",
          "Sibley",
          "St. Louis",
          "Stearns",
          "Steele",
          "Stevens",
          "Swift",
          "Todd",
          "Traverse",
          "Wabasha",
          "Wadena",
          "Waseca",
          "Washington",
          "Watonwan",
          "Wilkin",
          "Winona",
          "Wright",
          "Yellow Medicine",
          "Unknown/Missing"
         ],
         "xaxis": "x",
         "y": [
          1191,
          33391,
          3131,
          3386,
          4482,
          516,
          5983,
          2461,
          3001,
          7798,
          2207,
          1367,
          5003,
          6936,
          719,
          118,
          1354,
          5223,
          36478,
          1535,
          3936,
          1240,
          1383,
          2841,
          3875,
          491,
          101110,
          1580,
          1607,
          3076,
          3140,
          940,
          1078,
          5801,
          409,
          620,
          686,
          742,
          220,
          2369,
          512,
          3136,
          441,
          780,
          1903,
          3402,
          2079,
          2285,
          3256,
          4081,
          949,
          2604,
          3871,
          478,
          11833,
          4843,
          1370,
          2824,
          1017,
          3443,
          808,
          43212,
          362,
          1470,
          1512,
          6715,
          1158,
          1807,
          13354,
          8761,
          1173,
          14838,
          18774,
          3023,
          744,
          879,
          2489,
          310,
          1867,
          1313,
          2097,
          22156,
          1176,
          677,
          4193,
          12554,
          977,
          444
         ],
         "yaxis": "y"
        },
        {
         "alignmentgroup": "True",
         "hovertemplate": "variable=Total Deaths<br>County=%{x}<br>value=%{y}<extra></extra>",
         "legendgroup": "Total Deaths",
         "marker": {
          "color": "#EF553B"
         },
         "name": "Total Deaths",
         "offsetgroup": "Total Deaths",
         "orientation": "v",
         "showlegend": true,
         "textposition": "auto",
         "type": "bar",
         "x": [
          "Aitkin",
          "Anoka",
          "Becker",
          "Beltrami",
          "Benton",
          "Big Stone",
          "Blue Earth",
          "Brown",
          "Carlton",
          "Carver",
          "Cass",
          "Chippewa",
          "Chisago",
          "Clay",
          "Clearwater",
          "Cook",
          "Cottonwood",
          "Crow Wing",
          "Dakota",
          "Dodge",
          "Douglas",
          "Faribault",
          "Fillmore",
          "Freeborn",
          "Goodhue",
          "Grant",
          "Hennepin",
          "Houston",
          "Hubbard",
          "Isanti",
          "Itasca",
          "Jackson",
          "Kanabec",
          "Kandiyohi",
          "Kittson",
          "Koochiching",
          "Lac qui Parle",
          "Lake",
          "Lake of the Woods",
          "Le Sueur",
          "Lincoln",
          "Lyon",
          "Mahnomen",
          "Marshall",
          "Martin",
          "McLeod",
          "Meeker",
          "Mille Lacs",
          "Morrison",
          "Mower",
          "Murray",
          "Nicollet",
          "Nobles",
          "Norman",
          "Olmsted",
          "Otter Tail",
          "Pennington",
          "Pine",
          "Pipestone",
          "Polk",
          "Pope",
          "Ramsey",
          "Red Lake",
          "Redwood",
          "Renville",
          "Rice",
          "Rock",
          "Roseau",
          "Scott",
          "Sherburne",
          "Sibley",
          "St. Louis",
          "Stearns",
          "Steele",
          "Stevens",
          "Swift",
          "Todd",
          "Traverse",
          "Wabasha",
          "Wadena",
          "Waseca",
          "Washington",
          "Watonwan",
          "Wilkin",
          "Winona",
          "Wright",
          "Yellow Medicine",
          "Unknown/Missing"
         ],
         "xaxis": "x",
         "y": [
          33,
          390,
          42,
          51,
          90,
          3,
          35,
          37,
          49,
          40,
          24,
          35,
          45,
          87,
          14,
          0,
          20,
          82,
          392,
          4,
          68,
          17,
          8,
          24,
          69,
          8,
          1588,
          14,
          41,
          56,
          46,
          10,
          19,
          74,
          21,
          11,
          16,
          18,
          1,
          20,
          2,
          44,
          7,
          15,
          28,
          50,
          34,
          47,
          47,
          31,
          8,
          41,
          47,
          8,
          89,
          70,
          16,
          16,
          24,
          63,
          5,
          805,
          5,
          27,
          40,
          91,
          14,
          17,
          107,
          73,
          10,
          264,
          202,
          11,
          8,
          18,
          30,
          5,
          3,
          20,
          17,
          259,
          8,
          11,
          49,
          116,
          17,
          0
         ],
         "yaxis": "y"
        }
       ],
       "layout": {
        "barmode": "relative",
        "legend": {
         "title": {
          "text": "variable"
         },
         "tracegroupgap": 0
        },
        "template": {
         "data": {
          "bar": [
           {
            "error_x": {
             "color": "#2a3f5f"
            },
            "error_y": {
             "color": "#2a3f5f"
            },
            "marker": {
             "line": {
              "color": "#E5ECF6",
              "width": 0.5
             }
            },
            "type": "bar"
           }
          ],
          "barpolar": [
           {
            "marker": {
             "line": {
              "color": "#E5ECF6",
              "width": 0.5
             }
            },
            "type": "barpolar"
           }
          ],
          "carpet": [
           {
            "aaxis": {
             "endlinecolor": "#2a3f5f",
             "gridcolor": "white",
             "linecolor": "white",
             "minorgridcolor": "white",
             "startlinecolor": "#2a3f5f"
            },
            "baxis": {
             "endlinecolor": "#2a3f5f",
             "gridcolor": "white",
             "linecolor": "white",
             "minorgridcolor": "white",
             "startlinecolor": "#2a3f5f"
            },
            "type": "carpet"
           }
          ],
          "choropleth": [
           {
            "colorbar": {
             "outlinewidth": 0,
             "ticks": ""
            },
            "type": "choropleth"
           }
          ],
          "contour": [
           {
            "colorbar": {
             "outlinewidth": 0,
             "ticks": ""
            },
            "colorscale": [
             [
              0,
              "#0d0887"
             ],
             [
              0.1111111111111111,
              "#46039f"
             ],
             [
              0.2222222222222222,
              "#7201a8"
             ],
             [
              0.3333333333333333,
              "#9c179e"
             ],
             [
              0.4444444444444444,
              "#bd3786"
             ],
             [
              0.5555555555555556,
              "#d8576b"
             ],
             [
              0.6666666666666666,
              "#ed7953"
             ],
             [
              0.7777777777777778,
              "#fb9f3a"
             ],
             [
              0.8888888888888888,
              "#fdca26"
             ],
             [
              1,
              "#f0f921"
             ]
            ],
            "type": "contour"
           }
          ],
          "contourcarpet": [
           {
            "colorbar": {
             "outlinewidth": 0,
             "ticks": ""
            },
            "type": "contourcarpet"
           }
          ],
          "heatmap": [
           {
            "colorbar": {
             "outlinewidth": 0,
             "ticks": ""
            },
            "colorscale": [
             [
              0,
              "#0d0887"
             ],
             [
              0.1111111111111111,
              "#46039f"
             ],
             [
              0.2222222222222222,
              "#7201a8"
             ],
             [
              0.3333333333333333,
              "#9c179e"
             ],
             [
              0.4444444444444444,
              "#bd3786"
             ],
             [
              0.5555555555555556,
              "#d8576b"
             ],
             [
              0.6666666666666666,
              "#ed7953"
             ],
             [
              0.7777777777777778,
              "#fb9f3a"
             ],
             [
              0.8888888888888888,
              "#fdca26"
             ],
             [
              1,
              "#f0f921"
             ]
            ],
            "type": "heatmap"
           }
          ],
          "heatmapgl": [
           {
            "colorbar": {
             "outlinewidth": 0,
             "ticks": ""
            },
            "colorscale": [
             [
              0,
              "#0d0887"
             ],
             [
              0.1111111111111111,
              "#46039f"
             ],
             [
              0.2222222222222222,
              "#7201a8"
             ],
             [
              0.3333333333333333,
              "#9c179e"
             ],
             [
              0.4444444444444444,
              "#bd3786"
             ],
             [
              0.5555555555555556,
              "#d8576b"
             ],
             [
              0.6666666666666666,
              "#ed7953"
             ],
             [
              0.7777777777777778,
              "#fb9f3a"
             ],
             [
              0.8888888888888888,
              "#fdca26"
             ],
             [
              1,
              "#f0f921"
             ]
            ],
            "type": "heatmapgl"
           }
          ],
          "histogram": [
           {
            "marker": {
             "colorbar": {
              "outlinewidth": 0,
              "ticks": ""
             }
            },
            "type": "histogram"
           }
          ],
          "histogram2d": [
           {
            "colorbar": {
             "outlinewidth": 0,
             "ticks": ""
            },
            "colorscale": [
             [
              0,
              "#0d0887"
             ],
             [
              0.1111111111111111,
              "#46039f"
             ],
             [
              0.2222222222222222,
              "#7201a8"
             ],
             [
              0.3333333333333333,
              "#9c179e"
             ],
             [
              0.4444444444444444,
              "#bd3786"
             ],
             [
              0.5555555555555556,
              "#d8576b"
             ],
             [
              0.6666666666666666,
              "#ed7953"
             ],
             [
              0.7777777777777778,
              "#fb9f3a"
             ],
             [
              0.8888888888888888,
              "#fdca26"
             ],
             [
              1,
              "#f0f921"
             ]
            ],
            "type": "histogram2d"
           }
          ],
          "histogram2dcontour": [
           {
            "colorbar": {
             "outlinewidth": 0,
             "ticks": ""
            },
            "colorscale": [
             [
              0,
              "#0d0887"
             ],
             [
              0.1111111111111111,
              "#46039f"
             ],
             [
              0.2222222222222222,
              "#7201a8"
             ],
             [
              0.3333333333333333,
              "#9c179e"
             ],
             [
              0.4444444444444444,
              "#bd3786"
             ],
             [
              0.5555555555555556,
              "#d8576b"
             ],
             [
              0.6666666666666666,
              "#ed7953"
             ],
             [
              0.7777777777777778,
              "#fb9f3a"
             ],
             [
              0.8888888888888888,
              "#fdca26"
             ],
             [
              1,
              "#f0f921"
             ]
            ],
            "type": "histogram2dcontour"
           }
          ],
          "mesh3d": [
           {
            "colorbar": {
             "outlinewidth": 0,
             "ticks": ""
            },
            "type": "mesh3d"
           }
          ],
          "parcoords": [
           {
            "line": {
             "colorbar": {
              "outlinewidth": 0,
              "ticks": ""
             }
            },
            "type": "parcoords"
           }
          ],
          "pie": [
           {
            "automargin": true,
            "type": "pie"
           }
          ],
          "scatter": [
           {
            "marker": {
             "colorbar": {
              "outlinewidth": 0,
              "ticks": ""
             }
            },
            "type": "scatter"
           }
          ],
          "scatter3d": [
           {
            "line": {
             "colorbar": {
              "outlinewidth": 0,
              "ticks": ""
             }
            },
            "marker": {
             "colorbar": {
              "outlinewidth": 0,
              "ticks": ""
             }
            },
            "type": "scatter3d"
           }
          ],
          "scattercarpet": [
           {
            "marker": {
             "colorbar": {
              "outlinewidth": 0,
              "ticks": ""
             }
            },
            "type": "scattercarpet"
           }
          ],
          "scattergeo": [
           {
            "marker": {
             "colorbar": {
              "outlinewidth": 0,
              "ticks": ""
             }
            },
            "type": "scattergeo"
           }
          ],
          "scattergl": [
           {
            "marker": {
             "colorbar": {
              "outlinewidth": 0,
              "ticks": ""
             }
            },
            "type": "scattergl"
           }
          ],
          "scattermapbox": [
           {
            "marker": {
             "colorbar": {
              "outlinewidth": 0,
              "ticks": ""
             }
            },
            "type": "scattermapbox"
           }
          ],
          "scatterpolar": [
           {
            "marker": {
             "colorbar": {
              "outlinewidth": 0,
              "ticks": ""
             }
            },
            "type": "scatterpolar"
           }
          ],
          "scatterpolargl": [
           {
            "marker": {
             "colorbar": {
              "outlinewidth": 0,
              "ticks": ""
             }
            },
            "type": "scatterpolargl"
           }
          ],
          "scatterternary": [
           {
            "marker": {
             "colorbar": {
              "outlinewidth": 0,
              "ticks": ""
             }
            },
            "type": "scatterternary"
           }
          ],
          "surface": [
           {
            "colorbar": {
             "outlinewidth": 0,
             "ticks": ""
            },
            "colorscale": [
             [
              0,
              "#0d0887"
             ],
             [
              0.1111111111111111,
              "#46039f"
             ],
             [
              0.2222222222222222,
              "#7201a8"
             ],
             [
              0.3333333333333333,
              "#9c179e"
             ],
             [
              0.4444444444444444,
              "#bd3786"
             ],
             [
              0.5555555555555556,
              "#d8576b"
             ],
             [
              0.6666666666666666,
              "#ed7953"
             ],
             [
              0.7777777777777778,
              "#fb9f3a"
             ],
             [
              0.8888888888888888,
              "#fdca26"
             ],
             [
              1,
              "#f0f921"
             ]
            ],
            "type": "surface"
           }
          ],
          "table": [
           {
            "cells": {
             "fill": {
              "color": "#EBF0F8"
             },
             "line": {
              "color": "white"
             }
            },
            "header": {
             "fill": {
              "color": "#C8D4E3"
             },
             "line": {
              "color": "white"
             }
            },
            "type": "table"
           }
          ]
         },
         "layout": {
          "annotationdefaults": {
           "arrowcolor": "#2a3f5f",
           "arrowhead": 0,
           "arrowwidth": 1
          },
          "autotypenumbers": "strict",
          "coloraxis": {
           "colorbar": {
            "outlinewidth": 0,
            "ticks": ""
           }
          },
          "colorscale": {
           "diverging": [
            [
             0,
             "#8e0152"
            ],
            [
             0.1,
             "#c51b7d"
            ],
            [
             0.2,
             "#de77ae"
            ],
            [
             0.3,
             "#f1b6da"
            ],
            [
             0.4,
             "#fde0ef"
            ],
            [
             0.5,
             "#f7f7f7"
            ],
            [
             0.6,
             "#e6f5d0"
            ],
            [
             0.7,
             "#b8e186"
            ],
            [
             0.8,
             "#7fbc41"
            ],
            [
             0.9,
             "#4d9221"
            ],
            [
             1,
             "#276419"
            ]
           ],
           "sequential": [
            [
             0,
             "#0d0887"
            ],
            [
             0.1111111111111111,
             "#46039f"
            ],
            [
             0.2222222222222222,
             "#7201a8"
            ],
            [
             0.3333333333333333,
             "#9c179e"
            ],
            [
             0.4444444444444444,
             "#bd3786"
            ],
            [
             0.5555555555555556,
             "#d8576b"
            ],
            [
             0.6666666666666666,
             "#ed7953"
            ],
            [
             0.7777777777777778,
             "#fb9f3a"
            ],
            [
             0.8888888888888888,
             "#fdca26"
            ],
            [
             1,
             "#f0f921"
            ]
           ],
           "sequentialminus": [
            [
             0,
             "#0d0887"
            ],
            [
             0.1111111111111111,
             "#46039f"
            ],
            [
             0.2222222222222222,
             "#7201a8"
            ],
            [
             0.3333333333333333,
             "#9c179e"
            ],
            [
             0.4444444444444444,
             "#bd3786"
            ],
            [
             0.5555555555555556,
             "#d8576b"
            ],
            [
             0.6666666666666666,
             "#ed7953"
            ],
            [
             0.7777777777777778,
             "#fb9f3a"
            ],
            [
             0.8888888888888888,
             "#fdca26"
            ],
            [
             1,
             "#f0f921"
            ]
           ]
          },
          "colorway": [
           "#636efa",
           "#EF553B",
           "#00cc96",
           "#ab63fa",
           "#FFA15A",
           "#19d3f3",
           "#FF6692",
           "#B6E880",
           "#FF97FF",
           "#FECB52"
          ],
          "font": {
           "color": "#2a3f5f"
          },
          "geo": {
           "bgcolor": "white",
           "lakecolor": "white",
           "landcolor": "#E5ECF6",
           "showlakes": true,
           "showland": true,
           "subunitcolor": "white"
          },
          "hoverlabel": {
           "align": "left"
          },
          "hovermode": "closest",
          "mapbox": {
           "style": "light"
          },
          "paper_bgcolor": "white",
          "plot_bgcolor": "#E5ECF6",
          "polar": {
           "angularaxis": {
            "gridcolor": "white",
            "linecolor": "white",
            "ticks": ""
           },
           "bgcolor": "#E5ECF6",
           "radialaxis": {
            "gridcolor": "white",
            "linecolor": "white",
            "ticks": ""
           }
          },
          "scene": {
           "xaxis": {
            "backgroundcolor": "#E5ECF6",
            "gridcolor": "white",
            "gridwidth": 2,
            "linecolor": "white",
            "showbackground": true,
            "ticks": "",
            "zerolinecolor": "white"
           },
           "yaxis": {
            "backgroundcolor": "#E5ECF6",
            "gridcolor": "white",
            "gridwidth": 2,
            "linecolor": "white",
            "showbackground": true,
            "ticks": "",
            "zerolinecolor": "white"
           },
           "zaxis": {
            "backgroundcolor": "#E5ECF6",
            "gridcolor": "white",
            "gridwidth": 2,
            "linecolor": "white",
            "showbackground": true,
            "ticks": "",
            "zerolinecolor": "white"
           }
          },
          "shapedefaults": {
           "line": {
            "color": "#2a3f5f"
           }
          },
          "ternary": {
           "aaxis": {
            "gridcolor": "white",
            "linecolor": "white",
            "ticks": ""
           },
           "baxis": {
            "gridcolor": "white",
            "linecolor": "white",
            "ticks": ""
           },
           "bgcolor": "#E5ECF6",
           "caxis": {
            "gridcolor": "white",
            "linecolor": "white",
            "ticks": ""
           }
          },
          "title": {
           "x": 0.05
          },
          "xaxis": {
           "automargin": true,
           "gridcolor": "white",
           "linecolor": "white",
           "ticks": "",
           "title": {
            "standoff": 15
           },
           "zerolinecolor": "white",
           "zerolinewidth": 2
          },
          "yaxis": {
           "automargin": true,
           "gridcolor": "white",
           "linecolor": "white",
           "ticks": "",
           "title": {
            "standoff": 15
           },
           "zerolinecolor": "white",
           "zerolinewidth": 2
          }
         }
        },
        "title": {
         "text": "Covid cases by County"
        },
        "xaxis": {
         "anchor": "y",
         "domain": [
          0,
          1
         ],
         "title": {
          "text": "County"
         }
        },
        "yaxis": {
         "anchor": "x",
         "domain": [
          0,
          1
         ],
         "title": {
          "text": "value"
         }
        }
       }
      },
      "text/html": [
       "<div>                            <div id=\"ab9fa6a3-ffb2-4a4c-87f2-9c8ea13c0f04\" class=\"plotly-graph-div\" style=\"height:525px; width:100%;\"></div>            <script type=\"text/javascript\">                require([\"plotly\"], function(Plotly) {                    window.PLOTLYENV=window.PLOTLYENV || {};                                    if (document.getElementById(\"ab9fa6a3-ffb2-4a4c-87f2-9c8ea13c0f04\")) {                    Plotly.newPlot(                        \"ab9fa6a3-ffb2-4a4c-87f2-9c8ea13c0f04\",                        [{\"alignmentgroup\": \"True\", \"hovertemplate\": \"variable=Total Positive Cases<br>County=%{x}<br>value=%{y}<extra></extra>\", \"legendgroup\": \"Total Positive Cases\", \"marker\": {\"color\": \"#636efa\"}, \"name\": \"Total Positive Cases\", \"offsetgroup\": \"Total Positive Cases\", \"orientation\": \"v\", \"showlegend\": true, \"textposition\": \"auto\", \"type\": \"bar\", \"x\": [\"Aitkin\", \"Anoka\", \"Becker\", \"Beltrami\", \"Benton\", \"Big Stone\", \"Blue Earth\", \"Brown\", \"Carlton\", \"Carver\", \"Cass\", \"Chippewa\", \"Chisago\", \"Clay\", \"Clearwater\", \"Cook\", \"Cottonwood\", \"Crow Wing\", \"Dakota\", \"Dodge\", \"Douglas\", \"Faribault\", \"Fillmore\", \"Freeborn\", \"Goodhue\", \"Grant\", \"Hennepin\", \"Houston\", \"Hubbard\", \"Isanti\", \"Itasca\", \"Jackson\", \"Kanabec\", \"Kandiyohi\", \"Kittson\", \"Koochiching\", \"Lac qui Parle\", \"Lake\", \"Lake of the Woods\", \"Le Sueur\", \"Lincoln\", \"Lyon\", \"Mahnomen\", \"Marshall\", \"Martin\", \"McLeod\", \"Meeker\", \"Mille Lacs\", \"Morrison\", \"Mower\", \"Murray\", \"Nicollet\", \"Nobles\", \"Norman\", \"Olmsted\", \"Otter Tail\", \"Pennington\", \"Pine\", \"Pipestone\", \"Polk\", \"Pope\", \"Ramsey\", \"Red Lake\", \"Redwood\", \"Renville\", \"Rice\", \"Rock\", \"Roseau\", \"Scott\", \"Sherburne\", \"Sibley\", \"St. Louis\", \"Stearns\", \"Steele\", \"Stevens\", \"Swift\", \"Todd\", \"Traverse\", \"Wabasha\", \"Wadena\", \"Waseca\", \"Washington\", \"Watonwan\", \"Wilkin\", \"Winona\", \"Wright\", \"Yellow Medicine\", \"Unknown/Missing\"], \"xaxis\": \"x\", \"y\": [1191, 33391, 3131, 3386, 4482, 516, 5983, 2461, 3001, 7798, 2207, 1367, 5003, 6936, 719, 118, 1354, 5223, 36478, 1535, 3936, 1240, 1383, 2841, 3875, 491, 101110, 1580, 1607, 3076, 3140, 940, 1078, 5801, 409, 620, 686, 742, 220, 2369, 512, 3136, 441, 780, 1903, 3402, 2079, 2285, 3256, 4081, 949, 2604, 3871, 478, 11833, 4843, 1370, 2824, 1017, 3443, 808, 43212, 362, 1470, 1512, 6715, 1158, 1807, 13354, 8761, 1173, 14838, 18774, 3023, 744, 879, 2489, 310, 1867, 1313, 2097, 22156, 1176, 677, 4193, 12554, 977, 444], \"yaxis\": \"y\"}, {\"alignmentgroup\": \"True\", \"hovertemplate\": \"variable=Total Deaths<br>County=%{x}<br>value=%{y}<extra></extra>\", \"legendgroup\": \"Total Deaths\", \"marker\": {\"color\": \"#EF553B\"}, \"name\": \"Total Deaths\", \"offsetgroup\": \"Total Deaths\", \"orientation\": \"v\", \"showlegend\": true, \"textposition\": \"auto\", \"type\": \"bar\", \"x\": [\"Aitkin\", \"Anoka\", \"Becker\", \"Beltrami\", \"Benton\", \"Big Stone\", \"Blue Earth\", \"Brown\", \"Carlton\", \"Carver\", \"Cass\", \"Chippewa\", \"Chisago\", \"Clay\", \"Clearwater\", \"Cook\", \"Cottonwood\", \"Crow Wing\", \"Dakota\", \"Dodge\", \"Douglas\", \"Faribault\", \"Fillmore\", \"Freeborn\", \"Goodhue\", \"Grant\", \"Hennepin\", \"Houston\", \"Hubbard\", \"Isanti\", \"Itasca\", \"Jackson\", \"Kanabec\", \"Kandiyohi\", \"Kittson\", \"Koochiching\", \"Lac qui Parle\", \"Lake\", \"Lake of the Woods\", \"Le Sueur\", \"Lincoln\", \"Lyon\", \"Mahnomen\", \"Marshall\", \"Martin\", \"McLeod\", \"Meeker\", \"Mille Lacs\", \"Morrison\", \"Mower\", \"Murray\", \"Nicollet\", \"Nobles\", \"Norman\", \"Olmsted\", \"Otter Tail\", \"Pennington\", \"Pine\", \"Pipestone\", \"Polk\", \"Pope\", \"Ramsey\", \"Red Lake\", \"Redwood\", \"Renville\", \"Rice\", \"Rock\", \"Roseau\", \"Scott\", \"Sherburne\", \"Sibley\", \"St. Louis\", \"Stearns\", \"Steele\", \"Stevens\", \"Swift\", \"Todd\", \"Traverse\", \"Wabasha\", \"Wadena\", \"Waseca\", \"Washington\", \"Watonwan\", \"Wilkin\", \"Winona\", \"Wright\", \"Yellow Medicine\", \"Unknown/Missing\"], \"xaxis\": \"x\", \"y\": [33, 390, 42, 51, 90, 3, 35, 37, 49, 40, 24, 35, 45, 87, 14, 0, 20, 82, 392, 4, 68, 17, 8, 24, 69, 8, 1588, 14, 41, 56, 46, 10, 19, 74, 21, 11, 16, 18, 1, 20, 2, 44, 7, 15, 28, 50, 34, 47, 47, 31, 8, 41, 47, 8, 89, 70, 16, 16, 24, 63, 5, 805, 5, 27, 40, 91, 14, 17, 107, 73, 10, 264, 202, 11, 8, 18, 30, 5, 3, 20, 17, 259, 8, 11, 49, 116, 17, 0], \"yaxis\": \"y\"}],                        {\"barmode\": \"relative\", \"legend\": {\"title\": {\"text\": \"variable\"}, \"tracegroupgap\": 0}, \"template\": {\"data\": {\"bar\": [{\"error_x\": {\"color\": \"#2a3f5f\"}, \"error_y\": {\"color\": \"#2a3f5f\"}, \"marker\": {\"line\": {\"color\": \"#E5ECF6\", \"width\": 0.5}}, \"type\": \"bar\"}], \"barpolar\": [{\"marker\": {\"line\": {\"color\": \"#E5ECF6\", \"width\": 0.5}}, \"type\": \"barpolar\"}], \"carpet\": [{\"aaxis\": {\"endlinecolor\": \"#2a3f5f\", \"gridcolor\": \"white\", \"linecolor\": \"white\", \"minorgridcolor\": \"white\", \"startlinecolor\": \"#2a3f5f\"}, \"baxis\": {\"endlinecolor\": \"#2a3f5f\", \"gridcolor\": \"white\", \"linecolor\": \"white\", \"minorgridcolor\": \"white\", \"startlinecolor\": \"#2a3f5f\"}, \"type\": \"carpet\"}], \"choropleth\": [{\"colorbar\": {\"outlinewidth\": 0, \"ticks\": \"\"}, \"type\": \"choropleth\"}], \"contour\": [{\"colorbar\": {\"outlinewidth\": 0, \"ticks\": \"\"}, \"colorscale\": [[0.0, \"#0d0887\"], [0.1111111111111111, \"#46039f\"], [0.2222222222222222, \"#7201a8\"], [0.3333333333333333, \"#9c179e\"], [0.4444444444444444, \"#bd3786\"], [0.5555555555555556, \"#d8576b\"], [0.6666666666666666, \"#ed7953\"], [0.7777777777777778, \"#fb9f3a\"], [0.8888888888888888, \"#fdca26\"], [1.0, \"#f0f921\"]], \"type\": \"contour\"}], \"contourcarpet\": [{\"colorbar\": {\"outlinewidth\": 0, \"ticks\": \"\"}, \"type\": \"contourcarpet\"}], \"heatmap\": [{\"colorbar\": {\"outlinewidth\": 0, \"ticks\": \"\"}, \"colorscale\": [[0.0, \"#0d0887\"], [0.1111111111111111, \"#46039f\"], [0.2222222222222222, \"#7201a8\"], [0.3333333333333333, \"#9c179e\"], [0.4444444444444444, \"#bd3786\"], [0.5555555555555556, \"#d8576b\"], [0.6666666666666666, \"#ed7953\"], [0.7777777777777778, \"#fb9f3a\"], [0.8888888888888888, \"#fdca26\"], [1.0, \"#f0f921\"]], \"type\": \"heatmap\"}], \"heatmapgl\": [{\"colorbar\": {\"outlinewidth\": 0, \"ticks\": \"\"}, \"colorscale\": [[0.0, \"#0d0887\"], [0.1111111111111111, \"#46039f\"], [0.2222222222222222, \"#7201a8\"], [0.3333333333333333, \"#9c179e\"], [0.4444444444444444, \"#bd3786\"], [0.5555555555555556, \"#d8576b\"], [0.6666666666666666, \"#ed7953\"], [0.7777777777777778, \"#fb9f3a\"], [0.8888888888888888, \"#fdca26\"], [1.0, \"#f0f921\"]], \"type\": \"heatmapgl\"}], \"histogram\": [{\"marker\": {\"colorbar\": {\"outlinewidth\": 0, \"ticks\": \"\"}}, \"type\": \"histogram\"}], \"histogram2d\": [{\"colorbar\": {\"outlinewidth\": 0, \"ticks\": \"\"}, \"colorscale\": [[0.0, \"#0d0887\"], [0.1111111111111111, \"#46039f\"], [0.2222222222222222, \"#7201a8\"], [0.3333333333333333, \"#9c179e\"], [0.4444444444444444, \"#bd3786\"], [0.5555555555555556, \"#d8576b\"], [0.6666666666666666, \"#ed7953\"], [0.7777777777777778, \"#fb9f3a\"], [0.8888888888888888, \"#fdca26\"], [1.0, \"#f0f921\"]], \"type\": \"histogram2d\"}], \"histogram2dcontour\": [{\"colorbar\": {\"outlinewidth\": 0, \"ticks\": \"\"}, \"colorscale\": [[0.0, \"#0d0887\"], [0.1111111111111111, \"#46039f\"], [0.2222222222222222, \"#7201a8\"], [0.3333333333333333, \"#9c179e\"], [0.4444444444444444, \"#bd3786\"], [0.5555555555555556, \"#d8576b\"], [0.6666666666666666, \"#ed7953\"], [0.7777777777777778, \"#fb9f3a\"], [0.8888888888888888, \"#fdca26\"], [1.0, \"#f0f921\"]], \"type\": \"histogram2dcontour\"}], \"mesh3d\": [{\"colorbar\": {\"outlinewidth\": 0, \"ticks\": \"\"}, \"type\": \"mesh3d\"}], \"parcoords\": [{\"line\": {\"colorbar\": {\"outlinewidth\": 0, \"ticks\": \"\"}}, \"type\": \"parcoords\"}], \"pie\": [{\"automargin\": true, \"type\": \"pie\"}], \"scatter\": [{\"marker\": {\"colorbar\": {\"outlinewidth\": 0, \"ticks\": \"\"}}, \"type\": \"scatter\"}], \"scatter3d\": [{\"line\": {\"colorbar\": {\"outlinewidth\": 0, \"ticks\": \"\"}}, \"marker\": {\"colorbar\": {\"outlinewidth\": 0, \"ticks\": \"\"}}, \"type\": \"scatter3d\"}], \"scattercarpet\": [{\"marker\": {\"colorbar\": {\"outlinewidth\": 0, \"ticks\": \"\"}}, \"type\": \"scattercarpet\"}], \"scattergeo\": [{\"marker\": {\"colorbar\": {\"outlinewidth\": 0, \"ticks\": \"\"}}, \"type\": \"scattergeo\"}], \"scattergl\": [{\"marker\": {\"colorbar\": {\"outlinewidth\": 0, \"ticks\": \"\"}}, \"type\": \"scattergl\"}], \"scattermapbox\": [{\"marker\": {\"colorbar\": {\"outlinewidth\": 0, \"ticks\": \"\"}}, \"type\": \"scattermapbox\"}], \"scatterpolar\": [{\"marker\": {\"colorbar\": {\"outlinewidth\": 0, \"ticks\": \"\"}}, \"type\": \"scatterpolar\"}], \"scatterpolargl\": [{\"marker\": {\"colorbar\": {\"outlinewidth\": 0, \"ticks\": \"\"}}, \"type\": \"scatterpolargl\"}], \"scatterternary\": [{\"marker\": {\"colorbar\": {\"outlinewidth\": 0, \"ticks\": \"\"}}, \"type\": \"scatterternary\"}], \"surface\": [{\"colorbar\": {\"outlinewidth\": 0, \"ticks\": \"\"}, \"colorscale\": [[0.0, \"#0d0887\"], [0.1111111111111111, \"#46039f\"], [0.2222222222222222, \"#7201a8\"], [0.3333333333333333, \"#9c179e\"], [0.4444444444444444, \"#bd3786\"], [0.5555555555555556, \"#d8576b\"], [0.6666666666666666, \"#ed7953\"], [0.7777777777777778, \"#fb9f3a\"], [0.8888888888888888, \"#fdca26\"], [1.0, \"#f0f921\"]], \"type\": \"surface\"}], \"table\": [{\"cells\": {\"fill\": {\"color\": \"#EBF0F8\"}, \"line\": {\"color\": \"white\"}}, \"header\": {\"fill\": {\"color\": \"#C8D4E3\"}, \"line\": {\"color\": \"white\"}}, \"type\": \"table\"}]}, \"layout\": {\"annotationdefaults\": {\"arrowcolor\": \"#2a3f5f\", \"arrowhead\": 0, \"arrowwidth\": 1}, \"autotypenumbers\": \"strict\", \"coloraxis\": {\"colorbar\": {\"outlinewidth\": 0, \"ticks\": \"\"}}, \"colorscale\": {\"diverging\": [[0, \"#8e0152\"], [0.1, \"#c51b7d\"], [0.2, \"#de77ae\"], [0.3, \"#f1b6da\"], [0.4, \"#fde0ef\"], [0.5, \"#f7f7f7\"], [0.6, \"#e6f5d0\"], [0.7, \"#b8e186\"], [0.8, \"#7fbc41\"], [0.9, \"#4d9221\"], [1, \"#276419\"]], \"sequential\": [[0.0, \"#0d0887\"], [0.1111111111111111, \"#46039f\"], [0.2222222222222222, \"#7201a8\"], [0.3333333333333333, \"#9c179e\"], [0.4444444444444444, \"#bd3786\"], [0.5555555555555556, \"#d8576b\"], [0.6666666666666666, \"#ed7953\"], [0.7777777777777778, \"#fb9f3a\"], [0.8888888888888888, \"#fdca26\"], [1.0, \"#f0f921\"]], \"sequentialminus\": [[0.0, \"#0d0887\"], [0.1111111111111111, \"#46039f\"], [0.2222222222222222, \"#7201a8\"], [0.3333333333333333, \"#9c179e\"], [0.4444444444444444, \"#bd3786\"], [0.5555555555555556, \"#d8576b\"], [0.6666666666666666, \"#ed7953\"], [0.7777777777777778, \"#fb9f3a\"], [0.8888888888888888, \"#fdca26\"], [1.0, \"#f0f921\"]]}, \"colorway\": [\"#636efa\", \"#EF553B\", \"#00cc96\", \"#ab63fa\", \"#FFA15A\", \"#19d3f3\", \"#FF6692\", \"#B6E880\", \"#FF97FF\", \"#FECB52\"], \"font\": {\"color\": \"#2a3f5f\"}, \"geo\": {\"bgcolor\": \"white\", \"lakecolor\": \"white\", \"landcolor\": \"#E5ECF6\", \"showlakes\": true, \"showland\": true, \"subunitcolor\": \"white\"}, \"hoverlabel\": {\"align\": \"left\"}, \"hovermode\": \"closest\", \"mapbox\": {\"style\": \"light\"}, \"paper_bgcolor\": \"white\", \"plot_bgcolor\": \"#E5ECF6\", \"polar\": {\"angularaxis\": {\"gridcolor\": \"white\", \"linecolor\": \"white\", \"ticks\": \"\"}, \"bgcolor\": \"#E5ECF6\", \"radialaxis\": {\"gridcolor\": \"white\", \"linecolor\": \"white\", \"ticks\": \"\"}}, \"scene\": {\"xaxis\": {\"backgroundcolor\": \"#E5ECF6\", \"gridcolor\": \"white\", \"gridwidth\": 2, \"linecolor\": \"white\", \"showbackground\": true, \"ticks\": \"\", \"zerolinecolor\": \"white\"}, \"yaxis\": {\"backgroundcolor\": \"#E5ECF6\", \"gridcolor\": \"white\", \"gridwidth\": 2, \"linecolor\": \"white\", \"showbackground\": true, \"ticks\": \"\", \"zerolinecolor\": \"white\"}, \"zaxis\": {\"backgroundcolor\": \"#E5ECF6\", \"gridcolor\": \"white\", \"gridwidth\": 2, \"linecolor\": \"white\", \"showbackground\": true, \"ticks\": \"\", \"zerolinecolor\": \"white\"}}, \"shapedefaults\": {\"line\": {\"color\": \"#2a3f5f\"}}, \"ternary\": {\"aaxis\": {\"gridcolor\": \"white\", \"linecolor\": \"white\", \"ticks\": \"\"}, \"baxis\": {\"gridcolor\": \"white\", \"linecolor\": \"white\", \"ticks\": \"\"}, \"bgcolor\": \"#E5ECF6\", \"caxis\": {\"gridcolor\": \"white\", \"linecolor\": \"white\", \"ticks\": \"\"}}, \"title\": {\"x\": 0.05}, \"xaxis\": {\"automargin\": true, \"gridcolor\": \"white\", \"linecolor\": \"white\", \"ticks\": \"\", \"title\": {\"standoff\": 15}, \"zerolinecolor\": \"white\", \"zerolinewidth\": 2}, \"yaxis\": {\"automargin\": true, \"gridcolor\": \"white\", \"linecolor\": \"white\", \"ticks\": \"\", \"title\": {\"standoff\": 15}, \"zerolinecolor\": \"white\", \"zerolinewidth\": 2}}}, \"title\": {\"text\": \"Covid cases by County\"}, \"xaxis\": {\"anchor\": \"y\", \"domain\": [0.0, 1.0], \"title\": {\"text\": \"County\"}}, \"yaxis\": {\"anchor\": \"x\", \"domain\": [0.0, 1.0], \"title\": {\"text\": \"value\"}}},                        {\"responsive\": true}                    ).then(function(){\n",
       "                            \n",
       "var gd = document.getElementById('ab9fa6a3-ffb2-4a4c-87f2-9c8ea13c0f04');\n",
       "var x = new MutationObserver(function (mutations, observer) {{\n",
       "        var display = window.getComputedStyle(gd).display;\n",
       "        if (!display || display === 'none') {{\n",
       "            console.log([gd, 'removed!']);\n",
       "            Plotly.purge(gd);\n",
       "            observer.disconnect();\n",
       "        }}\n",
       "}});\n",
       "\n",
       "// Listen for the removal of the full notebook cells\n",
       "var notebookContainer = gd.closest('#notebook-container');\n",
       "if (notebookContainer) {{\n",
       "    x.observe(notebookContainer, {childList: true});\n",
       "}}\n",
       "\n",
       "// Listen for the clearing of the current output cell\n",
       "var outputEl = gd.closest('.output');\n",
       "if (outputEl) {{\n",
       "    x.observe(outputEl, {childList: true});\n",
       "}}\n",
       "\n",
       "                        })                };                });            </script>        </div>"
      ]
     },
     "metadata": {},
     "output_type": "display_data"
    }
   ],
   "source": [
    "# long_df = px.compiledcountydata.medals_long()\n",
    "fig = px.bar(compiledcountydata, x=\"County\", y=[\"Total Positive Cases\", \"Total Deaths\"], title=\"Covid cases by County\")\n",
    "fig.show()\n"
   ]
  },
  {
   "cell_type": "code",
   "execution_count": 26,
   "metadata": {},
   "outputs": [
    {
     "data": {
      "application/vnd.plotly.v1+json": {
       "config": {
        "plotlyServerURL": "https://plot.ly"
       },
       "data": [
        {
         "alignmentgroup": "True",
         "bingroup": "x",
         "hovertemplate": "Total Deaths=33<br>Total Positive Cases=%{x}<br>count=%{y}<extra></extra>",
         "legendgroup": "33",
         "marker": {
          "color": "#636efa"
         },
         "name": "33",
         "offsetgroup": "33",
         "orientation": "v",
         "showlegend": true,
         "type": "histogram",
         "x": [
          1191
         ],
         "xaxis": "x",
         "yaxis": "y"
        },
        {
         "alignmentgroup": "True",
         "bingroup": "x",
         "hovertemplate": "Total Deaths=390<br>Total Positive Cases=%{x}<br>count=%{y}<extra></extra>",
         "legendgroup": "390",
         "marker": {
          "color": "#EF553B"
         },
         "name": "390",
         "offsetgroup": "390",
         "orientation": "v",
         "showlegend": true,
         "type": "histogram",
         "x": [
          33391
         ],
         "xaxis": "x",
         "yaxis": "y"
        },
        {
         "alignmentgroup": "True",
         "bingroup": "x",
         "hovertemplate": "Total Deaths=42<br>Total Positive Cases=%{x}<br>count=%{y}<extra></extra>",
         "legendgroup": "42",
         "marker": {
          "color": "#00cc96"
         },
         "name": "42",
         "offsetgroup": "42",
         "orientation": "v",
         "showlegend": true,
         "type": "histogram",
         "x": [
          3131
         ],
         "xaxis": "x",
         "yaxis": "y"
        },
        {
         "alignmentgroup": "True",
         "bingroup": "x",
         "hovertemplate": "Total Deaths=51<br>Total Positive Cases=%{x}<br>count=%{y}<extra></extra>",
         "legendgroup": "51",
         "marker": {
          "color": "#ab63fa"
         },
         "name": "51",
         "offsetgroup": "51",
         "orientation": "v",
         "showlegend": true,
         "type": "histogram",
         "x": [
          3386
         ],
         "xaxis": "x",
         "yaxis": "y"
        },
        {
         "alignmentgroup": "True",
         "bingroup": "x",
         "hovertemplate": "Total Deaths=90<br>Total Positive Cases=%{x}<br>count=%{y}<extra></extra>",
         "legendgroup": "90",
         "marker": {
          "color": "#FFA15A"
         },
         "name": "90",
         "offsetgroup": "90",
         "orientation": "v",
         "showlegend": true,
         "type": "histogram",
         "x": [
          4482
         ],
         "xaxis": "x",
         "yaxis": "y"
        },
        {
         "alignmentgroup": "True",
         "bingroup": "x",
         "hovertemplate": "Total Deaths=3<br>Total Positive Cases=%{x}<br>count=%{y}<extra></extra>",
         "legendgroup": "3",
         "marker": {
          "color": "#19d3f3"
         },
         "name": "3",
         "offsetgroup": "3",
         "orientation": "v",
         "showlegend": true,
         "type": "histogram",
         "x": [
          516,
          1867
         ],
         "xaxis": "x",
         "yaxis": "y"
        },
        {
         "alignmentgroup": "True",
         "bingroup": "x",
         "hovertemplate": "Total Deaths=35<br>Total Positive Cases=%{x}<br>count=%{y}<extra></extra>",
         "legendgroup": "35",
         "marker": {
          "color": "#FF6692"
         },
         "name": "35",
         "offsetgroup": "35",
         "orientation": "v",
         "showlegend": true,
         "type": "histogram",
         "x": [
          5983,
          1367
         ],
         "xaxis": "x",
         "yaxis": "y"
        },
        {
         "alignmentgroup": "True",
         "bingroup": "x",
         "hovertemplate": "Total Deaths=37<br>Total Positive Cases=%{x}<br>count=%{y}<extra></extra>",
         "legendgroup": "37",
         "marker": {
          "color": "#B6E880"
         },
         "name": "37",
         "offsetgroup": "37",
         "orientation": "v",
         "showlegend": true,
         "type": "histogram",
         "x": [
          2461
         ],
         "xaxis": "x",
         "yaxis": "y"
        },
        {
         "alignmentgroup": "True",
         "bingroup": "x",
         "hovertemplate": "Total Deaths=49<br>Total Positive Cases=%{x}<br>count=%{y}<extra></extra>",
         "legendgroup": "49",
         "marker": {
          "color": "#FF97FF"
         },
         "name": "49",
         "offsetgroup": "49",
         "orientation": "v",
         "showlegend": true,
         "type": "histogram",
         "x": [
          3001,
          4193
         ],
         "xaxis": "x",
         "yaxis": "y"
        },
        {
         "alignmentgroup": "True",
         "bingroup": "x",
         "hovertemplate": "Total Deaths=40<br>Total Positive Cases=%{x}<br>count=%{y}<extra></extra>",
         "legendgroup": "40",
         "marker": {
          "color": "#FECB52"
         },
         "name": "40",
         "offsetgroup": "40",
         "orientation": "v",
         "showlegend": true,
         "type": "histogram",
         "x": [
          7798,
          1512
         ],
         "xaxis": "x",
         "yaxis": "y"
        },
        {
         "alignmentgroup": "True",
         "bingroup": "x",
         "hovertemplate": "Total Deaths=24<br>Total Positive Cases=%{x}<br>count=%{y}<extra></extra>",
         "legendgroup": "24",
         "marker": {
          "color": "#636efa"
         },
         "name": "24",
         "offsetgroup": "24",
         "orientation": "v",
         "showlegend": true,
         "type": "histogram",
         "x": [
          2207,
          2841,
          1017
         ],
         "xaxis": "x",
         "yaxis": "y"
        },
        {
         "alignmentgroup": "True",
         "bingroup": "x",
         "hovertemplate": "Total Deaths=45<br>Total Positive Cases=%{x}<br>count=%{y}<extra></extra>",
         "legendgroup": "45",
         "marker": {
          "color": "#EF553B"
         },
         "name": "45",
         "offsetgroup": "45",
         "orientation": "v",
         "showlegend": true,
         "type": "histogram",
         "x": [
          5003
         ],
         "xaxis": "x",
         "yaxis": "y"
        },
        {
         "alignmentgroup": "True",
         "bingroup": "x",
         "hovertemplate": "Total Deaths=87<br>Total Positive Cases=%{x}<br>count=%{y}<extra></extra>",
         "legendgroup": "87",
         "marker": {
          "color": "#00cc96"
         },
         "name": "87",
         "offsetgroup": "87",
         "orientation": "v",
         "showlegend": true,
         "type": "histogram",
         "x": [
          6936
         ],
         "xaxis": "x",
         "yaxis": "y"
        },
        {
         "alignmentgroup": "True",
         "bingroup": "x",
         "hovertemplate": "Total Deaths=14<br>Total Positive Cases=%{x}<br>count=%{y}<extra></extra>",
         "legendgroup": "14",
         "marker": {
          "color": "#ab63fa"
         },
         "name": "14",
         "offsetgroup": "14",
         "orientation": "v",
         "showlegend": true,
         "type": "histogram",
         "x": [
          719,
          1580,
          1158
         ],
         "xaxis": "x",
         "yaxis": "y"
        },
        {
         "alignmentgroup": "True",
         "bingroup": "x",
         "hovertemplate": "Total Deaths=0<br>Total Positive Cases=%{x}<br>count=%{y}<extra></extra>",
         "legendgroup": "0",
         "marker": {
          "color": "#FFA15A"
         },
         "name": "0",
         "offsetgroup": "0",
         "orientation": "v",
         "showlegend": true,
         "type": "histogram",
         "x": [
          118,
          444
         ],
         "xaxis": "x",
         "yaxis": "y"
        },
        {
         "alignmentgroup": "True",
         "bingroup": "x",
         "hovertemplate": "Total Deaths=20<br>Total Positive Cases=%{x}<br>count=%{y}<extra></extra>",
         "legendgroup": "20",
         "marker": {
          "color": "#19d3f3"
         },
         "name": "20",
         "offsetgroup": "20",
         "orientation": "v",
         "showlegend": true,
         "type": "histogram",
         "x": [
          1354,
          2369,
          1313
         ],
         "xaxis": "x",
         "yaxis": "y"
        },
        {
         "alignmentgroup": "True",
         "bingroup": "x",
         "hovertemplate": "Total Deaths=82<br>Total Positive Cases=%{x}<br>count=%{y}<extra></extra>",
         "legendgroup": "82",
         "marker": {
          "color": "#FF6692"
         },
         "name": "82",
         "offsetgroup": "82",
         "orientation": "v",
         "showlegend": true,
         "type": "histogram",
         "x": [
          5223
         ],
         "xaxis": "x",
         "yaxis": "y"
        },
        {
         "alignmentgroup": "True",
         "bingroup": "x",
         "hovertemplate": "Total Deaths=392<br>Total Positive Cases=%{x}<br>count=%{y}<extra></extra>",
         "legendgroup": "392",
         "marker": {
          "color": "#B6E880"
         },
         "name": "392",
         "offsetgroup": "392",
         "orientation": "v",
         "showlegend": true,
         "type": "histogram",
         "x": [
          36478
         ],
         "xaxis": "x",
         "yaxis": "y"
        },
        {
         "alignmentgroup": "True",
         "bingroup": "x",
         "hovertemplate": "Total Deaths=4<br>Total Positive Cases=%{x}<br>count=%{y}<extra></extra>",
         "legendgroup": "4",
         "marker": {
          "color": "#FF97FF"
         },
         "name": "4",
         "offsetgroup": "4",
         "orientation": "v",
         "showlegend": true,
         "type": "histogram",
         "x": [
          1535
         ],
         "xaxis": "x",
         "yaxis": "y"
        },
        {
         "alignmentgroup": "True",
         "bingroup": "x",
         "hovertemplate": "Total Deaths=68<br>Total Positive Cases=%{x}<br>count=%{y}<extra></extra>",
         "legendgroup": "68",
         "marker": {
          "color": "#FECB52"
         },
         "name": "68",
         "offsetgroup": "68",
         "orientation": "v",
         "showlegend": true,
         "type": "histogram",
         "x": [
          3936
         ],
         "xaxis": "x",
         "yaxis": "y"
        },
        {
         "alignmentgroup": "True",
         "bingroup": "x",
         "hovertemplate": "Total Deaths=17<br>Total Positive Cases=%{x}<br>count=%{y}<extra></extra>",
         "legendgroup": "17",
         "marker": {
          "color": "#636efa"
         },
         "name": "17",
         "offsetgroup": "17",
         "orientation": "v",
         "showlegend": true,
         "type": "histogram",
         "x": [
          1240,
          1807,
          2097,
          977
         ],
         "xaxis": "x",
         "yaxis": "y"
        },
        {
         "alignmentgroup": "True",
         "bingroup": "x",
         "hovertemplate": "Total Deaths=8<br>Total Positive Cases=%{x}<br>count=%{y}<extra></extra>",
         "legendgroup": "8",
         "marker": {
          "color": "#EF553B"
         },
         "name": "8",
         "offsetgroup": "8",
         "orientation": "v",
         "showlegend": true,
         "type": "histogram",
         "x": [
          1383,
          491,
          949,
          478,
          744,
          1176
         ],
         "xaxis": "x",
         "yaxis": "y"
        },
        {
         "alignmentgroup": "True",
         "bingroup": "x",
         "hovertemplate": "Total Deaths=69<br>Total Positive Cases=%{x}<br>count=%{y}<extra></extra>",
         "legendgroup": "69",
         "marker": {
          "color": "#00cc96"
         },
         "name": "69",
         "offsetgroup": "69",
         "orientation": "v",
         "showlegend": true,
         "type": "histogram",
         "x": [
          3875
         ],
         "xaxis": "x",
         "yaxis": "y"
        },
        {
         "alignmentgroup": "True",
         "bingroup": "x",
         "hovertemplate": "Total Deaths=1588<br>Total Positive Cases=%{x}<br>count=%{y}<extra></extra>",
         "legendgroup": "1588",
         "marker": {
          "color": "#ab63fa"
         },
         "name": "1588",
         "offsetgroup": "1588",
         "orientation": "v",
         "showlegend": true,
         "type": "histogram",
         "x": [
          101110
         ],
         "xaxis": "x",
         "yaxis": "y"
        },
        {
         "alignmentgroup": "True",
         "bingroup": "x",
         "hovertemplate": "Total Deaths=41<br>Total Positive Cases=%{x}<br>count=%{y}<extra></extra>",
         "legendgroup": "41",
         "marker": {
          "color": "#FFA15A"
         },
         "name": "41",
         "offsetgroup": "41",
         "orientation": "v",
         "showlegend": true,
         "type": "histogram",
         "x": [
          1607,
          2604
         ],
         "xaxis": "x",
         "yaxis": "y"
        },
        {
         "alignmentgroup": "True",
         "bingroup": "x",
         "hovertemplate": "Total Deaths=56<br>Total Positive Cases=%{x}<br>count=%{y}<extra></extra>",
         "legendgroup": "56",
         "marker": {
          "color": "#19d3f3"
         },
         "name": "56",
         "offsetgroup": "56",
         "orientation": "v",
         "showlegend": true,
         "type": "histogram",
         "x": [
          3076
         ],
         "xaxis": "x",
         "yaxis": "y"
        },
        {
         "alignmentgroup": "True",
         "bingroup": "x",
         "hovertemplate": "Total Deaths=46<br>Total Positive Cases=%{x}<br>count=%{y}<extra></extra>",
         "legendgroup": "46",
         "marker": {
          "color": "#FF6692"
         },
         "name": "46",
         "offsetgroup": "46",
         "orientation": "v",
         "showlegend": true,
         "type": "histogram",
         "x": [
          3140
         ],
         "xaxis": "x",
         "yaxis": "y"
        },
        {
         "alignmentgroup": "True",
         "bingroup": "x",
         "hovertemplate": "Total Deaths=10<br>Total Positive Cases=%{x}<br>count=%{y}<extra></extra>",
         "legendgroup": "10",
         "marker": {
          "color": "#B6E880"
         },
         "name": "10",
         "offsetgroup": "10",
         "orientation": "v",
         "showlegend": true,
         "type": "histogram",
         "x": [
          940,
          1173
         ],
         "xaxis": "x",
         "yaxis": "y"
        },
        {
         "alignmentgroup": "True",
         "bingroup": "x",
         "hovertemplate": "Total Deaths=19<br>Total Positive Cases=%{x}<br>count=%{y}<extra></extra>",
         "legendgroup": "19",
         "marker": {
          "color": "#FF97FF"
         },
         "name": "19",
         "offsetgroup": "19",
         "orientation": "v",
         "showlegend": true,
         "type": "histogram",
         "x": [
          1078
         ],
         "xaxis": "x",
         "yaxis": "y"
        },
        {
         "alignmentgroup": "True",
         "bingroup": "x",
         "hovertemplate": "Total Deaths=74<br>Total Positive Cases=%{x}<br>count=%{y}<extra></extra>",
         "legendgroup": "74",
         "marker": {
          "color": "#FECB52"
         },
         "name": "74",
         "offsetgroup": "74",
         "orientation": "v",
         "showlegend": true,
         "type": "histogram",
         "x": [
          5801
         ],
         "xaxis": "x",
         "yaxis": "y"
        },
        {
         "alignmentgroup": "True",
         "bingroup": "x",
         "hovertemplate": "Total Deaths=21<br>Total Positive Cases=%{x}<br>count=%{y}<extra></extra>",
         "legendgroup": "21",
         "marker": {
          "color": "#636efa"
         },
         "name": "21",
         "offsetgroup": "21",
         "orientation": "v",
         "showlegend": true,
         "type": "histogram",
         "x": [
          409
         ],
         "xaxis": "x",
         "yaxis": "y"
        },
        {
         "alignmentgroup": "True",
         "bingroup": "x",
         "hovertemplate": "Total Deaths=11<br>Total Positive Cases=%{x}<br>count=%{y}<extra></extra>",
         "legendgroup": "11",
         "marker": {
          "color": "#EF553B"
         },
         "name": "11",
         "offsetgroup": "11",
         "orientation": "v",
         "showlegend": true,
         "type": "histogram",
         "x": [
          620,
          3023,
          677
         ],
         "xaxis": "x",
         "yaxis": "y"
        },
        {
         "alignmentgroup": "True",
         "bingroup": "x",
         "hovertemplate": "Total Deaths=16<br>Total Positive Cases=%{x}<br>count=%{y}<extra></extra>",
         "legendgroup": "16",
         "marker": {
          "color": "#00cc96"
         },
         "name": "16",
         "offsetgroup": "16",
         "orientation": "v",
         "showlegend": true,
         "type": "histogram",
         "x": [
          686,
          1370,
          2824
         ],
         "xaxis": "x",
         "yaxis": "y"
        },
        {
         "alignmentgroup": "True",
         "bingroup": "x",
         "hovertemplate": "Total Deaths=18<br>Total Positive Cases=%{x}<br>count=%{y}<extra></extra>",
         "legendgroup": "18",
         "marker": {
          "color": "#ab63fa"
         },
         "name": "18",
         "offsetgroup": "18",
         "orientation": "v",
         "showlegend": true,
         "type": "histogram",
         "x": [
          742,
          879
         ],
         "xaxis": "x",
         "yaxis": "y"
        },
        {
         "alignmentgroup": "True",
         "bingroup": "x",
         "hovertemplate": "Total Deaths=1<br>Total Positive Cases=%{x}<br>count=%{y}<extra></extra>",
         "legendgroup": "1",
         "marker": {
          "color": "#FFA15A"
         },
         "name": "1",
         "offsetgroup": "1",
         "orientation": "v",
         "showlegend": true,
         "type": "histogram",
         "x": [
          220
         ],
         "xaxis": "x",
         "yaxis": "y"
        },
        {
         "alignmentgroup": "True",
         "bingroup": "x",
         "hovertemplate": "Total Deaths=2<br>Total Positive Cases=%{x}<br>count=%{y}<extra></extra>",
         "legendgroup": "2",
         "marker": {
          "color": "#19d3f3"
         },
         "name": "2",
         "offsetgroup": "2",
         "orientation": "v",
         "showlegend": true,
         "type": "histogram",
         "x": [
          512
         ],
         "xaxis": "x",
         "yaxis": "y"
        },
        {
         "alignmentgroup": "True",
         "bingroup": "x",
         "hovertemplate": "Total Deaths=44<br>Total Positive Cases=%{x}<br>count=%{y}<extra></extra>",
         "legendgroup": "44",
         "marker": {
          "color": "#FF6692"
         },
         "name": "44",
         "offsetgroup": "44",
         "orientation": "v",
         "showlegend": true,
         "type": "histogram",
         "x": [
          3136
         ],
         "xaxis": "x",
         "yaxis": "y"
        },
        {
         "alignmentgroup": "True",
         "bingroup": "x",
         "hovertemplate": "Total Deaths=7<br>Total Positive Cases=%{x}<br>count=%{y}<extra></extra>",
         "legendgroup": "7",
         "marker": {
          "color": "#B6E880"
         },
         "name": "7",
         "offsetgroup": "7",
         "orientation": "v",
         "showlegend": true,
         "type": "histogram",
         "x": [
          441
         ],
         "xaxis": "x",
         "yaxis": "y"
        },
        {
         "alignmentgroup": "True",
         "bingroup": "x",
         "hovertemplate": "Total Deaths=15<br>Total Positive Cases=%{x}<br>count=%{y}<extra></extra>",
         "legendgroup": "15",
         "marker": {
          "color": "#FF97FF"
         },
         "name": "15",
         "offsetgroup": "15",
         "orientation": "v",
         "showlegend": true,
         "type": "histogram",
         "x": [
          780
         ],
         "xaxis": "x",
         "yaxis": "y"
        },
        {
         "alignmentgroup": "True",
         "bingroup": "x",
         "hovertemplate": "Total Deaths=28<br>Total Positive Cases=%{x}<br>count=%{y}<extra></extra>",
         "legendgroup": "28",
         "marker": {
          "color": "#FECB52"
         },
         "name": "28",
         "offsetgroup": "28",
         "orientation": "v",
         "showlegend": true,
         "type": "histogram",
         "x": [
          1903
         ],
         "xaxis": "x",
         "yaxis": "y"
        },
        {
         "alignmentgroup": "True",
         "bingroup": "x",
         "hovertemplate": "Total Deaths=50<br>Total Positive Cases=%{x}<br>count=%{y}<extra></extra>",
         "legendgroup": "50",
         "marker": {
          "color": "#636efa"
         },
         "name": "50",
         "offsetgroup": "50",
         "orientation": "v",
         "showlegend": true,
         "type": "histogram",
         "x": [
          3402
         ],
         "xaxis": "x",
         "yaxis": "y"
        },
        {
         "alignmentgroup": "True",
         "bingroup": "x",
         "hovertemplate": "Total Deaths=34<br>Total Positive Cases=%{x}<br>count=%{y}<extra></extra>",
         "legendgroup": "34",
         "marker": {
          "color": "#EF553B"
         },
         "name": "34",
         "offsetgroup": "34",
         "orientation": "v",
         "showlegend": true,
         "type": "histogram",
         "x": [
          2079
         ],
         "xaxis": "x",
         "yaxis": "y"
        },
        {
         "alignmentgroup": "True",
         "bingroup": "x",
         "hovertemplate": "Total Deaths=47<br>Total Positive Cases=%{x}<br>count=%{y}<extra></extra>",
         "legendgroup": "47",
         "marker": {
          "color": "#00cc96"
         },
         "name": "47",
         "offsetgroup": "47",
         "orientation": "v",
         "showlegend": true,
         "type": "histogram",
         "x": [
          2285,
          3256,
          3871
         ],
         "xaxis": "x",
         "yaxis": "y"
        },
        {
         "alignmentgroup": "True",
         "bingroup": "x",
         "hovertemplate": "Total Deaths=31<br>Total Positive Cases=%{x}<br>count=%{y}<extra></extra>",
         "legendgroup": "31",
         "marker": {
          "color": "#ab63fa"
         },
         "name": "31",
         "offsetgroup": "31",
         "orientation": "v",
         "showlegend": true,
         "type": "histogram",
         "x": [
          4081
         ],
         "xaxis": "x",
         "yaxis": "y"
        },
        {
         "alignmentgroup": "True",
         "bingroup": "x",
         "hovertemplate": "Total Deaths=89<br>Total Positive Cases=%{x}<br>count=%{y}<extra></extra>",
         "legendgroup": "89",
         "marker": {
          "color": "#FFA15A"
         },
         "name": "89",
         "offsetgroup": "89",
         "orientation": "v",
         "showlegend": true,
         "type": "histogram",
         "x": [
          11833
         ],
         "xaxis": "x",
         "yaxis": "y"
        },
        {
         "alignmentgroup": "True",
         "bingroup": "x",
         "hovertemplate": "Total Deaths=70<br>Total Positive Cases=%{x}<br>count=%{y}<extra></extra>",
         "legendgroup": "70",
         "marker": {
          "color": "#19d3f3"
         },
         "name": "70",
         "offsetgroup": "70",
         "orientation": "v",
         "showlegend": true,
         "type": "histogram",
         "x": [
          4843
         ],
         "xaxis": "x",
         "yaxis": "y"
        },
        {
         "alignmentgroup": "True",
         "bingroup": "x",
         "hovertemplate": "Total Deaths=63<br>Total Positive Cases=%{x}<br>count=%{y}<extra></extra>",
         "legendgroup": "63",
         "marker": {
          "color": "#FF6692"
         },
         "name": "63",
         "offsetgroup": "63",
         "orientation": "v",
         "showlegend": true,
         "type": "histogram",
         "x": [
          3443
         ],
         "xaxis": "x",
         "yaxis": "y"
        },
        {
         "alignmentgroup": "True",
         "bingroup": "x",
         "hovertemplate": "Total Deaths=5<br>Total Positive Cases=%{x}<br>count=%{y}<extra></extra>",
         "legendgroup": "5",
         "marker": {
          "color": "#B6E880"
         },
         "name": "5",
         "offsetgroup": "5",
         "orientation": "v",
         "showlegend": true,
         "type": "histogram",
         "x": [
          808,
          362,
          310
         ],
         "xaxis": "x",
         "yaxis": "y"
        },
        {
         "alignmentgroup": "True",
         "bingroup": "x",
         "hovertemplate": "Total Deaths=805<br>Total Positive Cases=%{x}<br>count=%{y}<extra></extra>",
         "legendgroup": "805",
         "marker": {
          "color": "#FF97FF"
         },
         "name": "805",
         "offsetgroup": "805",
         "orientation": "v",
         "showlegend": true,
         "type": "histogram",
         "x": [
          43212
         ],
         "xaxis": "x",
         "yaxis": "y"
        },
        {
         "alignmentgroup": "True",
         "bingroup": "x",
         "hovertemplate": "Total Deaths=27<br>Total Positive Cases=%{x}<br>count=%{y}<extra></extra>",
         "legendgroup": "27",
         "marker": {
          "color": "#FECB52"
         },
         "name": "27",
         "offsetgroup": "27",
         "orientation": "v",
         "showlegend": true,
         "type": "histogram",
         "x": [
          1470
         ],
         "xaxis": "x",
         "yaxis": "y"
        },
        {
         "alignmentgroup": "True",
         "bingroup": "x",
         "hovertemplate": "Total Deaths=91<br>Total Positive Cases=%{x}<br>count=%{y}<extra></extra>",
         "legendgroup": "91",
         "marker": {
          "color": "#636efa"
         },
         "name": "91",
         "offsetgroup": "91",
         "orientation": "v",
         "showlegend": true,
         "type": "histogram",
         "x": [
          6715
         ],
         "xaxis": "x",
         "yaxis": "y"
        },
        {
         "alignmentgroup": "True",
         "bingroup": "x",
         "hovertemplate": "Total Deaths=107<br>Total Positive Cases=%{x}<br>count=%{y}<extra></extra>",
         "legendgroup": "107",
         "marker": {
          "color": "#EF553B"
         },
         "name": "107",
         "offsetgroup": "107",
         "orientation": "v",
         "showlegend": true,
         "type": "histogram",
         "x": [
          13354
         ],
         "xaxis": "x",
         "yaxis": "y"
        },
        {
         "alignmentgroup": "True",
         "bingroup": "x",
         "hovertemplate": "Total Deaths=73<br>Total Positive Cases=%{x}<br>count=%{y}<extra></extra>",
         "legendgroup": "73",
         "marker": {
          "color": "#00cc96"
         },
         "name": "73",
         "offsetgroup": "73",
         "orientation": "v",
         "showlegend": true,
         "type": "histogram",
         "x": [
          8761
         ],
         "xaxis": "x",
         "yaxis": "y"
        },
        {
         "alignmentgroup": "True",
         "bingroup": "x",
         "hovertemplate": "Total Deaths=264<br>Total Positive Cases=%{x}<br>count=%{y}<extra></extra>",
         "legendgroup": "264",
         "marker": {
          "color": "#ab63fa"
         },
         "name": "264",
         "offsetgroup": "264",
         "orientation": "v",
         "showlegend": true,
         "type": "histogram",
         "x": [
          14838
         ],
         "xaxis": "x",
         "yaxis": "y"
        },
        {
         "alignmentgroup": "True",
         "bingroup": "x",
         "hovertemplate": "Total Deaths=202<br>Total Positive Cases=%{x}<br>count=%{y}<extra></extra>",
         "legendgroup": "202",
         "marker": {
          "color": "#FFA15A"
         },
         "name": "202",
         "offsetgroup": "202",
         "orientation": "v",
         "showlegend": true,
         "type": "histogram",
         "x": [
          18774
         ],
         "xaxis": "x",
         "yaxis": "y"
        },
        {
         "alignmentgroup": "True",
         "bingroup": "x",
         "hovertemplate": "Total Deaths=30<br>Total Positive Cases=%{x}<br>count=%{y}<extra></extra>",
         "legendgroup": "30",
         "marker": {
          "color": "#19d3f3"
         },
         "name": "30",
         "offsetgroup": "30",
         "orientation": "v",
         "showlegend": true,
         "type": "histogram",
         "x": [
          2489
         ],
         "xaxis": "x",
         "yaxis": "y"
        },
        {
         "alignmentgroup": "True",
         "bingroup": "x",
         "hovertemplate": "Total Deaths=259<br>Total Positive Cases=%{x}<br>count=%{y}<extra></extra>",
         "legendgroup": "259",
         "marker": {
          "color": "#FF6692"
         },
         "name": "259",
         "offsetgroup": "259",
         "orientation": "v",
         "showlegend": true,
         "type": "histogram",
         "x": [
          22156
         ],
         "xaxis": "x",
         "yaxis": "y"
        },
        {
         "alignmentgroup": "True",
         "bingroup": "x",
         "hovertemplate": "Total Deaths=116<br>Total Positive Cases=%{x}<br>count=%{y}<extra></extra>",
         "legendgroup": "116",
         "marker": {
          "color": "#B6E880"
         },
         "name": "116",
         "offsetgroup": "116",
         "orientation": "v",
         "showlegend": true,
         "type": "histogram",
         "x": [
          12554
         ],
         "xaxis": "x",
         "yaxis": "y"
        }
       ],
       "layout": {
        "barmode": "relative",
        "legend": {
         "title": {
          "text": "Total Deaths"
         },
         "tracegroupgap": 0
        },
        "template": {
         "data": {
          "bar": [
           {
            "error_x": {
             "color": "#2a3f5f"
            },
            "error_y": {
             "color": "#2a3f5f"
            },
            "marker": {
             "line": {
              "color": "#E5ECF6",
              "width": 0.5
             }
            },
            "type": "bar"
           }
          ],
          "barpolar": [
           {
            "marker": {
             "line": {
              "color": "#E5ECF6",
              "width": 0.5
             }
            },
            "type": "barpolar"
           }
          ],
          "carpet": [
           {
            "aaxis": {
             "endlinecolor": "#2a3f5f",
             "gridcolor": "white",
             "linecolor": "white",
             "minorgridcolor": "white",
             "startlinecolor": "#2a3f5f"
            },
            "baxis": {
             "endlinecolor": "#2a3f5f",
             "gridcolor": "white",
             "linecolor": "white",
             "minorgridcolor": "white",
             "startlinecolor": "#2a3f5f"
            },
            "type": "carpet"
           }
          ],
          "choropleth": [
           {
            "colorbar": {
             "outlinewidth": 0,
             "ticks": ""
            },
            "type": "choropleth"
           }
          ],
          "contour": [
           {
            "colorbar": {
             "outlinewidth": 0,
             "ticks": ""
            },
            "colorscale": [
             [
              0,
              "#0d0887"
             ],
             [
              0.1111111111111111,
              "#46039f"
             ],
             [
              0.2222222222222222,
              "#7201a8"
             ],
             [
              0.3333333333333333,
              "#9c179e"
             ],
             [
              0.4444444444444444,
              "#bd3786"
             ],
             [
              0.5555555555555556,
              "#d8576b"
             ],
             [
              0.6666666666666666,
              "#ed7953"
             ],
             [
              0.7777777777777778,
              "#fb9f3a"
             ],
             [
              0.8888888888888888,
              "#fdca26"
             ],
             [
              1,
              "#f0f921"
             ]
            ],
            "type": "contour"
           }
          ],
          "contourcarpet": [
           {
            "colorbar": {
             "outlinewidth": 0,
             "ticks": ""
            },
            "type": "contourcarpet"
           }
          ],
          "heatmap": [
           {
            "colorbar": {
             "outlinewidth": 0,
             "ticks": ""
            },
            "colorscale": [
             [
              0,
              "#0d0887"
             ],
             [
              0.1111111111111111,
              "#46039f"
             ],
             [
              0.2222222222222222,
              "#7201a8"
             ],
             [
              0.3333333333333333,
              "#9c179e"
             ],
             [
              0.4444444444444444,
              "#bd3786"
             ],
             [
              0.5555555555555556,
              "#d8576b"
             ],
             [
              0.6666666666666666,
              "#ed7953"
             ],
             [
              0.7777777777777778,
              "#fb9f3a"
             ],
             [
              0.8888888888888888,
              "#fdca26"
             ],
             [
              1,
              "#f0f921"
             ]
            ],
            "type": "heatmap"
           }
          ],
          "heatmapgl": [
           {
            "colorbar": {
             "outlinewidth": 0,
             "ticks": ""
            },
            "colorscale": [
             [
              0,
              "#0d0887"
             ],
             [
              0.1111111111111111,
              "#46039f"
             ],
             [
              0.2222222222222222,
              "#7201a8"
             ],
             [
              0.3333333333333333,
              "#9c179e"
             ],
             [
              0.4444444444444444,
              "#bd3786"
             ],
             [
              0.5555555555555556,
              "#d8576b"
             ],
             [
              0.6666666666666666,
              "#ed7953"
             ],
             [
              0.7777777777777778,
              "#fb9f3a"
             ],
             [
              0.8888888888888888,
              "#fdca26"
             ],
             [
              1,
              "#f0f921"
             ]
            ],
            "type": "heatmapgl"
           }
          ],
          "histogram": [
           {
            "marker": {
             "colorbar": {
              "outlinewidth": 0,
              "ticks": ""
             }
            },
            "type": "histogram"
           }
          ],
          "histogram2d": [
           {
            "colorbar": {
             "outlinewidth": 0,
             "ticks": ""
            },
            "colorscale": [
             [
              0,
              "#0d0887"
             ],
             [
              0.1111111111111111,
              "#46039f"
             ],
             [
              0.2222222222222222,
              "#7201a8"
             ],
             [
              0.3333333333333333,
              "#9c179e"
             ],
             [
              0.4444444444444444,
              "#bd3786"
             ],
             [
              0.5555555555555556,
              "#d8576b"
             ],
             [
              0.6666666666666666,
              "#ed7953"
             ],
             [
              0.7777777777777778,
              "#fb9f3a"
             ],
             [
              0.8888888888888888,
              "#fdca26"
             ],
             [
              1,
              "#f0f921"
             ]
            ],
            "type": "histogram2d"
           }
          ],
          "histogram2dcontour": [
           {
            "colorbar": {
             "outlinewidth": 0,
             "ticks": ""
            },
            "colorscale": [
             [
              0,
              "#0d0887"
             ],
             [
              0.1111111111111111,
              "#46039f"
             ],
             [
              0.2222222222222222,
              "#7201a8"
             ],
             [
              0.3333333333333333,
              "#9c179e"
             ],
             [
              0.4444444444444444,
              "#bd3786"
             ],
             [
              0.5555555555555556,
              "#d8576b"
             ],
             [
              0.6666666666666666,
              "#ed7953"
             ],
             [
              0.7777777777777778,
              "#fb9f3a"
             ],
             [
              0.8888888888888888,
              "#fdca26"
             ],
             [
              1,
              "#f0f921"
             ]
            ],
            "type": "histogram2dcontour"
           }
          ],
          "mesh3d": [
           {
            "colorbar": {
             "outlinewidth": 0,
             "ticks": ""
            },
            "type": "mesh3d"
           }
          ],
          "parcoords": [
           {
            "line": {
             "colorbar": {
              "outlinewidth": 0,
              "ticks": ""
             }
            },
            "type": "parcoords"
           }
          ],
          "pie": [
           {
            "automargin": true,
            "type": "pie"
           }
          ],
          "scatter": [
           {
            "marker": {
             "colorbar": {
              "outlinewidth": 0,
              "ticks": ""
             }
            },
            "type": "scatter"
           }
          ],
          "scatter3d": [
           {
            "line": {
             "colorbar": {
              "outlinewidth": 0,
              "ticks": ""
             }
            },
            "marker": {
             "colorbar": {
              "outlinewidth": 0,
              "ticks": ""
             }
            },
            "type": "scatter3d"
           }
          ],
          "scattercarpet": [
           {
            "marker": {
             "colorbar": {
              "outlinewidth": 0,
              "ticks": ""
             }
            },
            "type": "scattercarpet"
           }
          ],
          "scattergeo": [
           {
            "marker": {
             "colorbar": {
              "outlinewidth": 0,
              "ticks": ""
             }
            },
            "type": "scattergeo"
           }
          ],
          "scattergl": [
           {
            "marker": {
             "colorbar": {
              "outlinewidth": 0,
              "ticks": ""
             }
            },
            "type": "scattergl"
           }
          ],
          "scattermapbox": [
           {
            "marker": {
             "colorbar": {
              "outlinewidth": 0,
              "ticks": ""
             }
            },
            "type": "scattermapbox"
           }
          ],
          "scatterpolar": [
           {
            "marker": {
             "colorbar": {
              "outlinewidth": 0,
              "ticks": ""
             }
            },
            "type": "scatterpolar"
           }
          ],
          "scatterpolargl": [
           {
            "marker": {
             "colorbar": {
              "outlinewidth": 0,
              "ticks": ""
             }
            },
            "type": "scatterpolargl"
           }
          ],
          "scatterternary": [
           {
            "marker": {
             "colorbar": {
              "outlinewidth": 0,
              "ticks": ""
             }
            },
            "type": "scatterternary"
           }
          ],
          "surface": [
           {
            "colorbar": {
             "outlinewidth": 0,
             "ticks": ""
            },
            "colorscale": [
             [
              0,
              "#0d0887"
             ],
             [
              0.1111111111111111,
              "#46039f"
             ],
             [
              0.2222222222222222,
              "#7201a8"
             ],
             [
              0.3333333333333333,
              "#9c179e"
             ],
             [
              0.4444444444444444,
              "#bd3786"
             ],
             [
              0.5555555555555556,
              "#d8576b"
             ],
             [
              0.6666666666666666,
              "#ed7953"
             ],
             [
              0.7777777777777778,
              "#fb9f3a"
             ],
             [
              0.8888888888888888,
              "#fdca26"
             ],
             [
              1,
              "#f0f921"
             ]
            ],
            "type": "surface"
           }
          ],
          "table": [
           {
            "cells": {
             "fill": {
              "color": "#EBF0F8"
             },
             "line": {
              "color": "white"
             }
            },
            "header": {
             "fill": {
              "color": "#C8D4E3"
             },
             "line": {
              "color": "white"
             }
            },
            "type": "table"
           }
          ]
         },
         "layout": {
          "annotationdefaults": {
           "arrowcolor": "#2a3f5f",
           "arrowhead": 0,
           "arrowwidth": 1
          },
          "autotypenumbers": "strict",
          "coloraxis": {
           "colorbar": {
            "outlinewidth": 0,
            "ticks": ""
           }
          },
          "colorscale": {
           "diverging": [
            [
             0,
             "#8e0152"
            ],
            [
             0.1,
             "#c51b7d"
            ],
            [
             0.2,
             "#de77ae"
            ],
            [
             0.3,
             "#f1b6da"
            ],
            [
             0.4,
             "#fde0ef"
            ],
            [
             0.5,
             "#f7f7f7"
            ],
            [
             0.6,
             "#e6f5d0"
            ],
            [
             0.7,
             "#b8e186"
            ],
            [
             0.8,
             "#7fbc41"
            ],
            [
             0.9,
             "#4d9221"
            ],
            [
             1,
             "#276419"
            ]
           ],
           "sequential": [
            [
             0,
             "#0d0887"
            ],
            [
             0.1111111111111111,
             "#46039f"
            ],
            [
             0.2222222222222222,
             "#7201a8"
            ],
            [
             0.3333333333333333,
             "#9c179e"
            ],
            [
             0.4444444444444444,
             "#bd3786"
            ],
            [
             0.5555555555555556,
             "#d8576b"
            ],
            [
             0.6666666666666666,
             "#ed7953"
            ],
            [
             0.7777777777777778,
             "#fb9f3a"
            ],
            [
             0.8888888888888888,
             "#fdca26"
            ],
            [
             1,
             "#f0f921"
            ]
           ],
           "sequentialminus": [
            [
             0,
             "#0d0887"
            ],
            [
             0.1111111111111111,
             "#46039f"
            ],
            [
             0.2222222222222222,
             "#7201a8"
            ],
            [
             0.3333333333333333,
             "#9c179e"
            ],
            [
             0.4444444444444444,
             "#bd3786"
            ],
            [
             0.5555555555555556,
             "#d8576b"
            ],
            [
             0.6666666666666666,
             "#ed7953"
            ],
            [
             0.7777777777777778,
             "#fb9f3a"
            ],
            [
             0.8888888888888888,
             "#fdca26"
            ],
            [
             1,
             "#f0f921"
            ]
           ]
          },
          "colorway": [
           "#636efa",
           "#EF553B",
           "#00cc96",
           "#ab63fa",
           "#FFA15A",
           "#19d3f3",
           "#FF6692",
           "#B6E880",
           "#FF97FF",
           "#FECB52"
          ],
          "font": {
           "color": "#2a3f5f"
          },
          "geo": {
           "bgcolor": "white",
           "lakecolor": "white",
           "landcolor": "#E5ECF6",
           "showlakes": true,
           "showland": true,
           "subunitcolor": "white"
          },
          "hoverlabel": {
           "align": "left"
          },
          "hovermode": "closest",
          "mapbox": {
           "style": "light"
          },
          "paper_bgcolor": "white",
          "plot_bgcolor": "#E5ECF6",
          "polar": {
           "angularaxis": {
            "gridcolor": "white",
            "linecolor": "white",
            "ticks": ""
           },
           "bgcolor": "#E5ECF6",
           "radialaxis": {
            "gridcolor": "white",
            "linecolor": "white",
            "ticks": ""
           }
          },
          "scene": {
           "xaxis": {
            "backgroundcolor": "#E5ECF6",
            "gridcolor": "white",
            "gridwidth": 2,
            "linecolor": "white",
            "showbackground": true,
            "ticks": "",
            "zerolinecolor": "white"
           },
           "yaxis": {
            "backgroundcolor": "#E5ECF6",
            "gridcolor": "white",
            "gridwidth": 2,
            "linecolor": "white",
            "showbackground": true,
            "ticks": "",
            "zerolinecolor": "white"
           },
           "zaxis": {
            "backgroundcolor": "#E5ECF6",
            "gridcolor": "white",
            "gridwidth": 2,
            "linecolor": "white",
            "showbackground": true,
            "ticks": "",
            "zerolinecolor": "white"
           }
          },
          "shapedefaults": {
           "line": {
            "color": "#2a3f5f"
           }
          },
          "ternary": {
           "aaxis": {
            "gridcolor": "white",
            "linecolor": "white",
            "ticks": ""
           },
           "baxis": {
            "gridcolor": "white",
            "linecolor": "white",
            "ticks": ""
           },
           "bgcolor": "#E5ECF6",
           "caxis": {
            "gridcolor": "white",
            "linecolor": "white",
            "ticks": ""
           }
          },
          "title": {
           "x": 0.05
          },
          "xaxis": {
           "automargin": true,
           "gridcolor": "white",
           "linecolor": "white",
           "ticks": "",
           "title": {
            "standoff": 15
           },
           "zerolinecolor": "white",
           "zerolinewidth": 2
          },
          "yaxis": {
           "automargin": true,
           "gridcolor": "white",
           "linecolor": "white",
           "ticks": "",
           "title": {
            "standoff": 15
           },
           "zerolinecolor": "white",
           "zerolinewidth": 2
          }
         }
        },
        "title": {
         "text": "Covid cases by County"
        },
        "xaxis": {
         "anchor": "y",
         "domain": [
          0,
          1
         ],
         "title": {
          "text": "Total Positive Cases"
         }
        },
        "yaxis": {
         "anchor": "x",
         "domain": [
          0,
          1
         ],
         "title": {
          "text": "count"
         }
        }
       }
      },
      "text/html": [
       "<div>                            <div id=\"b7878597-71bf-4207-a7b0-bb04f3433591\" class=\"plotly-graph-div\" style=\"height:525px; width:100%;\"></div>            <script type=\"text/javascript\">                require([\"plotly\"], function(Plotly) {                    window.PLOTLYENV=window.PLOTLYENV || {};                                    if (document.getElementById(\"b7878597-71bf-4207-a7b0-bb04f3433591\")) {                    Plotly.newPlot(                        \"b7878597-71bf-4207-a7b0-bb04f3433591\",                        [{\"alignmentgroup\": \"True\", \"bingroup\": \"x\", \"hovertemplate\": \"Total Deaths=33<br>Total Positive Cases=%{x}<br>count=%{y}<extra></extra>\", \"legendgroup\": \"33\", \"marker\": {\"color\": \"#636efa\"}, \"name\": \"33\", \"offsetgroup\": \"33\", \"orientation\": \"v\", \"showlegend\": true, \"type\": \"histogram\", \"x\": [1191], \"xaxis\": \"x\", \"yaxis\": \"y\"}, {\"alignmentgroup\": \"True\", \"bingroup\": \"x\", \"hovertemplate\": \"Total Deaths=390<br>Total Positive Cases=%{x}<br>count=%{y}<extra></extra>\", \"legendgroup\": \"390\", \"marker\": {\"color\": \"#EF553B\"}, \"name\": \"390\", \"offsetgroup\": \"390\", \"orientation\": \"v\", \"showlegend\": true, \"type\": \"histogram\", \"x\": [33391], \"xaxis\": \"x\", \"yaxis\": \"y\"}, {\"alignmentgroup\": \"True\", \"bingroup\": \"x\", \"hovertemplate\": \"Total Deaths=42<br>Total Positive Cases=%{x}<br>count=%{y}<extra></extra>\", \"legendgroup\": \"42\", \"marker\": {\"color\": \"#00cc96\"}, \"name\": \"42\", \"offsetgroup\": \"42\", \"orientation\": \"v\", \"showlegend\": true, \"type\": \"histogram\", \"x\": [3131], \"xaxis\": \"x\", \"yaxis\": \"y\"}, {\"alignmentgroup\": \"True\", \"bingroup\": \"x\", \"hovertemplate\": \"Total Deaths=51<br>Total Positive Cases=%{x}<br>count=%{y}<extra></extra>\", \"legendgroup\": \"51\", \"marker\": {\"color\": \"#ab63fa\"}, \"name\": \"51\", \"offsetgroup\": \"51\", \"orientation\": \"v\", \"showlegend\": true, \"type\": \"histogram\", \"x\": [3386], \"xaxis\": \"x\", \"yaxis\": \"y\"}, {\"alignmentgroup\": \"True\", \"bingroup\": \"x\", \"hovertemplate\": \"Total Deaths=90<br>Total Positive Cases=%{x}<br>count=%{y}<extra></extra>\", \"legendgroup\": \"90\", \"marker\": {\"color\": \"#FFA15A\"}, \"name\": \"90\", \"offsetgroup\": \"90\", \"orientation\": \"v\", \"showlegend\": true, \"type\": \"histogram\", \"x\": [4482], \"xaxis\": \"x\", \"yaxis\": \"y\"}, {\"alignmentgroup\": \"True\", \"bingroup\": \"x\", \"hovertemplate\": \"Total Deaths=3<br>Total Positive Cases=%{x}<br>count=%{y}<extra></extra>\", \"legendgroup\": \"3\", \"marker\": {\"color\": \"#19d3f3\"}, \"name\": \"3\", \"offsetgroup\": \"3\", \"orientation\": \"v\", \"showlegend\": true, \"type\": \"histogram\", \"x\": [516, 1867], \"xaxis\": \"x\", \"yaxis\": \"y\"}, {\"alignmentgroup\": \"True\", \"bingroup\": \"x\", \"hovertemplate\": \"Total Deaths=35<br>Total Positive Cases=%{x}<br>count=%{y}<extra></extra>\", \"legendgroup\": \"35\", \"marker\": {\"color\": \"#FF6692\"}, \"name\": \"35\", \"offsetgroup\": \"35\", \"orientation\": \"v\", \"showlegend\": true, \"type\": \"histogram\", \"x\": [5983, 1367], \"xaxis\": \"x\", \"yaxis\": \"y\"}, {\"alignmentgroup\": \"True\", \"bingroup\": \"x\", \"hovertemplate\": \"Total Deaths=37<br>Total Positive Cases=%{x}<br>count=%{y}<extra></extra>\", \"legendgroup\": \"37\", \"marker\": {\"color\": \"#B6E880\"}, \"name\": \"37\", \"offsetgroup\": \"37\", \"orientation\": \"v\", \"showlegend\": true, \"type\": \"histogram\", \"x\": [2461], \"xaxis\": \"x\", \"yaxis\": \"y\"}, {\"alignmentgroup\": \"True\", \"bingroup\": \"x\", \"hovertemplate\": \"Total Deaths=49<br>Total Positive Cases=%{x}<br>count=%{y}<extra></extra>\", \"legendgroup\": \"49\", \"marker\": {\"color\": \"#FF97FF\"}, \"name\": \"49\", \"offsetgroup\": \"49\", \"orientation\": \"v\", \"showlegend\": true, \"type\": \"histogram\", \"x\": [3001, 4193], \"xaxis\": \"x\", \"yaxis\": \"y\"}, {\"alignmentgroup\": \"True\", \"bingroup\": \"x\", \"hovertemplate\": \"Total Deaths=40<br>Total Positive Cases=%{x}<br>count=%{y}<extra></extra>\", \"legendgroup\": \"40\", \"marker\": {\"color\": \"#FECB52\"}, \"name\": \"40\", \"offsetgroup\": \"40\", \"orientation\": \"v\", \"showlegend\": true, \"type\": \"histogram\", \"x\": [7798, 1512], \"xaxis\": \"x\", \"yaxis\": \"y\"}, {\"alignmentgroup\": \"True\", \"bingroup\": \"x\", \"hovertemplate\": \"Total Deaths=24<br>Total Positive Cases=%{x}<br>count=%{y}<extra></extra>\", \"legendgroup\": \"24\", \"marker\": {\"color\": \"#636efa\"}, \"name\": \"24\", \"offsetgroup\": \"24\", \"orientation\": \"v\", \"showlegend\": true, \"type\": \"histogram\", \"x\": [2207, 2841, 1017], \"xaxis\": \"x\", \"yaxis\": \"y\"}, {\"alignmentgroup\": \"True\", \"bingroup\": \"x\", \"hovertemplate\": \"Total Deaths=45<br>Total Positive Cases=%{x}<br>count=%{y}<extra></extra>\", \"legendgroup\": \"45\", \"marker\": {\"color\": \"#EF553B\"}, \"name\": \"45\", \"offsetgroup\": \"45\", \"orientation\": \"v\", \"showlegend\": true, \"type\": \"histogram\", \"x\": [5003], \"xaxis\": \"x\", \"yaxis\": \"y\"}, {\"alignmentgroup\": \"True\", \"bingroup\": \"x\", \"hovertemplate\": \"Total Deaths=87<br>Total Positive Cases=%{x}<br>count=%{y}<extra></extra>\", \"legendgroup\": \"87\", \"marker\": {\"color\": \"#00cc96\"}, \"name\": \"87\", \"offsetgroup\": \"87\", \"orientation\": \"v\", \"showlegend\": true, \"type\": \"histogram\", \"x\": [6936], \"xaxis\": \"x\", \"yaxis\": \"y\"}, {\"alignmentgroup\": \"True\", \"bingroup\": \"x\", \"hovertemplate\": \"Total Deaths=14<br>Total Positive Cases=%{x}<br>count=%{y}<extra></extra>\", \"legendgroup\": \"14\", \"marker\": {\"color\": \"#ab63fa\"}, \"name\": \"14\", \"offsetgroup\": \"14\", \"orientation\": \"v\", \"showlegend\": true, \"type\": \"histogram\", \"x\": [719, 1580, 1158], \"xaxis\": \"x\", \"yaxis\": \"y\"}, {\"alignmentgroup\": \"True\", \"bingroup\": \"x\", \"hovertemplate\": \"Total Deaths=0<br>Total Positive Cases=%{x}<br>count=%{y}<extra></extra>\", \"legendgroup\": \"0\", \"marker\": {\"color\": \"#FFA15A\"}, \"name\": \"0\", \"offsetgroup\": \"0\", \"orientation\": \"v\", \"showlegend\": true, \"type\": \"histogram\", \"x\": [118, 444], \"xaxis\": \"x\", \"yaxis\": \"y\"}, {\"alignmentgroup\": \"True\", \"bingroup\": \"x\", \"hovertemplate\": \"Total Deaths=20<br>Total Positive Cases=%{x}<br>count=%{y}<extra></extra>\", \"legendgroup\": \"20\", \"marker\": {\"color\": \"#19d3f3\"}, \"name\": \"20\", \"offsetgroup\": \"20\", \"orientation\": \"v\", \"showlegend\": true, \"type\": \"histogram\", \"x\": [1354, 2369, 1313], \"xaxis\": \"x\", \"yaxis\": \"y\"}, {\"alignmentgroup\": \"True\", \"bingroup\": \"x\", \"hovertemplate\": \"Total Deaths=82<br>Total Positive Cases=%{x}<br>count=%{y}<extra></extra>\", \"legendgroup\": \"82\", \"marker\": {\"color\": \"#FF6692\"}, \"name\": \"82\", \"offsetgroup\": \"82\", \"orientation\": \"v\", \"showlegend\": true, \"type\": \"histogram\", \"x\": [5223], \"xaxis\": \"x\", \"yaxis\": \"y\"}, {\"alignmentgroup\": \"True\", \"bingroup\": \"x\", \"hovertemplate\": \"Total Deaths=392<br>Total Positive Cases=%{x}<br>count=%{y}<extra></extra>\", \"legendgroup\": \"392\", \"marker\": {\"color\": \"#B6E880\"}, \"name\": \"392\", \"offsetgroup\": \"392\", \"orientation\": \"v\", \"showlegend\": true, \"type\": \"histogram\", \"x\": [36478], \"xaxis\": \"x\", \"yaxis\": \"y\"}, {\"alignmentgroup\": \"True\", \"bingroup\": \"x\", \"hovertemplate\": \"Total Deaths=4<br>Total Positive Cases=%{x}<br>count=%{y}<extra></extra>\", \"legendgroup\": \"4\", \"marker\": {\"color\": \"#FF97FF\"}, \"name\": \"4\", \"offsetgroup\": \"4\", \"orientation\": \"v\", \"showlegend\": true, \"type\": \"histogram\", \"x\": [1535], \"xaxis\": \"x\", \"yaxis\": \"y\"}, {\"alignmentgroup\": \"True\", \"bingroup\": \"x\", \"hovertemplate\": \"Total Deaths=68<br>Total Positive Cases=%{x}<br>count=%{y}<extra></extra>\", \"legendgroup\": \"68\", \"marker\": {\"color\": \"#FECB52\"}, \"name\": \"68\", \"offsetgroup\": \"68\", \"orientation\": \"v\", \"showlegend\": true, \"type\": \"histogram\", \"x\": [3936], \"xaxis\": \"x\", \"yaxis\": \"y\"}, {\"alignmentgroup\": \"True\", \"bingroup\": \"x\", \"hovertemplate\": \"Total Deaths=17<br>Total Positive Cases=%{x}<br>count=%{y}<extra></extra>\", \"legendgroup\": \"17\", \"marker\": {\"color\": \"#636efa\"}, \"name\": \"17\", \"offsetgroup\": \"17\", \"orientation\": \"v\", \"showlegend\": true, \"type\": \"histogram\", \"x\": [1240, 1807, 2097, 977], \"xaxis\": \"x\", \"yaxis\": \"y\"}, {\"alignmentgroup\": \"True\", \"bingroup\": \"x\", \"hovertemplate\": \"Total Deaths=8<br>Total Positive Cases=%{x}<br>count=%{y}<extra></extra>\", \"legendgroup\": \"8\", \"marker\": {\"color\": \"#EF553B\"}, \"name\": \"8\", \"offsetgroup\": \"8\", \"orientation\": \"v\", \"showlegend\": true, \"type\": \"histogram\", \"x\": [1383, 491, 949, 478, 744, 1176], \"xaxis\": \"x\", \"yaxis\": \"y\"}, {\"alignmentgroup\": \"True\", \"bingroup\": \"x\", \"hovertemplate\": \"Total Deaths=69<br>Total Positive Cases=%{x}<br>count=%{y}<extra></extra>\", \"legendgroup\": \"69\", \"marker\": {\"color\": \"#00cc96\"}, \"name\": \"69\", \"offsetgroup\": \"69\", \"orientation\": \"v\", \"showlegend\": true, \"type\": \"histogram\", \"x\": [3875], \"xaxis\": \"x\", \"yaxis\": \"y\"}, {\"alignmentgroup\": \"True\", \"bingroup\": \"x\", \"hovertemplate\": \"Total Deaths=1588<br>Total Positive Cases=%{x}<br>count=%{y}<extra></extra>\", \"legendgroup\": \"1588\", \"marker\": {\"color\": \"#ab63fa\"}, \"name\": \"1588\", \"offsetgroup\": \"1588\", \"orientation\": \"v\", \"showlegend\": true, \"type\": \"histogram\", \"x\": [101110], \"xaxis\": \"x\", \"yaxis\": \"y\"}, {\"alignmentgroup\": \"True\", \"bingroup\": \"x\", \"hovertemplate\": \"Total Deaths=41<br>Total Positive Cases=%{x}<br>count=%{y}<extra></extra>\", \"legendgroup\": \"41\", \"marker\": {\"color\": \"#FFA15A\"}, \"name\": \"41\", \"offsetgroup\": \"41\", \"orientation\": \"v\", \"showlegend\": true, \"type\": \"histogram\", \"x\": [1607, 2604], \"xaxis\": \"x\", \"yaxis\": \"y\"}, {\"alignmentgroup\": \"True\", \"bingroup\": \"x\", \"hovertemplate\": \"Total Deaths=56<br>Total Positive Cases=%{x}<br>count=%{y}<extra></extra>\", \"legendgroup\": \"56\", \"marker\": {\"color\": \"#19d3f3\"}, \"name\": \"56\", \"offsetgroup\": \"56\", \"orientation\": \"v\", \"showlegend\": true, \"type\": \"histogram\", \"x\": [3076], \"xaxis\": \"x\", \"yaxis\": \"y\"}, {\"alignmentgroup\": \"True\", \"bingroup\": \"x\", \"hovertemplate\": \"Total Deaths=46<br>Total Positive Cases=%{x}<br>count=%{y}<extra></extra>\", \"legendgroup\": \"46\", \"marker\": {\"color\": \"#FF6692\"}, \"name\": \"46\", \"offsetgroup\": \"46\", \"orientation\": \"v\", \"showlegend\": true, \"type\": \"histogram\", \"x\": [3140], \"xaxis\": \"x\", \"yaxis\": \"y\"}, {\"alignmentgroup\": \"True\", \"bingroup\": \"x\", \"hovertemplate\": \"Total Deaths=10<br>Total Positive Cases=%{x}<br>count=%{y}<extra></extra>\", \"legendgroup\": \"10\", \"marker\": {\"color\": \"#B6E880\"}, \"name\": \"10\", \"offsetgroup\": \"10\", \"orientation\": \"v\", \"showlegend\": true, \"type\": \"histogram\", \"x\": [940, 1173], \"xaxis\": \"x\", \"yaxis\": \"y\"}, {\"alignmentgroup\": \"True\", \"bingroup\": \"x\", \"hovertemplate\": \"Total Deaths=19<br>Total Positive Cases=%{x}<br>count=%{y}<extra></extra>\", \"legendgroup\": \"19\", \"marker\": {\"color\": \"#FF97FF\"}, \"name\": \"19\", \"offsetgroup\": \"19\", \"orientation\": \"v\", \"showlegend\": true, \"type\": \"histogram\", \"x\": [1078], \"xaxis\": \"x\", \"yaxis\": \"y\"}, {\"alignmentgroup\": \"True\", \"bingroup\": \"x\", \"hovertemplate\": \"Total Deaths=74<br>Total Positive Cases=%{x}<br>count=%{y}<extra></extra>\", \"legendgroup\": \"74\", \"marker\": {\"color\": \"#FECB52\"}, \"name\": \"74\", \"offsetgroup\": \"74\", \"orientation\": \"v\", \"showlegend\": true, \"type\": \"histogram\", \"x\": [5801], \"xaxis\": \"x\", \"yaxis\": \"y\"}, {\"alignmentgroup\": \"True\", \"bingroup\": \"x\", \"hovertemplate\": \"Total Deaths=21<br>Total Positive Cases=%{x}<br>count=%{y}<extra></extra>\", \"legendgroup\": \"21\", \"marker\": {\"color\": \"#636efa\"}, \"name\": \"21\", \"offsetgroup\": \"21\", \"orientation\": \"v\", \"showlegend\": true, \"type\": \"histogram\", \"x\": [409], \"xaxis\": \"x\", \"yaxis\": \"y\"}, {\"alignmentgroup\": \"True\", \"bingroup\": \"x\", \"hovertemplate\": \"Total Deaths=11<br>Total Positive Cases=%{x}<br>count=%{y}<extra></extra>\", \"legendgroup\": \"11\", \"marker\": {\"color\": \"#EF553B\"}, \"name\": \"11\", \"offsetgroup\": \"11\", \"orientation\": \"v\", \"showlegend\": true, \"type\": \"histogram\", \"x\": [620, 3023, 677], \"xaxis\": \"x\", \"yaxis\": \"y\"}, {\"alignmentgroup\": \"True\", \"bingroup\": \"x\", \"hovertemplate\": \"Total Deaths=16<br>Total Positive Cases=%{x}<br>count=%{y}<extra></extra>\", \"legendgroup\": \"16\", \"marker\": {\"color\": \"#00cc96\"}, \"name\": \"16\", \"offsetgroup\": \"16\", \"orientation\": \"v\", \"showlegend\": true, \"type\": \"histogram\", \"x\": [686, 1370, 2824], \"xaxis\": \"x\", \"yaxis\": \"y\"}, {\"alignmentgroup\": \"True\", \"bingroup\": \"x\", \"hovertemplate\": \"Total Deaths=18<br>Total Positive Cases=%{x}<br>count=%{y}<extra></extra>\", \"legendgroup\": \"18\", \"marker\": {\"color\": \"#ab63fa\"}, \"name\": \"18\", \"offsetgroup\": \"18\", \"orientation\": \"v\", \"showlegend\": true, \"type\": \"histogram\", \"x\": [742, 879], \"xaxis\": \"x\", \"yaxis\": \"y\"}, {\"alignmentgroup\": \"True\", \"bingroup\": \"x\", \"hovertemplate\": \"Total Deaths=1<br>Total Positive Cases=%{x}<br>count=%{y}<extra></extra>\", \"legendgroup\": \"1\", \"marker\": {\"color\": \"#FFA15A\"}, \"name\": \"1\", \"offsetgroup\": \"1\", \"orientation\": \"v\", \"showlegend\": true, \"type\": \"histogram\", \"x\": [220], \"xaxis\": \"x\", \"yaxis\": \"y\"}, {\"alignmentgroup\": \"True\", \"bingroup\": \"x\", \"hovertemplate\": \"Total Deaths=2<br>Total Positive Cases=%{x}<br>count=%{y}<extra></extra>\", \"legendgroup\": \"2\", \"marker\": {\"color\": \"#19d3f3\"}, \"name\": \"2\", \"offsetgroup\": \"2\", \"orientation\": \"v\", \"showlegend\": true, \"type\": \"histogram\", \"x\": [512], \"xaxis\": \"x\", \"yaxis\": \"y\"}, {\"alignmentgroup\": \"True\", \"bingroup\": \"x\", \"hovertemplate\": \"Total Deaths=44<br>Total Positive Cases=%{x}<br>count=%{y}<extra></extra>\", \"legendgroup\": \"44\", \"marker\": {\"color\": \"#FF6692\"}, \"name\": \"44\", \"offsetgroup\": \"44\", \"orientation\": \"v\", \"showlegend\": true, \"type\": \"histogram\", \"x\": [3136], \"xaxis\": \"x\", \"yaxis\": \"y\"}, {\"alignmentgroup\": \"True\", \"bingroup\": \"x\", \"hovertemplate\": \"Total Deaths=7<br>Total Positive Cases=%{x}<br>count=%{y}<extra></extra>\", \"legendgroup\": \"7\", \"marker\": {\"color\": \"#B6E880\"}, \"name\": \"7\", \"offsetgroup\": \"7\", \"orientation\": \"v\", \"showlegend\": true, \"type\": \"histogram\", \"x\": [441], \"xaxis\": \"x\", \"yaxis\": \"y\"}, {\"alignmentgroup\": \"True\", \"bingroup\": \"x\", \"hovertemplate\": \"Total Deaths=15<br>Total Positive Cases=%{x}<br>count=%{y}<extra></extra>\", \"legendgroup\": \"15\", \"marker\": {\"color\": \"#FF97FF\"}, \"name\": \"15\", \"offsetgroup\": \"15\", \"orientation\": \"v\", \"showlegend\": true, \"type\": \"histogram\", \"x\": [780], \"xaxis\": \"x\", \"yaxis\": \"y\"}, {\"alignmentgroup\": \"True\", \"bingroup\": \"x\", \"hovertemplate\": \"Total Deaths=28<br>Total Positive Cases=%{x}<br>count=%{y}<extra></extra>\", \"legendgroup\": \"28\", \"marker\": {\"color\": \"#FECB52\"}, \"name\": \"28\", \"offsetgroup\": \"28\", \"orientation\": \"v\", \"showlegend\": true, \"type\": \"histogram\", \"x\": [1903], \"xaxis\": \"x\", \"yaxis\": \"y\"}, {\"alignmentgroup\": \"True\", \"bingroup\": \"x\", \"hovertemplate\": \"Total Deaths=50<br>Total Positive Cases=%{x}<br>count=%{y}<extra></extra>\", \"legendgroup\": \"50\", \"marker\": {\"color\": \"#636efa\"}, \"name\": \"50\", \"offsetgroup\": \"50\", \"orientation\": \"v\", \"showlegend\": true, \"type\": \"histogram\", \"x\": [3402], \"xaxis\": \"x\", \"yaxis\": \"y\"}, {\"alignmentgroup\": \"True\", \"bingroup\": \"x\", \"hovertemplate\": \"Total Deaths=34<br>Total Positive Cases=%{x}<br>count=%{y}<extra></extra>\", \"legendgroup\": \"34\", \"marker\": {\"color\": \"#EF553B\"}, \"name\": \"34\", \"offsetgroup\": \"34\", \"orientation\": \"v\", \"showlegend\": true, \"type\": \"histogram\", \"x\": [2079], \"xaxis\": \"x\", \"yaxis\": \"y\"}, {\"alignmentgroup\": \"True\", \"bingroup\": \"x\", \"hovertemplate\": \"Total Deaths=47<br>Total Positive Cases=%{x}<br>count=%{y}<extra></extra>\", \"legendgroup\": \"47\", \"marker\": {\"color\": \"#00cc96\"}, \"name\": \"47\", \"offsetgroup\": \"47\", \"orientation\": \"v\", \"showlegend\": true, \"type\": \"histogram\", \"x\": [2285, 3256, 3871], \"xaxis\": \"x\", \"yaxis\": \"y\"}, {\"alignmentgroup\": \"True\", \"bingroup\": \"x\", \"hovertemplate\": \"Total Deaths=31<br>Total Positive Cases=%{x}<br>count=%{y}<extra></extra>\", \"legendgroup\": \"31\", \"marker\": {\"color\": \"#ab63fa\"}, \"name\": \"31\", \"offsetgroup\": \"31\", \"orientation\": \"v\", \"showlegend\": true, \"type\": \"histogram\", \"x\": [4081], \"xaxis\": \"x\", \"yaxis\": \"y\"}, {\"alignmentgroup\": \"True\", \"bingroup\": \"x\", \"hovertemplate\": \"Total Deaths=89<br>Total Positive Cases=%{x}<br>count=%{y}<extra></extra>\", \"legendgroup\": \"89\", \"marker\": {\"color\": \"#FFA15A\"}, \"name\": \"89\", \"offsetgroup\": \"89\", \"orientation\": \"v\", \"showlegend\": true, \"type\": \"histogram\", \"x\": [11833], \"xaxis\": \"x\", \"yaxis\": \"y\"}, {\"alignmentgroup\": \"True\", \"bingroup\": \"x\", \"hovertemplate\": \"Total Deaths=70<br>Total Positive Cases=%{x}<br>count=%{y}<extra></extra>\", \"legendgroup\": \"70\", \"marker\": {\"color\": \"#19d3f3\"}, \"name\": \"70\", \"offsetgroup\": \"70\", \"orientation\": \"v\", \"showlegend\": true, \"type\": \"histogram\", \"x\": [4843], \"xaxis\": \"x\", \"yaxis\": \"y\"}, {\"alignmentgroup\": \"True\", \"bingroup\": \"x\", \"hovertemplate\": \"Total Deaths=63<br>Total Positive Cases=%{x}<br>count=%{y}<extra></extra>\", \"legendgroup\": \"63\", \"marker\": {\"color\": \"#FF6692\"}, \"name\": \"63\", \"offsetgroup\": \"63\", \"orientation\": \"v\", \"showlegend\": true, \"type\": \"histogram\", \"x\": [3443], \"xaxis\": \"x\", \"yaxis\": \"y\"}, {\"alignmentgroup\": \"True\", \"bingroup\": \"x\", \"hovertemplate\": \"Total Deaths=5<br>Total Positive Cases=%{x}<br>count=%{y}<extra></extra>\", \"legendgroup\": \"5\", \"marker\": {\"color\": \"#B6E880\"}, \"name\": \"5\", \"offsetgroup\": \"5\", \"orientation\": \"v\", \"showlegend\": true, \"type\": \"histogram\", \"x\": [808, 362, 310], \"xaxis\": \"x\", \"yaxis\": \"y\"}, {\"alignmentgroup\": \"True\", \"bingroup\": \"x\", \"hovertemplate\": \"Total Deaths=805<br>Total Positive Cases=%{x}<br>count=%{y}<extra></extra>\", \"legendgroup\": \"805\", \"marker\": {\"color\": \"#FF97FF\"}, \"name\": \"805\", \"offsetgroup\": \"805\", \"orientation\": \"v\", \"showlegend\": true, \"type\": \"histogram\", \"x\": [43212], \"xaxis\": \"x\", \"yaxis\": \"y\"}, {\"alignmentgroup\": \"True\", \"bingroup\": \"x\", \"hovertemplate\": \"Total Deaths=27<br>Total Positive Cases=%{x}<br>count=%{y}<extra></extra>\", \"legendgroup\": \"27\", \"marker\": {\"color\": \"#FECB52\"}, \"name\": \"27\", \"offsetgroup\": \"27\", \"orientation\": \"v\", \"showlegend\": true, \"type\": \"histogram\", \"x\": [1470], \"xaxis\": \"x\", \"yaxis\": \"y\"}, {\"alignmentgroup\": \"True\", \"bingroup\": \"x\", \"hovertemplate\": \"Total Deaths=91<br>Total Positive Cases=%{x}<br>count=%{y}<extra></extra>\", \"legendgroup\": \"91\", \"marker\": {\"color\": \"#636efa\"}, \"name\": \"91\", \"offsetgroup\": \"91\", \"orientation\": \"v\", \"showlegend\": true, \"type\": \"histogram\", \"x\": [6715], \"xaxis\": \"x\", \"yaxis\": \"y\"}, {\"alignmentgroup\": \"True\", \"bingroup\": \"x\", \"hovertemplate\": \"Total Deaths=107<br>Total Positive Cases=%{x}<br>count=%{y}<extra></extra>\", \"legendgroup\": \"107\", \"marker\": {\"color\": \"#EF553B\"}, \"name\": \"107\", \"offsetgroup\": \"107\", \"orientation\": \"v\", \"showlegend\": true, \"type\": \"histogram\", \"x\": [13354], \"xaxis\": \"x\", \"yaxis\": \"y\"}, {\"alignmentgroup\": \"True\", \"bingroup\": \"x\", \"hovertemplate\": \"Total Deaths=73<br>Total Positive Cases=%{x}<br>count=%{y}<extra></extra>\", \"legendgroup\": \"73\", \"marker\": {\"color\": \"#00cc96\"}, \"name\": \"73\", \"offsetgroup\": \"73\", \"orientation\": \"v\", \"showlegend\": true, \"type\": \"histogram\", \"x\": [8761], \"xaxis\": \"x\", \"yaxis\": \"y\"}, {\"alignmentgroup\": \"True\", \"bingroup\": \"x\", \"hovertemplate\": \"Total Deaths=264<br>Total Positive Cases=%{x}<br>count=%{y}<extra></extra>\", \"legendgroup\": \"264\", \"marker\": {\"color\": \"#ab63fa\"}, \"name\": \"264\", \"offsetgroup\": \"264\", \"orientation\": \"v\", \"showlegend\": true, \"type\": \"histogram\", \"x\": [14838], \"xaxis\": \"x\", \"yaxis\": \"y\"}, {\"alignmentgroup\": \"True\", \"bingroup\": \"x\", \"hovertemplate\": \"Total Deaths=202<br>Total Positive Cases=%{x}<br>count=%{y}<extra></extra>\", \"legendgroup\": \"202\", \"marker\": {\"color\": \"#FFA15A\"}, \"name\": \"202\", \"offsetgroup\": \"202\", \"orientation\": \"v\", \"showlegend\": true, \"type\": \"histogram\", \"x\": [18774], \"xaxis\": \"x\", \"yaxis\": \"y\"}, {\"alignmentgroup\": \"True\", \"bingroup\": \"x\", \"hovertemplate\": \"Total Deaths=30<br>Total Positive Cases=%{x}<br>count=%{y}<extra></extra>\", \"legendgroup\": \"30\", \"marker\": {\"color\": \"#19d3f3\"}, \"name\": \"30\", \"offsetgroup\": \"30\", \"orientation\": \"v\", \"showlegend\": true, \"type\": \"histogram\", \"x\": [2489], \"xaxis\": \"x\", \"yaxis\": \"y\"}, {\"alignmentgroup\": \"True\", \"bingroup\": \"x\", \"hovertemplate\": \"Total Deaths=259<br>Total Positive Cases=%{x}<br>count=%{y}<extra></extra>\", \"legendgroup\": \"259\", \"marker\": {\"color\": \"#FF6692\"}, \"name\": \"259\", \"offsetgroup\": \"259\", \"orientation\": \"v\", \"showlegend\": true, \"type\": \"histogram\", \"x\": [22156], \"xaxis\": \"x\", \"yaxis\": \"y\"}, {\"alignmentgroup\": \"True\", \"bingroup\": \"x\", \"hovertemplate\": \"Total Deaths=116<br>Total Positive Cases=%{x}<br>count=%{y}<extra></extra>\", \"legendgroup\": \"116\", \"marker\": {\"color\": \"#B6E880\"}, \"name\": \"116\", \"offsetgroup\": \"116\", \"orientation\": \"v\", \"showlegend\": true, \"type\": \"histogram\", \"x\": [12554], \"xaxis\": \"x\", \"yaxis\": \"y\"}],                        {\"barmode\": \"relative\", \"legend\": {\"title\": {\"text\": \"Total Deaths\"}, \"tracegroupgap\": 0}, \"template\": {\"data\": {\"bar\": [{\"error_x\": {\"color\": \"#2a3f5f\"}, \"error_y\": {\"color\": \"#2a3f5f\"}, \"marker\": {\"line\": {\"color\": \"#E5ECF6\", \"width\": 0.5}}, \"type\": \"bar\"}], \"barpolar\": [{\"marker\": {\"line\": {\"color\": \"#E5ECF6\", \"width\": 0.5}}, \"type\": \"barpolar\"}], \"carpet\": [{\"aaxis\": {\"endlinecolor\": \"#2a3f5f\", \"gridcolor\": \"white\", \"linecolor\": \"white\", \"minorgridcolor\": \"white\", \"startlinecolor\": \"#2a3f5f\"}, \"baxis\": {\"endlinecolor\": \"#2a3f5f\", \"gridcolor\": \"white\", \"linecolor\": \"white\", \"minorgridcolor\": \"white\", \"startlinecolor\": \"#2a3f5f\"}, \"type\": \"carpet\"}], \"choropleth\": [{\"colorbar\": {\"outlinewidth\": 0, \"ticks\": \"\"}, \"type\": \"choropleth\"}], \"contour\": [{\"colorbar\": {\"outlinewidth\": 0, \"ticks\": \"\"}, \"colorscale\": [[0.0, \"#0d0887\"], [0.1111111111111111, \"#46039f\"], [0.2222222222222222, \"#7201a8\"], [0.3333333333333333, \"#9c179e\"], [0.4444444444444444, \"#bd3786\"], [0.5555555555555556, \"#d8576b\"], [0.6666666666666666, \"#ed7953\"], [0.7777777777777778, \"#fb9f3a\"], [0.8888888888888888, \"#fdca26\"], [1.0, \"#f0f921\"]], \"type\": \"contour\"}], \"contourcarpet\": [{\"colorbar\": {\"outlinewidth\": 0, \"ticks\": \"\"}, \"type\": \"contourcarpet\"}], \"heatmap\": [{\"colorbar\": {\"outlinewidth\": 0, \"ticks\": \"\"}, \"colorscale\": [[0.0, \"#0d0887\"], [0.1111111111111111, \"#46039f\"], [0.2222222222222222, \"#7201a8\"], [0.3333333333333333, \"#9c179e\"], [0.4444444444444444, \"#bd3786\"], [0.5555555555555556, \"#d8576b\"], [0.6666666666666666, \"#ed7953\"], [0.7777777777777778, \"#fb9f3a\"], [0.8888888888888888, \"#fdca26\"], [1.0, \"#f0f921\"]], \"type\": \"heatmap\"}], \"heatmapgl\": [{\"colorbar\": {\"outlinewidth\": 0, \"ticks\": \"\"}, \"colorscale\": [[0.0, \"#0d0887\"], [0.1111111111111111, \"#46039f\"], [0.2222222222222222, \"#7201a8\"], [0.3333333333333333, \"#9c179e\"], [0.4444444444444444, \"#bd3786\"], [0.5555555555555556, \"#d8576b\"], [0.6666666666666666, \"#ed7953\"], [0.7777777777777778, \"#fb9f3a\"], [0.8888888888888888, \"#fdca26\"], [1.0, \"#f0f921\"]], \"type\": \"heatmapgl\"}], \"histogram\": [{\"marker\": {\"colorbar\": {\"outlinewidth\": 0, \"ticks\": \"\"}}, \"type\": \"histogram\"}], \"histogram2d\": [{\"colorbar\": {\"outlinewidth\": 0, \"ticks\": \"\"}, \"colorscale\": [[0.0, \"#0d0887\"], [0.1111111111111111, \"#46039f\"], [0.2222222222222222, \"#7201a8\"], [0.3333333333333333, \"#9c179e\"], [0.4444444444444444, \"#bd3786\"], [0.5555555555555556, \"#d8576b\"], [0.6666666666666666, \"#ed7953\"], [0.7777777777777778, \"#fb9f3a\"], [0.8888888888888888, \"#fdca26\"], [1.0, \"#f0f921\"]], \"type\": \"histogram2d\"}], \"histogram2dcontour\": [{\"colorbar\": {\"outlinewidth\": 0, \"ticks\": \"\"}, \"colorscale\": [[0.0, \"#0d0887\"], [0.1111111111111111, \"#46039f\"], [0.2222222222222222, \"#7201a8\"], [0.3333333333333333, \"#9c179e\"], [0.4444444444444444, \"#bd3786\"], [0.5555555555555556, \"#d8576b\"], [0.6666666666666666, \"#ed7953\"], [0.7777777777777778, \"#fb9f3a\"], [0.8888888888888888, \"#fdca26\"], [1.0, \"#f0f921\"]], \"type\": \"histogram2dcontour\"}], \"mesh3d\": [{\"colorbar\": {\"outlinewidth\": 0, \"ticks\": \"\"}, \"type\": \"mesh3d\"}], \"parcoords\": [{\"line\": {\"colorbar\": {\"outlinewidth\": 0, \"ticks\": \"\"}}, \"type\": \"parcoords\"}], \"pie\": [{\"automargin\": true, \"type\": \"pie\"}], \"scatter\": [{\"marker\": {\"colorbar\": {\"outlinewidth\": 0, \"ticks\": \"\"}}, \"type\": \"scatter\"}], \"scatter3d\": [{\"line\": {\"colorbar\": {\"outlinewidth\": 0, \"ticks\": \"\"}}, \"marker\": {\"colorbar\": {\"outlinewidth\": 0, \"ticks\": \"\"}}, \"type\": \"scatter3d\"}], \"scattercarpet\": [{\"marker\": {\"colorbar\": {\"outlinewidth\": 0, \"ticks\": \"\"}}, \"type\": \"scattercarpet\"}], \"scattergeo\": [{\"marker\": {\"colorbar\": {\"outlinewidth\": 0, \"ticks\": \"\"}}, \"type\": \"scattergeo\"}], \"scattergl\": [{\"marker\": {\"colorbar\": {\"outlinewidth\": 0, \"ticks\": \"\"}}, \"type\": \"scattergl\"}], \"scattermapbox\": [{\"marker\": {\"colorbar\": {\"outlinewidth\": 0, \"ticks\": \"\"}}, \"type\": \"scattermapbox\"}], \"scatterpolar\": [{\"marker\": {\"colorbar\": {\"outlinewidth\": 0, \"ticks\": \"\"}}, \"type\": \"scatterpolar\"}], \"scatterpolargl\": [{\"marker\": {\"colorbar\": {\"outlinewidth\": 0, \"ticks\": \"\"}}, \"type\": \"scatterpolargl\"}], \"scatterternary\": [{\"marker\": {\"colorbar\": {\"outlinewidth\": 0, \"ticks\": \"\"}}, \"type\": \"scatterternary\"}], \"surface\": [{\"colorbar\": {\"outlinewidth\": 0, \"ticks\": \"\"}, \"colorscale\": [[0.0, \"#0d0887\"], [0.1111111111111111, \"#46039f\"], [0.2222222222222222, \"#7201a8\"], [0.3333333333333333, \"#9c179e\"], [0.4444444444444444, \"#bd3786\"], [0.5555555555555556, \"#d8576b\"], [0.6666666666666666, \"#ed7953\"], [0.7777777777777778, \"#fb9f3a\"], [0.8888888888888888, \"#fdca26\"], [1.0, \"#f0f921\"]], \"type\": \"surface\"}], \"table\": [{\"cells\": {\"fill\": {\"color\": \"#EBF0F8\"}, \"line\": {\"color\": \"white\"}}, \"header\": {\"fill\": {\"color\": \"#C8D4E3\"}, \"line\": {\"color\": \"white\"}}, \"type\": \"table\"}]}, \"layout\": {\"annotationdefaults\": {\"arrowcolor\": \"#2a3f5f\", \"arrowhead\": 0, \"arrowwidth\": 1}, \"autotypenumbers\": \"strict\", \"coloraxis\": {\"colorbar\": {\"outlinewidth\": 0, \"ticks\": \"\"}}, \"colorscale\": {\"diverging\": [[0, \"#8e0152\"], [0.1, \"#c51b7d\"], [0.2, \"#de77ae\"], [0.3, \"#f1b6da\"], [0.4, \"#fde0ef\"], [0.5, \"#f7f7f7\"], [0.6, \"#e6f5d0\"], [0.7, \"#b8e186\"], [0.8, \"#7fbc41\"], [0.9, \"#4d9221\"], [1, \"#276419\"]], \"sequential\": [[0.0, \"#0d0887\"], [0.1111111111111111, \"#46039f\"], [0.2222222222222222, \"#7201a8\"], [0.3333333333333333, \"#9c179e\"], [0.4444444444444444, \"#bd3786\"], [0.5555555555555556, \"#d8576b\"], [0.6666666666666666, \"#ed7953\"], [0.7777777777777778, \"#fb9f3a\"], [0.8888888888888888, \"#fdca26\"], [1.0, \"#f0f921\"]], \"sequentialminus\": [[0.0, \"#0d0887\"], [0.1111111111111111, \"#46039f\"], [0.2222222222222222, \"#7201a8\"], [0.3333333333333333, \"#9c179e\"], [0.4444444444444444, \"#bd3786\"], [0.5555555555555556, \"#d8576b\"], [0.6666666666666666, \"#ed7953\"], [0.7777777777777778, \"#fb9f3a\"], [0.8888888888888888, \"#fdca26\"], [1.0, \"#f0f921\"]]}, \"colorway\": [\"#636efa\", \"#EF553B\", \"#00cc96\", \"#ab63fa\", \"#FFA15A\", \"#19d3f3\", \"#FF6692\", \"#B6E880\", \"#FF97FF\", \"#FECB52\"], \"font\": {\"color\": \"#2a3f5f\"}, \"geo\": {\"bgcolor\": \"white\", \"lakecolor\": \"white\", \"landcolor\": \"#E5ECF6\", \"showlakes\": true, \"showland\": true, \"subunitcolor\": \"white\"}, \"hoverlabel\": {\"align\": \"left\"}, \"hovermode\": \"closest\", \"mapbox\": {\"style\": \"light\"}, \"paper_bgcolor\": \"white\", \"plot_bgcolor\": \"#E5ECF6\", \"polar\": {\"angularaxis\": {\"gridcolor\": \"white\", \"linecolor\": \"white\", \"ticks\": \"\"}, \"bgcolor\": \"#E5ECF6\", \"radialaxis\": {\"gridcolor\": \"white\", \"linecolor\": \"white\", \"ticks\": \"\"}}, \"scene\": {\"xaxis\": {\"backgroundcolor\": \"#E5ECF6\", \"gridcolor\": \"white\", \"gridwidth\": 2, \"linecolor\": \"white\", \"showbackground\": true, \"ticks\": \"\", \"zerolinecolor\": \"white\"}, \"yaxis\": {\"backgroundcolor\": \"#E5ECF6\", \"gridcolor\": \"white\", \"gridwidth\": 2, \"linecolor\": \"white\", \"showbackground\": true, \"ticks\": \"\", \"zerolinecolor\": \"white\"}, \"zaxis\": {\"backgroundcolor\": \"#E5ECF6\", \"gridcolor\": \"white\", \"gridwidth\": 2, \"linecolor\": \"white\", \"showbackground\": true, \"ticks\": \"\", \"zerolinecolor\": \"white\"}}, \"shapedefaults\": {\"line\": {\"color\": \"#2a3f5f\"}}, \"ternary\": {\"aaxis\": {\"gridcolor\": \"white\", \"linecolor\": \"white\", \"ticks\": \"\"}, \"baxis\": {\"gridcolor\": \"white\", \"linecolor\": \"white\", \"ticks\": \"\"}, \"bgcolor\": \"#E5ECF6\", \"caxis\": {\"gridcolor\": \"white\", \"linecolor\": \"white\", \"ticks\": \"\"}}, \"title\": {\"x\": 0.05}, \"xaxis\": {\"automargin\": true, \"gridcolor\": \"white\", \"linecolor\": \"white\", \"ticks\": \"\", \"title\": {\"standoff\": 15}, \"zerolinecolor\": \"white\", \"zerolinewidth\": 2}, \"yaxis\": {\"automargin\": true, \"gridcolor\": \"white\", \"linecolor\": \"white\", \"ticks\": \"\", \"title\": {\"standoff\": 15}, \"zerolinecolor\": \"white\", \"zerolinewidth\": 2}}}, \"title\": {\"text\": \"Covid cases by County\"}, \"xaxis\": {\"anchor\": \"y\", \"domain\": [0.0, 1.0], \"title\": {\"text\": \"Total Positive Cases\"}}, \"yaxis\": {\"anchor\": \"x\", \"domain\": [0.0, 1.0], \"title\": {\"text\": \"count\"}}},                        {\"responsive\": true}                    ).then(function(){\n",
       "                            \n",
       "var gd = document.getElementById('b7878597-71bf-4207-a7b0-bb04f3433591');\n",
       "var x = new MutationObserver(function (mutations, observer) {{\n",
       "        var display = window.getComputedStyle(gd).display;\n",
       "        if (!display || display === 'none') {{\n",
       "            console.log([gd, 'removed!']);\n",
       "            Plotly.purge(gd);\n",
       "            observer.disconnect();\n",
       "        }}\n",
       "}});\n",
       "\n",
       "// Listen for the removal of the full notebook cells\n",
       "var notebookContainer = gd.closest('#notebook-container');\n",
       "if (notebookContainer) {{\n",
       "    x.observe(notebookContainer, {childList: true});\n",
       "}}\n",
       "\n",
       "// Listen for the clearing of the current output cell\n",
       "var outputEl = gd.closest('.output');\n",
       "if (outputEl) {{\n",
       "    x.observe(outputEl, {childList: true});\n",
       "}}\n",
       "\n",
       "                        })                };                });            </script>        </div>"
      ]
     },
     "metadata": {},
     "output_type": "display_data"
    }
   ],
   "source": [
    "fig = px.histogram(compiledcountydata, x=\"Total Positive Cases\", color=\"Total Deaths\", title=\"Covid cases by County\")\n",
    "fig.show()"
   ]
  },
  {
   "cell_type": "code",
   "execution_count": null,
   "metadata": {},
   "outputs": [],
   "source": []
  }
 ],
 "metadata": {
  "kernelspec": {
   "display_name": "Python 3",
   "language": "python",
   "name": "python3"
  },
  "language_info": {
   "codemirror_mode": {
    "name": "ipython",
    "version": 3
   },
   "file_extension": ".py",
   "mimetype": "text/x-python",
   "name": "python",
   "nbconvert_exporter": "python",
   "pygments_lexer": "ipython3",
   "version": "3.8.5"
  }
 },
 "nbformat": 4,
 "nbformat_minor": 4
}
