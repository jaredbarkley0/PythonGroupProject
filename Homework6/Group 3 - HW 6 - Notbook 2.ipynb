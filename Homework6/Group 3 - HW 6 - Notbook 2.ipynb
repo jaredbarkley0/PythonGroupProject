{
 "cells": [
  {
   "cell_type": "markdown",
   "metadata": {
    "collapsed": true,
    "pycharm": {
     "name": "#%% md\n"
    }
   },
   "source": [
    "# Python Predictive Analytics of MN Covid-19 Data - Project Report\n",
    "#####    - Group 3 (Jared Barkley, Netaji Boggarapu, Michael Noonan, Tyler Zaruba)"
   ]
  },
  {
   "cell_type": "markdown",
   "source": [
    "### Introduction:\n",
    "The reality of Covid-19 in today's world is a scary thought. It is everywhere in the world,\n",
    "and continues to spread. This is why it is important to examine the data around Covid-19 numbers\n",
    "to help us answer tough questions around how this is spreading, and how to slow the spread to\n",
    "help save the lives of some of those most at risk.\n",
    "\n",
    "Techniques in data science and predictive analytics can help us understand what data\n",
    "we currently have, and how we can use that to inform the future. In this project we will\n",
    "look at data from 87 counties (and 1 \"unknown location\") in Minnesota (MN) that show Covid-19 rates\n",
    "in the county, and in the nursing facilities in those counties.\n"
   ],
   "metadata": {
    "collapsed": false,
    "pycharm": {
     "name": "#%% md\n"
    }
   }
  },
  {
   "cell_type": "markdown",
   "source": [
    "### 1.) Data Overview:\n",
    "What type of data are you dealing with? Think, is it all from one source,\n",
    "multiple sources, categorical, etc. What difficulties, if any, are present in this data?"
   ],
   "metadata": {
    "collapsed": false,
    "pycharm": {
     "name": "#%% md\n"
    }
   }
  },
  {
   "cell_type": "markdown",
   "source": [
    "Our data is Covid-19 case data for the state of Minnesota broken\n",
    "out by individual counties (87 Counties + 1 row for cases for people of unknown counties).\n",
    "For each county we have data points for: Total number of Cases, Total number of deaths,\n",
    "number of cases (and deaths) attributed to nursing homes and population density.\n",
    "\n",
    "The data was pulled from two data sources from the Minnesota department of Health,\n",
    "one showing total number of cases per county, and the other showing cases per nursing home.\n",
    "\n",
    "The data is mostly numerical in nature, with County being the only categorical variable.\n",
    "(There was other data collected that is not currently in use, as of this proposal,\n",
    "located in our [DataSources.docx].)\n",
    "\n",
    "With our data being mostly numerical we will be running linear regression to create an algorithm/equation\n",
    "for predicting Covid-19 numbers across population density and number of nursing home facilities per county.\n",
    "\n",
    "One challenge in working with this data is aggregating the nursing home data by each county,\n",
    "and then merging that into the data for overall Covid-19 statistics.\n",
    "\n",
    "Our goal in working with this data would be to identify any trends in infection rate, or death rate,\n",
    "related either to number of care facilities in a county or the population density of the county."
   ],
   "metadata": {
    "collapsed": false,
    "pycharm": {
     "name": "#%% md\n"
    }
   }
  },
  {
   "cell_type": "markdown",
   "source": [
    "### 2.) Methods and Observations:\n",
    "What types of visualization are useful, and why is your choice a preferred choice?\n",
    "Which library did you decide to use? Again, why did you choose it?"
   ],
   "metadata": {
    "collapsed": false,
    "pycharm": {
     "name": "#%% md\n"
    }
   }
  },
  {
   "cell_type": "markdown",
   "source": [
    "To help showcase the data the team tried three different Python libraries to select the optimal solution\n",
    "to present the Covid-19 data. Of the three, Matplotlib and Seaborn were chosen to be the best fit. Plotly is\n",
    "not desirable due to its inconvenience of only working in Jupyter notebooks,\n",
    "(and some team members have even had issues getting Plotly to work in notebooks).\n",
    "Plotly (when working) was shown to have its uses, with it being the library best suited for interactive displays.\n",
    "However, we feel that the data in this project may not need to be interactive.\n",
    "\n",
    "Matplotlib was selected for showcasing most of our data that needs flexibility and creativity. Seaborn\n",
    "was selected to showcase select data that needs to look professional and efficient, while being able to be\n",
    "produced relatively quickly.\n",
    "\n",
    "The plots that are most useful for explaining our data within our selected libraries of Matplotlib and Seaborn\n",
    "are scatter type plots and line plots. These will show overall trends (or lack thereof) when evaluating one variable\n",
    "based off of another. Bar Graph, Histograms, and PairPlots may be useful as well due to our data being more regressive than categorical."
   ],
   "metadata": {
    "collapsed": false,
    "pycharm": {
     "name": "#%% md\n"
    }
   }
  },
  {
   "cell_type": "markdown",
   "source": [
    "### 3.) Next Steps:\n",
    "After looking at this all, do you feel you have too much, or too little information?\n",
    "Do you feel you'll come up with good results/information from the data you have on hand?\n",
    "If you have too little data to make this all meaningful, can you get more data?\n",
    "What's your plan, in other words."
   ],
   "metadata": {
    "collapsed": false,
    "pycharm": {
     "name": "#%% md\n"
    }
   }
  },
  {
   "cell_type": "markdown",
   "source": [
    "After working through these graphs, we feel we have almost enough data.\n",
    "The one piece of information that would help tie a lot of the statistics\n",
    "together would be Total Population for each county.\n",
    "That would help us correlate our current data to rates of infection,\n",
    "which would be more useful than total number of infections.\n",
    "\n",
    "We have two very large and dense counties, while the rest are much smaller in size.\n",
    "This can negatively skew our data. With a Total Population per county we can then compare\n",
    "infection rates by percentage of Total Population which should smooth out the\n",
    "data and allow us to be able to more accurately predict infection rates.\n",
    "\n",
    "The Total Population data should be available to us, and we will plan to incorporate that\n",
    "into the next stage of the project. With this, we feel confident that we have all the\n",
    "data needed to create a predictive model using Python of Covid-19 infection/death rates by\n",
    "population density, number of nursing homes, and county."
   ],
   "metadata": {
    "collapsed": false,
    "pycharm": {
     "name": "#%% md\n"
    }
   }
  }
 ],
 "metadata": {
  "kernelspec": {
   "display_name": "Python 3",
   "language": "python",
   "name": "python3"
  },
  "language_info": {
   "codemirror_mode": {
    "name": "ipython",
    "version": 2
   },
   "file_extension": ".py",
   "mimetype": "text/x-python",
   "name": "python",
   "nbconvert_exporter": "python",
   "pygments_lexer": "ipython2",
   "version": "2.7.6"
  }
 },
 "nbformat": 4,
 "nbformat_minor": 0
}