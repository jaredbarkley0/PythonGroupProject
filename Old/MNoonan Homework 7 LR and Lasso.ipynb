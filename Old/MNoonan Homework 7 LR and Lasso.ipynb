{
 "cells": [
  {
   "cell_type": "markdown",
   "metadata": {},
   "source": [
    "# BAIS 6040 Data Programming in Python\n",
    "\n",
    "## Spring 2021\n",
    "\n",
    "## Week 9 Homework\n",
    "\n",
    "## Group 3: Jared Barkley, Tyler Zaruba, Netaji Boggarapu, Michael Noonan"
   ]
  },
  {
   "cell_type": "code",
   "execution_count": 3,
   "metadata": {},
   "outputs": [],
   "source": [
    "import pandas as pd\n",
    "import numpy as np\n",
    "import matplotlib.pyplot as plt\n",
    "import seaborn as sns\n",
    "from sklearn.model_selection import train_test_split\n",
    "from sklearn.metrics import explained_variance_score, mean_absolute_error, r2_score, mean_squared_error\n",
    "from sklearn.linear_model import Ridge\n",
    "from sklearn.linear_model import LinearRegression\n",
    "from sklearn.linear_model import Lasso"
   ]
  },
  {
   "cell_type": "code",
   "execution_count": 4,
   "metadata": {},
   "outputs": [
    {
     "data": {
      "text/html": [
       "<div>\n",
       "<style scoped>\n",
       "    .dataframe tbody tr th:only-of-type {\n",
       "        vertical-align: middle;\n",
       "    }\n",
       "\n",
       "    .dataframe tbody tr th {\n",
       "        vertical-align: top;\n",
       "    }\n",
       "\n",
       "    .dataframe thead th {\n",
       "        text-align: right;\n",
       "    }\n",
       "</style>\n",
       "<table border=\"1\" class=\"dataframe\">\n",
       "  <thead>\n",
       "    <tr style=\"text-align: right;\">\n",
       "      <th></th>\n",
       "      <th>Unnamed: 0</th>\n",
       "      <th>County</th>\n",
       "      <th>Total Positive Cases</th>\n",
       "      <th>Total Deaths</th>\n",
       "      <th>Population</th>\n",
       "      <th>Rate of Infection</th>\n",
       "      <th>Pop Density</th>\n",
       "      <th>Mean Household Size</th>\n",
       "      <th>Congregate Living Population</th>\n",
       "      <th>No. of Cases in Nursing Homes</th>\n",
       "      <th>No. of Nursing Homes in County</th>\n",
       "      <th>Nursing Home Cases, % of Total</th>\n",
       "      <th>Cases per number of Nursing Home</th>\n",
       "    </tr>\n",
       "  </thead>\n",
       "  <tbody>\n",
       "    <tr>\n",
       "      <th>0</th>\n",
       "      <td>0</td>\n",
       "      <td>Aitkin</td>\n",
       "      <td>1191</td>\n",
       "      <td>33</td>\n",
       "      <td>15870.0</td>\n",
       "      <td>0.075047</td>\n",
       "      <td>8.0</td>\n",
       "      <td>2.097233</td>\n",
       "      <td>254.0</td>\n",
       "      <td>118.0</td>\n",
       "      <td>4.0</td>\n",
       "      <td>0.099076</td>\n",
       "      <td>29.500000</td>\n",
       "    </tr>\n",
       "    <tr>\n",
       "      <th>1</th>\n",
       "      <td>1</td>\n",
       "      <td>Anoka</td>\n",
       "      <td>33391</td>\n",
       "      <td>390</td>\n",
       "      <td>362648.0</td>\n",
       "      <td>0.092076</td>\n",
       "      <td>753.9</td>\n",
       "      <td>2.712716</td>\n",
       "      <td>3753.0</td>\n",
       "      <td>1675.0</td>\n",
       "      <td>35.0</td>\n",
       "      <td>0.050163</td>\n",
       "      <td>47.857143</td>\n",
       "    </tr>\n",
       "    <tr>\n",
       "      <th>2</th>\n",
       "      <td>2</td>\n",
       "      <td>Becker</td>\n",
       "      <td>3131</td>\n",
       "      <td>42</td>\n",
       "      <td>34545.0</td>\n",
       "      <td>0.090635</td>\n",
       "      <td>22.8</td>\n",
       "      <td>2.393929</td>\n",
       "      <td>477.0</td>\n",
       "      <td>294.0</td>\n",
       "      <td>8.0</td>\n",
       "      <td>0.093900</td>\n",
       "      <td>36.750000</td>\n",
       "    </tr>\n",
       "    <tr>\n",
       "      <th>3</th>\n",
       "      <td>3</td>\n",
       "      <td>Beltrami</td>\n",
       "      <td>3386</td>\n",
       "      <td>51</td>\n",
       "      <td>47184.0</td>\n",
       "      <td>0.071762</td>\n",
       "      <td>14.8</td>\n",
       "      <td>2.487013</td>\n",
       "      <td>1990.0</td>\n",
       "      <td>264.0</td>\n",
       "      <td>11.0</td>\n",
       "      <td>0.077968</td>\n",
       "      <td>24.000000</td>\n",
       "    </tr>\n",
       "    <tr>\n",
       "      <th>4</th>\n",
       "      <td>4</td>\n",
       "      <td>Benton</td>\n",
       "      <td>4482</td>\n",
       "      <td>90</td>\n",
       "      <td>40895.0</td>\n",
       "      <td>0.109598</td>\n",
       "      <td>94.4</td>\n",
       "      <td>2.426614</td>\n",
       "      <td>1050.0</td>\n",
       "      <td>557.0</td>\n",
       "      <td>11.0</td>\n",
       "      <td>0.124275</td>\n",
       "      <td>50.636364</td>\n",
       "    </tr>\n",
       "    <tr>\n",
       "      <th>...</th>\n",
       "      <td>...</td>\n",
       "      <td>...</td>\n",
       "      <td>...</td>\n",
       "      <td>...</td>\n",
       "      <td>...</td>\n",
       "      <td>...</td>\n",
       "      <td>...</td>\n",
       "      <td>...</td>\n",
       "      <td>...</td>\n",
       "      <td>...</td>\n",
       "      <td>...</td>\n",
       "      <td>...</td>\n",
       "      <td>...</td>\n",
       "    </tr>\n",
       "    <tr>\n",
       "      <th>82</th>\n",
       "      <td>82</td>\n",
       "      <td>Watonwan</td>\n",
       "      <td>1176</td>\n",
       "      <td>8</td>\n",
       "      <td>10923.0</td>\n",
       "      <td>0.107663</td>\n",
       "      <td>25.4</td>\n",
       "      <td>2.397507</td>\n",
       "      <td>151.0</td>\n",
       "      <td>36.0</td>\n",
       "      <td>3.0</td>\n",
       "      <td>0.030612</td>\n",
       "      <td>12.000000</td>\n",
       "    </tr>\n",
       "    <tr>\n",
       "      <th>83</th>\n",
       "      <td>83</td>\n",
       "      <td>Wilkin</td>\n",
       "      <td>677</td>\n",
       "      <td>11</td>\n",
       "      <td>6226.0</td>\n",
       "      <td>0.108738</td>\n",
       "      <td>8.7</td>\n",
       "      <td>2.238850</td>\n",
       "      <td>152.0</td>\n",
       "      <td>36.0</td>\n",
       "      <td>2.0</td>\n",
       "      <td>0.053176</td>\n",
       "      <td>18.000000</td>\n",
       "    </tr>\n",
       "    <tr>\n",
       "      <th>84</th>\n",
       "      <td>84</td>\n",
       "      <td>Winona</td>\n",
       "      <td>4193</td>\n",
       "      <td>49</td>\n",
       "      <td>50830.0</td>\n",
       "      <td>0.082491</td>\n",
       "      <td>79.9</td>\n",
       "      <td>2.352632</td>\n",
       "      <td>3855.0</td>\n",
       "      <td>277.0</td>\n",
       "      <td>9.0</td>\n",
       "      <td>0.066062</td>\n",
       "      <td>30.777778</td>\n",
       "    </tr>\n",
       "    <tr>\n",
       "      <th>85</th>\n",
       "      <td>85</td>\n",
       "      <td>Wright</td>\n",
       "      <td>12554</td>\n",
       "      <td>116</td>\n",
       "      <td>138531.0</td>\n",
       "      <td>0.090622</td>\n",
       "      <td>178.3</td>\n",
       "      <td>2.796739</td>\n",
       "      <td>1158.0</td>\n",
       "      <td>687.0</td>\n",
       "      <td>20.0</td>\n",
       "      <td>0.054724</td>\n",
       "      <td>34.350000</td>\n",
       "    </tr>\n",
       "    <tr>\n",
       "      <th>86</th>\n",
       "      <td>86</td>\n",
       "      <td>Yellow Medicine</td>\n",
       "      <td>977</td>\n",
       "      <td>17</td>\n",
       "      <td>9729.0</td>\n",
       "      <td>0.100421</td>\n",
       "      <td>13.4</td>\n",
       "      <td>2.282535</td>\n",
       "      <td>293.0</td>\n",
       "      <td>79.0</td>\n",
       "      <td>3.0</td>\n",
       "      <td>0.080860</td>\n",
       "      <td>26.333333</td>\n",
       "    </tr>\n",
       "  </tbody>\n",
       "</table>\n",
       "<p>87 rows × 13 columns</p>\n",
       "</div>"
      ],
      "text/plain": [
       "    Unnamed: 0           County  Total Positive Cases  Total Deaths  \\\n",
       "0            0           Aitkin                  1191            33   \n",
       "1            1            Anoka                 33391           390   \n",
       "2            2           Becker                  3131            42   \n",
       "3            3         Beltrami                  3386            51   \n",
       "4            4           Benton                  4482            90   \n",
       "..         ...              ...                   ...           ...   \n",
       "82          82         Watonwan                  1176             8   \n",
       "83          83           Wilkin                   677            11   \n",
       "84          84           Winona                  4193            49   \n",
       "85          85           Wright                 12554           116   \n",
       "86          86  Yellow Medicine                   977            17   \n",
       "\n",
       "    Population  Rate of Infection  Pop Density  Mean Household Size  \\\n",
       "0      15870.0           0.075047          8.0             2.097233   \n",
       "1     362648.0           0.092076        753.9             2.712716   \n",
       "2      34545.0           0.090635         22.8             2.393929   \n",
       "3      47184.0           0.071762         14.8             2.487013   \n",
       "4      40895.0           0.109598         94.4             2.426614   \n",
       "..         ...                ...          ...                  ...   \n",
       "82     10923.0           0.107663         25.4             2.397507   \n",
       "83      6226.0           0.108738          8.7             2.238850   \n",
       "84     50830.0           0.082491         79.9             2.352632   \n",
       "85    138531.0           0.090622        178.3             2.796739   \n",
       "86      9729.0           0.100421         13.4             2.282535   \n",
       "\n",
       "    Congregate Living Population  No. of Cases in Nursing Homes  \\\n",
       "0                          254.0                          118.0   \n",
       "1                         3753.0                         1675.0   \n",
       "2                          477.0                          294.0   \n",
       "3                         1990.0                          264.0   \n",
       "4                         1050.0                          557.0   \n",
       "..                           ...                            ...   \n",
       "82                         151.0                           36.0   \n",
       "83                         152.0                           36.0   \n",
       "84                        3855.0                          277.0   \n",
       "85                        1158.0                          687.0   \n",
       "86                         293.0                           79.0   \n",
       "\n",
       "    No. of Nursing Homes in County  Nursing Home Cases, % of Total  \\\n",
       "0                              4.0                        0.099076   \n",
       "1                             35.0                        0.050163   \n",
       "2                              8.0                        0.093900   \n",
       "3                             11.0                        0.077968   \n",
       "4                             11.0                        0.124275   \n",
       "..                             ...                             ...   \n",
       "82                             3.0                        0.030612   \n",
       "83                             2.0                        0.053176   \n",
       "84                             9.0                        0.066062   \n",
       "85                            20.0                        0.054724   \n",
       "86                             3.0                        0.080860   \n",
       "\n",
       "    Cases per number of Nursing Home  \n",
       "0                          29.500000  \n",
       "1                          47.857143  \n",
       "2                          36.750000  \n",
       "3                          24.000000  \n",
       "4                          50.636364  \n",
       "..                               ...  \n",
       "82                         12.000000  \n",
       "83                         18.000000  \n",
       "84                         30.777778  \n",
       "85                         34.350000  \n",
       "86                         26.333333  \n",
       "\n",
       "[87 rows x 13 columns]"
      ]
     },
     "execution_count": 4,
     "metadata": {},
     "output_type": "execute_result"
    }
   ],
   "source": [
    "compiledcountydata_dir = \"https://raw.githubusercontent.com/jaredbarkley0/PythonGroupProject/master/MN%20County%20Data_032721.csv\"\n",
    "compiledcountydata = pd.read_csv(compiledcountydata_dir)\n",
    "compiledcountydata"
   ]
  },
  {
   "cell_type": "code",
   "execution_count": 5,
   "metadata": {},
   "outputs": [],
   "source": [
    "# Adding column for 'Death Rate' to create a new target for analysis\n",
    "\n",
    "compiledcountydata['Death Rate'] = compiledcountydata['Total Deaths']/compiledcountydata['Total Positive Cases']"
   ]
  },
  {
   "cell_type": "code",
   "execution_count": 6,
   "metadata": {},
   "outputs": [
    {
     "name": "stdout",
     "output_type": "stream",
     "text": [
      "<class 'pandas.core.frame.DataFrame'>\n",
      "RangeIndex: 87 entries, 0 to 86\n",
      "Data columns (total 14 columns):\n",
      " #   Column                            Non-Null Count  Dtype  \n",
      "---  ------                            --------------  -----  \n",
      " 0   Unnamed: 0                        87 non-null     int64  \n",
      " 1   County                            87 non-null     object \n",
      " 2   Total Positive Cases              87 non-null     int64  \n",
      " 3   Total Deaths                      87 non-null     int64  \n",
      " 4   Population                        87 non-null     float64\n",
      " 5   Rate of Infection                 87 non-null     float64\n",
      " 6   Pop Density                       87 non-null     float64\n",
      " 7   Mean Household Size               87 non-null     float64\n",
      " 8   Congregate Living Population      87 non-null     float64\n",
      " 9   No. of Cases in Nursing Homes     87 non-null     float64\n",
      " 10  No. of Nursing Homes in County    87 non-null     float64\n",
      " 11  Nursing Home Cases, % of Total    87 non-null     float64\n",
      " 12  Cases per number of Nursing Home  87 non-null     float64\n",
      " 13  Death Rate                        87 non-null     float64\n",
      "dtypes: float64(10), int64(3), object(1)\n",
      "memory usage: 9.6+ KB\n"
     ]
    }
   ],
   "source": [
    "# Check info on dataframe\n",
    "compiledcountydata.info()"
   ]
  },
  {
   "cell_type": "code",
   "execution_count": 7,
   "metadata": {},
   "outputs": [
    {
     "data": {
      "text/html": [
       "<div>\n",
       "<style scoped>\n",
       "    .dataframe tbody tr th:only-of-type {\n",
       "        vertical-align: middle;\n",
       "    }\n",
       "\n",
       "    .dataframe tbody tr th {\n",
       "        vertical-align: top;\n",
       "    }\n",
       "\n",
       "    .dataframe thead th {\n",
       "        text-align: right;\n",
       "    }\n",
       "</style>\n",
       "<table border=\"1\" class=\"dataframe\">\n",
       "  <thead>\n",
       "    <tr style=\"text-align: right;\">\n",
       "      <th></th>\n",
       "      <th>Unnamed: 0</th>\n",
       "      <th>Total Positive Cases</th>\n",
       "      <th>Total Deaths</th>\n",
       "      <th>Population</th>\n",
       "      <th>Rate of Infection</th>\n",
       "      <th>Pop Density</th>\n",
       "      <th>Mean Household Size</th>\n",
       "      <th>Congregate Living Population</th>\n",
       "      <th>No. of Cases in Nursing Homes</th>\n",
       "      <th>No. of Nursing Homes in County</th>\n",
       "      <th>Nursing Home Cases, % of Total</th>\n",
       "      <th>Cases per number of Nursing Home</th>\n",
       "      <th>Death Rate</th>\n",
       "    </tr>\n",
       "  </thead>\n",
       "  <tbody>\n",
       "    <tr>\n",
       "      <th>count</th>\n",
       "      <td>87.000000</td>\n",
       "      <td>87.000000</td>\n",
       "      <td>87.000000</td>\n",
       "      <td>8.700000e+01</td>\n",
       "      <td>87.000000</td>\n",
       "      <td>87.000000</td>\n",
       "      <td>87.000000</td>\n",
       "      <td>87.000000</td>\n",
       "      <td>87.000000</td>\n",
       "      <td>87.000000</td>\n",
       "      <td>87.000000</td>\n",
       "      <td>87.000000</td>\n",
       "      <td>87.000000</td>\n",
       "    </tr>\n",
       "    <tr>\n",
       "      <th>mean</th>\n",
       "      <td>43.000000</td>\n",
       "      <td>5596.896552</td>\n",
       "      <td>74.954023</td>\n",
       "      <td>6.529123e+04</td>\n",
       "      <td>0.090689</td>\n",
       "      <td>123.595402</td>\n",
       "      <td>2.377683</td>\n",
       "      <td>1516.241379</td>\n",
       "      <td>387.057471</td>\n",
       "      <td>12.275862</td>\n",
       "      <td>0.078468</td>\n",
       "      <td>25.305158</td>\n",
       "      <td>0.013782</td>\n",
       "    </tr>\n",
       "    <tr>\n",
       "      <th>std</th>\n",
       "      <td>25.258662</td>\n",
       "      <td>12776.366482</td>\n",
       "      <td>196.143926</td>\n",
       "      <td>1.593879e+05</td>\n",
       "      <td>0.019710</td>\n",
       "      <td>399.364804</td>\n",
       "      <td>0.178347</td>\n",
       "      <td>3632.215103</td>\n",
       "      <td>901.265807</td>\n",
       "      <td>20.907710</td>\n",
       "      <td>0.038908</td>\n",
       "      <td>12.360818</td>\n",
       "      <td>0.007156</td>\n",
       "    </tr>\n",
       "    <tr>\n",
       "      <th>min</th>\n",
       "      <td>0.000000</td>\n",
       "      <td>118.000000</td>\n",
       "      <td>0.000000</td>\n",
       "      <td>3.263000e+03</td>\n",
       "      <td>0.021604</td>\n",
       "      <td>1.600000</td>\n",
       "      <td>1.999631</td>\n",
       "      <td>12.000000</td>\n",
       "      <td>0.000000</td>\n",
       "      <td>0.000000</td>\n",
       "      <td>0.000000</td>\n",
       "      <td>0.000000</td>\n",
       "      <td>0.000000</td>\n",
       "    </tr>\n",
       "    <tr>\n",
       "      <th>25%</th>\n",
       "      <td>21.500000</td>\n",
       "      <td>997.000000</td>\n",
       "      <td>14.000000</td>\n",
       "      <td>1.077750e+04</td>\n",
       "      <td>0.078862</td>\n",
       "      <td>13.850000</td>\n",
       "      <td>2.256933</td>\n",
       "      <td>199.000000</td>\n",
       "      <td>85.500000</td>\n",
       "      <td>4.000000</td>\n",
       "      <td>0.052831</td>\n",
       "      <td>18.000000</td>\n",
       "      <td>0.008693</td>\n",
       "    </tr>\n",
       "    <tr>\n",
       "      <th>50%</th>\n",
       "      <td>43.000000</td>\n",
       "      <td>2097.000000</td>\n",
       "      <td>28.000000</td>\n",
       "      <td>2.197600e+04</td>\n",
       "      <td>0.089838</td>\n",
       "      <td>25.400000</td>\n",
       "      <td>2.363005</td>\n",
       "      <td>374.000000</td>\n",
       "      <td>165.000000</td>\n",
       "      <td>7.000000</td>\n",
       "      <td>0.073751</td>\n",
       "      <td>24.761905</td>\n",
       "      <td>0.013812</td>\n",
       "    </tr>\n",
       "    <tr>\n",
       "      <th>75%</th>\n",
       "      <td>64.500000</td>\n",
       "      <td>4008.500000</td>\n",
       "      <td>50.500000</td>\n",
       "      <td>4.419800e+04</td>\n",
       "      <td>0.100678</td>\n",
       "      <td>57.850000</td>\n",
       "      <td>2.454706</td>\n",
       "      <td>1111.500000</td>\n",
       "      <td>320.500000</td>\n",
       "      <td>11.500000</td>\n",
       "      <td>0.100284</td>\n",
       "      <td>33.038462</td>\n",
       "      <td>0.017338</td>\n",
       "    </tr>\n",
       "    <tr>\n",
       "      <th>max</th>\n",
       "      <td>86.000000</td>\n",
       "      <td>101110.000000</td>\n",
       "      <td>1588.000000</td>\n",
       "      <td>1.279981e+06</td>\n",
       "      <td>0.176147</td>\n",
       "      <td>3064.900000</td>\n",
       "      <td>2.900663</td>\n",
       "      <td>26867.000000</td>\n",
       "      <td>7457.000000</td>\n",
       "      <td>168.000000</td>\n",
       "      <td>0.242054</td>\n",
       "      <td>65.857143</td>\n",
       "      <td>0.051345</td>\n",
       "    </tr>\n",
       "  </tbody>\n",
       "</table>\n",
       "</div>"
      ],
      "text/plain": [
       "       Unnamed: 0  Total Positive Cases  Total Deaths    Population  \\\n",
       "count   87.000000             87.000000     87.000000  8.700000e+01   \n",
       "mean    43.000000           5596.896552     74.954023  6.529123e+04   \n",
       "std     25.258662          12776.366482    196.143926  1.593879e+05   \n",
       "min      0.000000            118.000000      0.000000  3.263000e+03   \n",
       "25%     21.500000            997.000000     14.000000  1.077750e+04   \n",
       "50%     43.000000           2097.000000     28.000000  2.197600e+04   \n",
       "75%     64.500000           4008.500000     50.500000  4.419800e+04   \n",
       "max     86.000000         101110.000000   1588.000000  1.279981e+06   \n",
       "\n",
       "       Rate of Infection  Pop Density  Mean Household Size  \\\n",
       "count          87.000000    87.000000            87.000000   \n",
       "mean            0.090689   123.595402             2.377683   \n",
       "std             0.019710   399.364804             0.178347   \n",
       "min             0.021604     1.600000             1.999631   \n",
       "25%             0.078862    13.850000             2.256933   \n",
       "50%             0.089838    25.400000             2.363005   \n",
       "75%             0.100678    57.850000             2.454706   \n",
       "max             0.176147  3064.900000             2.900663   \n",
       "\n",
       "       Congregate Living Population  No. of Cases in Nursing Homes  \\\n",
       "count                     87.000000                      87.000000   \n",
       "mean                    1516.241379                     387.057471   \n",
       "std                     3632.215103                     901.265807   \n",
       "min                       12.000000                       0.000000   \n",
       "25%                      199.000000                      85.500000   \n",
       "50%                      374.000000                     165.000000   \n",
       "75%                     1111.500000                     320.500000   \n",
       "max                    26867.000000                    7457.000000   \n",
       "\n",
       "       No. of Nursing Homes in County  Nursing Home Cases, % of Total  \\\n",
       "count                       87.000000                       87.000000   \n",
       "mean                        12.275862                        0.078468   \n",
       "std                         20.907710                        0.038908   \n",
       "min                          0.000000                        0.000000   \n",
       "25%                          4.000000                        0.052831   \n",
       "50%                          7.000000                        0.073751   \n",
       "75%                         11.500000                        0.100284   \n",
       "max                        168.000000                        0.242054   \n",
       "\n",
       "       Cases per number of Nursing Home  Death Rate  \n",
       "count                         87.000000   87.000000  \n",
       "mean                          25.305158    0.013782  \n",
       "std                           12.360818    0.007156  \n",
       "min                            0.000000    0.000000  \n",
       "25%                           18.000000    0.008693  \n",
       "50%                           24.761905    0.013812  \n",
       "75%                           33.038462    0.017338  \n",
       "max                           65.857143    0.051345  "
      ]
     },
     "execution_count": 7,
     "metadata": {},
     "output_type": "execute_result"
    }
   ],
   "source": [
    "compiledcountydata.describe()"
   ]
  },
  {
   "cell_type": "code",
   "execution_count": 8,
   "metadata": {},
   "outputs": [],
   "source": [
    "#Define a function for examining relationships between two variables\n",
    "\n",
    "def twovariablelinreg(dataframe,xvar,yvar):\n",
    "    columns = xvar\n",
    "    target = yvar\n",
    "    \n",
    "    X = dataframe[[columns]]\n",
    "    y = dataframe[[target]]\n",
    "    X_train, X_test, y_train, y_test = train_test_split(X, y, test_size=0.25, random_state=1)\n",
    "    lr = LinearRegression()\n",
    "    lr.fit(X_train, y_train)\n",
    "    print(f\"The score of my two-variable linear regression is {lr.score(X_test, y_test)}\")\n",
    "    print(f'My R-squared value is {lr.score(X_test, y_test)}')\n",
    "    print(f'My slope coefficients are {lr.coef_}')\n",
    "    print(f'My intercept is {lr.intercept_}')\n",
    "    ypred = lr.predict(X)\n",
    "    fig, ax = plt.subplots(figsize = (4,4))\n",
    "    #Keeping the figure size small since I plan to do many of these\n",
    "    plt.scatter(X, ypred, color='purple')\n",
    "    plt.scatter(X,y, color='green')\n",
    "    ax.set(title = f'{yvar} by {xvar}', xlabel = xvar, ylabel=yvar)\n",
    "    plt.show"
   ]
  },
  {
   "cell_type": "markdown",
   "metadata": {},
   "source": [
    "# Section 1\n",
    "\n",
    "## Investigation of individual variables to try to identify base correlations\n",
    "## I'm Interested in Total Positive Cases, Rate of Infection, and Total Deaths as possible targets, will create plots\n",
    "## of possible targets versus relevant possible features for initial analysis"
   ]
  },
  {
   "cell_type": "code",
   "execution_count": 9,
   "metadata": {},
   "outputs": [],
   "source": [
    "# Helper function that allows me to select \n",
    "\n",
    "def plotpairgrid(dataframe, columns, target):\n",
    "    pairgrid = dataframe[target + columns]\n",
    "    pairgridplot = sns.PairGrid(pairgrid, y_vars=target, x_vars=columns, height = 5)\n",
    "    pairgridplot.map(sns.regplot, color=\"green\")\n",
    "    pairgridplot.map(sns.scatterplot)"
   ]
  },
  {
   "cell_type": "code",
   "execution_count": 10,
   "metadata": {},
   "outputs": [
    {
     "data": {
      "image/png": "[encoded data removed]",
      "text/plain": [
       "<Figure size 1080x360 with 3 Axes>"
      ]
     },
     "metadata": {
      "needs_background": "light"
     },
     "output_type": "display_data"
    }
   ],
   "source": [
    "# Examine relationships between rate of infection and other aggregate variables\n",
    "\n",
    "columns = ['Pop Density','Mean Household Size','Nursing Home Cases, % of Total']\n",
    "target = ['Rate of Infection']\n",
    "\n",
    "plotpairgrid(compiledcountydata, columns, target)"
   ]
  },
  {
   "cell_type": "markdown",
   "metadata": {},
   "source": [
    "### Rate of Infection"
   ]
  },
  {
   "cell_type": "code",
   "execution_count": 11,
   "metadata": {},
   "outputs": [
    {
     "name": "stdout",
     "output_type": "stream",
     "text": [
      "The score of my two-variable linear regression is 0.0036079248090240545\n",
      "My R-squared value is 0.0036079248090240545\n",
      "My slope coefficients are [[-5.03012188e-06]]\n",
      "My intercept is [0.09122743]\n"
     ]
    },
    {
     "data": {
      "image/png": "[encoded data removed]",
      "text/plain": [
       "<Figure size 288x288 with 1 Axes>"
      ]
     },
     "metadata": {
      "needs_background": "light"
     },
     "output_type": "display_data"
    }
   ],
   "source": [
    "# Assign columns of interest and target value\n",
    "\n",
    "twovariablelinreg(compiledcountydata,'Pop Density','Rate of Infection')"
   ]
  },
  {
   "cell_type": "markdown",
   "metadata": {},
   "source": [
    "## Population Density appears to have no correlation to Rate of Infection, confirmed by linear regression analysis and graph"
   ]
  },
  {
   "cell_type": "code",
   "execution_count": 12,
   "metadata": {},
   "outputs": [
    {
     "name": "stdout",
     "output_type": "stream",
     "text": [
      "The score of my two-variable linear regression is -0.10602803462310018\n",
      "My R-squared value is -0.10602803462310018\n",
      "My slope coefficients are [[3.58453454e-07]]\n",
      "My intercept is [0.01419182]\n"
     ]
    },
    {
     "data": {
      "image/png": "[encoded data removed]",
      "text/plain": [
       "<Figure size 288x288 with 1 Axes>"
      ]
     },
     "metadata": {
      "needs_background": "light"
     },
     "output_type": "display_data"
    }
   ],
   "source": [
    "twovariablelinreg(compiledcountydata, 'Pop Density','Death Rate')"
   ]
  },
  {
   "cell_type": "code",
   "execution_count": 13,
   "metadata": {},
   "outputs": [
    {
     "name": "stdout",
     "output_type": "stream",
     "text": [
      "The score of my two-variable linear regression is 0.6709833111167329\n",
      "My R-squared value is 0.6709833111167329\n",
      "My slope coefficients are [[3.15669637]]\n",
      "My intercept is [561.57892666]\n"
     ]
    },
    {
     "data": {
      "image/png": "[encoded data removed]",
      "text/plain": [
       "<Figure size 288x288 with 1 Axes>"
      ]
     },
     "metadata": {
      "needs_background": "light"
     },
     "output_type": "display_data"
    }
   ],
   "source": [
    "twovariablelinreg(compiledcountydata,'Congregate Living Population','Total Positive Cases')"
   ]
  },
  {
   "cell_type": "markdown",
   "metadata": {},
   "source": [
    "### Congregate Living population appears to correlate with total number of infections positively"
   ]
  },
  {
   "cell_type": "code",
   "execution_count": 14,
   "metadata": {},
   "outputs": [
    {
     "name": "stdout",
     "output_type": "stream",
     "text": [
      "The score of my two-variable linear regression is -0.02340374959222835\n",
      "My R-squared value is -0.02340374959222835\n",
      "My slope coefficients are [[0.01865045]]\n",
      "My intercept is [0.04614126]\n"
     ]
    },
    {
     "data": {
      "image/png": "[encoded data removed]",
      "text/plain": [
       "<Figure size 288x288 with 1 Axes>"
      ]
     },
     "metadata": {
      "needs_background": "light"
     },
     "output_type": "display_data"
    }
   ],
   "source": [
    "twovariablelinreg(compiledcountydata,'Mean Household Size', 'Rate of Infection')"
   ]
  },
  {
   "cell_type": "code",
   "execution_count": 15,
   "metadata": {},
   "outputs": [
    {
     "name": "stdout",
     "output_type": "stream",
     "text": [
      "The score of my two-variable linear regression is 0.14545631605207032\n",
      "My R-squared value is 0.14545631605207032\n",
      "My slope coefficients are [[20727.80361536]]\n",
      "My intercept is [-42944.88636043]\n"
     ]
    },
    {
     "data": {
      "image/png": "[encoded data removed]",
      "text/plain": [
       "<Figure size 288x288 with 1 Axes>"
      ]
     },
     "metadata": {
      "needs_background": "light"
     },
     "output_type": "display_data"
    }
   ],
   "source": [
    "twovariablelinreg(compiledcountydata,'Mean Household Size', 'Total Positive Cases')"
   ]
  },
  {
   "cell_type": "code",
   "execution_count": 16,
   "metadata": {},
   "outputs": [
    {
     "name": "stdout",
     "output_type": "stream",
     "text": [
      "The score of my two-variable linear regression is 0.001639278164279001\n",
      "My R-squared value is 0.001639278164279001\n",
      "My slope coefficients are [[-4.25292258e-07]]\n",
      "My intercept is [0.09129799]\n"
     ]
    },
    {
     "data": {
      "image/png": "[encoded data removed]",
      "text/plain": [
       "<Figure size 288x288 with 1 Axes>"
      ]
     },
     "metadata": {
      "needs_background": "light"
     },
     "output_type": "display_data"
    }
   ],
   "source": [
    "twovariablelinreg(compiledcountydata, 'Congregate Living Population', 'Rate of Infection')"
   ]
  },
  {
   "cell_type": "code",
   "execution_count": 17,
   "metadata": {},
   "outputs": [
    {
     "name": "stdout",
     "output_type": "stream",
     "text": [
      "The score of my two-variable linear regression is 0.0057197933979681315\n",
      "My R-squared value is 0.0057197933979681315\n",
      "My slope coefficients are [[-1.23449966e-08]]\n",
      "My intercept is [0.09143822]\n"
     ]
    },
    {
     "data": {
      "image/png": "[encoded data removed]",
      "text/plain": [
       "<Figure size 288x288 with 1 Axes>"
      ]
     },
     "metadata": {
      "needs_background": "light"
     },
     "output_type": "display_data"
    }
   ],
   "source": [
    "twovariablelinreg(compiledcountydata,\"Population\",\"Rate of Infection\")"
   ]
  },
  {
   "cell_type": "code",
   "execution_count": 18,
   "metadata": {},
   "outputs": [
    {
     "name": "stdout",
     "output_type": "stream",
     "text": [
      "The score of my two-variable linear regression is 0.818931588230303\n",
      "My R-squared value is 0.818931588230303\n",
      "My slope coefficients are [[0.00122499]]\n",
      "My intercept is [-3.71201596]\n"
     ]
    },
    {
     "data": {
      "image/png": "[encoded data removed]",
      "text/plain": [
       "<Figure size 288x288 with 1 Axes>"
      ]
     },
     "metadata": {
      "needs_background": "light"
     },
     "output_type": "display_data"
    }
   ],
   "source": [
    "twovariablelinreg(compiledcountydata,'Population', 'Total Deaths')"
   ]
  },
  {
   "cell_type": "markdown",
   "metadata": {},
   "source": [
    "# Section 2, multiple linear regression"
   ]
  },
  {
   "cell_type": "code",
   "execution_count": 19,
   "metadata": {},
   "outputs": [],
   "source": [
    "# Create function for linear regression that accepts X and y, X & y defined outside of function\n",
    "# Need help defining a function that needs a list as a variable\n",
    "\n",
    "def linreg(dataframe,columns,target):\n",
    "    X = dataframe[columns]\n",
    "    y = dataframe[target]\n",
    "    X_train, X_test, y_train, y_test = train_test_split(X, y, test_size=0.25, random_state=1)\n",
    "    lr = LinearRegression()\n",
    "    lr.fit(X_train, y_train)\n",
    "    print(f\"The score of my two-variable linear regression is {lr.score(X_test, y_test)}\")\n",
    "    print(f'My R-squared value is {lr.score(X_test, y_test)}')\n",
    "    print(f'My slope coefficients are {lr.coef_}')\n",
    "    print(f'My intercept is {lr.intercept_}')"
   ]
  },
  {
   "cell_type": "code",
   "execution_count": 20,
   "metadata": {},
   "outputs": [
    {
     "name": "stdout",
     "output_type": "stream",
     "text": [
      "The score of my two-variable linear regression is 0.21215995930196463\n",
      "My R-squared value is 0.21215995930196463\n",
      "My slope coefficients are [-9.69388433e-06  3.52371568e-02  1.29509205e-01  3.83591182e-07]\n",
      "My intercept is -0.0032880001833557743\n"
     ]
    }
   ],
   "source": [
    "# Population density correlates highly to total number of positive cases, but not to actual rate of infection\n",
    "# Suggests that living in a dense area alone likely does not increase changce of death\n",
    "\n",
    "columns = [\"Pop Density\",\"Mean Household Size\",\"Nursing Home Cases, % of Total\",\"Congregate Living Population\"]\n",
    "target = \"Rate of Infection\"\n",
    "\n",
    "linreg(compiledcountydata, columns,target)"
   ]
  },
  {
   "cell_type": "code",
   "execution_count": 21,
   "metadata": {},
   "outputs": [
    {
     "name": "stdout",
     "output_type": "stream",
     "text": [
      "The score of my two-variable linear regression is 0.6904991159340809\n",
      "My R-squared value is 0.6904991159340809\n",
      "My slope coefficients are [6.90412293e+01 5.06267560e-02 2.74829863e+02]\n",
      "My intercept is -192.13143052652376\n"
     ]
    }
   ],
   "source": [
    "columns = ['Mean Household Size','Congregate Living Population','Nursing Home Cases, % of Total']\n",
    "target = 'Total Deaths'\n",
    "\n",
    "linreg(compiledcountydata, columns,target)"
   ]
  },
  {
   "cell_type": "code",
   "execution_count": 22,
   "metadata": {},
   "outputs": [
    {
     "name": "stdout",
     "output_type": "stream",
     "text": [
      "The score of my two-variable linear regression is 0.34031009848422245\n",
      "My R-squared value is 0.34031009848422245\n",
      "My slope coefficients are [ 8.77523424e-07  1.94510770e-03  1.80851339e-07  1.48136064e-01\n",
      "  2.37791924e-09 -6.57010137e-08]\n",
      "My intercept is -0.0027627255632634087\n"
     ]
    }
   ],
   "source": [
    "columns = [\"Pop Density\",\"Mean Household Size\",'Congregate Living Population','Nursing Home Cases, % of Total',\n",
    "           'Population','Total Positive Cases']\n",
    "target = \"Death Rate\"\n",
    "\n",
    "linreg(compiledcountydata, columns,target)"
   ]
  },
  {
   "cell_type": "code",
   "execution_count": 24,
   "metadata": {},
   "outputs": [
    {
     "ename": "TypeError",
     "evalue": "linreg() missing 1 required positional argument: 'target'",
     "output_type": "error",
     "traceback": [
      "\u001b[1;31m---------------------------------------------------------------------------\u001b[0m",
      "\u001b[1;31mTypeError\u001b[0m                                 Traceback (most recent call last)",
      "\u001b[1;32m<ipython-input-24-33c2125c8f7f>\u001b[0m in \u001b[0;36m<module>\u001b[1;34m\u001b[0m\n\u001b[0;32m      7\u001b[0m \u001b[0my\u001b[0m \u001b[1;33m=\u001b[0m \u001b[0mcompiledcountydata\u001b[0m\u001b[1;33m[\u001b[0m\u001b[0mtarget\u001b[0m\u001b[1;33m]\u001b[0m\u001b[1;33m\u001b[0m\u001b[1;33m\u001b[0m\u001b[0m\n\u001b[0;32m      8\u001b[0m \u001b[1;33m\u001b[0m\u001b[0m\n\u001b[1;32m----> 9\u001b[1;33m \u001b[0mlinreg\u001b[0m\u001b[1;33m(\u001b[0m\u001b[0mX\u001b[0m\u001b[1;33m,\u001b[0m\u001b[0my\u001b[0m\u001b[1;33m)\u001b[0m\u001b[1;33m\u001b[0m\u001b[1;33m\u001b[0m\u001b[0m\n\u001b[0m",
      "\u001b[1;31mTypeError\u001b[0m: linreg() missing 1 required positional argument: 'target'"
     ]
    }
   ],
   "source": [
    "#Population density is a good predictor for total positive cases, but I suspect high multicollinearity between pop density\n",
    "# and total positive cases.\n",
    "\n",
    "columns = [\"Pop Density\",\"Mean Household Size\"]\n",
    "target = \"Total Positive Cases\"\n",
    "X = compiledcountydata[columns]\n",
    "y = compiledcountydata[target]\n",
    "\n",
    "linreg(X,y)"
   ]
  },
  {
   "cell_type": "code",
   "execution_count": 25,
   "metadata": {},
   "outputs": [],
   "source": [
    "# Example with Lasso"
   ]
  },
  {
   "cell_type": "code",
   "execution_count": 26,
   "metadata": {},
   "outputs": [],
   "source": [
    "# Define a function for lasso analysis\n",
    "\n",
    "def lassoreg(X,y):\n",
    "    clf= Lasso(alpha=0.1)\n",
    "    X_train, X_test, y_train, y_test = train_test_split(X, y, test_size=0.25, random_state=1)\n",
    "    clf.fit(X_train, y_train)\n",
    "    print(f\"My score for this lasso is {clf.predict(X_test, y_test)}\")"
   ]
  },
  {
   "cell_type": "code",
   "execution_count": 2,
   "metadata": {},
   "outputs": [
    {
     "ename": "NameError",
     "evalue": "name 'X' is not defined",
     "output_type": "error",
     "traceback": [
      "\u001b[1;31m---------------------------------------------------------------------------\u001b[0m",
      "\u001b[1;31mNameError\u001b[0m                                 Traceback (most recent call last)",
      "\u001b[1;32m<ipython-input-2-0a65e7e5b729>\u001b[0m in \u001b[0;36m<module>\u001b[1;34m\u001b[0m\n\u001b[1;32m----> 1\u001b[1;33m \u001b[0mlassoreg\u001b[0m\u001b[1;33m(\u001b[0m\u001b[0mX\u001b[0m\u001b[1;33m,\u001b[0m\u001b[0my\u001b[0m\u001b[1;33m)\u001b[0m\u001b[1;33m\u001b[0m\u001b[1;33m\u001b[0m\u001b[0m\n\u001b[0m",
      "\u001b[1;31mNameError\u001b[0m: name 'X' is not defined"
     ]
    }
   ],
   "source": [
    "lassoreg(X,y)"
   ]
  },
  {
   "cell_type": "code",
   "execution_count": null,
   "metadata": {},
   "outputs": [],
   "source": []
  }
 ],
 "metadata": {
  "kernelspec": {
   "display_name": "Python 3",
   "language": "python",
   "name": "python3"
  },
  "language_info": {
   "codemirror_mode": {
    "name": "ipython",
    "version": 3
   },
   "file_extension": ".py",
   "mimetype": "text/x-python",
   "name": "python",
   "nbconvert_exporter": "python",
   "pygments_lexer": "ipython3",
   "version": "3.8.5"
  }
 },
 "nbformat": 4,
 "nbformat_minor": 4
}
